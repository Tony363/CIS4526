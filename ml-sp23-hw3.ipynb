{
 "cells": [
  {
   "cell_type": "markdown",
   "id": "000b6b6f",
   "metadata": {
    "papermill": {
     "duration": 0.018018,
     "end_time": "2023-04-08T13:54:45.741148",
     "exception": false,
     "start_time": "2023-04-08T13:54:45.723130",
     "status": "completed"
    },
    "tags": []
   },
   "source": [
    "# CIS 4526 Sp23 HomeWork 3"
   ]
  },
  {
   "cell_type": "code",
   "execution_count": 1,
   "id": "9b551622",
   "metadata": {
    "execution": {
     "iopub.execute_input": "2023-04-08T13:54:45.766670Z",
     "iopub.status.busy": "2023-04-08T13:54:45.765592Z",
     "iopub.status.idle": "2023-04-08T13:54:47.035028Z",
     "shell.execute_reply": "2023-04-08T13:54:47.033789Z"
    },
    "papermill": {
     "duration": 1.284645,
     "end_time": "2023-04-08T13:54:47.038169",
     "exception": false,
     "start_time": "2023-04-08T13:54:45.753524",
     "status": "completed"
    },
    "tags": []
   },
   "outputs": [],
   "source": [
    "import numpy as np\n",
    "import pandas as pd\n",
    "import matplotlib.pyplot as plt\n",
    "import seaborn as sns\n",
    "import warnings\n",
    "warnings.filterwarnings('ignore')\n",
    "from sklearn.model_selection import train_test_split"
   ]
  },
  {
   "cell_type": "code",
   "execution_count": 2,
   "id": "6a351d7c",
   "metadata": {
    "execution": {
     "iopub.execute_input": "2023-04-08T13:54:47.062760Z",
     "iopub.status.busy": "2023-04-08T13:54:47.062331Z",
     "iopub.status.idle": "2023-04-08T13:54:47.402721Z",
     "shell.execute_reply": "2023-04-08T13:54:47.401446Z"
    },
    "papermill": {
     "duration": 0.356447,
     "end_time": "2023-04-08T13:54:47.405630",
     "exception": false,
     "start_time": "2023-04-08T13:54:47.049183",
     "status": "completed"
    },
    "tags": []
   },
   "outputs": [],
   "source": [
    "from sklearn.model_selection import train_test_split\n",
    "from sklearn.linear_model import LogisticRegression\n",
    "from sklearn import svm\n",
    "from sklearn.ensemble import RandomForestClassifier\n",
    "from sklearn.tree import DecisionTreeClassifier"
   ]
  },
  {
   "cell_type": "code",
   "execution_count": 3,
   "id": "177cfbbc",
   "metadata": {
    "execution": {
     "iopub.execute_input": "2023-04-08T13:54:47.431439Z",
     "iopub.status.busy": "2023-04-08T13:54:47.430791Z",
     "iopub.status.idle": "2023-04-08T13:54:47.435723Z",
     "shell.execute_reply": "2023-04-08T13:54:47.434451Z"
    },
    "papermill": {
     "duration": 0.021749,
     "end_time": "2023-04-08T13:54:47.438527",
     "exception": false,
     "start_time": "2023-04-08T13:54:47.416778",
     "status": "completed"
    },
    "tags": []
   },
   "outputs": [],
   "source": [
    "from sklearn.metrics import classification_report,confusion_matrix,accuracy_score"
   ]
  },
  {
   "cell_type": "markdown",
   "id": "d6dc7670",
   "metadata": {
    "papermill": {
     "duration": 0.01036,
     "end_time": "2023-04-08T13:54:47.459695",
     "exception": false,
     "start_time": "2023-04-08T13:54:47.449335",
     "status": "completed"
    },
    "tags": []
   },
   "source": [
    "### Dataset is based on an census income data\n",
    "https://archive.ics.uci.edu/ml/datasets/census+income\n"
   ]
  },
  {
   "cell_type": "markdown",
   "id": "6d234710",
   "metadata": {
    "papermill": {
     "duration": 0.011132,
     "end_time": "2023-04-08T13:54:47.481500",
     "exception": false,
     "start_time": "2023-04-08T13:54:47.470368",
     "status": "completed"
    },
    "tags": []
   },
   "source": [
    "Data Set Information:\n",
    "\n",
    "Extraction was done by Barry Becker from the 1994 Census database. \n",
    "\n",
    "\n",
    "Attribute Information:\n",
    "\n",
    "Listing of attributes:\n",
    "\n",
    "* The last column >50K, <=50K is the target variable indicating whether the people earn less than or larger than 50K per year\n",
    "\n",
    "* age: continuous.\n",
    "* workclass: Private, Self-emp-not-inc, Self-emp-inc, Federal-gov, Local-gov, State-gov, Without-pay, Never-worked.\n",
    "* fnlwgt: continuous.\n",
    "* education: Bachelors, Some-college, 11th, HS-grad, Prof-school, Assoc-acdm, Assoc-voc, 9th, 7th-8th, 12th, Masters, 1st-4th, 10th, Doctorate, 5th-6th, Preschool.\n",
    "* education-num: continuous.\n",
    "* marital-status: Married-civ-spouse, Divorced, Never-married, Separated, Widowed, Married-spouse-absent, Married-AF-spouse.\n",
    "* occupation: Tech-support, Craft-repair, Other-service, Sales, Exec-managerial, Prof-specialty, Handlers-cleaners, Machine-op-inspct, Adm-clerical, Farming-fishing, Transport-moving, Priv-house-serv, Protective-serv, Armed-Forces.\n",
    "* relationship: Wife, Own-child, Husband, Not-in-family, Other-relative, Unmarried.\n",
    "* race: White, Asian-Pac-Islander, Amer-Indian-Eskimo, Other, Black.\n",
    "* sex: Female, Male.\n",
    "* capital-gain: continuous.\n",
    "* capital-loss: continuous.\n",
    "* hours-per-week: continuous.\n",
    "* native-country: United-States, Cambodia, England, Puerto-Rico, Canada, Germany, Outlying-US(Guam-USVI-etc), India, Japan, Greece, South, China, Cuba, Iran, Honduras, Philippines, Italy, Poland, Jamaica, Vietnam, Mexico, Portugal, Ireland, France, Dominican-Republic, Laos, Ecuador, Taiwan, Haiti, Columbia, Hungary, Guatemala, Nicaragua, Scotland, Thailand, Yugoslavia, El-Salvador, Trinadad&Tobago, Peru, Hong, Holand-Netherlands.\n",
    "\n"
   ]
  },
  {
   "cell_type": "markdown",
   "id": "c78313ba",
   "metadata": {
    "papermill": {
     "duration": 0.01026,
     "end_time": "2023-04-08T13:54:47.502910",
     "exception": false,
     "start_time": "2023-04-08T13:54:47.492650",
     "status": "completed"
    },
    "tags": []
   },
   "source": [
    "### However, I have modified the dataset and so you will need to load the dataset by reading a csv file I provided. In particular, I changed 50K to 80K just to reflect the inflation "
   ]
  },
  {
   "cell_type": "code",
   "execution_count": 4,
   "id": "edfcd05b",
   "metadata": {
    "execution": {
     "iopub.execute_input": "2023-04-08T13:54:47.526188Z",
     "iopub.status.busy": "2023-04-08T13:54:47.525753Z",
     "iopub.status.idle": "2023-04-08T13:54:47.669633Z",
     "shell.execute_reply": "2023-04-08T13:54:47.668177Z"
    },
    "papermill": {
     "duration": 0.158947,
     "end_time": "2023-04-08T13:54:47.672524",
     "exception": false,
     "start_time": "2023-04-08T13:54:47.513577",
     "status": "completed"
    },
    "tags": []
   },
   "outputs": [
    {
     "data": {
      "text/html": [
       "<div>\n",
       "<style scoped>\n",
       "    .dataframe tbody tr th:only-of-type {\n",
       "        vertical-align: middle;\n",
       "    }\n",
       "\n",
       "    .dataframe tbody tr th {\n",
       "        vertical-align: top;\n",
       "    }\n",
       "\n",
       "    .dataframe thead th {\n",
       "        text-align: right;\n",
       "    }\n",
       "</style>\n",
       "<table border=\"1\" class=\"dataframe\">\n",
       "  <thead>\n",
       "    <tr style=\"text-align: right;\">\n",
       "      <th></th>\n",
       "      <th>age</th>\n",
       "      <th>workclass</th>\n",
       "      <th>fnlwgt</th>\n",
       "      <th>education</th>\n",
       "      <th>education-num</th>\n",
       "      <th>marital-status</th>\n",
       "      <th>occupation</th>\n",
       "      <th>relationship</th>\n",
       "      <th>race</th>\n",
       "      <th>sex</th>\n",
       "      <th>capital-gain</th>\n",
       "      <th>capital-loss</th>\n",
       "      <th>hours-per-week</th>\n",
       "      <th>native-country</th>\n",
       "      <th>salary</th>\n",
       "    </tr>\n",
       "  </thead>\n",
       "  <tbody>\n",
       "    <tr>\n",
       "      <th>0</th>\n",
       "      <td>39</td>\n",
       "      <td>State-gov</td>\n",
       "      <td>77516</td>\n",
       "      <td>Bachelors</td>\n",
       "      <td>13</td>\n",
       "      <td>Never-married</td>\n",
       "      <td>Adm-clerical</td>\n",
       "      <td>Not-in-family</td>\n",
       "      <td>White</td>\n",
       "      <td>Male</td>\n",
       "      <td>2174</td>\n",
       "      <td>0</td>\n",
       "      <td>40</td>\n",
       "      <td>United-States</td>\n",
       "      <td>&lt;=80K</td>\n",
       "    </tr>\n",
       "    <tr>\n",
       "      <th>1</th>\n",
       "      <td>50</td>\n",
       "      <td>Self-emp-not-inc</td>\n",
       "      <td>83311</td>\n",
       "      <td>Bachelors</td>\n",
       "      <td>13</td>\n",
       "      <td>Married-civ-spouse</td>\n",
       "      <td>Exec-managerial</td>\n",
       "      <td>Husband</td>\n",
       "      <td>White</td>\n",
       "      <td>Male</td>\n",
       "      <td>0</td>\n",
       "      <td>0</td>\n",
       "      <td>13</td>\n",
       "      <td>United-States</td>\n",
       "      <td>&lt;=80K</td>\n",
       "    </tr>\n",
       "    <tr>\n",
       "      <th>2</th>\n",
       "      <td>38</td>\n",
       "      <td>Private</td>\n",
       "      <td>215646</td>\n",
       "      <td>HS-grad</td>\n",
       "      <td>9</td>\n",
       "      <td>Divorced</td>\n",
       "      <td>Handlers-cleaners</td>\n",
       "      <td>Not-in-family</td>\n",
       "      <td>White</td>\n",
       "      <td>Male</td>\n",
       "      <td>0</td>\n",
       "      <td>0</td>\n",
       "      <td>40</td>\n",
       "      <td>United-States</td>\n",
       "      <td>&lt;=80K</td>\n",
       "    </tr>\n",
       "    <tr>\n",
       "      <th>3</th>\n",
       "      <td>53</td>\n",
       "      <td>Private</td>\n",
       "      <td>234721</td>\n",
       "      <td>11th</td>\n",
       "      <td>7</td>\n",
       "      <td>Married-civ-spouse</td>\n",
       "      <td>Handlers-cleaners</td>\n",
       "      <td>Husband</td>\n",
       "      <td>Black</td>\n",
       "      <td>Male</td>\n",
       "      <td>0</td>\n",
       "      <td>0</td>\n",
       "      <td>40</td>\n",
       "      <td>United-States</td>\n",
       "      <td>&lt;=80K</td>\n",
       "    </tr>\n",
       "    <tr>\n",
       "      <th>4</th>\n",
       "      <td>28</td>\n",
       "      <td>Private</td>\n",
       "      <td>338409</td>\n",
       "      <td>Bachelors</td>\n",
       "      <td>13</td>\n",
       "      <td>Married-civ-spouse</td>\n",
       "      <td>Prof-specialty</td>\n",
       "      <td>Wife</td>\n",
       "      <td>Black</td>\n",
       "      <td>Female</td>\n",
       "      <td>0</td>\n",
       "      <td>0</td>\n",
       "      <td>40</td>\n",
       "      <td>Cuba</td>\n",
       "      <td>&lt;=80K</td>\n",
       "    </tr>\n",
       "  </tbody>\n",
       "</table>\n",
       "</div>"
      ],
      "text/plain": [
       "   age         workclass  fnlwgt  education  education-num  \\\n",
       "0   39         State-gov   77516  Bachelors             13   \n",
       "1   50  Self-emp-not-inc   83311  Bachelors             13   \n",
       "2   38           Private  215646    HS-grad              9   \n",
       "3   53           Private  234721       11th              7   \n",
       "4   28           Private  338409  Bachelors             13   \n",
       "\n",
       "       marital-status         occupation   relationship   race     sex  \\\n",
       "0       Never-married       Adm-clerical  Not-in-family  White    Male   \n",
       "1  Married-civ-spouse    Exec-managerial        Husband  White    Male   \n",
       "2            Divorced  Handlers-cleaners  Not-in-family  White    Male   \n",
       "3  Married-civ-spouse  Handlers-cleaners        Husband  Black    Male   \n",
       "4  Married-civ-spouse     Prof-specialty           Wife  Black  Female   \n",
       "\n",
       "   capital-gain  capital-loss  hours-per-week native-country salary  \n",
       "0          2174             0              40  United-States  <=80K  \n",
       "1             0             0              13  United-States  <=80K  \n",
       "2             0             0              40  United-States  <=80K  \n",
       "3             0             0              40  United-States  <=80K  \n",
       "4             0             0              40           Cuba  <=80K  "
      ]
     },
     "execution_count": 4,
     "metadata": {},
     "output_type": "execute_result"
    }
   ],
   "source": [
    "df = pd.read_csv(\"/kaggle/input/adult-income-modified/adult_income_modified.csv\")\n",
    "df.head()"
   ]
  },
  {
   "cell_type": "code",
   "execution_count": 5,
   "id": "2cbfc89a",
   "metadata": {
    "execution": {
     "iopub.execute_input": "2023-04-08T13:54:47.697451Z",
     "iopub.status.busy": "2023-04-08T13:54:47.696176Z",
     "iopub.status.idle": "2023-04-08T13:54:47.710412Z",
     "shell.execute_reply": "2023-04-08T13:54:47.709291Z"
    },
    "papermill": {
     "duration": 0.029263,
     "end_time": "2023-04-08T13:54:47.712795",
     "exception": false,
     "start_time": "2023-04-08T13:54:47.683532",
     "status": "completed"
    },
    "tags": []
   },
   "outputs": [
    {
     "data": {
      "text/plain": [
       "array(['<=80K', '>80K'], dtype=object)"
      ]
     },
     "execution_count": 5,
     "metadata": {},
     "output_type": "execute_result"
    }
   ],
   "source": [
    "df.salary.unique()"
   ]
  },
  {
   "cell_type": "code",
   "execution_count": 6,
   "id": "2c2355b2",
   "metadata": {
    "execution": {
     "iopub.execute_input": "2023-04-08T13:54:47.736879Z",
     "iopub.status.busy": "2023-04-08T13:54:47.736240Z",
     "iopub.status.idle": "2023-04-08T13:54:47.746079Z",
     "shell.execute_reply": "2023-04-08T13:54:47.745033Z"
    },
    "papermill": {
     "duration": 0.024626,
     "end_time": "2023-04-08T13:54:47.748315",
     "exception": false,
     "start_time": "2023-04-08T13:54:47.723689",
     "status": "completed"
    },
    "tags": []
   },
   "outputs": [
    {
     "data": {
      "text/plain": [
       "array(['State-gov', 'Self-emp-not-inc', 'Private', 'Federal-gov',\n",
       "       'Local-gov', '?', 'Self-emp-inc', 'Without-pay', 'Never-worked'],\n",
       "      dtype=object)"
      ]
     },
     "execution_count": 6,
     "metadata": {},
     "output_type": "execute_result"
    }
   ],
   "source": [
    "df.workclass.unique()"
   ]
  },
  {
   "cell_type": "code",
   "execution_count": 7,
   "id": "c972804f",
   "metadata": {
    "execution": {
     "iopub.execute_input": "2023-04-08T13:54:47.772570Z",
     "iopub.status.busy": "2023-04-08T13:54:47.771890Z",
     "iopub.status.idle": "2023-04-08T13:54:47.781889Z",
     "shell.execute_reply": "2023-04-08T13:54:47.780856Z"
    },
    "papermill": {
     "duration": 0.024809,
     "end_time": "2023-04-08T13:54:47.784107",
     "exception": false,
     "start_time": "2023-04-08T13:54:47.759298",
     "status": "completed"
    },
    "tags": []
   },
   "outputs": [
    {
     "data": {
      "text/plain": [
       "array(['Bachelors', 'HS-grad', '11th', 'Masters', '9th', 'Some-college',\n",
       "       'Assoc-acdm', 'Assoc-voc', '7th-8th', 'Doctorate', 'Prof-school',\n",
       "       '5th-6th', '10th', '1st-4th', 'Preschool', '12th'], dtype=object)"
      ]
     },
     "execution_count": 7,
     "metadata": {},
     "output_type": "execute_result"
    }
   ],
   "source": [
    "df.education.unique()"
   ]
  },
  {
   "cell_type": "markdown",
   "id": "b27c2933",
   "metadata": {
    "papermill": {
     "duration": 0.010763,
     "end_time": "2023-04-08T13:54:47.805898",
     "exception": false,
     "start_time": "2023-04-08T13:54:47.795135",
     "status": "completed"
    },
    "tags": []
   },
   "source": [
    "### Need to replace ?"
   ]
  },
  {
   "cell_type": "code",
   "execution_count": 8,
   "id": "cc833df9",
   "metadata": {
    "execution": {
     "iopub.execute_input": "2023-04-08T13:54:47.830145Z",
     "iopub.status.busy": "2023-04-08T13:54:47.829710Z",
     "iopub.status.idle": "2023-04-08T13:54:47.839816Z",
     "shell.execute_reply": "2023-04-08T13:54:47.838867Z"
    },
    "papermill": {
     "duration": 0.02489,
     "end_time": "2023-04-08T13:54:47.841974",
     "exception": false,
     "start_time": "2023-04-08T13:54:47.817084",
     "status": "completed"
    },
    "tags": []
   },
   "outputs": [
    {
     "data": {
      "text/plain": [
       "array(['Never-married', 'Married-civ-spouse', 'Divorced',\n",
       "       'Married-spouse-absent', 'Separated', 'Married-AF-spouse',\n",
       "       'Widowed'], dtype=object)"
      ]
     },
     "execution_count": 8,
     "metadata": {},
     "output_type": "execute_result"
    }
   ],
   "source": [
    "df['marital-status'].unique()"
   ]
  },
  {
   "cell_type": "markdown",
   "id": "d298f167",
   "metadata": {
    "papermill": {
     "duration": 0.010812,
     "end_time": "2023-04-08T13:54:47.863807",
     "exception": false,
     "start_time": "2023-04-08T13:54:47.852995",
     "status": "completed"
    },
    "tags": []
   },
   "source": [
    "### Your task is to try different Ensemble Models to predict whether a people will earn <= 80K or > 80K"
   ]
  },
  {
   "cell_type": "markdown",
   "id": "9a370e0b",
   "metadata": {
    "papermill": {
     "duration": 0.011011,
     "end_time": "2023-04-08T13:54:47.886088",
     "exception": false,
     "start_time": "2023-04-08T13:54:47.875077",
     "status": "completed"
    },
    "tags": []
   },
   "source": [
    "### Make sure your work include the following steps"
   ]
  },
  {
   "cell_type": "markdown",
   "id": "518745b9",
   "metadata": {
    "papermill": {
     "duration": 0.010958,
     "end_time": "2023-04-08T13:54:47.908689",
     "exception": false,
     "start_time": "2023-04-08T13:54:47.897731",
     "status": "completed"
    },
    "tags": []
   },
   "source": [
    "* EDA (chekcing missing values, removing outliers)\n",
    "* separated data set into training and testing\n",
    "* performed cross-validations\n",
    "* Build a base model using LogisticRegression and only a smaller set of features (say only numerical features)\n",
    "* Try different ensemble methods, including VotingClassifier (soft and hard voting), BaggingClassifier, AdaBoostClassifier, GradientBoostClassifier and xgb with the same set of features\n",
    "* Comment on your experience in these various models, in particular compare this with the basic LogisticRegression\n",
    "* Out of all these ensemble model, pick the best model, add additional featrues (eg categorical features)\n",
    "* Comment on the final best model you find"
   ]
  },
  {
   "cell_type": "markdown",
   "id": "75ed5e49",
   "metadata": {
    "papermill": {
     "duration": 0.011013,
     "end_time": "2023-04-08T13:54:47.930853",
     "exception": false,
     "start_time": "2023-04-08T13:54:47.919840",
     "status": "completed"
    },
    "tags": []
   },
   "source": [
    "### Good Luck !!!"
   ]
  },
  {
   "cell_type": "markdown",
   "id": "ddfdecd8",
   "metadata": {
    "papermill": {
     "duration": 0.010814,
     "end_time": "2023-04-08T13:54:47.952832",
     "exception": false,
     "start_time": "2023-04-08T13:54:47.942018",
     "status": "completed"
    },
    "tags": []
   },
   "source": [
    "Show all your work below"
   ]
  },
  {
   "cell_type": "markdown",
   "id": "118d8ae3",
   "metadata": {
    "papermill": {
     "duration": 0.010831,
     "end_time": "2023-04-08T13:54:47.974934",
     "exception": false,
     "start_time": "2023-04-08T13:54:47.964103",
     "status": "completed"
    },
    "tags": []
   },
   "source": [
    "### EDA"
   ]
  },
  {
   "cell_type": "code",
   "execution_count": 9,
   "id": "fbdefb0c",
   "metadata": {
    "execution": {
     "iopub.execute_input": "2023-04-08T13:54:47.999008Z",
     "iopub.status.busy": "2023-04-08T13:54:47.998583Z",
     "iopub.status.idle": "2023-04-08T13:54:48.041635Z",
     "shell.execute_reply": "2023-04-08T13:54:48.040412Z"
    },
    "papermill": {
     "duration": 0.058181,
     "end_time": "2023-04-08T13:54:48.044251",
     "exception": false,
     "start_time": "2023-04-08T13:54:47.986070",
     "status": "completed"
    },
    "tags": []
   },
   "outputs": [
    {
     "data": {
      "text/html": [
       "<div>\n",
       "<style scoped>\n",
       "    .dataframe tbody tr th:only-of-type {\n",
       "        vertical-align: middle;\n",
       "    }\n",
       "\n",
       "    .dataframe tbody tr th {\n",
       "        vertical-align: top;\n",
       "    }\n",
       "\n",
       "    .dataframe thead th {\n",
       "        text-align: right;\n",
       "    }\n",
       "</style>\n",
       "<table border=\"1\" class=\"dataframe\">\n",
       "  <thead>\n",
       "    <tr style=\"text-align: right;\">\n",
       "      <th></th>\n",
       "      <th>age</th>\n",
       "      <th>fnlwgt</th>\n",
       "      <th>education-num</th>\n",
       "      <th>capital-gain</th>\n",
       "      <th>capital-loss</th>\n",
       "      <th>hours-per-week</th>\n",
       "    </tr>\n",
       "  </thead>\n",
       "  <tbody>\n",
       "    <tr>\n",
       "      <th>count</th>\n",
       "      <td>32571.000000</td>\n",
       "      <td>3.257100e+04</td>\n",
       "      <td>32571.000000</td>\n",
       "      <td>32571.000000</td>\n",
       "      <td>32571.000000</td>\n",
       "      <td>32571.000000</td>\n",
       "    </tr>\n",
       "    <tr>\n",
       "      <th>mean</th>\n",
       "      <td>38.599153</td>\n",
       "      <td>1.898091e+05</td>\n",
       "      <td>10.080747</td>\n",
       "      <td>1077.317982</td>\n",
       "      <td>87.435357</td>\n",
       "      <td>40.452151</td>\n",
       "    </tr>\n",
       "    <tr>\n",
       "      <th>std</th>\n",
       "      <td>13.744795</td>\n",
       "      <td>1.055927e+05</td>\n",
       "      <td>2.572484</td>\n",
       "      <td>7384.182377</td>\n",
       "      <td>403.204587</td>\n",
       "      <td>12.441330</td>\n",
       "    </tr>\n",
       "    <tr>\n",
       "      <th>min</th>\n",
       "      <td>0.000000</td>\n",
       "      <td>1.228500e+04</td>\n",
       "      <td>1.000000</td>\n",
       "      <td>0.000000</td>\n",
       "      <td>0.000000</td>\n",
       "      <td>1.000000</td>\n",
       "    </tr>\n",
       "    <tr>\n",
       "      <th>25%</th>\n",
       "      <td>28.000000</td>\n",
       "      <td>1.178215e+05</td>\n",
       "      <td>9.000000</td>\n",
       "      <td>0.000000</td>\n",
       "      <td>0.000000</td>\n",
       "      <td>40.000000</td>\n",
       "    </tr>\n",
       "    <tr>\n",
       "      <th>50%</th>\n",
       "      <td>37.000000</td>\n",
       "      <td>1.783830e+05</td>\n",
       "      <td>10.000000</td>\n",
       "      <td>0.000000</td>\n",
       "      <td>0.000000</td>\n",
       "      <td>40.000000</td>\n",
       "    </tr>\n",
       "    <tr>\n",
       "      <th>75%</th>\n",
       "      <td>48.000000</td>\n",
       "      <td>2.371095e+05</td>\n",
       "      <td>12.000000</td>\n",
       "      <td>0.000000</td>\n",
       "      <td>0.000000</td>\n",
       "      <td>45.000000</td>\n",
       "    </tr>\n",
       "    <tr>\n",
       "      <th>max</th>\n",
       "      <td>250.000000</td>\n",
       "      <td>1.484705e+06</td>\n",
       "      <td>16.000000</td>\n",
       "      <td>99999.000000</td>\n",
       "      <td>4356.000000</td>\n",
       "      <td>202.000000</td>\n",
       "    </tr>\n",
       "  </tbody>\n",
       "</table>\n",
       "</div>"
      ],
      "text/plain": [
       "                age        fnlwgt  education-num  capital-gain  capital-loss  \\\n",
       "count  32571.000000  3.257100e+04   32571.000000  32571.000000  32571.000000   \n",
       "mean      38.599153  1.898091e+05      10.080747   1077.317982     87.435357   \n",
       "std       13.744795  1.055927e+05       2.572484   7384.182377    403.204587   \n",
       "min        0.000000  1.228500e+04       1.000000      0.000000      0.000000   \n",
       "25%       28.000000  1.178215e+05       9.000000      0.000000      0.000000   \n",
       "50%       37.000000  1.783830e+05      10.000000      0.000000      0.000000   \n",
       "75%       48.000000  2.371095e+05      12.000000      0.000000      0.000000   \n",
       "max      250.000000  1.484705e+06      16.000000  99999.000000   4356.000000   \n",
       "\n",
       "       hours-per-week  \n",
       "count    32571.000000  \n",
       "mean        40.452151  \n",
       "std         12.441330  \n",
       "min          1.000000  \n",
       "25%         40.000000  \n",
       "50%         40.000000  \n",
       "75%         45.000000  \n",
       "max        202.000000  "
      ]
     },
     "execution_count": 9,
     "metadata": {},
     "output_type": "execute_result"
    }
   ],
   "source": [
    "df.describe()"
   ]
  },
  {
   "cell_type": "code",
   "execution_count": 10,
   "id": "7bac808b",
   "metadata": {
    "execution": {
     "iopub.execute_input": "2023-04-08T13:54:48.069479Z",
     "iopub.status.busy": "2023-04-08T13:54:48.069067Z",
     "iopub.status.idle": "2023-04-08T13:54:48.093929Z",
     "shell.execute_reply": "2023-04-08T13:54:48.092900Z"
    },
    "papermill": {
     "duration": 0.040252,
     "end_time": "2023-04-08T13:54:48.096342",
     "exception": false,
     "start_time": "2023-04-08T13:54:48.056090",
     "status": "completed"
    },
    "tags": []
   },
   "outputs": [
    {
     "data": {
      "text/plain": [
       "age               False\n",
       "workclass         False\n",
       "fnlwgt            False\n",
       "education         False\n",
       "education-num     False\n",
       "marital-status    False\n",
       "occupation        False\n",
       "relationship      False\n",
       "race              False\n",
       "sex               False\n",
       "capital-gain      False\n",
       "capital-loss      False\n",
       "hours-per-week    False\n",
       "native-country    False\n",
       "salary            False\n",
       "dtype: bool"
      ]
     },
     "execution_count": 10,
     "metadata": {},
     "output_type": "execute_result"
    }
   ],
   "source": [
    "# remove data that are obviously wrong, no need to do it extensively, just use the above table as a hint\n",
    "df.isnull().any()"
   ]
  },
  {
   "cell_type": "code",
   "execution_count": 11,
   "id": "ff66f247",
   "metadata": {
    "execution": {
     "iopub.execute_input": "2023-04-08T13:54:48.122732Z",
     "iopub.status.busy": "2023-04-08T13:54:48.121157Z",
     "iopub.status.idle": "2023-04-08T13:54:48.129722Z",
     "shell.execute_reply": "2023-04-08T13:54:48.128522Z"
    },
    "papermill": {
     "duration": 0.024363,
     "end_time": "2023-04-08T13:54:48.132370",
     "exception": false,
     "start_time": "2023-04-08T13:54:48.108007",
     "status": "completed"
    },
    "tags": []
   },
   "outputs": [
    {
     "data": {
      "text/plain": [
       "Index(['age', 'workclass', 'fnlwgt', 'education', 'education-num',\n",
       "       'marital-status', 'occupation', 'relationship', 'race', 'sex',\n",
       "       'capital-gain', 'capital-loss', 'hours-per-week', 'native-country',\n",
       "       'salary'],\n",
       "      dtype='object')"
      ]
     },
     "execution_count": 11,
     "metadata": {},
     "output_type": "execute_result"
    }
   ],
   "source": [
    "# .... TODO\n",
    "df.columns"
   ]
  },
  {
   "cell_type": "code",
   "execution_count": 12,
   "id": "c3d1674d",
   "metadata": {
    "execution": {
     "iopub.execute_input": "2023-04-08T13:54:48.159206Z",
     "iopub.status.busy": "2023-04-08T13:54:48.157928Z",
     "iopub.status.idle": "2023-04-08T13:54:48.169488Z",
     "shell.execute_reply": "2023-04-08T13:54:48.168180Z"
    },
    "papermill": {
     "duration": 0.027331,
     "end_time": "2023-04-08T13:54:48.171913",
     "exception": false,
     "start_time": "2023-04-08T13:54:48.144582",
     "status": "completed"
    },
    "tags": []
   },
   "outputs": [
    {
     "data": {
      "text/plain": [
       "17648    99999\n",
       "10772    99999\n",
       "1529     99999\n",
       "24517    99999\n",
       "14580    99999\n",
       "         ...  \n",
       "16175    99999\n",
       "16080    99999\n",
       "7554     99999\n",
       "31979    99999\n",
       "18889    99999\n",
       "Name: capital-gain, Length: 100, dtype: int64"
      ]
     },
     "execution_count": 12,
     "metadata": {},
     "output_type": "execute_result"
    }
   ],
   "source": [
    "df['capital-gain'].sort_values(ascending = False)[:100]"
   ]
  },
  {
   "cell_type": "code",
   "execution_count": 13,
   "id": "20cfed92",
   "metadata": {
    "execution": {
     "iopub.execute_input": "2023-04-08T13:54:48.198027Z",
     "iopub.status.busy": "2023-04-08T13:54:48.197334Z",
     "iopub.status.idle": "2023-04-08T13:54:48.207754Z",
     "shell.execute_reply": "2023-04-08T13:54:48.206548Z"
    },
    "papermill": {
     "duration": 0.026289,
     "end_time": "2023-04-08T13:54:48.210165",
     "exception": false,
     "start_time": "2023-04-08T13:54:48.183876",
     "status": "completed"
    },
    "tags": []
   },
   "outputs": [
    {
     "data": {
      "text/plain": [
       "6434     41310\n",
       "20183    41310\n",
       "17040    34095\n",
       "4569     34095\n",
       "7187     34095\n",
       "         ...  \n",
       "17613    18481\n",
       "32348    15831\n",
       "13108    15831\n",
       "6417     15831\n",
       "21265    15831\n",
       "Name: capital-gain, Length: 100, dtype: int64"
      ]
     },
     "execution_count": 13,
     "metadata": {},
     "output_type": "execute_result"
    }
   ],
   "source": [
    "df.loc[df['capital-gain'] == 99999. ,'capital-gain'] = 0\n",
    "df['capital-gain'].sort_values(ascending = False)[:100]"
   ]
  },
  {
   "cell_type": "code",
   "execution_count": 14,
   "id": "e5ee5ccc",
   "metadata": {
    "execution": {
     "iopub.execute_input": "2023-04-08T13:54:48.236571Z",
     "iopub.status.busy": "2023-04-08T13:54:48.235972Z",
     "iopub.status.idle": "2023-04-08T13:54:48.244474Z",
     "shell.execute_reply": "2023-04-08T13:54:48.243331Z"
    },
    "papermill": {
     "duration": 0.024695,
     "end_time": "2023-04-08T13:54:48.247015",
     "exception": false,
     "start_time": "2023-04-08T13:54:48.222320",
     "status": "completed"
    },
    "tags": []
   },
   "outputs": [
    {
     "data": {
      "text/plain": [
       "0        30018\n",
       "15024      347\n",
       "7688       284\n",
       "7298       246\n",
       "5178        97\n",
       "         ...  \n",
       "1639         1\n",
       "4931         1\n",
       "7978         1\n",
       "2387         1\n",
       "5060         1\n",
       "Name: capital-gain, Length: 118, dtype: int64"
      ]
     },
     "execution_count": 14,
     "metadata": {},
     "output_type": "execute_result"
    }
   ],
   "source": [
    "df['capital-gain'].value_counts()"
   ]
  },
  {
   "cell_type": "code",
   "execution_count": 15,
   "id": "30203287",
   "metadata": {
    "execution": {
     "iopub.execute_input": "2023-04-08T13:54:48.273996Z",
     "iopub.status.busy": "2023-04-08T13:54:48.273537Z",
     "iopub.status.idle": "2023-04-08T13:54:48.283424Z",
     "shell.execute_reply": "2023-04-08T13:54:48.282507Z"
    },
    "papermill": {
     "duration": 0.026266,
     "end_time": "2023-04-08T13:54:48.285640",
     "exception": false,
     "start_time": "2023-04-08T13:54:48.259374",
     "status": "completed"
    },
    "tags": []
   },
   "outputs": [
    {
     "data": {
      "text/plain": [
       "8964     4356\n",
       "30788    4356\n",
       "14757    4356\n",
       "23809    3900\n",
       "20423    3900\n",
       "         ... \n",
       "20857    2415\n",
       "938      2415\n",
       "31905    2415\n",
       "14149    2415\n",
       "23959    2415\n",
       "Name: capital-loss, Length: 100, dtype: int64"
      ]
     },
     "execution_count": 15,
     "metadata": {},
     "output_type": "execute_result"
    }
   ],
   "source": [
    "df['capital-loss'].sort_values(ascending = False)[:100]"
   ]
  },
  {
   "cell_type": "code",
   "execution_count": 16,
   "id": "516b6fa6",
   "metadata": {
    "execution": {
     "iopub.execute_input": "2023-04-08T13:54:48.312514Z",
     "iopub.status.busy": "2023-04-08T13:54:48.311612Z",
     "iopub.status.idle": "2023-04-08T13:54:48.319995Z",
     "shell.execute_reply": "2023-04-08T13:54:48.318785Z"
    },
    "papermill": {
     "duration": 0.024445,
     "end_time": "2023-04-08T13:54:48.322424",
     "exception": false,
     "start_time": "2023-04-08T13:54:48.297979",
     "status": "completed"
    },
    "tags": []
   },
   "outputs": [
    {
     "data": {
      "text/plain": [
       "array([   0, 2042, 1408, 1902, 1573, 1887, 1719, 1762, 1564, 2179, 1816,\n",
       "       1980, 1977, 1876, 1340, 2206, 1741, 1485, 2339, 2415, 1380, 1721,\n",
       "       2051, 2377, 1669, 2352, 1672,  653, 2392, 1504, 2001, 1590, 1651,\n",
       "       1628, 1848, 1740, 2002, 1579, 2258, 1602,  419, 2547, 2174, 2205,\n",
       "       1726, 2444, 1138, 2238,  625,  213, 1539,  880, 1668, 1092, 1594,\n",
       "       3004, 2231, 1844,  810, 2824, 2559, 2057, 1974,  974, 2149, 1825,\n",
       "       1735, 1258, 2129, 2603, 2282,  323, 4356, 2246, 1617, 1648, 2489,\n",
       "       3770, 1755, 3683, 2267, 2080, 2457,  155, 3900, 2201, 1944, 2467,\n",
       "       2163, 2754, 2472, 1411])"
      ]
     },
     "execution_count": 16,
     "metadata": {},
     "output_type": "execute_result"
    }
   ],
   "source": [
    "df['capital-loss'].unique()"
   ]
  },
  {
   "cell_type": "code",
   "execution_count": 17,
   "id": "b373a807",
   "metadata": {
    "execution": {
     "iopub.execute_input": "2023-04-08T13:54:48.350238Z",
     "iopub.status.busy": "2023-04-08T13:54:48.349314Z",
     "iopub.status.idle": "2023-04-08T13:54:48.358390Z",
     "shell.execute_reply": "2023-04-08T13:54:48.357333Z"
    },
    "papermill": {
     "duration": 0.025347,
     "end_time": "2023-04-08T13:54:48.360746",
     "exception": false,
     "start_time": "2023-04-08T13:54:48.335399",
     "status": "completed"
    },
    "tags": []
   },
   "outputs": [
    {
     "data": {
      "text/plain": [
       "0       31049\n",
       "1902      202\n",
       "1977      168\n",
       "1887      159\n",
       "1848       51\n",
       "        ...  \n",
       "2080        1\n",
       "1539        1\n",
       "1844        1\n",
       "2489        1\n",
       "1411        1\n",
       "Name: capital-loss, Length: 92, dtype: int64"
      ]
     },
     "execution_count": 17,
     "metadata": {},
     "output_type": "execute_result"
    }
   ],
   "source": [
    "df['capital-loss'].value_counts()"
   ]
  },
  {
   "cell_type": "code",
   "execution_count": 18,
   "id": "8538893f",
   "metadata": {
    "execution": {
     "iopub.execute_input": "2023-04-08T13:54:48.388640Z",
     "iopub.status.busy": "2023-04-08T13:54:48.388176Z",
     "iopub.status.idle": "2023-04-08T13:54:48.423149Z",
     "shell.execute_reply": "2023-04-08T13:54:48.421923Z"
    },
    "papermill": {
     "duration": 0.052659,
     "end_time": "2023-04-08T13:54:48.426185",
     "exception": false,
     "start_time": "2023-04-08T13:54:48.373526",
     "status": "completed"
    },
    "tags": []
   },
   "outputs": [
    {
     "data": {
      "text/html": [
       "<div>\n",
       "<style scoped>\n",
       "    .dataframe tbody tr th:only-of-type {\n",
       "        vertical-align: middle;\n",
       "    }\n",
       "\n",
       "    .dataframe tbody tr th {\n",
       "        vertical-align: top;\n",
       "    }\n",
       "\n",
       "    .dataframe thead th {\n",
       "        text-align: right;\n",
       "    }\n",
       "</style>\n",
       "<table border=\"1\" class=\"dataframe\">\n",
       "  <thead>\n",
       "    <tr style=\"text-align: right;\">\n",
       "      <th></th>\n",
       "      <th>age</th>\n",
       "      <th>fnlwgt</th>\n",
       "      <th>education-num</th>\n",
       "      <th>capital-gain</th>\n",
       "      <th>capital-loss</th>\n",
       "      <th>hours-per-week</th>\n",
       "    </tr>\n",
       "  </thead>\n",
       "  <tbody>\n",
       "    <tr>\n",
       "      <th>count</th>\n",
       "      <td>32571.000000</td>\n",
       "      <td>3.257100e+04</td>\n",
       "      <td>32571.000000</td>\n",
       "      <td>32571.000000</td>\n",
       "      <td>32571.000000</td>\n",
       "      <td>32571.000000</td>\n",
       "    </tr>\n",
       "    <tr>\n",
       "      <th>mean</th>\n",
       "      <td>38.599153</td>\n",
       "      <td>1.898091e+05</td>\n",
       "      <td>10.080747</td>\n",
       "      <td>589.158546</td>\n",
       "      <td>87.435357</td>\n",
       "      <td>40.452151</td>\n",
       "    </tr>\n",
       "    <tr>\n",
       "      <th>std</th>\n",
       "      <td>13.744795</td>\n",
       "      <td>1.055927e+05</td>\n",
       "      <td>2.572484</td>\n",
       "      <td>2553.962871</td>\n",
       "      <td>403.204587</td>\n",
       "      <td>12.441330</td>\n",
       "    </tr>\n",
       "    <tr>\n",
       "      <th>min</th>\n",
       "      <td>0.000000</td>\n",
       "      <td>1.228500e+04</td>\n",
       "      <td>1.000000</td>\n",
       "      <td>0.000000</td>\n",
       "      <td>0.000000</td>\n",
       "      <td>1.000000</td>\n",
       "    </tr>\n",
       "    <tr>\n",
       "      <th>25%</th>\n",
       "      <td>28.000000</td>\n",
       "      <td>1.178215e+05</td>\n",
       "      <td>9.000000</td>\n",
       "      <td>0.000000</td>\n",
       "      <td>0.000000</td>\n",
       "      <td>40.000000</td>\n",
       "    </tr>\n",
       "    <tr>\n",
       "      <th>50%</th>\n",
       "      <td>37.000000</td>\n",
       "      <td>1.783830e+05</td>\n",
       "      <td>10.000000</td>\n",
       "      <td>0.000000</td>\n",
       "      <td>0.000000</td>\n",
       "      <td>40.000000</td>\n",
       "    </tr>\n",
       "    <tr>\n",
       "      <th>75%</th>\n",
       "      <td>48.000000</td>\n",
       "      <td>2.371095e+05</td>\n",
       "      <td>12.000000</td>\n",
       "      <td>0.000000</td>\n",
       "      <td>0.000000</td>\n",
       "      <td>45.000000</td>\n",
       "    </tr>\n",
       "    <tr>\n",
       "      <th>max</th>\n",
       "      <td>250.000000</td>\n",
       "      <td>1.484705e+06</td>\n",
       "      <td>16.000000</td>\n",
       "      <td>41310.000000</td>\n",
       "      <td>4356.000000</td>\n",
       "      <td>202.000000</td>\n",
       "    </tr>\n",
       "  </tbody>\n",
       "</table>\n",
       "</div>"
      ],
      "text/plain": [
       "                age        fnlwgt  education-num  capital-gain  capital-loss  \\\n",
       "count  32571.000000  3.257100e+04   32571.000000  32571.000000  32571.000000   \n",
       "mean      38.599153  1.898091e+05      10.080747    589.158546     87.435357   \n",
       "std       13.744795  1.055927e+05       2.572484   2553.962871    403.204587   \n",
       "min        0.000000  1.228500e+04       1.000000      0.000000      0.000000   \n",
       "25%       28.000000  1.178215e+05       9.000000      0.000000      0.000000   \n",
       "50%       37.000000  1.783830e+05      10.000000      0.000000      0.000000   \n",
       "75%       48.000000  2.371095e+05      12.000000      0.000000      0.000000   \n",
       "max      250.000000  1.484705e+06      16.000000  41310.000000   4356.000000   \n",
       "\n",
       "       hours-per-week  \n",
       "count    32571.000000  \n",
       "mean        40.452151  \n",
       "std         12.441330  \n",
       "min          1.000000  \n",
       "25%         40.000000  \n",
       "50%         40.000000  \n",
       "75%         45.000000  \n",
       "max        202.000000  "
      ]
     },
     "execution_count": 18,
     "metadata": {},
     "output_type": "execute_result"
    }
   ],
   "source": [
    "df.describe()"
   ]
  },
  {
   "cell_type": "code",
   "execution_count": 19,
   "id": "94b04835",
   "metadata": {
    "execution": {
     "iopub.execute_input": "2023-04-08T13:54:48.454645Z",
     "iopub.status.busy": "2023-04-08T13:54:48.453644Z",
     "iopub.status.idle": "2023-04-08T13:54:48.463178Z",
     "shell.execute_reply": "2023-04-08T13:54:48.462009Z"
    },
    "papermill": {
     "duration": 0.026385,
     "end_time": "2023-04-08T13:54:48.465730",
     "exception": false,
     "start_time": "2023-04-08T13:54:48.439345",
     "status": "completed"
    },
    "tags": []
   },
   "outputs": [
    {
     "data": {
      "text/plain": [
       "array(['<=80K', '>80K'], dtype=object)"
      ]
     },
     "execution_count": 19,
     "metadata": {},
     "output_type": "execute_result"
    }
   ],
   "source": [
    "df['salary'].unique()"
   ]
  },
  {
   "cell_type": "code",
   "execution_count": 20,
   "id": "e963fa3e",
   "metadata": {
    "execution": {
     "iopub.execute_input": "2023-04-08T13:54:48.495092Z",
     "iopub.status.busy": "2023-04-08T13:54:48.494655Z",
     "iopub.status.idle": "2023-04-08T13:54:48.731757Z",
     "shell.execute_reply": "2023-04-08T13:54:48.730563Z"
    },
    "papermill": {
     "duration": 0.25516,
     "end_time": "2023-04-08T13:54:48.734311",
     "exception": false,
     "start_time": "2023-04-08T13:54:48.479151",
     "status": "completed"
    },
    "tags": []
   },
   "outputs": [
    {
     "data": {
      "text/plain": [
       "<AxesSubplot:xlabel='salary', ylabel='count'>"
      ]
     },
     "execution_count": 20,
     "metadata": {},
     "output_type": "execute_result"
    },
    {
     "data": {
      "image/png": "[encoded data removed]",
      "text/plain": [
       "<Figure size 640x480 with 1 Axes>"
      ]
     },
     "metadata": {},
     "output_type": "display_data"
    }
   ],
   "source": [
    "# df['salary'] = df['salary'].apply(lambda x: 0 if x == '<=80K' else 1)\n",
    "sns.countplot(x='salary',data=df)"
   ]
  },
  {
   "cell_type": "code",
   "execution_count": 21,
   "id": "a777de62",
   "metadata": {
    "execution": {
     "iopub.execute_input": "2023-04-08T13:54:48.763567Z",
     "iopub.status.busy": "2023-04-08T13:54:48.763138Z",
     "iopub.status.idle": "2023-04-08T13:54:48.769818Z",
     "shell.execute_reply": "2023-04-08T13:54:48.768520Z"
    },
    "papermill": {
     "duration": 0.024297,
     "end_time": "2023-04-08T13:54:48.772222",
     "exception": false,
     "start_time": "2023-04-08T13:54:48.747925",
     "status": "completed"
    },
    "tags": []
   },
   "outputs": [],
   "source": [
    "numerical_features = ['age','fnlwgt','capital-gain','capital-loss','hours-per-week']\n",
    "ndf = df[numerical_features]"
   ]
  },
  {
   "cell_type": "code",
   "execution_count": 22,
   "id": "a81bc865",
   "metadata": {
    "execution": {
     "iopub.execute_input": "2023-04-08T13:54:48.802023Z",
     "iopub.status.busy": "2023-04-08T13:54:48.801163Z",
     "iopub.status.idle": "2023-04-08T13:54:48.830898Z",
     "shell.execute_reply": "2023-04-08T13:54:48.829283Z"
    },
    "papermill": {
     "duration": 0.048015,
     "end_time": "2023-04-08T13:54:48.834066",
     "exception": false,
     "start_time": "2023-04-08T13:54:48.786051",
     "status": "completed"
    },
    "tags": []
   },
   "outputs": [],
   "source": [
    "df['salary'] = df['salary'].apply(lambda x: 0 if x == '<=80K' else 1)\n",
    "X_train, X_test, y_train, y_test = train_test_split(ndf, \n",
    "                                                    df['salary'], test_size=0.20, \n",
    "                                                    random_state=101)"
   ]
  },
  {
   "cell_type": "code",
   "execution_count": 23,
   "id": "ff1732b9",
   "metadata": {
    "execution": {
     "iopub.execute_input": "2023-04-08T13:54:48.863094Z",
     "iopub.status.busy": "2023-04-08T13:54:48.862631Z",
     "iopub.status.idle": "2023-04-08T13:54:48.870583Z",
     "shell.execute_reply": "2023-04-08T13:54:48.869601Z"
    },
    "papermill": {
     "duration": 0.025131,
     "end_time": "2023-04-08T13:54:48.872755",
     "exception": false,
     "start_time": "2023-04-08T13:54:48.847624",
     "status": "completed"
    },
    "tags": []
   },
   "outputs": [
    {
     "data": {
      "text/plain": [
       "array([0, 1])"
      ]
     },
     "execution_count": 23,
     "metadata": {},
     "output_type": "execute_result"
    }
   ],
   "source": [
    "df.salary.unique()"
   ]
  },
  {
   "cell_type": "markdown",
   "id": "9fcf378c",
   "metadata": {
    "papermill": {
     "duration": 0.013205,
     "end_time": "2023-04-08T13:54:48.899401",
     "exception": false,
     "start_time": "2023-04-08T13:54:48.886196",
     "status": "completed"
    },
    "tags": []
   },
   "source": [
    "### Before you try any more advance models, let's try a LogisticRegression model"
   ]
  },
  {
   "cell_type": "code",
   "execution_count": 24,
   "id": "2e51544b",
   "metadata": {
    "execution": {
     "iopub.execute_input": "2023-04-08T13:54:48.928663Z",
     "iopub.status.busy": "2023-04-08T13:54:48.927980Z",
     "iopub.status.idle": "2023-04-08T13:54:49.209293Z",
     "shell.execute_reply": "2023-04-08T13:54:49.207479Z"
    },
    "papermill": {
     "duration": 0.302107,
     "end_time": "2023-04-08T13:54:49.215043",
     "exception": false,
     "start_time": "2023-04-08T13:54:48.912936",
     "status": "completed"
    },
    "tags": []
   },
   "outputs": [
    {
     "data": {
      "text/plain": [
       "LogisticRegression()"
      ]
     },
     "execution_count": 24,
     "metadata": {},
     "output_type": "execute_result"
    }
   ],
   "source": [
    "model = LogisticRegression()\n",
    "model.fit(X_train,y_train)"
   ]
  },
  {
   "cell_type": "code",
   "execution_count": 25,
   "id": "137f9995",
   "metadata": {
    "execution": {
     "iopub.execute_input": "2023-04-08T13:54:49.293113Z",
     "iopub.status.busy": "2023-04-08T13:54:49.292262Z",
     "iopub.status.idle": "2023-04-08T13:54:49.307377Z",
     "shell.execute_reply": "2023-04-08T13:54:49.305701Z"
    },
    "papermill": {
     "duration": 0.057185,
     "end_time": "2023-04-08T13:54:49.311692",
     "exception": false,
     "start_time": "2023-04-08T13:54:49.254507",
     "status": "completed"
    },
    "tags": []
   },
   "outputs": [],
   "source": [
    "predictions = model.predict(X_test)"
   ]
  },
  {
   "cell_type": "code",
   "execution_count": 26,
   "id": "933f84bf",
   "metadata": {
    "execution": {
     "iopub.execute_input": "2023-04-08T13:54:49.386842Z",
     "iopub.status.busy": "2023-04-08T13:54:49.386109Z",
     "iopub.status.idle": "2023-04-08T13:54:49.423754Z",
     "shell.execute_reply": "2023-04-08T13:54:49.422022Z"
    },
    "papermill": {
     "duration": 0.078448,
     "end_time": "2023-04-08T13:54:49.426561",
     "exception": false,
     "start_time": "2023-04-08T13:54:49.348113",
     "status": "completed"
    },
    "tags": []
   },
   "outputs": [
    {
     "name": "stdout",
     "output_type": "stream",
     "text": [
      "              precision    recall  f1-score   support\n",
      "\n",
      "           0       0.80      0.96      0.87      4939\n",
      "           1       0.66      0.24      0.35      1576\n",
      "\n",
      "    accuracy                           0.79      6515\n",
      "   macro avg       0.73      0.60      0.61      6515\n",
      "weighted avg       0.77      0.79      0.75      6515\n",
      "\n",
      "0.7863392171910975\n"
     ]
    }
   ],
   "source": [
    "print(classification_report(y_test,predictions))\n",
    "print(accuracy_score(y_test, predictions))"
   ]
  },
  {
   "cell_type": "code",
   "execution_count": 27,
   "id": "dbf78dd9",
   "metadata": {
    "execution": {
     "iopub.execute_input": "2023-04-08T13:54:49.456902Z",
     "iopub.status.busy": "2023-04-08T13:54:49.456114Z",
     "iopub.status.idle": "2023-04-08T13:54:52.377725Z",
     "shell.execute_reply": "2023-04-08T13:54:52.375935Z"
    },
    "papermill": {
     "duration": 2.941913,
     "end_time": "2023-04-08T13:54:52.382466",
     "exception": false,
     "start_time": "2023-04-08T13:54:49.440553",
     "status": "completed"
    },
    "tags": []
   },
   "outputs": [
    {
     "name": "stdout",
     "output_type": "stream",
     "text": [
      "              precision    recall  f1-score   support\n",
      "\n",
      "           0       0.80      0.96      0.87      4939\n",
      "           1       0.66      0.24      0.35      1576\n",
      "\n",
      "    accuracy                           0.79      6515\n",
      "   macro avg       0.73      0.60      0.61      6515\n",
      "weighted avg       0.77      0.79      0.75      6515\n",
      "\n",
      "0.7863392171910975\n",
      "              precision    recall  f1-score   support\n",
      "\n",
      "           0       0.80      0.96      0.87      4939\n",
      "           1       0.66      0.24      0.35      1576\n",
      "\n",
      "    accuracy                           0.79      6515\n",
      "   macro avg       0.73      0.60      0.61      6515\n",
      "weighted avg       0.77      0.79      0.75      6515\n",
      "\n",
      "0.7863392171910975\n",
      "              precision    recall  f1-score   support\n",
      "\n",
      "           0       0.80      0.96      0.87      4939\n",
      "           1       0.66      0.24      0.35      1576\n",
      "\n",
      "    accuracy                           0.79      6515\n",
      "   macro avg       0.73      0.60      0.61      6515\n",
      "weighted avg       0.77      0.79      0.75      6515\n",
      "\n",
      "0.7863392171910975\n",
      "              precision    recall  f1-score   support\n",
      "\n",
      "           0       0.80      0.96      0.87      4939\n",
      "           1       0.66      0.24      0.35      1576\n",
      "\n",
      "    accuracy                           0.79      6515\n",
      "   macro avg       0.73      0.60      0.61      6515\n",
      "weighted avg       0.77      0.79      0.75      6515\n",
      "\n",
      "0.7863392171910975\n",
      "              precision    recall  f1-score   support\n",
      "\n",
      "           0       0.80      0.96      0.87      4939\n",
      "           1       0.66      0.24      0.35      1576\n",
      "\n",
      "    accuracy                           0.79      6515\n",
      "   macro avg       0.73      0.60      0.61      6515\n",
      "weighted avg       0.77      0.79      0.75      6515\n",
      "\n",
      "0.7863392171910975\n",
      "              precision    recall  f1-score   support\n",
      "\n",
      "           0       0.80      0.96      0.87      4939\n",
      "           1       0.66      0.24      0.35      1576\n",
      "\n",
      "    accuracy                           0.79      6515\n",
      "   macro avg       0.73      0.60      0.61      6515\n",
      "weighted avg       0.77      0.79      0.75      6515\n",
      "\n",
      "0.7863392171910975\n",
      "              precision    recall  f1-score   support\n",
      "\n",
      "           0       0.80      0.96      0.87      4939\n",
      "           1       0.66      0.24      0.35      1576\n",
      "\n",
      "    accuracy                           0.79      6515\n",
      "   macro avg       0.73      0.60      0.61      6515\n",
      "weighted avg       0.77      0.79      0.75      6515\n",
      "\n",
      "0.7863392171910975\n",
      "              precision    recall  f1-score   support\n",
      "\n",
      "           0       0.80      0.96      0.87      4939\n",
      "           1       0.66      0.24      0.35      1576\n",
      "\n",
      "    accuracy                           0.79      6515\n",
      "   macro avg       0.73      0.60      0.61      6515\n",
      "weighted avg       0.77      0.79      0.75      6515\n",
      "\n",
      "0.7863392171910975\n",
      "              precision    recall  f1-score   support\n",
      "\n",
      "           0       0.80      0.96      0.87      4939\n",
      "           1       0.66      0.24      0.35      1576\n",
      "\n",
      "    accuracy                           0.79      6515\n",
      "   macro avg       0.73      0.60      0.61      6515\n",
      "weighted avg       0.77      0.79      0.75      6515\n",
      "\n",
      "0.7863392171910975\n",
      "              precision    recall  f1-score   support\n",
      "\n",
      "           0       0.80      0.96      0.87      4939\n",
      "           1       0.66      0.24      0.35      1576\n",
      "\n",
      "    accuracy                           0.79      6515\n",
      "   macro avg       0.73      0.60      0.61      6515\n",
      "weighted avg       0.77      0.79      0.75      6515\n",
      "\n",
      "0.7863392171910975\n"
     ]
    }
   ],
   "source": [
    "# Type in your code and answers\n",
    "# perform a 10-fold cross validation\n",
    "for i in range(10):\n",
    "    X_train, X_test, Y_train, Y_test = train_test_split(ndf, df.salary, test_size=0.2, random_state = i*42)\n",
    "    model = LogisticRegression(random_state=i*42)\n",
    "    model.fit(X_train, Y_train)\n",
    "    Y_pred = model.predict(X_test)\n",
    "    print(classification_report(y_test,predictions))\n",
    "    print(accuracy_score(y_test, predictions))"
   ]
  },
  {
   "cell_type": "code",
   "execution_count": 28,
   "id": "2179b2ea",
   "metadata": {
    "execution": {
     "iopub.execute_input": "2023-04-08T13:54:52.464033Z",
     "iopub.status.busy": "2023-04-08T13:54:52.463288Z",
     "iopub.status.idle": "2023-04-08T13:54:52.470374Z",
     "shell.execute_reply": "2023-04-08T13:54:52.469397Z"
    },
    "papermill": {
     "duration": 0.050905,
     "end_time": "2023-04-08T13:54:52.472909",
     "exception": false,
     "start_time": "2023-04-08T13:54:52.422004",
     "status": "completed"
    },
    "tags": []
   },
   "outputs": [],
   "source": [
    "from sklearn.ensemble import RandomForestClassifier, VotingClassifier, BaggingClassifier, AdaBoostClassifier\n",
    "from sklearn.tree import DecisionTreeClassifier"
   ]
  },
  {
   "cell_type": "code",
   "execution_count": 29,
   "id": "13c5cd6e",
   "metadata": {
    "execution": {
     "iopub.execute_input": "2023-04-08T13:54:52.504901Z",
     "iopub.status.busy": "2023-04-08T13:54:52.504216Z",
     "iopub.status.idle": "2023-04-08T13:54:54.724101Z",
     "shell.execute_reply": "2023-04-08T13:54:54.722604Z"
    },
    "papermill": {
     "duration": 2.239363,
     "end_time": "2023-04-08T13:54:54.726912",
     "exception": false,
     "start_time": "2023-04-08T13:54:52.487549",
     "status": "completed"
    },
    "tags": []
   },
   "outputs": [
    {
     "name": "stdout",
     "output_type": "stream",
     "text": [
      "              precision    recall  f1-score   support\n",
      "\n",
      "           0       0.76      1.00      0.86      4939\n",
      "           1       0.00      0.00      0.00      1576\n",
      "\n",
      "    accuracy                           0.76      6515\n",
      "   macro avg       0.38      0.50      0.43      6515\n",
      "weighted avg       0.57      0.76      0.65      6515\n",
      "\n",
      "0.758096699923254\n"
     ]
    }
   ],
   "source": [
    "bag_clf = BaggingClassifier(\n",
    "    DecisionTreeClassifier(random_state=101), n_estimators=500,\n",
    "    max_samples=100, bootstrap=True, random_state=42)\n",
    "bag_clf.fit(X_train, y_train)\n",
    "y_pred = bag_clf.predict(X_test)\n",
    "\n",
    "print(classification_report(y_test, y_pred))\n",
    "print(accuracy_score(y_test, y_pred))"
   ]
  },
  {
   "cell_type": "code",
   "execution_count": 30,
   "id": "e557d90f",
   "metadata": {
    "execution": {
     "iopub.execute_input": "2023-04-08T13:54:54.758349Z",
     "iopub.status.busy": "2023-04-08T13:54:54.757080Z",
     "iopub.status.idle": "2023-04-08T13:55:02.011434Z",
     "shell.execute_reply": "2023-04-08T13:55:02.010130Z"
    },
    "papermill": {
     "duration": 7.272331,
     "end_time": "2023-04-08T13:55:02.013723",
     "exception": false,
     "start_time": "2023-04-08T13:54:54.741392",
     "status": "completed"
    },
    "tags": []
   },
   "outputs": [
    {
     "name": "stdout",
     "output_type": "stream",
     "text": [
      "              precision    recall  f1-score   support\n",
      "\n",
      "           0       0.76      0.95      0.84      4939\n",
      "           1       0.24      0.05      0.08      1576\n",
      "\n",
      "    accuracy                           0.73      6515\n",
      "   macro avg       0.50      0.50      0.46      6515\n",
      "weighted avg       0.63      0.73      0.66      6515\n",
      "\n",
      "0.7336914811972371\n"
     ]
    }
   ],
   "source": [
    "ada_clf = AdaBoostClassifier(DecisionTreeClassifier(max_depth=4), n_estimators=200, \n",
    "                             learning_rate=0.5, random_state=100)\n",
    "ada_clf.fit(X_train, y_train)\n",
    "\n",
    "y_pred = ada_clf.predict(X_test)\n",
    "\n",
    "print(classification_report(y_test, y_pred))\n",
    "print(accuracy_score(y_test, y_pred))"
   ]
  },
  {
   "cell_type": "code",
   "execution_count": 31,
   "id": "b724caf7",
   "metadata": {
    "execution": {
     "iopub.execute_input": "2023-04-08T13:55:02.044190Z",
     "iopub.status.busy": "2023-04-08T13:55:02.043783Z",
     "iopub.status.idle": "2023-04-08T13:55:04.059604Z",
     "shell.execute_reply": "2023-04-08T13:55:04.057435Z"
    },
    "papermill": {
     "duration": 2.034338,
     "end_time": "2023-04-08T13:55:04.062384",
     "exception": false,
     "start_time": "2023-04-08T13:55:02.028046",
     "status": "completed"
    },
    "tags": []
   },
   "outputs": [
    {
     "name": "stdout",
     "output_type": "stream",
     "text": [
      "              precision    recall  f1-score   support\n",
      "\n",
      "           0       0.76      0.99      0.86      4939\n",
      "           1       0.23      0.01      0.02      1576\n",
      "\n",
      "    accuracy                           0.75      6515\n",
      "   macro avg       0.49      0.50      0.44      6515\n",
      "weighted avg       0.63      0.75      0.66      6515\n",
      "\n",
      "0.7514965464313124\n"
     ]
    }
   ],
   "source": [
    "from sklearn.ensemble import GradientBoostingClassifier\n",
    "\n",
    "gb_clf = GradientBoostingClassifier(learning_rate=0.5, random_state=100)\n",
    "gb_clf.fit(X_train, y_train)\n",
    "\n",
    "y_pred = gb_clf.predict(X_test)\n",
    "\n",
    "print(classification_report(y_test, y_pred))\n",
    "print(accuracy_score(y_test, y_pred))"
   ]
  },
  {
   "cell_type": "code",
   "execution_count": 32,
   "id": "7160d3df",
   "metadata": {
    "execution": {
     "iopub.execute_input": "2023-04-08T13:55:04.094198Z",
     "iopub.status.busy": "2023-04-08T13:55:04.093162Z",
     "iopub.status.idle": "2023-04-08T13:58:34.410225Z",
     "shell.execute_reply": "2023-04-08T13:58:34.409081Z"
    },
    "papermill": {
     "duration": 210.350656,
     "end_time": "2023-04-08T13:58:34.427955",
     "exception": false,
     "start_time": "2023-04-08T13:55:04.077299",
     "status": "completed"
    },
    "tags": []
   },
   "outputs": [
    {
     "name": "stdout",
     "output_type": "stream",
     "text": [
      "              precision    recall  f1-score   support\n",
      "\n",
      "           0       0.76      1.00      0.86      4939\n",
      "           1       0.00      0.00      0.00      1576\n",
      "\n",
      "    accuracy                           0.76      6515\n",
      "   macro avg       0.38      0.50      0.43      6515\n",
      "weighted avg       0.57      0.76      0.65      6515\n",
      "\n",
      "LogisticRegression 0.758096699923254\n",
      "\n",
      "\n",
      "              precision    recall  f1-score   support\n",
      "\n",
      "           0       0.76      0.86      0.81      4939\n",
      "           1       0.25      0.14      0.18      1576\n",
      "\n",
      "    accuracy                           0.69      6515\n",
      "   macro avg       0.50      0.50      0.49      6515\n",
      "weighted avg       0.64      0.69      0.66      6515\n",
      "\n",
      "RandomForestClassifier 0.6884113584036838\n",
      "\n",
      "\n",
      "              precision    recall  f1-score   support\n",
      "\n",
      "           0       0.76      1.00      0.86      4939\n",
      "           1       0.00      0.00      0.00      1576\n",
      "\n",
      "    accuracy                           0.76      6515\n",
      "   macro avg       0.38      0.50      0.43      6515\n",
      "weighted avg       0.57      0.76      0.65      6515\n",
      "\n",
      "SVC 0.758096699923254\n",
      "\n",
      "\n",
      "              precision    recall  f1-score   support\n",
      "\n",
      "           0       0.76      1.00      0.86      4939\n",
      "           1       0.00      0.00      0.00      1576\n",
      "\n",
      "    accuracy                           0.76      6515\n",
      "   macro avg       0.38      0.50      0.43      6515\n",
      "weighted avg       0.57      0.76      0.65      6515\n",
      "\n",
      "VotingClassifier 0.758096699923254\n"
     ]
    }
   ],
   "source": [
    "from sklearn.svm import SVC\n",
    "from sklearn.ensemble import RandomForestClassifier\n",
    "\n",
    "log_clf = LogisticRegression(random_state=100)\n",
    "rnd_clf = RandomForestClassifier(n_estimators=100, random_state=100)\n",
    "svm_clf = SVC(gamma=\"scale\", probability=True, random_state=100)\n",
    "\n",
    "for clf in (log_clf, rnd_clf, svm_clf):\n",
    "    clf.fit(X_train, y_train)\n",
    "    y_pred = clf.predict(X_test)\n",
    "\n",
    "    print(classification_report(y_test, y_pred))\n",
    "    print(clf.__class__.__name__, accuracy_score(y_test, y_pred))\n",
    "    print('\\n')\n",
    "    \n",
    "voting_clf = VotingClassifier(estimators=[('lr', log_clf), ('rf', rnd_clf), ('svc', svm_clf)], voting='hard')\n",
    "voting_clf.fit(X_train, y_train)\n",
    "y_pred = voting_clf.predict(X_test)\n",
    "\n",
    "print(classification_report(y_test, y_pred))\n",
    "print(voting_clf.__class__.__name__, accuracy_score(y_test, y_pred))"
   ]
  },
  {
   "cell_type": "code",
   "execution_count": 33,
   "id": "2f5a0d68",
   "metadata": {
    "execution": {
     "iopub.execute_input": "2023-04-08T13:58:34.459803Z",
     "iopub.status.busy": "2023-04-08T13:58:34.459396Z",
     "iopub.status.idle": "2023-04-08T13:58:34.551799Z",
     "shell.execute_reply": "2023-04-08T13:58:34.550772Z"
    },
    "papermill": {
     "duration": 0.111989,
     "end_time": "2023-04-08T13:58:34.554624",
     "exception": false,
     "start_time": "2023-04-08T13:58:34.442635",
     "status": "completed"
    },
    "tags": []
   },
   "outputs": [],
   "source": [
    "try:\n",
    "    import xgboost as xgb\n",
    "except:\n",
    "    import os\n",
    "    os.system(\"pip install xgboost\")"
   ]
  },
  {
   "cell_type": "code",
   "execution_count": 34,
   "id": "b6e4c5de",
   "metadata": {
    "execution": {
     "iopub.execute_input": "2023-04-08T13:58:34.587123Z",
     "iopub.status.busy": "2023-04-08T13:58:34.586025Z",
     "iopub.status.idle": "2023-04-08T13:58:36.025524Z",
     "shell.execute_reply": "2023-04-08T13:58:36.024581Z"
    },
    "papermill": {
     "duration": 1.45834,
     "end_time": "2023-04-08T13:58:36.028003",
     "exception": false,
     "start_time": "2023-04-08T13:58:34.569663",
     "status": "completed"
    },
    "tags": []
   },
   "outputs": [
    {
     "name": "stdout",
     "output_type": "stream",
     "text": [
      "              precision    recall  f1-score   support\n",
      "\n",
      "           0       0.76      0.98      0.85      4939\n",
      "           1       0.20      0.02      0.03      1576\n",
      "\n",
      "    accuracy                           0.75      6515\n",
      "   macro avg       0.48      0.50      0.44      6515\n",
      "weighted avg       0.62      0.75      0.65      6515\n",
      "\n",
      "0.7465848042977744\n"
     ]
    }
   ],
   "source": [
    "import xgboost as xgb\n",
    "xgb_clf = xgb.XGBClassifier(learning_rate=0.5, random_state=100, use_label_encoder=False)\n",
    "xgb_clf.fit(X_train, y_train)\n",
    "\n",
    "y_pred = xgb_clf.predict(X_test)\n",
    "\n",
    "print(classification_report(y_test, y_pred))\n",
    "print(accuracy_score(y_test, y_pred))"
   ]
  },
  {
   "cell_type": "code",
   "execution_count": 35,
   "id": "a60043e4",
   "metadata": {
    "execution": {
     "iopub.execute_input": "2023-04-08T13:58:36.060210Z",
     "iopub.status.busy": "2023-04-08T13:58:36.059742Z",
     "iopub.status.idle": "2023-04-08T13:58:36.077117Z",
     "shell.execute_reply": "2023-04-08T13:58:36.075841Z"
    },
    "papermill": {
     "duration": 0.036769,
     "end_time": "2023-04-08T13:58:36.079757",
     "exception": false,
     "start_time": "2023-04-08T13:58:36.042988",
     "status": "completed"
    },
    "tags": []
   },
   "outputs": [
    {
     "data": {
      "text/html": [
       "<div>\n",
       "<style scoped>\n",
       "    .dataframe tbody tr th:only-of-type {\n",
       "        vertical-align: middle;\n",
       "    }\n",
       "\n",
       "    .dataframe tbody tr th {\n",
       "        vertical-align: top;\n",
       "    }\n",
       "\n",
       "    .dataframe thead th {\n",
       "        text-align: right;\n",
       "    }\n",
       "</style>\n",
       "<table border=\"1\" class=\"dataframe\">\n",
       "  <thead>\n",
       "    <tr style=\"text-align: right;\">\n",
       "      <th></th>\n",
       "      <th>age</th>\n",
       "      <th>workclass</th>\n",
       "      <th>fnlwgt</th>\n",
       "      <th>education</th>\n",
       "      <th>education-num</th>\n",
       "      <th>marital-status</th>\n",
       "      <th>occupation</th>\n",
       "      <th>relationship</th>\n",
       "      <th>race</th>\n",
       "      <th>sex</th>\n",
       "      <th>capital-gain</th>\n",
       "      <th>capital-loss</th>\n",
       "      <th>hours-per-week</th>\n",
       "      <th>native-country</th>\n",
       "      <th>salary</th>\n",
       "    </tr>\n",
       "  </thead>\n",
       "  <tbody>\n",
       "    <tr>\n",
       "      <th>0</th>\n",
       "      <td>39</td>\n",
       "      <td>State-gov</td>\n",
       "      <td>77516</td>\n",
       "      <td>Bachelors</td>\n",
       "      <td>13</td>\n",
       "      <td>Never-married</td>\n",
       "      <td>Adm-clerical</td>\n",
       "      <td>Not-in-family</td>\n",
       "      <td>White</td>\n",
       "      <td>Male</td>\n",
       "      <td>2174</td>\n",
       "      <td>0</td>\n",
       "      <td>40</td>\n",
       "      <td>United-States</td>\n",
       "      <td>0</td>\n",
       "    </tr>\n",
       "    <tr>\n",
       "      <th>1</th>\n",
       "      <td>50</td>\n",
       "      <td>Self-emp-not-inc</td>\n",
       "      <td>83311</td>\n",
       "      <td>Bachelors</td>\n",
       "      <td>13</td>\n",
       "      <td>Married-civ-spouse</td>\n",
       "      <td>Exec-managerial</td>\n",
       "      <td>Husband</td>\n",
       "      <td>White</td>\n",
       "      <td>Male</td>\n",
       "      <td>0</td>\n",
       "      <td>0</td>\n",
       "      <td>13</td>\n",
       "      <td>United-States</td>\n",
       "      <td>0</td>\n",
       "    </tr>\n",
       "    <tr>\n",
       "      <th>2</th>\n",
       "      <td>38</td>\n",
       "      <td>Private</td>\n",
       "      <td>215646</td>\n",
       "      <td>HS-grad</td>\n",
       "      <td>9</td>\n",
       "      <td>Divorced</td>\n",
       "      <td>Handlers-cleaners</td>\n",
       "      <td>Not-in-family</td>\n",
       "      <td>White</td>\n",
       "      <td>Male</td>\n",
       "      <td>0</td>\n",
       "      <td>0</td>\n",
       "      <td>40</td>\n",
       "      <td>United-States</td>\n",
       "      <td>0</td>\n",
       "    </tr>\n",
       "    <tr>\n",
       "      <th>3</th>\n",
       "      <td>53</td>\n",
       "      <td>Private</td>\n",
       "      <td>234721</td>\n",
       "      <td>11th</td>\n",
       "      <td>7</td>\n",
       "      <td>Married-civ-spouse</td>\n",
       "      <td>Handlers-cleaners</td>\n",
       "      <td>Husband</td>\n",
       "      <td>Black</td>\n",
       "      <td>Male</td>\n",
       "      <td>0</td>\n",
       "      <td>0</td>\n",
       "      <td>40</td>\n",
       "      <td>United-States</td>\n",
       "      <td>0</td>\n",
       "    </tr>\n",
       "    <tr>\n",
       "      <th>4</th>\n",
       "      <td>28</td>\n",
       "      <td>Private</td>\n",
       "      <td>338409</td>\n",
       "      <td>Bachelors</td>\n",
       "      <td>13</td>\n",
       "      <td>Married-civ-spouse</td>\n",
       "      <td>Prof-specialty</td>\n",
       "      <td>Wife</td>\n",
       "      <td>Black</td>\n",
       "      <td>Female</td>\n",
       "      <td>0</td>\n",
       "      <td>0</td>\n",
       "      <td>40</td>\n",
       "      <td>Cuba</td>\n",
       "      <td>0</td>\n",
       "    </tr>\n",
       "  </tbody>\n",
       "</table>\n",
       "</div>"
      ],
      "text/plain": [
       "   age         workclass  fnlwgt  education  education-num  \\\n",
       "0   39         State-gov   77516  Bachelors             13   \n",
       "1   50  Self-emp-not-inc   83311  Bachelors             13   \n",
       "2   38           Private  215646    HS-grad              9   \n",
       "3   53           Private  234721       11th              7   \n",
       "4   28           Private  338409  Bachelors             13   \n",
       "\n",
       "       marital-status         occupation   relationship   race     sex  \\\n",
       "0       Never-married       Adm-clerical  Not-in-family  White    Male   \n",
       "1  Married-civ-spouse    Exec-managerial        Husband  White    Male   \n",
       "2            Divorced  Handlers-cleaners  Not-in-family  White    Male   \n",
       "3  Married-civ-spouse  Handlers-cleaners        Husband  Black    Male   \n",
       "4  Married-civ-spouse     Prof-specialty           Wife  Black  Female   \n",
       "\n",
       "   capital-gain  capital-loss  hours-per-week native-country  salary  \n",
       "0          2174             0              40  United-States       0  \n",
       "1             0             0              13  United-States       0  \n",
       "2             0             0              40  United-States       0  \n",
       "3             0             0              40  United-States       0  \n",
       "4             0             0              40           Cuba       0  "
      ]
     },
     "execution_count": 35,
     "metadata": {},
     "output_type": "execute_result"
    }
   ],
   "source": [
    "df.head()"
   ]
  },
  {
   "cell_type": "code",
   "execution_count": 36,
   "id": "c6b6daf7",
   "metadata": {
    "execution": {
     "iopub.execute_input": "2023-04-08T13:58:36.112493Z",
     "iopub.status.busy": "2023-04-08T13:58:36.112033Z",
     "iopub.status.idle": "2023-04-08T13:58:36.125854Z",
     "shell.execute_reply": "2023-04-08T13:58:36.124875Z"
    },
    "papermill": {
     "duration": 0.032635,
     "end_time": "2023-04-08T13:58:36.128219",
     "exception": false,
     "start_time": "2023-04-08T13:58:36.095584",
     "status": "completed"
    },
    "tags": []
   },
   "outputs": [
    {
     "data": {
      "text/plain": [
       "['workclass',\n",
       " 'education',\n",
       " 'marital-status',\n",
       " 'occupation',\n",
       " 'relationship',\n",
       " 'race',\n",
       " 'sex',\n",
       " 'native-country']"
      ]
     },
     "execution_count": 36,
     "metadata": {},
     "output_type": "execute_result"
    }
   ],
   "source": [
    "cat = df.select_dtypes(include=['object']).columns.tolist()\n",
    "cat"
   ]
  },
  {
   "cell_type": "code",
   "execution_count": 37,
   "id": "5242cf77",
   "metadata": {
    "execution": {
     "iopub.execute_input": "2023-04-08T13:58:36.162043Z",
     "iopub.status.busy": "2023-04-08T13:58:36.161243Z",
     "iopub.status.idle": "2023-04-08T13:58:36.194608Z",
     "shell.execute_reply": "2023-04-08T13:58:36.193347Z"
    },
    "papermill": {
     "duration": 0.053846,
     "end_time": "2023-04-08T13:58:36.197766",
     "exception": false,
     "start_time": "2023-04-08T13:58:36.143920",
     "status": "completed"
    },
    "tags": []
   },
   "outputs": [
    {
     "data": {
      "text/plain": [
       "workclass          9\n",
       "education         16\n",
       "marital-status     7\n",
       "occupation        15\n",
       "relationship       6\n",
       "race               5\n",
       "sex                2\n",
       "native-country    42\n",
       "dtype: int64"
      ]
     },
     "execution_count": 37,
     "metadata": {},
     "output_type": "execute_result"
    }
   ],
   "source": [
    "df[cat].nunique()"
   ]
  },
  {
   "cell_type": "code",
   "execution_count": 38,
   "id": "ed6a80dd",
   "metadata": {
    "execution": {
     "iopub.execute_input": "2023-04-08T13:58:36.230887Z",
     "iopub.status.busy": "2023-04-08T13:58:36.230500Z",
     "iopub.status.idle": "2023-04-08T13:58:36.281983Z",
     "shell.execute_reply": "2023-04-08T13:58:36.280673Z"
    },
    "papermill": {
     "duration": 0.07126,
     "end_time": "2023-04-08T13:58:36.284623",
     "exception": false,
     "start_time": "2023-04-08T13:58:36.213363",
     "status": "completed"
    },
    "tags": []
   },
   "outputs": [
    {
     "data": {
      "text/plain": [
       "(32571, 109)"
      ]
     },
     "execution_count": 38,
     "metadata": {},
     "output_type": "execute_result"
    }
   ],
   "source": [
    "with_cat_df = pd.get_dummies(df, columns=cat)\n",
    "with_cat_df.shape"
   ]
  },
  {
   "cell_type": "code",
   "execution_count": 39,
   "id": "157ac291",
   "metadata": {
    "execution": {
     "iopub.execute_input": "2023-04-08T13:58:36.318846Z",
     "iopub.status.busy": "2023-04-08T13:58:36.317543Z",
     "iopub.status.idle": "2023-04-08T13:58:42.206734Z",
     "shell.execute_reply": "2023-04-08T13:58:42.205303Z"
    },
    "papermill": {
     "duration": 5.909516,
     "end_time": "2023-04-08T13:58:42.209886",
     "exception": false,
     "start_time": "2023-04-08T13:58:36.300370",
     "status": "completed"
    },
    "tags": []
   },
   "outputs": [
    {
     "name": "stdout",
     "output_type": "stream",
     "text": [
      "              precision    recall  f1-score   support\n",
      "\n",
      "           0       0.90      0.93      0.91      4939\n",
      "           1       0.75      0.66      0.70      1576\n",
      "\n",
      "    accuracy                           0.87      6515\n",
      "   macro avg       0.82      0.79      0.81      6515\n",
      "weighted avg       0.86      0.87      0.86      6515\n",
      "\n",
      "0.8650805832693783\n"
     ]
    }
   ],
   "source": [
    "X,y = with_cat_df.drop('salary',axis=1),with_cat_df.salary\n",
    "X_train, X_test, y_train, y_test = train_test_split(X, \n",
    "                                                    y, test_size=0.20, \n",
    "                                                    random_state=101)\n",
    "\n",
    "xgb_clf = xgb.XGBClassifier(learning_rate=0.5, random_state=100, use_label_encoder=False)\n",
    "xgb_clf.fit(X_train, y_train)\n",
    "\n",
    "y_pred = xgb_clf.predict(X_test)\n",
    "\n",
    "print(classification_report(y_test, y_pred))\n",
    "print(accuracy_score(y_test, y_pred))"
   ]
  }
 ],
 "metadata": {
  "kernelspec": {
   "display_name": "Python 3",
   "language": "python",
   "name": "python3"
  },
  "language_info": {
   "codemirror_mode": {
    "name": "ipython",
    "version": 3
   },
   "file_extension": ".py",
   "mimetype": "text/x-python",
   "name": "python",
   "nbconvert_exporter": "python",
   "pygments_lexer": "ipython3",
   "version": "3.7.12"
  },
  "papermill": {
   "default_parameters": {},
   "duration": 247.35148,
   "end_time": "2023-04-08T13:58:43.050957",
   "environment_variables": {},
   "exception": null,
   "input_path": "__notebook__.ipynb",
   "output_path": "__notebook__.ipynb",
   "parameters": {},
   "start_time": "2023-04-08T13:54:35.699477",
   "version": "2.4.0"
  }
 },
 "nbformat": 4,
 "nbformat_minor": 5
}
