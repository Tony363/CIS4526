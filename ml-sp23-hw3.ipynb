{
 "cells": [
  {
   "cell_type": "markdown",
   "id": "d128c97d",
   "metadata": {
    "papermill": {
     "duration": 0.011953,
     "end_time": "2023-04-13T20:11:39.438809",
     "exception": false,
     "start_time": "2023-04-13T20:11:39.426856",
     "status": "completed"
    },
    "tags": []
   },
   "source": [
    "# CIS 4526 Sp23 HomeWork 3"
   ]
  },
  {
   "cell_type": "code",
   "execution_count": 1,
   "id": "753b55f6",
   "metadata": {
    "execution": {
     "iopub.execute_input": "2023-04-13T20:11:39.462177Z",
     "iopub.status.busy": "2023-04-13T20:11:39.461799Z",
     "iopub.status.idle": "2023-04-13T20:11:40.828599Z",
     "shell.execute_reply": "2023-04-13T20:11:40.827278Z"
    },
    "papermill": {
     "duration": 1.38203,
     "end_time": "2023-04-13T20:11:40.831482",
     "exception": false,
     "start_time": "2023-04-13T20:11:39.449452",
     "status": "completed"
    },
    "tags": []
   },
   "outputs": [],
   "source": [
    "import numpy as np\n",
    "import pandas as pd\n",
    "import matplotlib.pyplot as plt\n",
    "import seaborn as sns\n",
    "import warnings\n",
    "warnings.filterwarnings('ignore')\n",
    "from sklearn.model_selection import train_test_split"
   ]
  },
  {
   "cell_type": "code",
   "execution_count": 2,
   "id": "0ca88494",
   "metadata": {
    "execution": {
     "iopub.execute_input": "2023-04-13T20:11:40.854755Z",
     "iopub.status.busy": "2023-04-13T20:11:40.854304Z",
     "iopub.status.idle": "2023-04-13T20:11:41.207434Z",
     "shell.execute_reply": "2023-04-13T20:11:41.206270Z"
    },
    "papermill": {
     "duration": 0.367811,
     "end_time": "2023-04-13T20:11:41.210088",
     "exception": false,
     "start_time": "2023-04-13T20:11:40.842277",
     "status": "completed"
    },
    "tags": []
   },
   "outputs": [],
   "source": [
    "from sklearn.model_selection import train_test_split\n",
    "from sklearn.linear_model import LogisticRegression\n",
    "from sklearn import svm\n",
    "from sklearn.ensemble import RandomForestClassifier\n",
    "from sklearn.tree import DecisionTreeClassifier"
   ]
  },
  {
   "cell_type": "code",
   "execution_count": 3,
   "id": "08014b2d",
   "metadata": {
    "execution": {
     "iopub.execute_input": "2023-04-13T20:11:41.234553Z",
     "iopub.status.busy": "2023-04-13T20:11:41.234097Z",
     "iopub.status.idle": "2023-04-13T20:11:41.239597Z",
     "shell.execute_reply": "2023-04-13T20:11:41.238439Z"
    },
    "papermill": {
     "duration": 0.021244,
     "end_time": "2023-04-13T20:11:41.242100",
     "exception": false,
     "start_time": "2023-04-13T20:11:41.220856",
     "status": "completed"
    },
    "tags": []
   },
   "outputs": [],
   "source": [
    "from sklearn.metrics import classification_report,confusion_matrix,accuracy_score"
   ]
  },
  {
   "cell_type": "markdown",
   "id": "296ff3e1",
   "metadata": {
    "papermill": {
     "duration": 0.01025,
     "end_time": "2023-04-13T20:11:41.263187",
     "exception": false,
     "start_time": "2023-04-13T20:11:41.252937",
     "status": "completed"
    },
    "tags": []
   },
   "source": [
    "### Dataset is based on an census income data\n",
    "https://archive.ics.uci.edu/ml/datasets/census+income\n"
   ]
  },
  {
   "cell_type": "markdown",
   "id": "322bfef3",
   "metadata": {
    "papermill": {
     "duration": 0.01042,
     "end_time": "2023-04-13T20:11:41.284126",
     "exception": false,
     "start_time": "2023-04-13T20:11:41.273706",
     "status": "completed"
    },
    "tags": []
   },
   "source": [
    "Data Set Information:\n",
    "\n",
    "Extraction was done by Barry Becker from the 1994 Census database. \n",
    "\n",
    "\n",
    "Attribute Information:\n",
    "\n",
    "Listing of attributes:\n",
    "\n",
    "* The last column >50K, <=50K is the target variable indicating whether the people earn less than or larger than 50K per year\n",
    "\n",
    "* age: continuous.\n",
    "* workclass: Private, Self-emp-not-inc, Self-emp-inc, Federal-gov, Local-gov, State-gov, Without-pay, Never-worked.\n",
    "* fnlwgt: continuous.\n",
    "* education: Bachelors, Some-college, 11th, HS-grad, Prof-school, Assoc-acdm, Assoc-voc, 9th, 7th-8th, 12th, Masters, 1st-4th, 10th, Doctorate, 5th-6th, Preschool.\n",
    "* education-num: continuous.\n",
    "* marital-status: Married-civ-spouse, Divorced, Never-married, Separated, Widowed, Married-spouse-absent, Married-AF-spouse.\n",
    "* occupation: Tech-support, Craft-repair, Other-service, Sales, Exec-managerial, Prof-specialty, Handlers-cleaners, Machine-op-inspct, Adm-clerical, Farming-fishing, Transport-moving, Priv-house-serv, Protective-serv, Armed-Forces.\n",
    "* relationship: Wife, Own-child, Husband, Not-in-family, Other-relative, Unmarried.\n",
    "* race: White, Asian-Pac-Islander, Amer-Indian-Eskimo, Other, Black.\n",
    "* sex: Female, Male.\n",
    "* capital-gain: continuous.\n",
    "* capital-loss: continuous.\n",
    "* hours-per-week: continuous.\n",
    "* native-country: United-States, Cambodia, England, Puerto-Rico, Canada, Germany, Outlying-US(Guam-USVI-etc), India, Japan, Greece, South, China, Cuba, Iran, Honduras, Philippines, Italy, Poland, Jamaica, Vietnam, Mexico, Portugal, Ireland, France, Dominican-Republic, Laos, Ecuador, Taiwan, Haiti, Columbia, Hungary, Guatemala, Nicaragua, Scotland, Thailand, Yugoslavia, El-Salvador, Trinadad&Tobago, Peru, Hong, Holand-Netherlands.\n",
    "\n"
   ]
  },
  {
   "cell_type": "markdown",
   "id": "0fee2c81",
   "metadata": {
    "papermill": {
     "duration": 0.010155,
     "end_time": "2023-04-13T20:11:41.304896",
     "exception": false,
     "start_time": "2023-04-13T20:11:41.294741",
     "status": "completed"
    },
    "tags": []
   },
   "source": [
    "### However, I have modified the dataset and so you will need to load the dataset by reading a csv file I provided. In particular, I changed 50K to 80K just to reflect the inflation "
   ]
  },
  {
   "cell_type": "code",
   "execution_count": 4,
   "id": "3f912c7d",
   "metadata": {
    "execution": {
     "iopub.execute_input": "2023-04-13T20:11:41.328174Z",
     "iopub.status.busy": "2023-04-13T20:11:41.327406Z",
     "iopub.status.idle": "2023-04-13T20:11:41.494677Z",
     "shell.execute_reply": "2023-04-13T20:11:41.493304Z"
    },
    "papermill": {
     "duration": 0.181988,
     "end_time": "2023-04-13T20:11:41.497519",
     "exception": false,
     "start_time": "2023-04-13T20:11:41.315531",
     "status": "completed"
    },
    "tags": []
   },
   "outputs": [
    {
     "data": {
      "text/html": [
       "<div>\n",
       "<style scoped>\n",
       "    .dataframe tbody tr th:only-of-type {\n",
       "        vertical-align: middle;\n",
       "    }\n",
       "\n",
       "    .dataframe tbody tr th {\n",
       "        vertical-align: top;\n",
       "    }\n",
       "\n",
       "    .dataframe thead th {\n",
       "        text-align: right;\n",
       "    }\n",
       "</style>\n",
       "<table border=\"1\" class=\"dataframe\">\n",
       "  <thead>\n",
       "    <tr style=\"text-align: right;\">\n",
       "      <th></th>\n",
       "      <th>age</th>\n",
       "      <th>workclass</th>\n",
       "      <th>fnlwgt</th>\n",
       "      <th>education</th>\n",
       "      <th>education-num</th>\n",
       "      <th>marital-status</th>\n",
       "      <th>occupation</th>\n",
       "      <th>relationship</th>\n",
       "      <th>race</th>\n",
       "      <th>sex</th>\n",
       "      <th>capital-gain</th>\n",
       "      <th>capital-loss</th>\n",
       "      <th>hours-per-week</th>\n",
       "      <th>native-country</th>\n",
       "      <th>salary</th>\n",
       "    </tr>\n",
       "  </thead>\n",
       "  <tbody>\n",
       "    <tr>\n",
       "      <th>0</th>\n",
       "      <td>39</td>\n",
       "      <td>State-gov</td>\n",
       "      <td>77516</td>\n",
       "      <td>Bachelors</td>\n",
       "      <td>13</td>\n",
       "      <td>Never-married</td>\n",
       "      <td>Adm-clerical</td>\n",
       "      <td>Not-in-family</td>\n",
       "      <td>White</td>\n",
       "      <td>Male</td>\n",
       "      <td>2174</td>\n",
       "      <td>0</td>\n",
       "      <td>40</td>\n",
       "      <td>United-States</td>\n",
       "      <td>&lt;=80K</td>\n",
       "    </tr>\n",
       "    <tr>\n",
       "      <th>1</th>\n",
       "      <td>50</td>\n",
       "      <td>Self-emp-not-inc</td>\n",
       "      <td>83311</td>\n",
       "      <td>Bachelors</td>\n",
       "      <td>13</td>\n",
       "      <td>Married-civ-spouse</td>\n",
       "      <td>Exec-managerial</td>\n",
       "      <td>Husband</td>\n",
       "      <td>White</td>\n",
       "      <td>Male</td>\n",
       "      <td>0</td>\n",
       "      <td>0</td>\n",
       "      <td>13</td>\n",
       "      <td>United-States</td>\n",
       "      <td>&lt;=80K</td>\n",
       "    </tr>\n",
       "    <tr>\n",
       "      <th>2</th>\n",
       "      <td>38</td>\n",
       "      <td>Private</td>\n",
       "      <td>215646</td>\n",
       "      <td>HS-grad</td>\n",
       "      <td>9</td>\n",
       "      <td>Divorced</td>\n",
       "      <td>Handlers-cleaners</td>\n",
       "      <td>Not-in-family</td>\n",
       "      <td>White</td>\n",
       "      <td>Male</td>\n",
       "      <td>0</td>\n",
       "      <td>0</td>\n",
       "      <td>40</td>\n",
       "      <td>United-States</td>\n",
       "      <td>&lt;=80K</td>\n",
       "    </tr>\n",
       "    <tr>\n",
       "      <th>3</th>\n",
       "      <td>53</td>\n",
       "      <td>Private</td>\n",
       "      <td>234721</td>\n",
       "      <td>11th</td>\n",
       "      <td>7</td>\n",
       "      <td>Married-civ-spouse</td>\n",
       "      <td>Handlers-cleaners</td>\n",
       "      <td>Husband</td>\n",
       "      <td>Black</td>\n",
       "      <td>Male</td>\n",
       "      <td>0</td>\n",
       "      <td>0</td>\n",
       "      <td>40</td>\n",
       "      <td>United-States</td>\n",
       "      <td>&lt;=80K</td>\n",
       "    </tr>\n",
       "    <tr>\n",
       "      <th>4</th>\n",
       "      <td>28</td>\n",
       "      <td>Private</td>\n",
       "      <td>338409</td>\n",
       "      <td>Bachelors</td>\n",
       "      <td>13</td>\n",
       "      <td>Married-civ-spouse</td>\n",
       "      <td>Prof-specialty</td>\n",
       "      <td>Wife</td>\n",
       "      <td>Black</td>\n",
       "      <td>Female</td>\n",
       "      <td>0</td>\n",
       "      <td>0</td>\n",
       "      <td>40</td>\n",
       "      <td>Cuba</td>\n",
       "      <td>&lt;=80K</td>\n",
       "    </tr>\n",
       "  </tbody>\n",
       "</table>\n",
       "</div>"
      ],
      "text/plain": [
       "   age         workclass  fnlwgt  education  education-num  \\\n",
       "0   39         State-gov   77516  Bachelors             13   \n",
       "1   50  Self-emp-not-inc   83311  Bachelors             13   \n",
       "2   38           Private  215646    HS-grad              9   \n",
       "3   53           Private  234721       11th              7   \n",
       "4   28           Private  338409  Bachelors             13   \n",
       "\n",
       "       marital-status         occupation   relationship   race     sex  \\\n",
       "0       Never-married       Adm-clerical  Not-in-family  White    Male   \n",
       "1  Married-civ-spouse    Exec-managerial        Husband  White    Male   \n",
       "2            Divorced  Handlers-cleaners  Not-in-family  White    Male   \n",
       "3  Married-civ-spouse  Handlers-cleaners        Husband  Black    Male   \n",
       "4  Married-civ-spouse     Prof-specialty           Wife  Black  Female   \n",
       "\n",
       "   capital-gain  capital-loss  hours-per-week native-country salary  \n",
       "0          2174             0              40  United-States  <=80K  \n",
       "1             0             0              13  United-States  <=80K  \n",
       "2             0             0              40  United-States  <=80K  \n",
       "3             0             0              40  United-States  <=80K  \n",
       "4             0             0              40           Cuba  <=80K  "
      ]
     },
     "execution_count": 4,
     "metadata": {},
     "output_type": "execute_result"
    }
   ],
   "source": [
    "df = pd.read_csv(\"/kaggle/input/adult-income-modified/adult_income_modified.csv\")\n",
    "df.head()"
   ]
  },
  {
   "cell_type": "code",
   "execution_count": 5,
   "id": "bf0202ba",
   "metadata": {
    "execution": {
     "iopub.execute_input": "2023-04-13T20:11:41.521353Z",
     "iopub.status.busy": "2023-04-13T20:11:41.520915Z",
     "iopub.status.idle": "2023-04-13T20:11:41.535679Z",
     "shell.execute_reply": "2023-04-13T20:11:41.534301Z"
    },
    "papermill": {
     "duration": 0.02997,
     "end_time": "2023-04-13T20:11:41.538359",
     "exception": false,
     "start_time": "2023-04-13T20:11:41.508389",
     "status": "completed"
    },
    "tags": []
   },
   "outputs": [
    {
     "data": {
      "text/plain": [
       "array(['<=80K', '>80K'], dtype=object)"
      ]
     },
     "execution_count": 5,
     "metadata": {},
     "output_type": "execute_result"
    }
   ],
   "source": [
    "df.salary.unique()"
   ]
  },
  {
   "cell_type": "code",
   "execution_count": 6,
   "id": "603190ff",
   "metadata": {
    "execution": {
     "iopub.execute_input": "2023-04-13T20:11:41.563131Z",
     "iopub.status.busy": "2023-04-13T20:11:41.562070Z",
     "iopub.status.idle": "2023-04-13T20:11:41.572837Z",
     "shell.execute_reply": "2023-04-13T20:11:41.571610Z"
    },
    "papermill": {
     "duration": 0.025807,
     "end_time": "2023-04-13T20:11:41.575262",
     "exception": false,
     "start_time": "2023-04-13T20:11:41.549455",
     "status": "completed"
    },
    "tags": []
   },
   "outputs": [
    {
     "data": {
      "text/plain": [
       "array(['State-gov', 'Self-emp-not-inc', 'Private', 'Federal-gov',\n",
       "       'Local-gov', '?', 'Self-emp-inc', 'Without-pay', 'Never-worked'],\n",
       "      dtype=object)"
      ]
     },
     "execution_count": 6,
     "metadata": {},
     "output_type": "execute_result"
    }
   ],
   "source": [
    "df.workclass.unique()"
   ]
  },
  {
   "cell_type": "code",
   "execution_count": 7,
   "id": "45ec9ea8",
   "metadata": {
    "execution": {
     "iopub.execute_input": "2023-04-13T20:11:41.599438Z",
     "iopub.status.busy": "2023-04-13T20:11:41.598636Z",
     "iopub.status.idle": "2023-04-13T20:11:41.608651Z",
     "shell.execute_reply": "2023-04-13T20:11:41.607456Z"
    },
    "papermill": {
     "duration": 0.025016,
     "end_time": "2023-04-13T20:11:41.611260",
     "exception": false,
     "start_time": "2023-04-13T20:11:41.586244",
     "status": "completed"
    },
    "tags": []
   },
   "outputs": [
    {
     "data": {
      "text/plain": [
       "array(['Bachelors', 'HS-grad', '11th', 'Masters', '9th', 'Some-college',\n",
       "       'Assoc-acdm', 'Assoc-voc', '7th-8th', 'Doctorate', 'Prof-school',\n",
       "       '5th-6th', '10th', '1st-4th', 'Preschool', '12th'], dtype=object)"
      ]
     },
     "execution_count": 7,
     "metadata": {},
     "output_type": "execute_result"
    }
   ],
   "source": [
    "df.education.unique()"
   ]
  },
  {
   "cell_type": "markdown",
   "id": "7c318b93",
   "metadata": {
    "papermill": {
     "duration": 0.010812,
     "end_time": "2023-04-13T20:11:41.633293",
     "exception": false,
     "start_time": "2023-04-13T20:11:41.622481",
     "status": "completed"
    },
    "tags": []
   },
   "source": [
    "### Need to replace ?"
   ]
  },
  {
   "cell_type": "code",
   "execution_count": 8,
   "id": "ce2f6334",
   "metadata": {
    "execution": {
     "iopub.execute_input": "2023-04-13T20:11:41.657910Z",
     "iopub.status.busy": "2023-04-13T20:11:41.656770Z",
     "iopub.status.idle": "2023-04-13T20:11:41.666654Z",
     "shell.execute_reply": "2023-04-13T20:11:41.665763Z"
    },
    "papermill": {
     "duration": 0.024517,
     "end_time": "2023-04-13T20:11:41.668888",
     "exception": false,
     "start_time": "2023-04-13T20:11:41.644371",
     "status": "completed"
    },
    "tags": []
   },
   "outputs": [
    {
     "data": {
      "text/plain": [
       "array(['Never-married', 'Married-civ-spouse', 'Divorced',\n",
       "       'Married-spouse-absent', 'Separated', 'Married-AF-spouse',\n",
       "       'Widowed'], dtype=object)"
      ]
     },
     "execution_count": 8,
     "metadata": {},
     "output_type": "execute_result"
    }
   ],
   "source": [
    "df['marital-status'].unique()"
   ]
  },
  {
   "cell_type": "markdown",
   "id": "a2ada689",
   "metadata": {
    "papermill": {
     "duration": 0.010803,
     "end_time": "2023-04-13T20:11:41.690876",
     "exception": false,
     "start_time": "2023-04-13T20:11:41.680073",
     "status": "completed"
    },
    "tags": []
   },
   "source": [
    "### Your task is to try different Ensemble Models to predict whether a people will earn <= 80K or > 80K"
   ]
  },
  {
   "cell_type": "markdown",
   "id": "abf9268b",
   "metadata": {
    "papermill": {
     "duration": 0.010843,
     "end_time": "2023-04-13T20:11:41.712880",
     "exception": false,
     "start_time": "2023-04-13T20:11:41.702037",
     "status": "completed"
    },
    "tags": []
   },
   "source": [
    "### Make sure your work include the following steps"
   ]
  },
  {
   "cell_type": "markdown",
   "id": "9ba8d0ae",
   "metadata": {
    "papermill": {
     "duration": 0.010853,
     "end_time": "2023-04-13T20:11:41.734861",
     "exception": false,
     "start_time": "2023-04-13T20:11:41.724008",
     "status": "completed"
    },
    "tags": []
   },
   "source": [
    "* EDA (chekcing missing values, removing outliers)\n",
    "* separated data set into training and testing\n",
    "* performed cross-validations\n",
    "* Build a base model using LogisticRegression and only a smaller set of features (say only numerical features)\n",
    "* Try different ensemble methods, including VotingClassifier (soft and hard voting), BaggingClassifier, AdaBoostClassifier, GradientBoostClassifier and xgb with the same set of features\n",
    "* Comment on your experience in these various models, in particular compare this with the basic LogisticRegression\n",
    "* Out of all these ensemble model, pick the best model, add additional featrues (eg categorical features)\n",
    "* Comment on the final best model you find"
   ]
  },
  {
   "cell_type": "markdown",
   "id": "fd598689",
   "metadata": {
    "papermill": {
     "duration": 0.010835,
     "end_time": "2023-04-13T20:11:41.756756",
     "exception": false,
     "start_time": "2023-04-13T20:11:41.745921",
     "status": "completed"
    },
    "tags": []
   },
   "source": [
    "### Good Luck !!!"
   ]
  },
  {
   "cell_type": "markdown",
   "id": "e148a48c",
   "metadata": {
    "papermill": {
     "duration": 0.010812,
     "end_time": "2023-04-13T20:11:41.778685",
     "exception": false,
     "start_time": "2023-04-13T20:11:41.767873",
     "status": "completed"
    },
    "tags": []
   },
   "source": [
    "Show all your work below"
   ]
  },
  {
   "cell_type": "markdown",
   "id": "45d8bbf3",
   "metadata": {
    "papermill": {
     "duration": 0.011174,
     "end_time": "2023-04-13T20:11:41.801001",
     "exception": false,
     "start_time": "2023-04-13T20:11:41.789827",
     "status": "completed"
    },
    "tags": []
   },
   "source": [
    "### EDA"
   ]
  },
  {
   "cell_type": "code",
   "execution_count": 9,
   "id": "fe71aabb",
   "metadata": {
    "execution": {
     "iopub.execute_input": "2023-04-13T20:11:41.825496Z",
     "iopub.status.busy": "2023-04-13T20:11:41.825047Z",
     "iopub.status.idle": "2023-04-13T20:11:41.866824Z",
     "shell.execute_reply": "2023-04-13T20:11:41.865666Z"
    },
    "papermill": {
     "duration": 0.057137,
     "end_time": "2023-04-13T20:11:41.869437",
     "exception": false,
     "start_time": "2023-04-13T20:11:41.812300",
     "status": "completed"
    },
    "tags": []
   },
   "outputs": [
    {
     "data": {
      "text/html": [
       "<div>\n",
       "<style scoped>\n",
       "    .dataframe tbody tr th:only-of-type {\n",
       "        vertical-align: middle;\n",
       "    }\n",
       "\n",
       "    .dataframe tbody tr th {\n",
       "        vertical-align: top;\n",
       "    }\n",
       "\n",
       "    .dataframe thead th {\n",
       "        text-align: right;\n",
       "    }\n",
       "</style>\n",
       "<table border=\"1\" class=\"dataframe\">\n",
       "  <thead>\n",
       "    <tr style=\"text-align: right;\">\n",
       "      <th></th>\n",
       "      <th>age</th>\n",
       "      <th>fnlwgt</th>\n",
       "      <th>education-num</th>\n",
       "      <th>capital-gain</th>\n",
       "      <th>capital-loss</th>\n",
       "      <th>hours-per-week</th>\n",
       "    </tr>\n",
       "  </thead>\n",
       "  <tbody>\n",
       "    <tr>\n",
       "      <th>count</th>\n",
       "      <td>32571.000000</td>\n",
       "      <td>3.257100e+04</td>\n",
       "      <td>32571.000000</td>\n",
       "      <td>32571.000000</td>\n",
       "      <td>32571.000000</td>\n",
       "      <td>32571.000000</td>\n",
       "    </tr>\n",
       "    <tr>\n",
       "      <th>mean</th>\n",
       "      <td>38.599153</td>\n",
       "      <td>1.898091e+05</td>\n",
       "      <td>10.080747</td>\n",
       "      <td>1077.317982</td>\n",
       "      <td>87.435357</td>\n",
       "      <td>40.452151</td>\n",
       "    </tr>\n",
       "    <tr>\n",
       "      <th>std</th>\n",
       "      <td>13.744795</td>\n",
       "      <td>1.055927e+05</td>\n",
       "      <td>2.572484</td>\n",
       "      <td>7384.182377</td>\n",
       "      <td>403.204587</td>\n",
       "      <td>12.441330</td>\n",
       "    </tr>\n",
       "    <tr>\n",
       "      <th>min</th>\n",
       "      <td>0.000000</td>\n",
       "      <td>1.228500e+04</td>\n",
       "      <td>1.000000</td>\n",
       "      <td>0.000000</td>\n",
       "      <td>0.000000</td>\n",
       "      <td>1.000000</td>\n",
       "    </tr>\n",
       "    <tr>\n",
       "      <th>25%</th>\n",
       "      <td>28.000000</td>\n",
       "      <td>1.178215e+05</td>\n",
       "      <td>9.000000</td>\n",
       "      <td>0.000000</td>\n",
       "      <td>0.000000</td>\n",
       "      <td>40.000000</td>\n",
       "    </tr>\n",
       "    <tr>\n",
       "      <th>50%</th>\n",
       "      <td>37.000000</td>\n",
       "      <td>1.783830e+05</td>\n",
       "      <td>10.000000</td>\n",
       "      <td>0.000000</td>\n",
       "      <td>0.000000</td>\n",
       "      <td>40.000000</td>\n",
       "    </tr>\n",
       "    <tr>\n",
       "      <th>75%</th>\n",
       "      <td>48.000000</td>\n",
       "      <td>2.371095e+05</td>\n",
       "      <td>12.000000</td>\n",
       "      <td>0.000000</td>\n",
       "      <td>0.000000</td>\n",
       "      <td>45.000000</td>\n",
       "    </tr>\n",
       "    <tr>\n",
       "      <th>max</th>\n",
       "      <td>250.000000</td>\n",
       "      <td>1.484705e+06</td>\n",
       "      <td>16.000000</td>\n",
       "      <td>99999.000000</td>\n",
       "      <td>4356.000000</td>\n",
       "      <td>202.000000</td>\n",
       "    </tr>\n",
       "  </tbody>\n",
       "</table>\n",
       "</div>"
      ],
      "text/plain": [
       "                age        fnlwgt  education-num  capital-gain  capital-loss  \\\n",
       "count  32571.000000  3.257100e+04   32571.000000  32571.000000  32571.000000   \n",
       "mean      38.599153  1.898091e+05      10.080747   1077.317982     87.435357   \n",
       "std       13.744795  1.055927e+05       2.572484   7384.182377    403.204587   \n",
       "min        0.000000  1.228500e+04       1.000000      0.000000      0.000000   \n",
       "25%       28.000000  1.178215e+05       9.000000      0.000000      0.000000   \n",
       "50%       37.000000  1.783830e+05      10.000000      0.000000      0.000000   \n",
       "75%       48.000000  2.371095e+05      12.000000      0.000000      0.000000   \n",
       "max      250.000000  1.484705e+06      16.000000  99999.000000   4356.000000   \n",
       "\n",
       "       hours-per-week  \n",
       "count    32571.000000  \n",
       "mean        40.452151  \n",
       "std         12.441330  \n",
       "min          1.000000  \n",
       "25%         40.000000  \n",
       "50%         40.000000  \n",
       "75%         45.000000  \n",
       "max        202.000000  "
      ]
     },
     "execution_count": 9,
     "metadata": {},
     "output_type": "execute_result"
    }
   ],
   "source": [
    "df.describe()"
   ]
  },
  {
   "cell_type": "code",
   "execution_count": 10,
   "id": "2009cb5a",
   "metadata": {
    "execution": {
     "iopub.execute_input": "2023-04-13T20:11:41.895589Z",
     "iopub.status.busy": "2023-04-13T20:11:41.894836Z",
     "iopub.status.idle": "2023-04-13T20:11:41.919619Z",
     "shell.execute_reply": "2023-04-13T20:11:41.918387Z"
    },
    "papermill": {
     "duration": 0.040249,
     "end_time": "2023-04-13T20:11:41.921987",
     "exception": false,
     "start_time": "2023-04-13T20:11:41.881738",
     "status": "completed"
    },
    "tags": []
   },
   "outputs": [
    {
     "data": {
      "text/plain": [
       "age               False\n",
       "workclass         False\n",
       "fnlwgt            False\n",
       "education         False\n",
       "education-num     False\n",
       "marital-status    False\n",
       "occupation        False\n",
       "relationship      False\n",
       "race              False\n",
       "sex               False\n",
       "capital-gain      False\n",
       "capital-loss      False\n",
       "hours-per-week    False\n",
       "native-country    False\n",
       "salary            False\n",
       "dtype: bool"
      ]
     },
     "execution_count": 10,
     "metadata": {},
     "output_type": "execute_result"
    }
   ],
   "source": [
    "# remove data that are obviously wrong, no need to do it extensively, just use the above table as a hint\n",
    "df.isnull().any()"
   ]
  },
  {
   "cell_type": "code",
   "execution_count": 11,
   "id": "43c744d3",
   "metadata": {
    "execution": {
     "iopub.execute_input": "2023-04-13T20:11:41.947099Z",
     "iopub.status.busy": "2023-04-13T20:11:41.946667Z",
     "iopub.status.idle": "2023-04-13T20:11:41.953850Z",
     "shell.execute_reply": "2023-04-13T20:11:41.952781Z"
    },
    "papermill": {
     "duration": 0.022586,
     "end_time": "2023-04-13T20:11:41.956291",
     "exception": false,
     "start_time": "2023-04-13T20:11:41.933705",
     "status": "completed"
    },
    "tags": []
   },
   "outputs": [
    {
     "data": {
      "text/plain": [
       "Index(['age', 'workclass', 'fnlwgt', 'education', 'education-num',\n",
       "       'marital-status', 'occupation', 'relationship', 'race', 'sex',\n",
       "       'capital-gain', 'capital-loss', 'hours-per-week', 'native-country',\n",
       "       'salary'],\n",
       "      dtype='object')"
      ]
     },
     "execution_count": 11,
     "metadata": {},
     "output_type": "execute_result"
    }
   ],
   "source": [
    "# .... TODO age, hours per week\n",
    "df.columns"
   ]
  },
  {
   "cell_type": "code",
   "execution_count": 12,
   "id": "e47b274d",
   "metadata": {
    "execution": {
     "iopub.execute_input": "2023-04-13T20:11:41.981816Z",
     "iopub.status.busy": "2023-04-13T20:11:41.981386Z",
     "iopub.status.idle": "2023-04-13T20:11:42.912513Z",
     "shell.execute_reply": "2023-04-13T20:11:42.911302Z"
    },
    "papermill": {
     "duration": 0.947614,
     "end_time": "2023-04-13T20:11:42.915791",
     "exception": false,
     "start_time": "2023-04-13T20:11:41.968177",
     "status": "completed"
    },
    "tags": []
   },
   "outputs": [
    {
     "data": {
      "text/plain": [
       "26        0.0\n",
       "12608    17.0\n",
       "23667    17.0\n",
       "3240     17.0\n",
       "12293    17.0\n",
       "         ... \n",
       "17668    65.0\n",
       "12763    65.0\n",
       "12688    65.0\n",
       "1283     65.0\n",
       "13773    65.0\n",
       "Name: age, Length: 32571, dtype: float64"
      ]
     },
     "execution_count": 12,
     "metadata": {},
     "output_type": "execute_result"
    }
   ],
   "source": [
    "df.age = df.age.apply(lambda x: df.age.median() if x > 65 else x)\n",
    "df.age.sort_values()"
   ]
  },
  {
   "cell_type": "code",
   "execution_count": 13,
   "id": "0b60a3d0",
   "metadata": {
    "execution": {
     "iopub.execute_input": "2023-04-13T20:11:42.944371Z",
     "iopub.status.busy": "2023-04-13T20:11:42.943169Z",
     "iopub.status.idle": "2023-04-13T20:11:42.971320Z",
     "shell.execute_reply": "2023-04-13T20:11:42.970453Z"
    },
    "papermill": {
     "duration": 0.044287,
     "end_time": "2023-04-13T20:11:42.973903",
     "exception": false,
     "start_time": "2023-04-13T20:11:42.929616",
     "status": "completed"
    },
    "tags": []
   },
   "outputs": [
    {
     "data": {
      "text/plain": [
       "25085     1.0\n",
       "9148      1.0\n",
       "1263      1.0\n",
       "5767      1.0\n",
       "1037      1.0\n",
       "         ... \n",
       "10144    99.0\n",
       "21063    99.0\n",
       "29758    99.0\n",
       "25838    99.0\n",
       "14594    99.0\n",
       "Name: hours-per-week, Length: 32571, dtype: float64"
      ]
     },
     "execution_count": 13,
     "metadata": {},
     "output_type": "execute_result"
    }
   ],
   "source": [
    "df['hours-per-week'] = df['hours-per-week'].apply(lambda x: df['hours-per-week'].median() if x > 168 else x)\n",
    "df['hours-per-week'].sort_values()"
   ]
  },
  {
   "cell_type": "code",
   "execution_count": 14,
   "id": "4e3b555c",
   "metadata": {
    "execution": {
     "iopub.execute_input": "2023-04-13T20:11:43.000233Z",
     "iopub.status.busy": "2023-04-13T20:11:42.999219Z",
     "iopub.status.idle": "2023-04-13T20:11:43.034834Z",
     "shell.execute_reply": "2023-04-13T20:11:43.033679Z"
    },
    "papermill": {
     "duration": 0.051626,
     "end_time": "2023-04-13T20:11:43.037531",
     "exception": false,
     "start_time": "2023-04-13T20:11:42.985905",
     "status": "completed"
    },
    "tags": []
   },
   "outputs": [
    {
     "data": {
      "text/html": [
       "<div>\n",
       "<style scoped>\n",
       "    .dataframe tbody tr th:only-of-type {\n",
       "        vertical-align: middle;\n",
       "    }\n",
       "\n",
       "    .dataframe tbody tr th {\n",
       "        vertical-align: top;\n",
       "    }\n",
       "\n",
       "    .dataframe thead th {\n",
       "        text-align: right;\n",
       "    }\n",
       "</style>\n",
       "<table border=\"1\" class=\"dataframe\">\n",
       "  <thead>\n",
       "    <tr style=\"text-align: right;\">\n",
       "      <th></th>\n",
       "      <th>age</th>\n",
       "      <th>fnlwgt</th>\n",
       "      <th>education-num</th>\n",
       "      <th>capital-gain</th>\n",
       "      <th>capital-loss</th>\n",
       "      <th>hours-per-week</th>\n",
       "    </tr>\n",
       "  </thead>\n",
       "  <tbody>\n",
       "    <tr>\n",
       "      <th>count</th>\n",
       "      <td>32571.000000</td>\n",
       "      <td>3.257100e+04</td>\n",
       "      <td>32571.000000</td>\n",
       "      <td>32571.000000</td>\n",
       "      <td>32571.000000</td>\n",
       "      <td>32571.000000</td>\n",
       "    </tr>\n",
       "    <tr>\n",
       "      <th>mean</th>\n",
       "      <td>37.341408</td>\n",
       "      <td>1.898091e+05</td>\n",
       "      <td>10.080747</td>\n",
       "      <td>1077.317982</td>\n",
       "      <td>87.435357</td>\n",
       "      <td>40.437322</td>\n",
       "    </tr>\n",
       "    <tr>\n",
       "      <th>std</th>\n",
       "      <td>12.009230</td>\n",
       "      <td>1.055927e+05</td>\n",
       "      <td>2.572484</td>\n",
       "      <td>7384.182377</td>\n",
       "      <td>403.204587</td>\n",
       "      <td>12.345535</td>\n",
       "    </tr>\n",
       "    <tr>\n",
       "      <th>min</th>\n",
       "      <td>0.000000</td>\n",
       "      <td>1.228500e+04</td>\n",
       "      <td>1.000000</td>\n",
       "      <td>0.000000</td>\n",
       "      <td>0.000000</td>\n",
       "      <td>1.000000</td>\n",
       "    </tr>\n",
       "    <tr>\n",
       "      <th>25%</th>\n",
       "      <td>28.000000</td>\n",
       "      <td>1.178215e+05</td>\n",
       "      <td>9.000000</td>\n",
       "      <td>0.000000</td>\n",
       "      <td>0.000000</td>\n",
       "      <td>40.000000</td>\n",
       "    </tr>\n",
       "    <tr>\n",
       "      <th>50%</th>\n",
       "      <td>37.000000</td>\n",
       "      <td>1.783830e+05</td>\n",
       "      <td>10.000000</td>\n",
       "      <td>0.000000</td>\n",
       "      <td>0.000000</td>\n",
       "      <td>40.000000</td>\n",
       "    </tr>\n",
       "    <tr>\n",
       "      <th>75%</th>\n",
       "      <td>46.000000</td>\n",
       "      <td>2.371095e+05</td>\n",
       "      <td>12.000000</td>\n",
       "      <td>0.000000</td>\n",
       "      <td>0.000000</td>\n",
       "      <td>45.000000</td>\n",
       "    </tr>\n",
       "    <tr>\n",
       "      <th>max</th>\n",
       "      <td>65.000000</td>\n",
       "      <td>1.484705e+06</td>\n",
       "      <td>16.000000</td>\n",
       "      <td>99999.000000</td>\n",
       "      <td>4356.000000</td>\n",
       "      <td>99.000000</td>\n",
       "    </tr>\n",
       "  </tbody>\n",
       "</table>\n",
       "</div>"
      ],
      "text/plain": [
       "                age        fnlwgt  education-num  capital-gain  capital-loss  \\\n",
       "count  32571.000000  3.257100e+04   32571.000000  32571.000000  32571.000000   \n",
       "mean      37.341408  1.898091e+05      10.080747   1077.317982     87.435357   \n",
       "std       12.009230  1.055927e+05       2.572484   7384.182377    403.204587   \n",
       "min        0.000000  1.228500e+04       1.000000      0.000000      0.000000   \n",
       "25%       28.000000  1.178215e+05       9.000000      0.000000      0.000000   \n",
       "50%       37.000000  1.783830e+05      10.000000      0.000000      0.000000   \n",
       "75%       46.000000  2.371095e+05      12.000000      0.000000      0.000000   \n",
       "max       65.000000  1.484705e+06      16.000000  99999.000000   4356.000000   \n",
       "\n",
       "       hours-per-week  \n",
       "count    32571.000000  \n",
       "mean        40.437322  \n",
       "std         12.345535  \n",
       "min          1.000000  \n",
       "25%         40.000000  \n",
       "50%         40.000000  \n",
       "75%         45.000000  \n",
       "max         99.000000  "
      ]
     },
     "execution_count": 14,
     "metadata": {},
     "output_type": "execute_result"
    }
   ],
   "source": [
    "df.describe()"
   ]
  },
  {
   "cell_type": "code",
   "execution_count": 15,
   "id": "47f0d7d2",
   "metadata": {
    "execution": {
     "iopub.execute_input": "2023-04-13T20:11:43.065247Z",
     "iopub.status.busy": "2023-04-13T20:11:43.064499Z",
     "iopub.status.idle": "2023-04-13T20:11:43.073511Z",
     "shell.execute_reply": "2023-04-13T20:11:43.072625Z"
    },
    "papermill": {
     "duration": 0.02595,
     "end_time": "2023-04-13T20:11:43.075829",
     "exception": false,
     "start_time": "2023-04-13T20:11:43.049879",
     "status": "completed"
    },
    "tags": []
   },
   "outputs": [
    {
     "data": {
      "text/plain": [
       "array(['<=80K', '>80K'], dtype=object)"
      ]
     },
     "execution_count": 15,
     "metadata": {},
     "output_type": "execute_result"
    }
   ],
   "source": [
    "df['salary'].unique()"
   ]
  },
  {
   "cell_type": "code",
   "execution_count": 16,
   "id": "97c7406f",
   "metadata": {
    "execution": {
     "iopub.execute_input": "2023-04-13T20:11:43.102368Z",
     "iopub.status.busy": "2023-04-13T20:11:43.101896Z",
     "iopub.status.idle": "2023-04-13T20:11:43.343108Z",
     "shell.execute_reply": "2023-04-13T20:11:43.342265Z"
    },
    "papermill": {
     "duration": 0.257439,
     "end_time": "2023-04-13T20:11:43.345624",
     "exception": false,
     "start_time": "2023-04-13T20:11:43.088185",
     "status": "completed"
    },
    "tags": []
   },
   "outputs": [
    {
     "data": {
      "text/plain": [
       "<AxesSubplot:xlabel='salary', ylabel='count'>"
      ]
     },
     "execution_count": 16,
     "metadata": {},
     "output_type": "execute_result"
    },
    {
     "data": {
      "image/png": "[encoded data removed]",
      "text/plain": [
       "<Figure size 640x480 with 1 Axes>"
      ]
     },
     "metadata": {},
     "output_type": "display_data"
    }
   ],
   "source": [
    "# df['salary'] = df['salary'].apply(lambda x: 0 if x == '<=80K' else 1)\n",
    "sns.countplot(x='salary',data=df)"
   ]
  },
  {
   "cell_type": "code",
   "execution_count": 17,
   "id": "d1ab374d",
   "metadata": {
    "execution": {
     "iopub.execute_input": "2023-04-13T20:11:43.373254Z",
     "iopub.status.busy": "2023-04-13T20:11:43.372844Z",
     "iopub.status.idle": "2023-04-13T20:11:43.379409Z",
     "shell.execute_reply": "2023-04-13T20:11:43.378120Z"
    },
    "papermill": {
     "duration": 0.023538,
     "end_time": "2023-04-13T20:11:43.381923",
     "exception": false,
     "start_time": "2023-04-13T20:11:43.358385",
     "status": "completed"
    },
    "tags": []
   },
   "outputs": [],
   "source": [
    "numerical_features = ['age','fnlwgt','capital-gain','capital-loss','hours-per-week']\n",
    "ndf = df[numerical_features]"
   ]
  },
  {
   "cell_type": "code",
   "execution_count": 18,
   "id": "7df01371",
   "metadata": {
    "execution": {
     "iopub.execute_input": "2023-04-13T20:11:43.409259Z",
     "iopub.status.busy": "2023-04-13T20:11:43.408848Z",
     "iopub.status.idle": "2023-04-13T20:11:43.437051Z",
     "shell.execute_reply": "2023-04-13T20:11:43.435909Z"
    },
    "papermill": {
     "duration": 0.044991,
     "end_time": "2023-04-13T20:11:43.439680",
     "exception": false,
     "start_time": "2023-04-13T20:11:43.394689",
     "status": "completed"
    },
    "tags": []
   },
   "outputs": [],
   "source": [
    "df['salary'] = df['salary'].apply(lambda x: 0 if x == '<=80K' else 1)\n",
    "X_train, X_test, y_train, y_test = train_test_split(ndf, \n",
    "                                                    df['salary'], test_size=0.20, \n",
    "                                                    random_state=100)"
   ]
  },
  {
   "cell_type": "code",
   "execution_count": 19,
   "id": "ab4871ed",
   "metadata": {
    "execution": {
     "iopub.execute_input": "2023-04-13T20:11:43.467020Z",
     "iopub.status.busy": "2023-04-13T20:11:43.466632Z",
     "iopub.status.idle": "2023-04-13T20:11:43.475145Z",
     "shell.execute_reply": "2023-04-13T20:11:43.474110Z"
    },
    "papermill": {
     "duration": 0.025022,
     "end_time": "2023-04-13T20:11:43.477429",
     "exception": false,
     "start_time": "2023-04-13T20:11:43.452407",
     "status": "completed"
    },
    "tags": []
   },
   "outputs": [
    {
     "data": {
      "text/plain": [
       "array([0, 1])"
      ]
     },
     "execution_count": 19,
     "metadata": {},
     "output_type": "execute_result"
    }
   ],
   "source": [
    "df.salary.unique()"
   ]
  },
  {
   "cell_type": "markdown",
   "id": "e4846a89",
   "metadata": {
    "papermill": {
     "duration": 0.012527,
     "end_time": "2023-04-13T20:11:43.502685",
     "exception": false,
     "start_time": "2023-04-13T20:11:43.490158",
     "status": "completed"
    },
    "tags": []
   },
   "source": [
    "### Before you try any more advance models, let's try a LogisticRegression model"
   ]
  },
  {
   "cell_type": "code",
   "execution_count": 20,
   "id": "5717c84c",
   "metadata": {
    "execution": {
     "iopub.execute_input": "2023-04-13T20:11:43.532392Z",
     "iopub.status.busy": "2023-04-13T20:11:43.531933Z",
     "iopub.status.idle": "2023-04-13T20:11:43.777148Z",
     "shell.execute_reply": "2023-04-13T20:11:43.775510Z"
    },
    "papermill": {
     "duration": 0.264179,
     "end_time": "2023-04-13T20:11:43.781674",
     "exception": false,
     "start_time": "2023-04-13T20:11:43.517495",
     "status": "completed"
    },
    "tags": []
   },
   "outputs": [
    {
     "data": {
      "text/plain": [
       "LogisticRegression(random_state=100)"
      ]
     },
     "execution_count": 20,
     "metadata": {},
     "output_type": "execute_result"
    }
   ],
   "source": [
    "model = LogisticRegression(random_state=100) # random_state=100\n",
    "model.fit(X_train,y_train)"
   ]
  },
  {
   "cell_type": "code",
   "execution_count": 21,
   "id": "8c9d5f3c",
   "metadata": {
    "execution": {
     "iopub.execute_input": "2023-04-13T20:11:43.852359Z",
     "iopub.status.busy": "2023-04-13T20:11:43.851482Z",
     "iopub.status.idle": "2023-04-13T20:11:43.867727Z",
     "shell.execute_reply": "2023-04-13T20:11:43.865922Z"
    },
    "papermill": {
     "duration": 0.057473,
     "end_time": "2023-04-13T20:11:43.873035",
     "exception": false,
     "start_time": "2023-04-13T20:11:43.815562",
     "status": "completed"
    },
    "tags": []
   },
   "outputs": [],
   "source": [
    "predictions = model.predict(X_test)"
   ]
  },
  {
   "cell_type": "code",
   "execution_count": 22,
   "id": "68fbe458",
   "metadata": {
    "execution": {
     "iopub.execute_input": "2023-04-13T20:11:43.945932Z",
     "iopub.status.busy": "2023-04-13T20:11:43.945190Z",
     "iopub.status.idle": "2023-04-13T20:11:43.985859Z",
     "shell.execute_reply": "2023-04-13T20:11:43.984063Z"
    },
    "papermill": {
     "duration": 0.079613,
     "end_time": "2023-04-13T20:11:43.988674",
     "exception": false,
     "start_time": "2023-04-13T20:11:43.909061",
     "status": "completed"
    },
    "tags": []
   },
   "outputs": [
    {
     "name": "stdout",
     "output_type": "stream",
     "text": [
      "              precision    recall  f1-score   support\n",
      "\n",
      "           0       0.80      0.97      0.87      4876\n",
      "           1       0.73      0.27      0.39      1639\n",
      "\n",
      "    accuracy                           0.79      6515\n",
      "   macro avg       0.76      0.62      0.63      6515\n",
      "weighted avg       0.78      0.79      0.75      6515\n",
      "\n",
      "0.7907904834996162\n"
     ]
    }
   ],
   "source": [
    "print(classification_report(y_test,predictions))\n",
    "print(accuracy_score(y_test, predictions))"
   ]
  },
  {
   "cell_type": "code",
   "execution_count": 23,
   "id": "44199c4b",
   "metadata": {
    "execution": {
     "iopub.execute_input": "2023-04-13T20:11:44.017604Z",
     "iopub.status.busy": "2023-04-13T20:11:44.016604Z",
     "iopub.status.idle": "2023-04-13T20:11:44.021801Z",
     "shell.execute_reply": "2023-04-13T20:11:44.020690Z"
    },
    "papermill": {
     "duration": 0.022354,
     "end_time": "2023-04-13T20:11:44.024228",
     "exception": false,
     "start_time": "2023-04-13T20:11:44.001874",
     "status": "completed"
    },
    "tags": []
   },
   "outputs": [],
   "source": [
    "from sklearn.ensemble import RandomForestClassifier, VotingClassifier, BaggingClassifier, AdaBoostClassifier\n",
    "from sklearn.tree import DecisionTreeClassifier"
   ]
  },
  {
   "cell_type": "code",
   "execution_count": 24,
   "id": "56a295e1",
   "metadata": {
    "execution": {
     "iopub.execute_input": "2023-04-13T20:11:44.052552Z",
     "iopub.status.busy": "2023-04-13T20:11:44.051850Z",
     "iopub.status.idle": "2023-04-13T20:11:46.224704Z",
     "shell.execute_reply": "2023-04-13T20:11:46.223395Z"
    },
    "papermill": {
     "duration": 2.189942,
     "end_time": "2023-04-13T20:11:46.227360",
     "exception": false,
     "start_time": "2023-04-13T20:11:44.037418",
     "status": "completed"
    },
    "tags": []
   },
   "outputs": [
    {
     "name": "stdout",
     "output_type": "stream",
     "text": [
      "              precision    recall  f1-score   support\n",
      "\n",
      "           0       0.80      0.98      0.88      4876\n",
      "           1       0.83      0.29      0.43      1639\n",
      "\n",
      "    accuracy                           0.81      6515\n",
      "   macro avg       0.82      0.63      0.66      6515\n",
      "weighted avg       0.81      0.81      0.77      6515\n",
      "\n",
      "0.8058326937835764\n"
     ]
    }
   ],
   "source": [
    "bag_clf = BaggingClassifier(\n",
    "    DecisionTreeClassifier(random_state=100), n_estimators=500,\n",
    "    max_samples=100, bootstrap=True, random_state=100)\n",
    "bag_clf.fit(X_train, y_train)\n",
    "y_pred = bag_clf.predict(X_test)\n",
    "\n",
    "print(classification_report(y_test, y_pred))\n",
    "print(accuracy_score(y_test, y_pred))"
   ]
  },
  {
   "cell_type": "code",
   "execution_count": 25,
   "id": "4243d8d3",
   "metadata": {
    "execution": {
     "iopub.execute_input": "2023-04-13T20:11:46.255735Z",
     "iopub.status.busy": "2023-04-13T20:11:46.255328Z",
     "iopub.status.idle": "2023-04-13T20:11:53.528558Z",
     "shell.execute_reply": "2023-04-13T20:11:53.527300Z"
    },
    "papermill": {
     "duration": 7.290731,
     "end_time": "2023-04-13T20:11:53.531250",
     "exception": false,
     "start_time": "2023-04-13T20:11:46.240519",
     "status": "completed"
    },
    "tags": []
   },
   "outputs": [
    {
     "name": "stdout",
     "output_type": "stream",
     "text": [
      "              precision    recall  f1-score   support\n",
      "\n",
      "           0       0.83      0.94      0.88      4876\n",
      "           1       0.71      0.41      0.52      1639\n",
      "\n",
      "    accuracy                           0.81      6515\n",
      "   macro avg       0.77      0.68      0.70      6515\n",
      "weighted avg       0.80      0.81      0.79      6515\n",
      "\n",
      "0.8104374520337683\n"
     ]
    }
   ],
   "source": [
    "ada_clf = AdaBoostClassifier(DecisionTreeClassifier(max_depth=4), n_estimators=200, \n",
    "                             learning_rate=0.5, random_state=100)\n",
    "ada_clf.fit(X_train, y_train)\n",
    "\n",
    "y_pred = ada_clf.predict(X_test)\n",
    "\n",
    "print(classification_report(y_test, y_pred))\n",
    "print(accuracy_score(y_test, y_pred))"
   ]
  },
  {
   "cell_type": "code",
   "execution_count": 26,
   "id": "4d7f776d",
   "metadata": {
    "execution": {
     "iopub.execute_input": "2023-04-13T20:11:53.559534Z",
     "iopub.status.busy": "2023-04-13T20:11:53.559101Z",
     "iopub.status.idle": "2023-04-13T20:11:55.609780Z",
     "shell.execute_reply": "2023-04-13T20:11:55.608532Z"
    },
    "papermill": {
     "duration": 2.068138,
     "end_time": "2023-04-13T20:11:55.612718",
     "exception": false,
     "start_time": "2023-04-13T20:11:53.544580",
     "status": "completed"
    },
    "tags": []
   },
   "outputs": [
    {
     "name": "stdout",
     "output_type": "stream",
     "text": [
      "              precision    recall  f1-score   support\n",
      "\n",
      "           0       0.82      0.97      0.89      4876\n",
      "           1       0.83      0.36      0.51      1639\n",
      "\n",
      "    accuracy                           0.82      6515\n",
      "   macro avg       0.82      0.67      0.70      6515\n",
      "weighted avg       0.82      0.82      0.79      6515\n",
      "\n",
      "0.8207214121258634\n"
     ]
    }
   ],
   "source": [
    "from sklearn.ensemble import GradientBoostingClassifier\n",
    "\n",
    "gb_clf = GradientBoostingClassifier(learning_rate=0.5, random_state=100)\n",
    "gb_clf.fit(X_train, y_train)\n",
    "\n",
    "y_pred = gb_clf.predict(X_test)\n",
    "\n",
    "print(classification_report(y_test, y_pred))\n",
    "print(accuracy_score(y_test, y_pred))"
   ]
  },
  {
   "cell_type": "code",
   "execution_count": 27,
   "id": "db724d61",
   "metadata": {
    "execution": {
     "iopub.execute_input": "2023-04-13T20:11:55.641933Z",
     "iopub.status.busy": "2023-04-13T20:11:55.641516Z",
     "iopub.status.idle": "2023-04-13T20:13:43.393447Z",
     "shell.execute_reply": "2023-04-13T20:13:43.392024Z"
    },
    "papermill": {
     "duration": 107.783418,
     "end_time": "2023-04-13T20:13:43.409789",
     "exception": false,
     "start_time": "2023-04-13T20:11:55.626371",
     "status": "completed"
    },
    "tags": []
   },
   "outputs": [
    {
     "name": "stdout",
     "output_type": "stream",
     "text": [
      "              precision    recall  f1-score   support\n",
      "\n",
      "           0       0.80      0.97      0.87      4876\n",
      "           1       0.73      0.27      0.39      1639\n",
      "\n",
      "    accuracy                           0.79      6515\n",
      "   macro avg       0.76      0.62      0.63      6515\n",
      "weighted avg       0.78      0.79      0.75      6515\n",
      "\n",
      "LogisticRegression 0.7907904834996162\n",
      "\n",
      "\n",
      "              precision    recall  f1-score   support\n",
      "\n",
      "           0       0.84      0.88      0.86      4876\n",
      "           1       0.57      0.49      0.53      1639\n",
      "\n",
      "    accuracy                           0.78      6515\n",
      "   macro avg       0.71      0.68      0.69      6515\n",
      "weighted avg       0.77      0.78      0.77      6515\n",
      "\n",
      "RandomForestClassifier 0.7805065234075211\n",
      "\n",
      "\n",
      "              precision    recall  f1-score   support\n",
      "\n",
      "           0       0.78      1.00      0.87      4876\n",
      "           1       0.97      0.15      0.27      1639\n",
      "\n",
      "    accuracy                           0.79      6515\n",
      "   macro avg       0.88      0.58      0.57      6515\n",
      "weighted avg       0.83      0.79      0.72      6515\n",
      "\n",
      "SVC 0.7863392171910975\n",
      "\n",
      "\n"
     ]
    }
   ],
   "source": [
    "from sklearn.svm import SVC\n",
    "from sklearn.ensemble import RandomForestClassifier\n",
    "\n",
    "# log_clf = LogisticRegression(random_state=100)\n",
    "rnd_clf = RandomForestClassifier(n_estimators=100, random_state=100)\n",
    "svm_clf = SVC(gamma=\"scale\", probability=True, random_state=100)\n",
    "\n",
    "for clf in (model, rnd_clf, svm_clf):\n",
    "    clf.fit(X_train, y_train)\n",
    "    y_pred = clf.predict(X_test)\n",
    "\n",
    "    print(classification_report(y_test, y_pred))\n",
    "    print(clf.__class__.__name__, accuracy_score(y_test, y_pred))\n",
    "    print('\\n')\n",
    "    \n"
   ]
  },
  {
   "cell_type": "code",
   "execution_count": 28,
   "id": "25e6c1c0",
   "metadata": {
    "execution": {
     "iopub.execute_input": "2023-04-13T20:13:43.439098Z",
     "iopub.status.busy": "2023-04-13T20:13:43.438663Z",
     "iopub.status.idle": "2023-04-13T20:15:30.307913Z",
     "shell.execute_reply": "2023-04-13T20:15:30.306470Z"
    },
    "papermill": {
     "duration": 106.899813,
     "end_time": "2023-04-13T20:15:30.323341",
     "exception": false,
     "start_time": "2023-04-13T20:13:43.423528",
     "status": "completed"
    },
    "tags": []
   },
   "outputs": [
    {
     "name": "stdout",
     "output_type": "stream",
     "text": [
      "              precision    recall  f1-score   support\n",
      "\n",
      "           0       0.80      1.00      0.89      4876\n",
      "           1       0.95      0.26      0.40      1639\n",
      "\n",
      "    accuracy                           0.81      6515\n",
      "   macro avg       0.87      0.63      0.64      6515\n",
      "weighted avg       0.84      0.81      0.76      6515\n",
      "\n",
      "VotingClassifier 0.8092095165003838\n"
     ]
    }
   ],
   "source": [
    "voting_clf = VotingClassifier(estimators=[('lr', model), ('rf', rnd_clf), ('svc', svm_clf)], voting='hard')\n",
    "voting_clf.fit(X_train, y_train)\n",
    "y_pred = voting_clf.predict(X_test)\n",
    "\n",
    "print(classification_report(y_test, y_pred))\n",
    "print(voting_clf.__class__.__name__, accuracy_score(y_test, y_pred))"
   ]
  },
  {
   "cell_type": "code",
   "execution_count": 29,
   "id": "b17d2894",
   "metadata": {
    "execution": {
     "iopub.execute_input": "2023-04-13T20:15:30.353138Z",
     "iopub.status.busy": "2023-04-13T20:15:30.352729Z",
     "iopub.status.idle": "2023-04-13T20:17:17.489895Z",
     "shell.execute_reply": "2023-04-13T20:17:17.488497Z"
    },
    "papermill": {
     "duration": 107.167541,
     "end_time": "2023-04-13T20:17:17.504567",
     "exception": false,
     "start_time": "2023-04-13T20:15:30.337026",
     "status": "completed"
    },
    "tags": []
   },
   "outputs": [
    {
     "name": "stdout",
     "output_type": "stream",
     "text": [
      "              precision    recall  f1-score   support\n",
      "\n",
      "           0       0.80      0.99      0.89      4876\n",
      "           1       0.92      0.28      0.43      1639\n",
      "\n",
      "    accuracy                           0.81      6515\n",
      "   macro avg       0.86      0.64      0.66      6515\n",
      "weighted avg       0.83      0.81      0.77      6515\n",
      "\n",
      "VotingClassifier 0.8139677666922487\n"
     ]
    }
   ],
   "source": [
    "voting_clf = VotingClassifier(estimators=[('lr', model), ('rf', rnd_clf), ('svc', svm_clf)], voting='soft')\n",
    "voting_clf.fit(X_train, y_train)\n",
    "y_pred = voting_clf.predict(X_test)\n",
    "\n",
    "print(classification_report(y_test, y_pred))\n",
    "print(voting_clf.__class__.__name__, accuracy_score(y_test, y_pred))"
   ]
  },
  {
   "cell_type": "code",
   "execution_count": 30,
   "id": "050e6f8d",
   "metadata": {
    "execution": {
     "iopub.execute_input": "2023-04-13T20:17:17.534005Z",
     "iopub.status.busy": "2023-04-13T20:17:17.533176Z",
     "iopub.status.idle": "2023-04-13T20:17:17.643626Z",
     "shell.execute_reply": "2023-04-13T20:17:17.642543Z"
    },
    "papermill": {
     "duration": 0.128396,
     "end_time": "2023-04-13T20:17:17.646454",
     "exception": false,
     "start_time": "2023-04-13T20:17:17.518058",
     "status": "completed"
    },
    "tags": []
   },
   "outputs": [],
   "source": [
    "try:\n",
    "    import xgboost as xgb\n",
    "except:\n",
    "    import os\n",
    "    os.system(\"pip install xgboost\")"
   ]
  },
  {
   "cell_type": "code",
   "execution_count": 31,
   "id": "433519f7",
   "metadata": {
    "execution": {
     "iopub.execute_input": "2023-04-13T20:17:17.677518Z",
     "iopub.status.busy": "2023-04-13T20:17:17.676637Z",
     "iopub.status.idle": "2023-04-13T20:17:19.341626Z",
     "shell.execute_reply": "2023-04-13T20:17:19.339907Z"
    },
    "papermill": {
     "duration": 1.683007,
     "end_time": "2023-04-13T20:17:19.344319",
     "exception": false,
     "start_time": "2023-04-13T20:17:17.661312",
     "status": "completed"
    },
    "tags": []
   },
   "outputs": [
    {
     "name": "stdout",
     "output_type": "stream",
     "text": [
      "              precision    recall  f1-score   support\n",
      "\n",
      "           0       0.81      0.99      0.89      4876\n",
      "           1       0.92      0.32      0.48      1639\n",
      "\n",
      "    accuracy                           0.82      6515\n",
      "   macro avg       0.87      0.66      0.69      6515\n",
      "weighted avg       0.84      0.82      0.79      6515\n",
      "\n",
      "0.8230237912509594\n"
     ]
    }
   ],
   "source": [
    "import xgboost as xgb\n",
    "xgb_clf = xgb.XGBClassifier(learning_rate=0.1, random_state=100, use_label_encoder=False)\n",
    "xgb_clf.fit(X_train, y_train)\n",
    "\n",
    "y_pred = xgb_clf.predict(X_test)\n",
    "\n",
    "print(classification_report(y_test, y_pred))\n",
    "print(accuracy_score(y_test, y_pred))"
   ]
  },
  {
   "cell_type": "code",
   "execution_count": 32,
   "id": "3f6ba4a6",
   "metadata": {
    "execution": {
     "iopub.execute_input": "2023-04-13T20:17:19.375610Z",
     "iopub.status.busy": "2023-04-13T20:17:19.373372Z",
     "iopub.status.idle": "2023-04-13T20:17:19.395178Z",
     "shell.execute_reply": "2023-04-13T20:17:19.393934Z"
    },
    "papermill": {
     "duration": 0.03958,
     "end_time": "2023-04-13T20:17:19.397684",
     "exception": false,
     "start_time": "2023-04-13T20:17:19.358104",
     "status": "completed"
    },
    "tags": []
   },
   "outputs": [
    {
     "data": {
      "text/html": [
       "<div>\n",
       "<style scoped>\n",
       "    .dataframe tbody tr th:only-of-type {\n",
       "        vertical-align: middle;\n",
       "    }\n",
       "\n",
       "    .dataframe tbody tr th {\n",
       "        vertical-align: top;\n",
       "    }\n",
       "\n",
       "    .dataframe thead th {\n",
       "        text-align: right;\n",
       "    }\n",
       "</style>\n",
       "<table border=\"1\" class=\"dataframe\">\n",
       "  <thead>\n",
       "    <tr style=\"text-align: right;\">\n",
       "      <th></th>\n",
       "      <th>age</th>\n",
       "      <th>workclass</th>\n",
       "      <th>fnlwgt</th>\n",
       "      <th>education</th>\n",
       "      <th>education-num</th>\n",
       "      <th>marital-status</th>\n",
       "      <th>occupation</th>\n",
       "      <th>relationship</th>\n",
       "      <th>race</th>\n",
       "      <th>sex</th>\n",
       "      <th>capital-gain</th>\n",
       "      <th>capital-loss</th>\n",
       "      <th>hours-per-week</th>\n",
       "      <th>native-country</th>\n",
       "      <th>salary</th>\n",
       "    </tr>\n",
       "  </thead>\n",
       "  <tbody>\n",
       "    <tr>\n",
       "      <th>0</th>\n",
       "      <td>39.0</td>\n",
       "      <td>State-gov</td>\n",
       "      <td>77516</td>\n",
       "      <td>Bachelors</td>\n",
       "      <td>13</td>\n",
       "      <td>Never-married</td>\n",
       "      <td>Adm-clerical</td>\n",
       "      <td>Not-in-family</td>\n",
       "      <td>White</td>\n",
       "      <td>Male</td>\n",
       "      <td>2174</td>\n",
       "      <td>0</td>\n",
       "      <td>40.0</td>\n",
       "      <td>United-States</td>\n",
       "      <td>0</td>\n",
       "    </tr>\n",
       "    <tr>\n",
       "      <th>1</th>\n",
       "      <td>50.0</td>\n",
       "      <td>Self-emp-not-inc</td>\n",
       "      <td>83311</td>\n",
       "      <td>Bachelors</td>\n",
       "      <td>13</td>\n",
       "      <td>Married-civ-spouse</td>\n",
       "      <td>Exec-managerial</td>\n",
       "      <td>Husband</td>\n",
       "      <td>White</td>\n",
       "      <td>Male</td>\n",
       "      <td>0</td>\n",
       "      <td>0</td>\n",
       "      <td>13.0</td>\n",
       "      <td>United-States</td>\n",
       "      <td>0</td>\n",
       "    </tr>\n",
       "    <tr>\n",
       "      <th>2</th>\n",
       "      <td>38.0</td>\n",
       "      <td>Private</td>\n",
       "      <td>215646</td>\n",
       "      <td>HS-grad</td>\n",
       "      <td>9</td>\n",
       "      <td>Divorced</td>\n",
       "      <td>Handlers-cleaners</td>\n",
       "      <td>Not-in-family</td>\n",
       "      <td>White</td>\n",
       "      <td>Male</td>\n",
       "      <td>0</td>\n",
       "      <td>0</td>\n",
       "      <td>40.0</td>\n",
       "      <td>United-States</td>\n",
       "      <td>0</td>\n",
       "    </tr>\n",
       "    <tr>\n",
       "      <th>3</th>\n",
       "      <td>53.0</td>\n",
       "      <td>Private</td>\n",
       "      <td>234721</td>\n",
       "      <td>11th</td>\n",
       "      <td>7</td>\n",
       "      <td>Married-civ-spouse</td>\n",
       "      <td>Handlers-cleaners</td>\n",
       "      <td>Husband</td>\n",
       "      <td>Black</td>\n",
       "      <td>Male</td>\n",
       "      <td>0</td>\n",
       "      <td>0</td>\n",
       "      <td>40.0</td>\n",
       "      <td>United-States</td>\n",
       "      <td>0</td>\n",
       "    </tr>\n",
       "    <tr>\n",
       "      <th>4</th>\n",
       "      <td>28.0</td>\n",
       "      <td>Private</td>\n",
       "      <td>338409</td>\n",
       "      <td>Bachelors</td>\n",
       "      <td>13</td>\n",
       "      <td>Married-civ-spouse</td>\n",
       "      <td>Prof-specialty</td>\n",
       "      <td>Wife</td>\n",
       "      <td>Black</td>\n",
       "      <td>Female</td>\n",
       "      <td>0</td>\n",
       "      <td>0</td>\n",
       "      <td>40.0</td>\n",
       "      <td>Cuba</td>\n",
       "      <td>0</td>\n",
       "    </tr>\n",
       "  </tbody>\n",
       "</table>\n",
       "</div>"
      ],
      "text/plain": [
       "    age         workclass  fnlwgt  education  education-num  \\\n",
       "0  39.0         State-gov   77516  Bachelors             13   \n",
       "1  50.0  Self-emp-not-inc   83311  Bachelors             13   \n",
       "2  38.0           Private  215646    HS-grad              9   \n",
       "3  53.0           Private  234721       11th              7   \n",
       "4  28.0           Private  338409  Bachelors             13   \n",
       "\n",
       "       marital-status         occupation   relationship   race     sex  \\\n",
       "0       Never-married       Adm-clerical  Not-in-family  White    Male   \n",
       "1  Married-civ-spouse    Exec-managerial        Husband  White    Male   \n",
       "2            Divorced  Handlers-cleaners  Not-in-family  White    Male   \n",
       "3  Married-civ-spouse  Handlers-cleaners        Husband  Black    Male   \n",
       "4  Married-civ-spouse     Prof-specialty           Wife  Black  Female   \n",
       "\n",
       "   capital-gain  capital-loss  hours-per-week native-country  salary  \n",
       "0          2174             0            40.0  United-States       0  \n",
       "1             0             0            13.0  United-States       0  \n",
       "2             0             0            40.0  United-States       0  \n",
       "3             0             0            40.0  United-States       0  \n",
       "4             0             0            40.0           Cuba       0  "
      ]
     },
     "execution_count": 32,
     "metadata": {},
     "output_type": "execute_result"
    }
   ],
   "source": [
    "df.head()"
   ]
  },
  {
   "cell_type": "code",
   "execution_count": 33,
   "id": "b574838f",
   "metadata": {
    "execution": {
     "iopub.execute_input": "2023-04-13T20:17:19.428315Z",
     "iopub.status.busy": "2023-04-13T20:17:19.427465Z",
     "iopub.status.idle": "2023-04-13T20:17:19.440663Z",
     "shell.execute_reply": "2023-04-13T20:17:19.439717Z"
    },
    "papermill": {
     "duration": 0.031146,
     "end_time": "2023-04-13T20:17:19.442916",
     "exception": false,
     "start_time": "2023-04-13T20:17:19.411770",
     "status": "completed"
    },
    "tags": []
   },
   "outputs": [
    {
     "data": {
      "text/plain": [
       "['workclass',\n",
       " 'education',\n",
       " 'marital-status',\n",
       " 'occupation',\n",
       " 'relationship',\n",
       " 'race',\n",
       " 'sex',\n",
       " 'native-country']"
      ]
     },
     "execution_count": 33,
     "metadata": {},
     "output_type": "execute_result"
    }
   ],
   "source": [
    "cat = df.select_dtypes(include=['object']).columns.tolist()\n",
    "cat"
   ]
  },
  {
   "cell_type": "code",
   "execution_count": 34,
   "id": "3bcd8344",
   "metadata": {
    "execution": {
     "iopub.execute_input": "2023-04-13T20:17:19.474018Z",
     "iopub.status.busy": "2023-04-13T20:17:19.472755Z",
     "iopub.status.idle": "2023-04-13T20:17:19.507659Z",
     "shell.execute_reply": "2023-04-13T20:17:19.506122Z"
    },
    "papermill": {
     "duration": 0.052953,
     "end_time": "2023-04-13T20:17:19.510129",
     "exception": false,
     "start_time": "2023-04-13T20:17:19.457176",
     "status": "completed"
    },
    "tags": []
   },
   "outputs": [
    {
     "data": {
      "text/plain": [
       "workclass          9\n",
       "education         16\n",
       "marital-status     7\n",
       "occupation        15\n",
       "relationship       6\n",
       "race               5\n",
       "sex                2\n",
       "native-country    42\n",
       "dtype: int64"
      ]
     },
     "execution_count": 34,
     "metadata": {},
     "output_type": "execute_result"
    }
   ],
   "source": [
    "df[cat].nunique()"
   ]
  },
  {
   "cell_type": "code",
   "execution_count": 35,
   "id": "6c8beb8b",
   "metadata": {
    "execution": {
     "iopub.execute_input": "2023-04-13T20:17:19.541151Z",
     "iopub.status.busy": "2023-04-13T20:17:19.540025Z",
     "iopub.status.idle": "2023-04-13T20:17:19.587993Z",
     "shell.execute_reply": "2023-04-13T20:17:19.586839Z"
    },
    "papermill": {
     "duration": 0.065889,
     "end_time": "2023-04-13T20:17:19.590420",
     "exception": false,
     "start_time": "2023-04-13T20:17:19.524531",
     "status": "completed"
    },
    "tags": []
   },
   "outputs": [
    {
     "data": {
      "text/plain": [
       "(32571, 109)"
      ]
     },
     "execution_count": 35,
     "metadata": {},
     "output_type": "execute_result"
    }
   ],
   "source": [
    "with_cat_df = pd.get_dummies(df, columns=cat)\n",
    "with_cat_df.shape"
   ]
  },
  {
   "cell_type": "code",
   "execution_count": 36,
   "id": "bced6cf9",
   "metadata": {
    "execution": {
     "iopub.execute_input": "2023-04-13T20:17:19.621174Z",
     "iopub.status.busy": "2023-04-13T20:17:19.620335Z",
     "iopub.status.idle": "2023-04-13T20:17:25.617420Z",
     "shell.execute_reply": "2023-04-13T20:17:25.616359Z"
    },
    "papermill": {
     "duration": 6.015337,
     "end_time": "2023-04-13T20:17:25.620116",
     "exception": false,
     "start_time": "2023-04-13T20:17:19.604779",
     "status": "completed"
    },
    "tags": []
   },
   "outputs": [
    {
     "name": "stdout",
     "output_type": "stream",
     "text": [
      "              precision    recall  f1-score   support\n",
      "\n",
      "           0       0.87      0.95      0.91      4876\n",
      "           1       0.81      0.57      0.67      1639\n",
      "\n",
      "    accuracy                           0.86      6515\n",
      "   macro avg       0.84      0.76      0.79      6515\n",
      "weighted avg       0.85      0.86      0.85      6515\n",
      "\n",
      "0.8570990023023791\n"
     ]
    }
   ],
   "source": [
    "X,y = with_cat_df.drop('salary',axis=1),with_cat_df.salary\n",
    "X_train, X_test, y_train, y_test = train_test_split(X, \n",
    "                                                    y, test_size=0.20, \n",
    "                                                    random_state=100)\n",
    "\n",
    "xgb_clf = xgb.XGBClassifier(learning_rate=0.01, random_state=100, use_label_encoder=False)\n",
    "xgb_clf.fit(X_train, y_train)\n",
    "\n",
    "y_pred = xgb_clf.predict(X_test)\n",
    "\n",
    "print(classification_report(y_test, y_pred))\n",
    "print(accuracy_score(y_test, y_pred))"
   ]
  },
  {
   "cell_type": "code",
   "execution_count": 37,
   "id": "0007b735",
   "metadata": {
    "execution": {
     "iopub.execute_input": "2023-04-13T20:17:25.651235Z",
     "iopub.status.busy": "2023-04-13T20:17:25.650754Z",
     "iopub.status.idle": "2023-04-13T20:17:40.484894Z",
     "shell.execute_reply": "2023-04-13T20:17:40.483453Z"
    },
    "papermill": {
     "duration": 14.852395,
     "end_time": "2023-04-13T20:17:40.487248",
     "exception": false,
     "start_time": "2023-04-13T20:17:25.634853",
     "status": "completed"
    },
    "tags": []
   },
   "outputs": [
    {
     "name": "stdout",
     "output_type": "stream",
     "text": [
      "              precision    recall  f1-score   support\n",
      "\n",
      "           0       0.81      1.00      0.89      4923\n",
      "           1       0.95      0.28      0.44      1592\n",
      "\n",
      "    accuracy                           0.82      6515\n",
      "   macro avg       0.88      0.64      0.67      6515\n",
      "weighted avg       0.85      0.82      0.78      6515\n",
      "\n",
      "0.8217958557175749\n",
      "              precision    recall  f1-score   support\n",
      "\n",
      "           0       0.82      1.00      0.90      5008\n",
      "           1       0.96      0.29      0.45      1507\n",
      "\n",
      "    accuracy                           0.83      6515\n",
      "   macro avg       0.89      0.64      0.67      6515\n",
      "weighted avg       0.86      0.83      0.80      6515\n",
      "\n",
      "0.8333077513430545\n",
      "              precision    recall  f1-score   support\n",
      "\n",
      "           0       0.81      1.00      0.89      4938\n",
      "           1       0.95      0.28      0.43      1577\n",
      "\n",
      "    accuracy                           0.82      6515\n",
      "   macro avg       0.88      0.64      0.66      6515\n",
      "weighted avg       0.84      0.82      0.78      6515\n",
      "\n",
      "0.8214888718342287\n",
      "              precision    recall  f1-score   support\n",
      "\n",
      "           0       0.82      1.00      0.90      4988\n",
      "           1       0.97      0.27      0.42      1527\n",
      "\n",
      "    accuracy                           0.83      6515\n",
      "   macro avg       0.89      0.63      0.66      6515\n",
      "weighted avg       0.85      0.83      0.78      6515\n",
      "\n",
      "0.8257866462010744\n",
      "              precision    recall  f1-score   support\n",
      "\n",
      "           0       0.82      1.00      0.90      4999\n",
      "           1       0.95      0.27      0.42      1516\n",
      "\n",
      "    accuracy                           0.83      6515\n",
      "   macro avg       0.89      0.63      0.66      6515\n",
      "weighted avg       0.85      0.83      0.79      6515\n",
      "\n",
      "0.8268610897927858\n",
      "              precision    recall  f1-score   support\n",
      "\n",
      "           0       0.82      1.00      0.90      4977\n",
      "           1       0.97      0.28      0.44      1538\n",
      "\n",
      "    accuracy                           0.83      6515\n",
      "   macro avg       0.89      0.64      0.67      6515\n",
      "weighted avg       0.85      0.83      0.79      6515\n",
      "\n",
      "0.8282425172678435\n",
      "              precision    recall  f1-score   support\n",
      "\n",
      "           0       0.81      1.00      0.90      4945\n",
      "           1       0.96      0.28      0.44      1570\n",
      "\n",
      "    accuracy                           0.82      6515\n",
      "   macro avg       0.89      0.64      0.67      6515\n",
      "weighted avg       0.85      0.82      0.79      6515\n",
      "\n",
      "0.8242517267843438\n",
      "              precision    recall  f1-score   support\n",
      "\n",
      "           0       0.81      1.00      0.89      4972\n",
      "           1       0.95      0.26      0.41      1543\n",
      "\n",
      "    accuracy                           0.82      6515\n",
      "   macro avg       0.88      0.63      0.65      6515\n",
      "weighted avg       0.84      0.82      0.78      6515\n",
      "\n",
      "0.8210283960092095\n",
      "              precision    recall  f1-score   support\n",
      "\n",
      "           0       0.81      1.00      0.89      4925\n",
      "           1       0.97      0.25      0.40      1590\n",
      "\n",
      "    accuracy                           0.82      6515\n",
      "   macro avg       0.89      0.63      0.65      6515\n",
      "weighted avg       0.85      0.82      0.77      6515\n",
      "\n",
      "0.8162701458173446\n",
      "              precision    recall  f1-score   support\n",
      "\n",
      "           0       0.81      1.00      0.89      4918\n",
      "           1       0.96      0.27      0.42      1597\n",
      "\n",
      "    accuracy                           0.82      6515\n",
      "   macro avg       0.88      0.63      0.65      6515\n",
      "weighted avg       0.85      0.82      0.78      6515\n",
      "\n",
      "0.8176515732924021\n"
     ]
    }
   ],
   "source": [
    "# Type in your code and answers\n",
    "# perform a 10-fold cross validation\n",
    "for i in range(10):\n",
    "    X_t, X_test, Y_t, y_test = train_test_split(ndf, df.salary, test_size=0.2, random_state = i*42)\n",
    "    xgb_clf.fit(X_t, Y_t)\n",
    "    y_pred = xgb_clf.predict(X_test)\n",
    "    print(classification_report(y_test,y_pred))\n",
    "    print(accuracy_score(y_test, y_pred))"
   ]
  },
  {
   "cell_type": "markdown",
   "id": "d44f4932",
   "metadata": {
    "papermill": {
     "duration": 0.014873,
     "end_time": "2023-04-13T20:17:40.517777",
     "exception": false,
     "start_time": "2023-04-13T20:17:40.502904",
     "status": "completed"
    },
    "tags": []
   },
   "source": [
    "##  TODO comment entire process and findings here, mention something about soft and hard voting, cross validation only for best model"
   ]
  }
 ],
 "metadata": {
  "kernelspec": {
   "display_name": "Python 3",
   "language": "python",
   "name": "python3"
  },
  "language_info": {
   "codemirror_mode": {
    "name": "ipython",
    "version": 3
   },
   "file_extension": ".py",
   "mimetype": "text/x-python",
   "name": "python",
   "nbconvert_exporter": "python",
   "pygments_lexer": "ipython3",
   "version": "3.7.12"
  },
  "papermill": {
   "default_parameters": {},
   "duration": 372.189733,
   "end_time": "2023-04-13T20:17:41.358291",
   "environment_variables": {},
   "exception": null,
   "input_path": "__notebook__.ipynb",
   "output_path": "__notebook__.ipynb",
   "parameters": {},
   "start_time": "2023-04-13T20:11:29.168558",
   "version": "2.4.0"
  }
 },
 "nbformat": 4,
 "nbformat_minor": 5
}
