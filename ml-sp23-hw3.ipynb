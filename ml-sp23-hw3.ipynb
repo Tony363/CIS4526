{
 "cells": [
  {
   "cell_type": "markdown",
   "id": "5ae3f5ce",
   "metadata": {
    "papermill": {
     "duration": 0.011783,
     "end_time": "2023-04-11T21:37:36.381998",
     "exception": false,
     "start_time": "2023-04-11T21:37:36.370215",
     "status": "completed"
    },
    "tags": []
   },
   "source": [
    "# CIS 4526 Sp23 HomeWork 3"
   ]
  },
  {
   "cell_type": "code",
   "execution_count": 1,
   "id": "b92ebf82",
   "metadata": {
    "execution": {
     "iopub.execute_input": "2023-04-11T21:37:36.406035Z",
     "iopub.status.busy": "2023-04-11T21:37:36.405083Z",
     "iopub.status.idle": "2023-04-11T21:37:37.714805Z",
     "shell.execute_reply": "2023-04-11T21:37:37.713473Z"
    },
    "papermill": {
     "duration": 1.32551,
     "end_time": "2023-04-11T21:37:37.718115",
     "exception": false,
     "start_time": "2023-04-11T21:37:36.392605",
     "status": "completed"
    },
    "tags": []
   },
   "outputs": [],
   "source": [
    "import numpy as np\n",
    "import pandas as pd\n",
    "import matplotlib.pyplot as plt\n",
    "import seaborn as sns\n",
    "import warnings\n",
    "warnings.filterwarnings('ignore')\n",
    "from sklearn.model_selection import train_test_split"
   ]
  },
  {
   "cell_type": "code",
   "execution_count": 2,
   "id": "e79f1089",
   "metadata": {
    "execution": {
     "iopub.execute_input": "2023-04-11T21:37:37.741486Z",
     "iopub.status.busy": "2023-04-11T21:37:37.740806Z",
     "iopub.status.idle": "2023-04-11T21:37:38.081712Z",
     "shell.execute_reply": "2023-04-11T21:37:38.080446Z"
    },
    "papermill": {
     "duration": 0.355959,
     "end_time": "2023-04-11T21:37:38.084579",
     "exception": false,
     "start_time": "2023-04-11T21:37:37.728620",
     "status": "completed"
    },
    "tags": []
   },
   "outputs": [],
   "source": [
    "from sklearn.model_selection import train_test_split\n",
    "from sklearn.linear_model import LogisticRegression\n",
    "from sklearn import svm\n",
    "from sklearn.ensemble import RandomForestClassifier\n",
    "from sklearn.tree import DecisionTreeClassifier"
   ]
  },
  {
   "cell_type": "code",
   "execution_count": 3,
   "id": "ddefcc99",
   "metadata": {
    "execution": {
     "iopub.execute_input": "2023-04-11T21:37:38.109301Z",
     "iopub.status.busy": "2023-04-11T21:37:38.108608Z",
     "iopub.status.idle": "2023-04-11T21:37:38.113711Z",
     "shell.execute_reply": "2023-04-11T21:37:38.112912Z"
    },
    "papermill": {
     "duration": 0.02085,
     "end_time": "2023-04-11T21:37:38.115967",
     "exception": false,
     "start_time": "2023-04-11T21:37:38.095117",
     "status": "completed"
    },
    "tags": []
   },
   "outputs": [],
   "source": [
    "from sklearn.metrics import classification_report,confusion_matrix,accuracy_score"
   ]
  },
  {
   "cell_type": "markdown",
   "id": "6593b577",
   "metadata": {
    "papermill": {
     "duration": 0.010021,
     "end_time": "2023-04-11T21:37:38.136332",
     "exception": false,
     "start_time": "2023-04-11T21:37:38.126311",
     "status": "completed"
    },
    "tags": []
   },
   "source": [
    "### Dataset is based on an census income data\n",
    "https://archive.ics.uci.edu/ml/datasets/census+income\n"
   ]
  },
  {
   "cell_type": "markdown",
   "id": "ce2e6658",
   "metadata": {
    "papermill": {
     "duration": 0.010014,
     "end_time": "2023-04-11T21:37:38.156656",
     "exception": false,
     "start_time": "2023-04-11T21:37:38.146642",
     "status": "completed"
    },
    "tags": []
   },
   "source": [
    "Data Set Information:\n",
    "\n",
    "Extraction was done by Barry Becker from the 1994 Census database. \n",
    "\n",
    "\n",
    "Attribute Information:\n",
    "\n",
    "Listing of attributes:\n",
    "\n",
    "* The last column >50K, <=50K is the target variable indicating whether the people earn less than or larger than 50K per year\n",
    "\n",
    "* age: continuous.\n",
    "* workclass: Private, Self-emp-not-inc, Self-emp-inc, Federal-gov, Local-gov, State-gov, Without-pay, Never-worked.\n",
    "* fnlwgt: continuous.\n",
    "* education: Bachelors, Some-college, 11th, HS-grad, Prof-school, Assoc-acdm, Assoc-voc, 9th, 7th-8th, 12th, Masters, 1st-4th, 10th, Doctorate, 5th-6th, Preschool.\n",
    "* education-num: continuous.\n",
    "* marital-status: Married-civ-spouse, Divorced, Never-married, Separated, Widowed, Married-spouse-absent, Married-AF-spouse.\n",
    "* occupation: Tech-support, Craft-repair, Other-service, Sales, Exec-managerial, Prof-specialty, Handlers-cleaners, Machine-op-inspct, Adm-clerical, Farming-fishing, Transport-moving, Priv-house-serv, Protective-serv, Armed-Forces.\n",
    "* relationship: Wife, Own-child, Husband, Not-in-family, Other-relative, Unmarried.\n",
    "* race: White, Asian-Pac-Islander, Amer-Indian-Eskimo, Other, Black.\n",
    "* sex: Female, Male.\n",
    "* capital-gain: continuous.\n",
    "* capital-loss: continuous.\n",
    "* hours-per-week: continuous.\n",
    "* native-country: United-States, Cambodia, England, Puerto-Rico, Canada, Germany, Outlying-US(Guam-USVI-etc), India, Japan, Greece, South, China, Cuba, Iran, Honduras, Philippines, Italy, Poland, Jamaica, Vietnam, Mexico, Portugal, Ireland, France, Dominican-Republic, Laos, Ecuador, Taiwan, Haiti, Columbia, Hungary, Guatemala, Nicaragua, Scotland, Thailand, Yugoslavia, El-Salvador, Trinadad&Tobago, Peru, Hong, Holand-Netherlands.\n",
    "\n"
   ]
  },
  {
   "cell_type": "markdown",
   "id": "21bd2a91",
   "metadata": {
    "papermill": {
     "duration": 0.010028,
     "end_time": "2023-04-11T21:37:38.176990",
     "exception": false,
     "start_time": "2023-04-11T21:37:38.166962",
     "status": "completed"
    },
    "tags": []
   },
   "source": [
    "### However, I have modified the dataset and so you will need to load the dataset by reading a csv file I provided. In particular, I changed 50K to 80K just to reflect the inflation "
   ]
  },
  {
   "cell_type": "code",
   "execution_count": 4,
   "id": "9048bb63",
   "metadata": {
    "execution": {
     "iopub.execute_input": "2023-04-11T21:37:38.200082Z",
     "iopub.status.busy": "2023-04-11T21:37:38.199336Z",
     "iopub.status.idle": "2023-04-11T21:37:38.369296Z",
     "shell.execute_reply": "2023-04-11T21:37:38.367990Z"
    },
    "papermill": {
     "duration": 0.185176,
     "end_time": "2023-04-11T21:37:38.372484",
     "exception": false,
     "start_time": "2023-04-11T21:37:38.187308",
     "status": "completed"
    },
    "tags": []
   },
   "outputs": [
    {
     "data": {
      "text/html": [
       "<div>\n",
       "<style scoped>\n",
       "    .dataframe tbody tr th:only-of-type {\n",
       "        vertical-align: middle;\n",
       "    }\n",
       "\n",
       "    .dataframe tbody tr th {\n",
       "        vertical-align: top;\n",
       "    }\n",
       "\n",
       "    .dataframe thead th {\n",
       "        text-align: right;\n",
       "    }\n",
       "</style>\n",
       "<table border=\"1\" class=\"dataframe\">\n",
       "  <thead>\n",
       "    <tr style=\"text-align: right;\">\n",
       "      <th></th>\n",
       "      <th>age</th>\n",
       "      <th>workclass</th>\n",
       "      <th>fnlwgt</th>\n",
       "      <th>education</th>\n",
       "      <th>education-num</th>\n",
       "      <th>marital-status</th>\n",
       "      <th>occupation</th>\n",
       "      <th>relationship</th>\n",
       "      <th>race</th>\n",
       "      <th>sex</th>\n",
       "      <th>capital-gain</th>\n",
       "      <th>capital-loss</th>\n",
       "      <th>hours-per-week</th>\n",
       "      <th>native-country</th>\n",
       "      <th>salary</th>\n",
       "    </tr>\n",
       "  </thead>\n",
       "  <tbody>\n",
       "    <tr>\n",
       "      <th>0</th>\n",
       "      <td>39</td>\n",
       "      <td>State-gov</td>\n",
       "      <td>77516</td>\n",
       "      <td>Bachelors</td>\n",
       "      <td>13</td>\n",
       "      <td>Never-married</td>\n",
       "      <td>Adm-clerical</td>\n",
       "      <td>Not-in-family</td>\n",
       "      <td>White</td>\n",
       "      <td>Male</td>\n",
       "      <td>2174</td>\n",
       "      <td>0</td>\n",
       "      <td>40</td>\n",
       "      <td>United-States</td>\n",
       "      <td>&lt;=80K</td>\n",
       "    </tr>\n",
       "    <tr>\n",
       "      <th>1</th>\n",
       "      <td>50</td>\n",
       "      <td>Self-emp-not-inc</td>\n",
       "      <td>83311</td>\n",
       "      <td>Bachelors</td>\n",
       "      <td>13</td>\n",
       "      <td>Married-civ-spouse</td>\n",
       "      <td>Exec-managerial</td>\n",
       "      <td>Husband</td>\n",
       "      <td>White</td>\n",
       "      <td>Male</td>\n",
       "      <td>0</td>\n",
       "      <td>0</td>\n",
       "      <td>13</td>\n",
       "      <td>United-States</td>\n",
       "      <td>&lt;=80K</td>\n",
       "    </tr>\n",
       "    <tr>\n",
       "      <th>2</th>\n",
       "      <td>38</td>\n",
       "      <td>Private</td>\n",
       "      <td>215646</td>\n",
       "      <td>HS-grad</td>\n",
       "      <td>9</td>\n",
       "      <td>Divorced</td>\n",
       "      <td>Handlers-cleaners</td>\n",
       "      <td>Not-in-family</td>\n",
       "      <td>White</td>\n",
       "      <td>Male</td>\n",
       "      <td>0</td>\n",
       "      <td>0</td>\n",
       "      <td>40</td>\n",
       "      <td>United-States</td>\n",
       "      <td>&lt;=80K</td>\n",
       "    </tr>\n",
       "    <tr>\n",
       "      <th>3</th>\n",
       "      <td>53</td>\n",
       "      <td>Private</td>\n",
       "      <td>234721</td>\n",
       "      <td>11th</td>\n",
       "      <td>7</td>\n",
       "      <td>Married-civ-spouse</td>\n",
       "      <td>Handlers-cleaners</td>\n",
       "      <td>Husband</td>\n",
       "      <td>Black</td>\n",
       "      <td>Male</td>\n",
       "      <td>0</td>\n",
       "      <td>0</td>\n",
       "      <td>40</td>\n",
       "      <td>United-States</td>\n",
       "      <td>&lt;=80K</td>\n",
       "    </tr>\n",
       "    <tr>\n",
       "      <th>4</th>\n",
       "      <td>28</td>\n",
       "      <td>Private</td>\n",
       "      <td>338409</td>\n",
       "      <td>Bachelors</td>\n",
       "      <td>13</td>\n",
       "      <td>Married-civ-spouse</td>\n",
       "      <td>Prof-specialty</td>\n",
       "      <td>Wife</td>\n",
       "      <td>Black</td>\n",
       "      <td>Female</td>\n",
       "      <td>0</td>\n",
       "      <td>0</td>\n",
       "      <td>40</td>\n",
       "      <td>Cuba</td>\n",
       "      <td>&lt;=80K</td>\n",
       "    </tr>\n",
       "  </tbody>\n",
       "</table>\n",
       "</div>"
      ],
      "text/plain": [
       "   age         workclass  fnlwgt  education  education-num  \\\n",
       "0   39         State-gov   77516  Bachelors             13   \n",
       "1   50  Self-emp-not-inc   83311  Bachelors             13   \n",
       "2   38           Private  215646    HS-grad              9   \n",
       "3   53           Private  234721       11th              7   \n",
       "4   28           Private  338409  Bachelors             13   \n",
       "\n",
       "       marital-status         occupation   relationship   race     sex  \\\n",
       "0       Never-married       Adm-clerical  Not-in-family  White    Male   \n",
       "1  Married-civ-spouse    Exec-managerial        Husband  White    Male   \n",
       "2            Divorced  Handlers-cleaners  Not-in-family  White    Male   \n",
       "3  Married-civ-spouse  Handlers-cleaners        Husband  Black    Male   \n",
       "4  Married-civ-spouse     Prof-specialty           Wife  Black  Female   \n",
       "\n",
       "   capital-gain  capital-loss  hours-per-week native-country salary  \n",
       "0          2174             0              40  United-States  <=80K  \n",
       "1             0             0              13  United-States  <=80K  \n",
       "2             0             0              40  United-States  <=80K  \n",
       "3             0             0              40  United-States  <=80K  \n",
       "4             0             0              40           Cuba  <=80K  "
      ]
     },
     "execution_count": 4,
     "metadata": {},
     "output_type": "execute_result"
    }
   ],
   "source": [
    "df = pd.read_csv(\"/kaggle/input/adult-income-modified/adult_income_modified.csv\")\n",
    "df.head()"
   ]
  },
  {
   "cell_type": "code",
   "execution_count": 5,
   "id": "bd852fbf",
   "metadata": {
    "execution": {
     "iopub.execute_input": "2023-04-11T21:37:38.396676Z",
     "iopub.status.busy": "2023-04-11T21:37:38.395986Z",
     "iopub.status.idle": "2023-04-11T21:37:38.411495Z",
     "shell.execute_reply": "2023-04-11T21:37:38.410175Z"
    },
    "papermill": {
     "duration": 0.030821,
     "end_time": "2023-04-11T21:37:38.414288",
     "exception": false,
     "start_time": "2023-04-11T21:37:38.383467",
     "status": "completed"
    },
    "tags": []
   },
   "outputs": [
    {
     "data": {
      "text/plain": [
       "array(['<=80K', '>80K'], dtype=object)"
      ]
     },
     "execution_count": 5,
     "metadata": {},
     "output_type": "execute_result"
    }
   ],
   "source": [
    "df.salary.unique()"
   ]
  },
  {
   "cell_type": "code",
   "execution_count": 6,
   "id": "e14e7570",
   "metadata": {
    "execution": {
     "iopub.execute_input": "2023-04-11T21:37:38.438918Z",
     "iopub.status.busy": "2023-04-11T21:37:38.437710Z",
     "iopub.status.idle": "2023-04-11T21:37:38.447159Z",
     "shell.execute_reply": "2023-04-11T21:37:38.446314Z"
    },
    "papermill": {
     "duration": 0.024104,
     "end_time": "2023-04-11T21:37:38.449277",
     "exception": false,
     "start_time": "2023-04-11T21:37:38.425173",
     "status": "completed"
    },
    "tags": []
   },
   "outputs": [
    {
     "data": {
      "text/plain": [
       "array(['State-gov', 'Self-emp-not-inc', 'Private', 'Federal-gov',\n",
       "       'Local-gov', '?', 'Self-emp-inc', 'Without-pay', 'Never-worked'],\n",
       "      dtype=object)"
      ]
     },
     "execution_count": 6,
     "metadata": {},
     "output_type": "execute_result"
    }
   ],
   "source": [
    "df.workclass.unique()"
   ]
  },
  {
   "cell_type": "code",
   "execution_count": 7,
   "id": "a3e60e30",
   "metadata": {
    "execution": {
     "iopub.execute_input": "2023-04-11T21:37:38.473846Z",
     "iopub.status.busy": "2023-04-11T21:37:38.473077Z",
     "iopub.status.idle": "2023-04-11T21:37:38.483846Z",
     "shell.execute_reply": "2023-04-11T21:37:38.482621Z"
    },
    "papermill": {
     "duration": 0.026043,
     "end_time": "2023-04-11T21:37:38.486394",
     "exception": false,
     "start_time": "2023-04-11T21:37:38.460351",
     "status": "completed"
    },
    "tags": []
   },
   "outputs": [
    {
     "data": {
      "text/plain": [
       "array(['Bachelors', 'HS-grad', '11th', 'Masters', '9th', 'Some-college',\n",
       "       'Assoc-acdm', 'Assoc-voc', '7th-8th', 'Doctorate', 'Prof-school',\n",
       "       '5th-6th', '10th', '1st-4th', 'Preschool', '12th'], dtype=object)"
      ]
     },
     "execution_count": 7,
     "metadata": {},
     "output_type": "execute_result"
    }
   ],
   "source": [
    "df.education.unique()"
   ]
  },
  {
   "cell_type": "markdown",
   "id": "a3bc0ac3",
   "metadata": {
    "papermill": {
     "duration": 0.010824,
     "end_time": "2023-04-11T21:37:38.508374",
     "exception": false,
     "start_time": "2023-04-11T21:37:38.497550",
     "status": "completed"
    },
    "tags": []
   },
   "source": [
    "### Need to replace ?"
   ]
  },
  {
   "cell_type": "code",
   "execution_count": 8,
   "id": "7632dd3d",
   "metadata": {
    "execution": {
     "iopub.execute_input": "2023-04-11T21:37:38.532472Z",
     "iopub.status.busy": "2023-04-11T21:37:38.531790Z",
     "iopub.status.idle": "2023-04-11T21:37:38.541497Z",
     "shell.execute_reply": "2023-04-11T21:37:38.540561Z"
    },
    "papermill": {
     "duration": 0.024536,
     "end_time": "2023-04-11T21:37:38.543874",
     "exception": false,
     "start_time": "2023-04-11T21:37:38.519338",
     "status": "completed"
    },
    "tags": []
   },
   "outputs": [
    {
     "data": {
      "text/plain": [
       "array(['Never-married', 'Married-civ-spouse', 'Divorced',\n",
       "       'Married-spouse-absent', 'Separated', 'Married-AF-spouse',\n",
       "       'Widowed'], dtype=object)"
      ]
     },
     "execution_count": 8,
     "metadata": {},
     "output_type": "execute_result"
    }
   ],
   "source": [
    "df['marital-status'].unique()"
   ]
  },
  {
   "cell_type": "markdown",
   "id": "209c1ef1",
   "metadata": {
    "papermill": {
     "duration": 0.010961,
     "end_time": "2023-04-11T21:37:38.566091",
     "exception": false,
     "start_time": "2023-04-11T21:37:38.555130",
     "status": "completed"
    },
    "tags": []
   },
   "source": [
    "### Your task is to try different Ensemble Models to predict whether a people will earn <= 80K or > 80K"
   ]
  },
  {
   "cell_type": "markdown",
   "id": "7bfa29d8",
   "metadata": {
    "papermill": {
     "duration": 0.010936,
     "end_time": "2023-04-11T21:37:38.588271",
     "exception": false,
     "start_time": "2023-04-11T21:37:38.577335",
     "status": "completed"
    },
    "tags": []
   },
   "source": [
    "### Make sure your work include the following steps"
   ]
  },
  {
   "cell_type": "markdown",
   "id": "42f791bb",
   "metadata": {
    "papermill": {
     "duration": 0.011258,
     "end_time": "2023-04-11T21:37:38.611725",
     "exception": false,
     "start_time": "2023-04-11T21:37:38.600467",
     "status": "completed"
    },
    "tags": []
   },
   "source": [
    "* EDA (chekcing missing values, removing outliers)\n",
    "* separated data set into training and testing\n",
    "* performed cross-validations\n",
    "* Build a base model using LogisticRegression and only a smaller set of features (say only numerical features)\n",
    "* Try different ensemble methods, including VotingClassifier (soft and hard voting), BaggingClassifier, AdaBoostClassifier, GradientBoostClassifier and xgb with the same set of features\n",
    "* Comment on your experience in these various models, in particular compare this with the basic LogisticRegression\n",
    "* Out of all these ensemble model, pick the best model, add additional featrues (eg categorical features)\n",
    "* Comment on the final best model you find"
   ]
  },
  {
   "cell_type": "markdown",
   "id": "399c475d",
   "metadata": {
    "papermill": {
     "duration": 0.011058,
     "end_time": "2023-04-11T21:37:38.634210",
     "exception": false,
     "start_time": "2023-04-11T21:37:38.623152",
     "status": "completed"
    },
    "tags": []
   },
   "source": [
    "### Good Luck !!!"
   ]
  },
  {
   "cell_type": "markdown",
   "id": "4e0906f4",
   "metadata": {
    "papermill": {
     "duration": 0.011282,
     "end_time": "2023-04-11T21:37:38.657228",
     "exception": false,
     "start_time": "2023-04-11T21:37:38.645946",
     "status": "completed"
    },
    "tags": []
   },
   "source": [
    "Show all your work below"
   ]
  },
  {
   "cell_type": "markdown",
   "id": "bb6e285a",
   "metadata": {
    "papermill": {
     "duration": 0.010864,
     "end_time": "2023-04-11T21:37:38.679452",
     "exception": false,
     "start_time": "2023-04-11T21:37:38.668588",
     "status": "completed"
    },
    "tags": []
   },
   "source": [
    "### EDA"
   ]
  },
  {
   "cell_type": "code",
   "execution_count": 9,
   "id": "f9e46aa6",
   "metadata": {
    "execution": {
     "iopub.execute_input": "2023-04-11T21:37:38.704151Z",
     "iopub.status.busy": "2023-04-11T21:37:38.703298Z",
     "iopub.status.idle": "2023-04-11T21:37:38.746484Z",
     "shell.execute_reply": "2023-04-11T21:37:38.744984Z"
    },
    "papermill": {
     "duration": 0.058626,
     "end_time": "2023-04-11T21:37:38.749309",
     "exception": false,
     "start_time": "2023-04-11T21:37:38.690683",
     "status": "completed"
    },
    "tags": []
   },
   "outputs": [
    {
     "data": {
      "text/html": [
       "<div>\n",
       "<style scoped>\n",
       "    .dataframe tbody tr th:only-of-type {\n",
       "        vertical-align: middle;\n",
       "    }\n",
       "\n",
       "    .dataframe tbody tr th {\n",
       "        vertical-align: top;\n",
       "    }\n",
       "\n",
       "    .dataframe thead th {\n",
       "        text-align: right;\n",
       "    }\n",
       "</style>\n",
       "<table border=\"1\" class=\"dataframe\">\n",
       "  <thead>\n",
       "    <tr style=\"text-align: right;\">\n",
       "      <th></th>\n",
       "      <th>age</th>\n",
       "      <th>fnlwgt</th>\n",
       "      <th>education-num</th>\n",
       "      <th>capital-gain</th>\n",
       "      <th>capital-loss</th>\n",
       "      <th>hours-per-week</th>\n",
       "    </tr>\n",
       "  </thead>\n",
       "  <tbody>\n",
       "    <tr>\n",
       "      <th>count</th>\n",
       "      <td>32571.000000</td>\n",
       "      <td>3.257100e+04</td>\n",
       "      <td>32571.000000</td>\n",
       "      <td>32571.000000</td>\n",
       "      <td>32571.000000</td>\n",
       "      <td>32571.000000</td>\n",
       "    </tr>\n",
       "    <tr>\n",
       "      <th>mean</th>\n",
       "      <td>38.599153</td>\n",
       "      <td>1.898091e+05</td>\n",
       "      <td>10.080747</td>\n",
       "      <td>1077.317982</td>\n",
       "      <td>87.435357</td>\n",
       "      <td>40.452151</td>\n",
       "    </tr>\n",
       "    <tr>\n",
       "      <th>std</th>\n",
       "      <td>13.744795</td>\n",
       "      <td>1.055927e+05</td>\n",
       "      <td>2.572484</td>\n",
       "      <td>7384.182377</td>\n",
       "      <td>403.204587</td>\n",
       "      <td>12.441330</td>\n",
       "    </tr>\n",
       "    <tr>\n",
       "      <th>min</th>\n",
       "      <td>0.000000</td>\n",
       "      <td>1.228500e+04</td>\n",
       "      <td>1.000000</td>\n",
       "      <td>0.000000</td>\n",
       "      <td>0.000000</td>\n",
       "      <td>1.000000</td>\n",
       "    </tr>\n",
       "    <tr>\n",
       "      <th>25%</th>\n",
       "      <td>28.000000</td>\n",
       "      <td>1.178215e+05</td>\n",
       "      <td>9.000000</td>\n",
       "      <td>0.000000</td>\n",
       "      <td>0.000000</td>\n",
       "      <td>40.000000</td>\n",
       "    </tr>\n",
       "    <tr>\n",
       "      <th>50%</th>\n",
       "      <td>37.000000</td>\n",
       "      <td>1.783830e+05</td>\n",
       "      <td>10.000000</td>\n",
       "      <td>0.000000</td>\n",
       "      <td>0.000000</td>\n",
       "      <td>40.000000</td>\n",
       "    </tr>\n",
       "    <tr>\n",
       "      <th>75%</th>\n",
       "      <td>48.000000</td>\n",
       "      <td>2.371095e+05</td>\n",
       "      <td>12.000000</td>\n",
       "      <td>0.000000</td>\n",
       "      <td>0.000000</td>\n",
       "      <td>45.000000</td>\n",
       "    </tr>\n",
       "    <tr>\n",
       "      <th>max</th>\n",
       "      <td>250.000000</td>\n",
       "      <td>1.484705e+06</td>\n",
       "      <td>16.000000</td>\n",
       "      <td>99999.000000</td>\n",
       "      <td>4356.000000</td>\n",
       "      <td>202.000000</td>\n",
       "    </tr>\n",
       "  </tbody>\n",
       "</table>\n",
       "</div>"
      ],
      "text/plain": [
       "                age        fnlwgt  education-num  capital-gain  capital-loss  \\\n",
       "count  32571.000000  3.257100e+04   32571.000000  32571.000000  32571.000000   \n",
       "mean      38.599153  1.898091e+05      10.080747   1077.317982     87.435357   \n",
       "std       13.744795  1.055927e+05       2.572484   7384.182377    403.204587   \n",
       "min        0.000000  1.228500e+04       1.000000      0.000000      0.000000   \n",
       "25%       28.000000  1.178215e+05       9.000000      0.000000      0.000000   \n",
       "50%       37.000000  1.783830e+05      10.000000      0.000000      0.000000   \n",
       "75%       48.000000  2.371095e+05      12.000000      0.000000      0.000000   \n",
       "max      250.000000  1.484705e+06      16.000000  99999.000000   4356.000000   \n",
       "\n",
       "       hours-per-week  \n",
       "count    32571.000000  \n",
       "mean        40.452151  \n",
       "std         12.441330  \n",
       "min          1.000000  \n",
       "25%         40.000000  \n",
       "50%         40.000000  \n",
       "75%         45.000000  \n",
       "max        202.000000  "
      ]
     },
     "execution_count": 9,
     "metadata": {},
     "output_type": "execute_result"
    }
   ],
   "source": [
    "df.describe()"
   ]
  },
  {
   "cell_type": "code",
   "execution_count": 10,
   "id": "4f65c4d7",
   "metadata": {
    "execution": {
     "iopub.execute_input": "2023-04-11T21:37:38.774911Z",
     "iopub.status.busy": "2023-04-11T21:37:38.774175Z",
     "iopub.status.idle": "2023-04-11T21:37:38.796987Z",
     "shell.execute_reply": "2023-04-11T21:37:38.795901Z"
    },
    "papermill": {
     "duration": 0.038597,
     "end_time": "2023-04-11T21:37:38.799538",
     "exception": false,
     "start_time": "2023-04-11T21:37:38.760941",
     "status": "completed"
    },
    "tags": []
   },
   "outputs": [
    {
     "data": {
      "text/plain": [
       "age               False\n",
       "workclass         False\n",
       "fnlwgt            False\n",
       "education         False\n",
       "education-num     False\n",
       "marital-status    False\n",
       "occupation        False\n",
       "relationship      False\n",
       "race              False\n",
       "sex               False\n",
       "capital-gain      False\n",
       "capital-loss      False\n",
       "hours-per-week    False\n",
       "native-country    False\n",
       "salary            False\n",
       "dtype: bool"
      ]
     },
     "execution_count": 10,
     "metadata": {},
     "output_type": "execute_result"
    }
   ],
   "source": [
    "# remove data that are obviously wrong, no need to do it extensively, just use the above table as a hint\n",
    "df.isnull().any()"
   ]
  },
  {
   "cell_type": "code",
   "execution_count": 11,
   "id": "e90b3357",
   "metadata": {
    "execution": {
     "iopub.execute_input": "2023-04-11T21:37:38.825129Z",
     "iopub.status.busy": "2023-04-11T21:37:38.824372Z",
     "iopub.status.idle": "2023-04-11T21:37:38.831104Z",
     "shell.execute_reply": "2023-04-11T21:37:38.829962Z"
    },
    "papermill": {
     "duration": 0.022722,
     "end_time": "2023-04-11T21:37:38.833881",
     "exception": false,
     "start_time": "2023-04-11T21:37:38.811159",
     "status": "completed"
    },
    "tags": []
   },
   "outputs": [
    {
     "data": {
      "text/plain": [
       "Index(['age', 'workclass', 'fnlwgt', 'education', 'education-num',\n",
       "       'marital-status', 'occupation', 'relationship', 'race', 'sex',\n",
       "       'capital-gain', 'capital-loss', 'hours-per-week', 'native-country',\n",
       "       'salary'],\n",
       "      dtype='object')"
      ]
     },
     "execution_count": 11,
     "metadata": {},
     "output_type": "execute_result"
    }
   ],
   "source": [
    "# .... TODO\n",
    "df.columns"
   ]
  },
  {
   "cell_type": "code",
   "execution_count": 12,
   "id": "8252bfc2",
   "metadata": {
    "execution": {
     "iopub.execute_input": "2023-04-11T21:37:38.859649Z",
     "iopub.status.busy": "2023-04-11T21:37:38.859256Z",
     "iopub.status.idle": "2023-04-11T21:37:38.870382Z",
     "shell.execute_reply": "2023-04-11T21:37:38.869228Z"
    },
    "papermill": {
     "duration": 0.027032,
     "end_time": "2023-04-11T21:37:38.872893",
     "exception": false,
     "start_time": "2023-04-11T21:37:38.845861",
     "status": "completed"
    },
    "tags": []
   },
   "outputs": [
    {
     "data": {
      "text/plain": [
       "17648    99999\n",
       "10772    99999\n",
       "1529     99999\n",
       "24517    99999\n",
       "14580    99999\n",
       "         ...  \n",
       "16175    99999\n",
       "16080    99999\n",
       "7554     99999\n",
       "31979    99999\n",
       "18889    99999\n",
       "Name: capital-gain, Length: 100, dtype: int64"
      ]
     },
     "execution_count": 12,
     "metadata": {},
     "output_type": "execute_result"
    }
   ],
   "source": [
    "df['capital-gain'].sort_values(ascending = False)[:100]"
   ]
  },
  {
   "cell_type": "code",
   "execution_count": 13,
   "id": "4845a628",
   "metadata": {
    "execution": {
     "iopub.execute_input": "2023-04-11T21:37:38.898699Z",
     "iopub.status.busy": "2023-04-11T21:37:38.898293Z",
     "iopub.status.idle": "2023-04-11T21:37:38.915760Z",
     "shell.execute_reply": "2023-04-11T21:37:38.914926Z"
    },
    "papermill": {
     "duration": 0.033093,
     "end_time": "2023-04-11T21:37:38.917937",
     "exception": false,
     "start_time": "2023-04-11T21:37:38.884844",
     "status": "completed"
    },
    "tags": []
   },
   "outputs": [
    {
     "data": {
      "text/plain": [
       "20183    41310\n",
       "6434     41310\n",
       "17040    34095\n",
       "4569     34095\n",
       "7187     34095\n",
       "         ...  \n",
       "17613    18481\n",
       "6417     15831\n",
       "21265    15831\n",
       "32348    15831\n",
       "15497    15831\n",
       "Name: capital-gain, Length: 100, dtype: int64"
      ]
     },
     "execution_count": 13,
     "metadata": {},
     "output_type": "execute_result"
    }
   ],
   "source": [
    "# df.loc[df['capital-gain'] == 99999. ,'capital-gain'] = df['capital-gain'].median()\n",
    "df.drop(df[df['capital-gain'] == 99999.].index,inplace=True)\n",
    "df['capital-gain'].sort_values(ascending = False)[:100]"
   ]
  },
  {
   "cell_type": "code",
   "execution_count": 14,
   "id": "05d18a27",
   "metadata": {
    "execution": {
     "iopub.execute_input": "2023-04-11T21:37:38.944987Z",
     "iopub.status.busy": "2023-04-11T21:37:38.944219Z",
     "iopub.status.idle": "2023-04-11T21:37:38.953267Z",
     "shell.execute_reply": "2023-04-11T21:37:38.952178Z"
    },
    "papermill": {
     "duration": 0.025676,
     "end_time": "2023-04-11T21:37:38.955601",
     "exception": false,
     "start_time": "2023-04-11T21:37:38.929925",
     "status": "completed"
    },
    "tags": []
   },
   "outputs": [
    {
     "data": {
      "text/plain": [
       "0        29859\n",
       "15024      347\n",
       "7688       284\n",
       "7298       246\n",
       "5178        97\n",
       "         ...  \n",
       "1639         1\n",
       "4931         1\n",
       "7978         1\n",
       "2387         1\n",
       "5060         1\n",
       "Name: capital-gain, Length: 118, dtype: int64"
      ]
     },
     "execution_count": 14,
     "metadata": {},
     "output_type": "execute_result"
    }
   ],
   "source": [
    "df['capital-gain'].value_counts()"
   ]
  },
  {
   "cell_type": "code",
   "execution_count": 15,
   "id": "1232d317",
   "metadata": {
    "execution": {
     "iopub.execute_input": "2023-04-11T21:37:38.983156Z",
     "iopub.status.busy": "2023-04-11T21:37:38.982351Z",
     "iopub.status.idle": "2023-04-11T21:37:38.992110Z",
     "shell.execute_reply": "2023-04-11T21:37:38.991118Z"
    },
    "papermill": {
     "duration": 0.026104,
     "end_time": "2023-04-11T21:37:38.994342",
     "exception": false,
     "start_time": "2023-04-11T21:37:38.968238",
     "status": "completed"
    },
    "tags": []
   },
   "outputs": [
    {
     "data": {
      "text/plain": [
       "14757    4356\n",
       "8964     4356\n",
       "30788    4356\n",
       "23809    3900\n",
       "20423    3900\n",
       "         ... \n",
       "30265    2415\n",
       "1946     2415\n",
       "3213     2415\n",
       "13661    2415\n",
       "1116     2415\n",
       "Name: capital-loss, Length: 100, dtype: int64"
      ]
     },
     "execution_count": 15,
     "metadata": {},
     "output_type": "execute_result"
    }
   ],
   "source": [
    "df['capital-loss'].sort_values(ascending = False)[:100]"
   ]
  },
  {
   "cell_type": "code",
   "execution_count": 16,
   "id": "753b25ee",
   "metadata": {
    "execution": {
     "iopub.execute_input": "2023-04-11T21:37:39.021728Z",
     "iopub.status.busy": "2023-04-11T21:37:39.020969Z",
     "iopub.status.idle": "2023-04-11T21:37:39.030348Z",
     "shell.execute_reply": "2023-04-11T21:37:39.029095Z"
    },
    "papermill": {
     "duration": 0.02586,
     "end_time": "2023-04-11T21:37:39.032894",
     "exception": false,
     "start_time": "2023-04-11T21:37:39.007034",
     "status": "completed"
    },
    "tags": []
   },
   "outputs": [
    {
     "data": {
      "text/plain": [
       "array([   0, 2042, 1408, 1902, 1573, 1887, 1719, 1762, 1564, 2179, 1816,\n",
       "       1980, 1977, 1876, 1340, 2206, 1741, 1485, 2339, 2415, 1380, 1721,\n",
       "       2051, 2377, 1669, 2352, 1672,  653, 2392, 1504, 2001, 1590, 1651,\n",
       "       1628, 1848, 1740, 2002, 1579, 2258, 1602,  419, 2547, 2174, 2205,\n",
       "       1726, 2444, 1138, 2238,  625,  213, 1539,  880, 1668, 1092, 1594,\n",
       "       3004, 2231, 1844,  810, 2824, 2559, 2057, 1974,  974, 2149, 1825,\n",
       "       1735, 1258, 2129, 2603, 2282,  323, 4356, 2246, 1617, 1648, 2489,\n",
       "       3770, 1755, 3683, 2267, 2080, 2457,  155, 3900, 2201, 1944, 2467,\n",
       "       2163, 2754, 2472, 1411])"
      ]
     },
     "execution_count": 16,
     "metadata": {},
     "output_type": "execute_result"
    }
   ],
   "source": [
    "df['capital-loss'].unique()"
   ]
  },
  {
   "cell_type": "code",
   "execution_count": 17,
   "id": "dbb35ee6",
   "metadata": {
    "execution": {
     "iopub.execute_input": "2023-04-11T21:37:39.060069Z",
     "iopub.status.busy": "2023-04-11T21:37:39.059369Z",
     "iopub.status.idle": "2023-04-11T21:37:39.069252Z",
     "shell.execute_reply": "2023-04-11T21:37:39.068103Z"
    },
    "papermill": {
     "duration": 0.025934,
     "end_time": "2023-04-11T21:37:39.071452",
     "exception": false,
     "start_time": "2023-04-11T21:37:39.045518",
     "status": "completed"
    },
    "tags": []
   },
   "outputs": [
    {
     "data": {
      "text/plain": [
       "0       30890\n",
       "1902      202\n",
       "1977      168\n",
       "1887      159\n",
       "1848       51\n",
       "        ...  \n",
       "2080        1\n",
       "1539        1\n",
       "1844        1\n",
       "2489        1\n",
       "1411        1\n",
       "Name: capital-loss, Length: 92, dtype: int64"
      ]
     },
     "execution_count": 17,
     "metadata": {},
     "output_type": "execute_result"
    }
   ],
   "source": [
    "df['capital-loss'].value_counts()"
   ]
  },
  {
   "cell_type": "code",
   "execution_count": 18,
   "id": "5a5a6124",
   "metadata": {
    "execution": {
     "iopub.execute_input": "2023-04-11T21:37:39.098368Z",
     "iopub.status.busy": "2023-04-11T21:37:39.097947Z",
     "iopub.status.idle": "2023-04-11T21:37:39.133828Z",
     "shell.execute_reply": "2023-04-11T21:37:39.132644Z"
    },
    "papermill": {
     "duration": 0.052586,
     "end_time": "2023-04-11T21:37:39.136525",
     "exception": false,
     "start_time": "2023-04-11T21:37:39.083939",
     "status": "completed"
    },
    "tags": []
   },
   "outputs": [
    {
     "data": {
      "text/html": [
       "<div>\n",
       "<style scoped>\n",
       "    .dataframe tbody tr th:only-of-type {\n",
       "        vertical-align: middle;\n",
       "    }\n",
       "\n",
       "    .dataframe tbody tr th {\n",
       "        vertical-align: top;\n",
       "    }\n",
       "\n",
       "    .dataframe thead th {\n",
       "        text-align: right;\n",
       "    }\n",
       "</style>\n",
       "<table border=\"1\" class=\"dataframe\">\n",
       "  <thead>\n",
       "    <tr style=\"text-align: right;\">\n",
       "      <th></th>\n",
       "      <th>age</th>\n",
       "      <th>fnlwgt</th>\n",
       "      <th>education-num</th>\n",
       "      <th>capital-gain</th>\n",
       "      <th>capital-loss</th>\n",
       "      <th>hours-per-week</th>\n",
       "    </tr>\n",
       "  </thead>\n",
       "  <tbody>\n",
       "    <tr>\n",
       "      <th>count</th>\n",
       "      <td>32412.000000</td>\n",
       "      <td>3.241200e+04</td>\n",
       "      <td>32412.000000</td>\n",
       "      <td>32412.000000</td>\n",
       "      <td>32412.000000</td>\n",
       "      <td>32412.000000</td>\n",
       "    </tr>\n",
       "    <tr>\n",
       "      <th>mean</th>\n",
       "      <td>38.561088</td>\n",
       "      <td>1.897936e+05</td>\n",
       "      <td>10.066827</td>\n",
       "      <td>592.048717</td>\n",
       "      <td>87.864279</td>\n",
       "      <td>40.406300</td>\n",
       "    </tr>\n",
       "    <tr>\n",
       "      <th>std</th>\n",
       "      <td>13.746646</td>\n",
       "      <td>1.056132e+05</td>\n",
       "      <td>2.565253</td>\n",
       "      <td>2559.885541</td>\n",
       "      <td>404.145761</td>\n",
       "      <td>12.424156</td>\n",
       "    </tr>\n",
       "    <tr>\n",
       "      <th>min</th>\n",
       "      <td>0.000000</td>\n",
       "      <td>1.228500e+04</td>\n",
       "      <td>1.000000</td>\n",
       "      <td>0.000000</td>\n",
       "      <td>0.000000</td>\n",
       "      <td>1.000000</td>\n",
       "    </tr>\n",
       "    <tr>\n",
       "      <th>25%</th>\n",
       "      <td>28.000000</td>\n",
       "      <td>1.177905e+05</td>\n",
       "      <td>9.000000</td>\n",
       "      <td>0.000000</td>\n",
       "      <td>0.000000</td>\n",
       "      <td>40.000000</td>\n",
       "    </tr>\n",
       "    <tr>\n",
       "      <th>50%</th>\n",
       "      <td>37.000000</td>\n",
       "      <td>1.783875e+05</td>\n",
       "      <td>10.000000</td>\n",
       "      <td>0.000000</td>\n",
       "      <td>0.000000</td>\n",
       "      <td>40.000000</td>\n",
       "    </tr>\n",
       "    <tr>\n",
       "      <th>75%</th>\n",
       "      <td>48.000000</td>\n",
       "      <td>2.370938e+05</td>\n",
       "      <td>12.000000</td>\n",
       "      <td>0.000000</td>\n",
       "      <td>0.000000</td>\n",
       "      <td>45.000000</td>\n",
       "    </tr>\n",
       "    <tr>\n",
       "      <th>max</th>\n",
       "      <td>250.000000</td>\n",
       "      <td>1.484705e+06</td>\n",
       "      <td>16.000000</td>\n",
       "      <td>41310.000000</td>\n",
       "      <td>4356.000000</td>\n",
       "      <td>202.000000</td>\n",
       "    </tr>\n",
       "  </tbody>\n",
       "</table>\n",
       "</div>"
      ],
      "text/plain": [
       "                age        fnlwgt  education-num  capital-gain  capital-loss  \\\n",
       "count  32412.000000  3.241200e+04   32412.000000  32412.000000  32412.000000   \n",
       "mean      38.561088  1.897936e+05      10.066827    592.048717     87.864279   \n",
       "std       13.746646  1.056132e+05       2.565253   2559.885541    404.145761   \n",
       "min        0.000000  1.228500e+04       1.000000      0.000000      0.000000   \n",
       "25%       28.000000  1.177905e+05       9.000000      0.000000      0.000000   \n",
       "50%       37.000000  1.783875e+05      10.000000      0.000000      0.000000   \n",
       "75%       48.000000  2.370938e+05      12.000000      0.000000      0.000000   \n",
       "max      250.000000  1.484705e+06      16.000000  41310.000000   4356.000000   \n",
       "\n",
       "       hours-per-week  \n",
       "count    32412.000000  \n",
       "mean        40.406300  \n",
       "std         12.424156  \n",
       "min          1.000000  \n",
       "25%         40.000000  \n",
       "50%         40.000000  \n",
       "75%         45.000000  \n",
       "max        202.000000  "
      ]
     },
     "execution_count": 18,
     "metadata": {},
     "output_type": "execute_result"
    }
   ],
   "source": [
    "df.describe()"
   ]
  },
  {
   "cell_type": "code",
   "execution_count": 19,
   "id": "fab97e8d",
   "metadata": {
    "execution": {
     "iopub.execute_input": "2023-04-11T21:37:39.164559Z",
     "iopub.status.busy": "2023-04-11T21:37:39.163444Z",
     "iopub.status.idle": "2023-04-11T21:37:39.173710Z",
     "shell.execute_reply": "2023-04-11T21:37:39.172570Z"
    },
    "papermill": {
     "duration": 0.02687,
     "end_time": "2023-04-11T21:37:39.176185",
     "exception": false,
     "start_time": "2023-04-11T21:37:39.149315",
     "status": "completed"
    },
    "tags": []
   },
   "outputs": [
    {
     "data": {
      "text/plain": [
       "array(['<=80K', '>80K'], dtype=object)"
      ]
     },
     "execution_count": 19,
     "metadata": {},
     "output_type": "execute_result"
    }
   ],
   "source": [
    "df['salary'].unique()"
   ]
  },
  {
   "cell_type": "code",
   "execution_count": 20,
   "id": "5c91fb25",
   "metadata": {
    "execution": {
     "iopub.execute_input": "2023-04-11T21:37:39.203858Z",
     "iopub.status.busy": "2023-04-11T21:37:39.203392Z",
     "iopub.status.idle": "2023-04-11T21:37:39.446205Z",
     "shell.execute_reply": "2023-04-11T21:37:39.444927Z"
    },
    "papermill": {
     "duration": 0.259513,
     "end_time": "2023-04-11T21:37:39.448685",
     "exception": false,
     "start_time": "2023-04-11T21:37:39.189172",
     "status": "completed"
    },
    "tags": []
   },
   "outputs": [
    {
     "data": {
      "text/plain": [
       "<AxesSubplot:xlabel='salary', ylabel='count'>"
      ]
     },
     "execution_count": 20,
     "metadata": {},
     "output_type": "execute_result"
    },
    {
     "data": {
      "image/png": "[encoded data removed]",
      "text/plain": [
       "<Figure size 640x480 with 1 Axes>"
      ]
     },
     "metadata": {},
     "output_type": "display_data"
    }
   ],
   "source": [
    "# df['salary'] = df['salary'].apply(lambda x: 0 if x == '<=80K' else 1)\n",
    "sns.countplot(x='salary',data=df)"
   ]
  },
  {
   "cell_type": "code",
   "execution_count": 21,
   "id": "4b0b8adf",
   "metadata": {
    "execution": {
     "iopub.execute_input": "2023-04-11T21:37:39.477876Z",
     "iopub.status.busy": "2023-04-11T21:37:39.477437Z",
     "iopub.status.idle": "2023-04-11T21:37:39.485318Z",
     "shell.execute_reply": "2023-04-11T21:37:39.483948Z"
    },
    "papermill": {
     "duration": 0.025113,
     "end_time": "2023-04-11T21:37:39.487705",
     "exception": false,
     "start_time": "2023-04-11T21:37:39.462592",
     "status": "completed"
    },
    "tags": []
   },
   "outputs": [],
   "source": [
    "numerical_features = ['age','fnlwgt','capital-gain','capital-loss','hours-per-week']\n",
    "ndf = df[numerical_features]"
   ]
  },
  {
   "cell_type": "code",
   "execution_count": 22,
   "id": "855ad234",
   "metadata": {
    "execution": {
     "iopub.execute_input": "2023-04-11T21:37:39.516556Z",
     "iopub.status.busy": "2023-04-11T21:37:39.515865Z",
     "iopub.status.idle": "2023-04-11T21:37:39.545994Z",
     "shell.execute_reply": "2023-04-11T21:37:39.544553Z"
    },
    "papermill": {
     "duration": 0.047813,
     "end_time": "2023-04-11T21:37:39.548898",
     "exception": false,
     "start_time": "2023-04-11T21:37:39.501085",
     "status": "completed"
    },
    "tags": []
   },
   "outputs": [],
   "source": [
    "df['salary'] = df['salary'].apply(lambda x: 0 if x == '<=80K' else 1)\n",
    "X_train, X_test, y_train, y_test = train_test_split(ndf, \n",
    "                                                    df['salary'], test_size=0.20, \n",
    "                                                    random_state=100)"
   ]
  },
  {
   "cell_type": "code",
   "execution_count": 23,
   "id": "371ff258",
   "metadata": {
    "execution": {
     "iopub.execute_input": "2023-04-11T21:37:39.577220Z",
     "iopub.status.busy": "2023-04-11T21:37:39.576811Z",
     "iopub.status.idle": "2023-04-11T21:37:39.584991Z",
     "shell.execute_reply": "2023-04-11T21:37:39.583809Z"
    },
    "papermill": {
     "duration": 0.025042,
     "end_time": "2023-04-11T21:37:39.587317",
     "exception": false,
     "start_time": "2023-04-11T21:37:39.562275",
     "status": "completed"
    },
    "tags": []
   },
   "outputs": [
    {
     "data": {
      "text/plain": [
       "array([0, 1])"
      ]
     },
     "execution_count": 23,
     "metadata": {},
     "output_type": "execute_result"
    }
   ],
   "source": [
    "df.salary.unique()"
   ]
  },
  {
   "cell_type": "markdown",
   "id": "829739ac",
   "metadata": {
    "papermill": {
     "duration": 0.013226,
     "end_time": "2023-04-11T21:37:39.614406",
     "exception": false,
     "start_time": "2023-04-11T21:37:39.601180",
     "status": "completed"
    },
    "tags": []
   },
   "source": [
    "### Before you try any more advance models, let's try a LogisticRegression model"
   ]
  },
  {
   "cell_type": "code",
   "execution_count": 24,
   "id": "f6ea4e0e",
   "metadata": {
    "execution": {
     "iopub.execute_input": "2023-04-11T21:37:39.643932Z",
     "iopub.status.busy": "2023-04-11T21:37:39.642746Z",
     "iopub.status.idle": "2023-04-11T21:37:39.875469Z",
     "shell.execute_reply": "2023-04-11T21:37:39.873694Z"
    },
    "papermill": {
     "duration": 0.251921,
     "end_time": "2023-04-11T21:37:39.879991",
     "exception": false,
     "start_time": "2023-04-11T21:37:39.628070",
     "status": "completed"
    },
    "tags": []
   },
   "outputs": [
    {
     "data": {
      "text/plain": [
       "LogisticRegression(random_state=100)"
      ]
     },
     "execution_count": 24,
     "metadata": {},
     "output_type": "execute_result"
    }
   ],
   "source": [
    "model = LogisticRegression(random_state=100) # random_state=100\n",
    "model.fit(X_train,y_train)"
   ]
  },
  {
   "cell_type": "code",
   "execution_count": 25,
   "id": "5db5148d",
   "metadata": {
    "execution": {
     "iopub.execute_input": "2023-04-11T21:37:39.954952Z",
     "iopub.status.busy": "2023-04-11T21:37:39.954163Z",
     "iopub.status.idle": "2023-04-11T21:37:39.970902Z",
     "shell.execute_reply": "2023-04-11T21:37:39.969148Z"
    },
    "papermill": {
     "duration": 0.059665,
     "end_time": "2023-04-11T21:37:39.976338",
     "exception": false,
     "start_time": "2023-04-11T21:37:39.916673",
     "status": "completed"
    },
    "tags": []
   },
   "outputs": [],
   "source": [
    "predictions = model.predict(X_test)"
   ]
  },
  {
   "cell_type": "code",
   "execution_count": 26,
   "id": "b24d372e",
   "metadata": {
    "execution": {
     "iopub.execute_input": "2023-04-11T21:37:40.050983Z",
     "iopub.status.busy": "2023-04-11T21:37:40.050247Z",
     "iopub.status.idle": "2023-04-11T21:37:40.091741Z",
     "shell.execute_reply": "2023-04-11T21:37:40.090136Z"
    },
    "papermill": {
     "duration": 0.081292,
     "end_time": "2023-04-11T21:37:40.094446",
     "exception": false,
     "start_time": "2023-04-11T21:37:40.013154",
     "status": "completed"
    },
    "tags": []
   },
   "outputs": [
    {
     "name": "stdout",
     "output_type": "stream",
     "text": [
      "              precision    recall  f1-score   support\n",
      "\n",
      "           0       0.81      0.97      0.88      5003\n",
      "           1       0.68      0.24      0.35      1480\n",
      "\n",
      "    accuracy                           0.80      6483\n",
      "   macro avg       0.75      0.60      0.62      6483\n",
      "weighted avg       0.78      0.80      0.76      6483\n",
      "\n",
      "0.8002467993213018\n"
     ]
    }
   ],
   "source": [
    "print(classification_report(y_test,predictions))\n",
    "print(accuracy_score(y_test, predictions))"
   ]
  },
  {
   "cell_type": "code",
   "execution_count": 27,
   "id": "cd5dcaa4",
   "metadata": {
    "execution": {
     "iopub.execute_input": "2023-04-11T21:37:40.123996Z",
     "iopub.status.busy": "2023-04-11T21:37:40.122781Z",
     "iopub.status.idle": "2023-04-11T21:37:42.930350Z",
     "shell.execute_reply": "2023-04-11T21:37:42.928553Z"
    },
    "papermill": {
     "duration": 2.827609,
     "end_time": "2023-04-11T21:37:42.935635",
     "exception": false,
     "start_time": "2023-04-11T21:37:40.108026",
     "status": "completed"
    },
    "tags": []
   },
   "outputs": [
    {
     "name": "stdout",
     "output_type": "stream",
     "text": [
      "              precision    recall  f1-score   support\n",
      "\n",
      "           0       0.81      0.97      0.88      5003\n",
      "           1       0.68      0.24      0.35      1480\n",
      "\n",
      "    accuracy                           0.80      6483\n",
      "   macro avg       0.75      0.60      0.62      6483\n",
      "weighted avg       0.78      0.80      0.76      6483\n",
      "\n",
      "0.8002467993213018\n",
      "              precision    recall  f1-score   support\n",
      "\n",
      "           0       0.81      0.97      0.88      5003\n",
      "           1       0.68      0.24      0.35      1480\n",
      "\n",
      "    accuracy                           0.80      6483\n",
      "   macro avg       0.75      0.60      0.62      6483\n",
      "weighted avg       0.78      0.80      0.76      6483\n",
      "\n",
      "0.8002467993213018\n",
      "              precision    recall  f1-score   support\n",
      "\n",
      "           0       0.81      0.97      0.88      5003\n",
      "           1       0.68      0.24      0.35      1480\n",
      "\n",
      "    accuracy                           0.80      6483\n",
      "   macro avg       0.75      0.60      0.62      6483\n",
      "weighted avg       0.78      0.80      0.76      6483\n",
      "\n",
      "0.8002467993213018\n",
      "              precision    recall  f1-score   support\n",
      "\n",
      "           0       0.81      0.97      0.88      5003\n",
      "           1       0.68      0.24      0.35      1480\n",
      "\n",
      "    accuracy                           0.80      6483\n",
      "   macro avg       0.75      0.60      0.62      6483\n",
      "weighted avg       0.78      0.80      0.76      6483\n",
      "\n",
      "0.8002467993213018\n",
      "              precision    recall  f1-score   support\n",
      "\n",
      "           0       0.81      0.97      0.88      5003\n",
      "           1       0.68      0.24      0.35      1480\n",
      "\n",
      "    accuracy                           0.80      6483\n",
      "   macro avg       0.75      0.60      0.62      6483\n",
      "weighted avg       0.78      0.80      0.76      6483\n",
      "\n",
      "0.8002467993213018\n",
      "              precision    recall  f1-score   support\n",
      "\n",
      "           0       0.81      0.97      0.88      5003\n",
      "           1       0.68      0.24      0.35      1480\n",
      "\n",
      "    accuracy                           0.80      6483\n",
      "   macro avg       0.75      0.60      0.62      6483\n",
      "weighted avg       0.78      0.80      0.76      6483\n",
      "\n",
      "0.8002467993213018\n",
      "              precision    recall  f1-score   support\n",
      "\n",
      "           0       0.81      0.97      0.88      5003\n",
      "           1       0.68      0.24      0.35      1480\n",
      "\n",
      "    accuracy                           0.80      6483\n",
      "   macro avg       0.75      0.60      0.62      6483\n",
      "weighted avg       0.78      0.80      0.76      6483\n",
      "\n",
      "0.8002467993213018\n",
      "              precision    recall  f1-score   support\n",
      "\n",
      "           0       0.81      0.97      0.88      5003\n",
      "           1       0.68      0.24      0.35      1480\n",
      "\n",
      "    accuracy                           0.80      6483\n",
      "   macro avg       0.75      0.60      0.62      6483\n",
      "weighted avg       0.78      0.80      0.76      6483\n",
      "\n",
      "0.8002467993213018\n",
      "              precision    recall  f1-score   support\n",
      "\n",
      "           0       0.81      0.97      0.88      5003\n",
      "           1       0.68      0.24      0.35      1480\n",
      "\n",
      "    accuracy                           0.80      6483\n",
      "   macro avg       0.75      0.60      0.62      6483\n",
      "weighted avg       0.78      0.80      0.76      6483\n",
      "\n",
      "0.8002467993213018\n",
      "              precision    recall  f1-score   support\n",
      "\n",
      "           0       0.81      0.97      0.88      5003\n",
      "           1       0.68      0.24      0.35      1480\n",
      "\n",
      "    accuracy                           0.80      6483\n",
      "   macro avg       0.75      0.60      0.62      6483\n",
      "weighted avg       0.78      0.80      0.76      6483\n",
      "\n",
      "0.8002467993213018\n"
     ]
    }
   ],
   "source": [
    "# Type in your code and answers\n",
    "# perform a 10-fold cross validation\n",
    "for i in range(10):\n",
    "    X_train, X_test, Y_train, Y_test = train_test_split(ndf, df.salary, test_size=0.2, random_state = i*42)\n",
    "    model = LogisticRegression(random_state=i*42)\n",
    "    model.fit(X_train, Y_train)\n",
    "    Y_pred = model.predict(X_test)\n",
    "    print(classification_report(y_test,predictions))\n",
    "    print(accuracy_score(y_test, predictions))"
   ]
  },
  {
   "cell_type": "code",
   "execution_count": 28,
   "id": "9b96ac2a",
   "metadata": {
    "execution": {
     "iopub.execute_input": "2023-04-11T21:37:43.013438Z",
     "iopub.status.busy": "2023-04-11T21:37:43.013009Z",
     "iopub.status.idle": "2023-04-11T21:37:43.018534Z",
     "shell.execute_reply": "2023-04-11T21:37:43.017209Z"
    },
    "papermill": {
     "duration": 0.047453,
     "end_time": "2023-04-11T21:37:43.020987",
     "exception": false,
     "start_time": "2023-04-11T21:37:42.973534",
     "status": "completed"
    },
    "tags": []
   },
   "outputs": [],
   "source": [
    "from sklearn.ensemble import RandomForestClassifier, VotingClassifier, BaggingClassifier, AdaBoostClassifier\n",
    "from sklearn.tree import DecisionTreeClassifier"
   ]
  },
  {
   "cell_type": "code",
   "execution_count": 29,
   "id": "6056b6bf",
   "metadata": {
    "execution": {
     "iopub.execute_input": "2023-04-11T21:37:43.052160Z",
     "iopub.status.busy": "2023-04-11T21:37:43.051302Z",
     "iopub.status.idle": "2023-04-11T21:37:45.264243Z",
     "shell.execute_reply": "2023-04-11T21:37:45.262716Z"
    },
    "papermill": {
     "duration": 2.231292,
     "end_time": "2023-04-11T21:37:45.266727",
     "exception": false,
     "start_time": "2023-04-11T21:37:43.035435",
     "status": "completed"
    },
    "tags": []
   },
   "outputs": [
    {
     "name": "stdout",
     "output_type": "stream",
     "text": [
      "              precision    recall  f1-score   support\n",
      "\n",
      "           0       0.77      1.00      0.87      5003\n",
      "           1       0.00      0.00      0.00      1480\n",
      "\n",
      "    accuracy                           0.77      6483\n",
      "   macro avg       0.39      0.50      0.44      6483\n",
      "weighted avg       0.60      0.77      0.67      6483\n",
      "\n",
      "0.7717106277957736\n"
     ]
    }
   ],
   "source": [
    "bag_clf = BaggingClassifier(\n",
    "    DecisionTreeClassifier(random_state=100), n_estimators=500,\n",
    "    max_samples=100, bootstrap=True, random_state=100)\n",
    "bag_clf.fit(X_train, y_train)\n",
    "y_pred = bag_clf.predict(X_test)\n",
    "\n",
    "print(classification_report(y_test, y_pred))\n",
    "print(accuracy_score(y_test, y_pred))"
   ]
  },
  {
   "cell_type": "code",
   "execution_count": 30,
   "id": "e5eac376",
   "metadata": {
    "execution": {
     "iopub.execute_input": "2023-04-11T21:37:45.297662Z",
     "iopub.status.busy": "2023-04-11T21:37:45.296890Z",
     "iopub.status.idle": "2023-04-11T21:37:52.513096Z",
     "shell.execute_reply": "2023-04-11T21:37:52.511829Z"
    },
    "papermill": {
     "duration": 7.234524,
     "end_time": "2023-04-11T21:37:52.515496",
     "exception": false,
     "start_time": "2023-04-11T21:37:45.280972",
     "status": "completed"
    },
    "tags": []
   },
   "outputs": [
    {
     "name": "stdout",
     "output_type": "stream",
     "text": [
      "              precision    recall  f1-score   support\n",
      "\n",
      "           0       0.77      0.96      0.86      5003\n",
      "           1       0.23      0.04      0.07      1480\n",
      "\n",
      "    accuracy                           0.75      6483\n",
      "   macro avg       0.50      0.50      0.46      6483\n",
      "weighted avg       0.65      0.75      0.68      6483\n",
      "\n",
      "0.7501156871818603\n"
     ]
    }
   ],
   "source": [
    "ada_clf = AdaBoostClassifier(DecisionTreeClassifier(max_depth=4), n_estimators=200, \n",
    "                             learning_rate=0.5, random_state=100)\n",
    "ada_clf.fit(X_train, y_train)\n",
    "\n",
    "y_pred = ada_clf.predict(X_test)\n",
    "\n",
    "print(classification_report(y_test, y_pred))\n",
    "print(accuracy_score(y_test, y_pred))"
   ]
  },
  {
   "cell_type": "code",
   "execution_count": 31,
   "id": "26eb0d0b",
   "metadata": {
    "execution": {
     "iopub.execute_input": "2023-04-11T21:37:52.546486Z",
     "iopub.status.busy": "2023-04-11T21:37:52.545438Z",
     "iopub.status.idle": "2023-04-11T21:37:54.613121Z",
     "shell.execute_reply": "2023-04-11T21:37:54.611650Z"
    },
    "papermill": {
     "duration": 2.086231,
     "end_time": "2023-04-11T21:37:54.615986",
     "exception": false,
     "start_time": "2023-04-11T21:37:52.529755",
     "status": "completed"
    },
    "tags": []
   },
   "outputs": [
    {
     "name": "stdout",
     "output_type": "stream",
     "text": [
      "              precision    recall  f1-score   support\n",
      "\n",
      "           0       0.77      0.99      0.87      5003\n",
      "           1       0.25      0.02      0.03      1480\n",
      "\n",
      "    accuracy                           0.76      6483\n",
      "   macro avg       0.51      0.50      0.45      6483\n",
      "weighted avg       0.65      0.76      0.68      6483\n",
      "\n",
      "0.7639981490050902\n"
     ]
    }
   ],
   "source": [
    "from sklearn.ensemble import GradientBoostingClassifier\n",
    "\n",
    "gb_clf = GradientBoostingClassifier(learning_rate=0.5, random_state=100)\n",
    "gb_clf.fit(X_train, y_train)\n",
    "\n",
    "y_pred = gb_clf.predict(X_test)\n",
    "\n",
    "print(classification_report(y_test, y_pred))\n",
    "print(accuracy_score(y_test, y_pred))"
   ]
  },
  {
   "cell_type": "code",
   "execution_count": 32,
   "id": "25d93751",
   "metadata": {
    "execution": {
     "iopub.execute_input": "2023-04-11T21:37:54.646620Z",
     "iopub.status.busy": "2023-04-11T21:37:54.646216Z",
     "iopub.status.idle": "2023-04-11T21:41:21.961038Z",
     "shell.execute_reply": "2023-04-11T21:41:21.959697Z"
    },
    "papermill": {
     "duration": 207.348004,
     "end_time": "2023-04-11T21:41:21.978295",
     "exception": false,
     "start_time": "2023-04-11T21:37:54.630291",
     "status": "completed"
    },
    "tags": []
   },
   "outputs": [
    {
     "name": "stdout",
     "output_type": "stream",
     "text": [
      "              precision    recall  f1-score   support\n",
      "\n",
      "           0       0.77      1.00      0.87      5003\n",
      "           1       0.00      0.00      0.00      1480\n",
      "\n",
      "    accuracy                           0.77      6483\n",
      "   macro avg       0.39      0.50      0.44      6483\n",
      "weighted avg       0.60      0.77      0.67      6483\n",
      "\n",
      "LogisticRegression 0.7717106277957736\n",
      "\n",
      "\n",
      "              precision    recall  f1-score   support\n",
      "\n",
      "           0       0.77      0.87      0.82      5003\n",
      "           1       0.22      0.12      0.16      1480\n",
      "\n",
      "    accuracy                           0.70      6483\n",
      "   macro avg       0.50      0.50      0.49      6483\n",
      "weighted avg       0.65      0.70      0.67      6483\n",
      "\n",
      "RandomForestClassifier 0.7001388246182323\n",
      "\n",
      "\n",
      "              precision    recall  f1-score   support\n",
      "\n",
      "           0       0.77      1.00      0.87      5003\n",
      "           1       0.00      0.00      0.00      1480\n",
      "\n",
      "    accuracy                           0.77      6483\n",
      "   macro avg       0.39      0.50      0.44      6483\n",
      "weighted avg       0.60      0.77      0.67      6483\n",
      "\n",
      "SVC 0.7717106277957736\n",
      "\n",
      "\n",
      "              precision    recall  f1-score   support\n",
      "\n",
      "           0       0.77      1.00      0.87      5003\n",
      "           1       0.00      0.00      0.00      1480\n",
      "\n",
      "    accuracy                           0.77      6483\n",
      "   macro avg       0.39      0.50      0.44      6483\n",
      "weighted avg       0.60      0.77      0.67      6483\n",
      "\n",
      "VotingClassifier 0.7717106277957736\n"
     ]
    }
   ],
   "source": [
    "from sklearn.svm import SVC\n",
    "from sklearn.ensemble import RandomForestClassifier\n",
    "\n",
    "log_clf = LogisticRegression(random_state=100)\n",
    "rnd_clf = RandomForestClassifier(n_estimators=100, random_state=100)\n",
    "svm_clf = SVC(gamma=\"scale\", probability=True, random_state=100)\n",
    "\n",
    "for clf in (log_clf, rnd_clf, svm_clf):\n",
    "    clf.fit(X_train, y_train)\n",
    "    y_pred = clf.predict(X_test)\n",
    "\n",
    "    print(classification_report(y_test, y_pred))\n",
    "    print(clf.__class__.__name__, accuracy_score(y_test, y_pred))\n",
    "    print('\\n')\n",
    "    \n",
    "voting_clf = VotingClassifier(estimators=[('lr', log_clf), ('rf', rnd_clf), ('svc', svm_clf)], voting='hard')\n",
    "voting_clf.fit(X_train, y_train)\n",
    "y_pred = voting_clf.predict(X_test)\n",
    "\n",
    "print(classification_report(y_test, y_pred))\n",
    "print(voting_clf.__class__.__name__, accuracy_score(y_test, y_pred))"
   ]
  },
  {
   "cell_type": "code",
   "execution_count": 33,
   "id": "f83e406c",
   "metadata": {
    "execution": {
     "iopub.execute_input": "2023-04-11T21:41:22.010240Z",
     "iopub.status.busy": "2023-04-11T21:41:22.009792Z",
     "iopub.status.idle": "2023-04-11T21:41:22.117497Z",
     "shell.execute_reply": "2023-04-11T21:41:22.116510Z"
    },
    "papermill": {
     "duration": 0.127107,
     "end_time": "2023-04-11T21:41:22.120338",
     "exception": false,
     "start_time": "2023-04-11T21:41:21.993231",
     "status": "completed"
    },
    "tags": []
   },
   "outputs": [],
   "source": [
    "try:\n",
    "    import xgboost as xgb\n",
    "except:\n",
    "    import os\n",
    "    os.system(\"pip install xgboost\")"
   ]
  },
  {
   "cell_type": "code",
   "execution_count": 34,
   "id": "c0aa0d5e",
   "metadata": {
    "execution": {
     "iopub.execute_input": "2023-04-11T21:41:22.152075Z",
     "iopub.status.busy": "2023-04-11T21:41:22.151263Z",
     "iopub.status.idle": "2023-04-11T21:41:23.565014Z",
     "shell.execute_reply": "2023-04-11T21:41:23.563229Z"
    },
    "papermill": {
     "duration": 1.432551,
     "end_time": "2023-04-11T21:41:23.567616",
     "exception": false,
     "start_time": "2023-04-11T21:41:22.135065",
     "status": "completed"
    },
    "tags": []
   },
   "outputs": [
    {
     "name": "stdout",
     "output_type": "stream",
     "text": [
      "              precision    recall  f1-score   support\n",
      "\n",
      "           0       0.77      0.98      0.86      5003\n",
      "           1       0.25      0.02      0.04      1480\n",
      "\n",
      "    accuracy                           0.76      6483\n",
      "   macro avg       0.51      0.50      0.45      6483\n",
      "weighted avg       0.65      0.76      0.68      6483\n",
      "\n",
      "0.7616844053678853\n"
     ]
    }
   ],
   "source": [
    "import xgboost as xgb\n",
    "xgb_clf = xgb.XGBClassifier(learning_rate=0.5, random_state=100, use_label_encoder=False)\n",
    "xgb_clf.fit(X_train, y_train)\n",
    "\n",
    "y_pred = xgb_clf.predict(X_test)\n",
    "\n",
    "print(classification_report(y_test, y_pred))\n",
    "print(accuracy_score(y_test, y_pred))"
   ]
  },
  {
   "cell_type": "code",
   "execution_count": 35,
   "id": "61cb0f89",
   "metadata": {
    "execution": {
     "iopub.execute_input": "2023-04-11T21:41:23.599479Z",
     "iopub.status.busy": "2023-04-11T21:41:23.598505Z",
     "iopub.status.idle": "2023-04-11T21:41:23.616166Z",
     "shell.execute_reply": "2023-04-11T21:41:23.615310Z"
    },
    "papermill": {
     "duration": 0.035918,
     "end_time": "2023-04-11T21:41:23.618433",
     "exception": false,
     "start_time": "2023-04-11T21:41:23.582515",
     "status": "completed"
    },
    "tags": []
   },
   "outputs": [
    {
     "data": {
      "text/html": [
       "<div>\n",
       "<style scoped>\n",
       "    .dataframe tbody tr th:only-of-type {\n",
       "        vertical-align: middle;\n",
       "    }\n",
       "\n",
       "    .dataframe tbody tr th {\n",
       "        vertical-align: top;\n",
       "    }\n",
       "\n",
       "    .dataframe thead th {\n",
       "        text-align: right;\n",
       "    }\n",
       "</style>\n",
       "<table border=\"1\" class=\"dataframe\">\n",
       "  <thead>\n",
       "    <tr style=\"text-align: right;\">\n",
       "      <th></th>\n",
       "      <th>age</th>\n",
       "      <th>workclass</th>\n",
       "      <th>fnlwgt</th>\n",
       "      <th>education</th>\n",
       "      <th>education-num</th>\n",
       "      <th>marital-status</th>\n",
       "      <th>occupation</th>\n",
       "      <th>relationship</th>\n",
       "      <th>race</th>\n",
       "      <th>sex</th>\n",
       "      <th>capital-gain</th>\n",
       "      <th>capital-loss</th>\n",
       "      <th>hours-per-week</th>\n",
       "      <th>native-country</th>\n",
       "      <th>salary</th>\n",
       "    </tr>\n",
       "  </thead>\n",
       "  <tbody>\n",
       "    <tr>\n",
       "      <th>0</th>\n",
       "      <td>39</td>\n",
       "      <td>State-gov</td>\n",
       "      <td>77516</td>\n",
       "      <td>Bachelors</td>\n",
       "      <td>13</td>\n",
       "      <td>Never-married</td>\n",
       "      <td>Adm-clerical</td>\n",
       "      <td>Not-in-family</td>\n",
       "      <td>White</td>\n",
       "      <td>Male</td>\n",
       "      <td>2174</td>\n",
       "      <td>0</td>\n",
       "      <td>40</td>\n",
       "      <td>United-States</td>\n",
       "      <td>0</td>\n",
       "    </tr>\n",
       "    <tr>\n",
       "      <th>1</th>\n",
       "      <td>50</td>\n",
       "      <td>Self-emp-not-inc</td>\n",
       "      <td>83311</td>\n",
       "      <td>Bachelors</td>\n",
       "      <td>13</td>\n",
       "      <td>Married-civ-spouse</td>\n",
       "      <td>Exec-managerial</td>\n",
       "      <td>Husband</td>\n",
       "      <td>White</td>\n",
       "      <td>Male</td>\n",
       "      <td>0</td>\n",
       "      <td>0</td>\n",
       "      <td>13</td>\n",
       "      <td>United-States</td>\n",
       "      <td>0</td>\n",
       "    </tr>\n",
       "    <tr>\n",
       "      <th>2</th>\n",
       "      <td>38</td>\n",
       "      <td>Private</td>\n",
       "      <td>215646</td>\n",
       "      <td>HS-grad</td>\n",
       "      <td>9</td>\n",
       "      <td>Divorced</td>\n",
       "      <td>Handlers-cleaners</td>\n",
       "      <td>Not-in-family</td>\n",
       "      <td>White</td>\n",
       "      <td>Male</td>\n",
       "      <td>0</td>\n",
       "      <td>0</td>\n",
       "      <td>40</td>\n",
       "      <td>United-States</td>\n",
       "      <td>0</td>\n",
       "    </tr>\n",
       "    <tr>\n",
       "      <th>3</th>\n",
       "      <td>53</td>\n",
       "      <td>Private</td>\n",
       "      <td>234721</td>\n",
       "      <td>11th</td>\n",
       "      <td>7</td>\n",
       "      <td>Married-civ-spouse</td>\n",
       "      <td>Handlers-cleaners</td>\n",
       "      <td>Husband</td>\n",
       "      <td>Black</td>\n",
       "      <td>Male</td>\n",
       "      <td>0</td>\n",
       "      <td>0</td>\n",
       "      <td>40</td>\n",
       "      <td>United-States</td>\n",
       "      <td>0</td>\n",
       "    </tr>\n",
       "    <tr>\n",
       "      <th>4</th>\n",
       "      <td>28</td>\n",
       "      <td>Private</td>\n",
       "      <td>338409</td>\n",
       "      <td>Bachelors</td>\n",
       "      <td>13</td>\n",
       "      <td>Married-civ-spouse</td>\n",
       "      <td>Prof-specialty</td>\n",
       "      <td>Wife</td>\n",
       "      <td>Black</td>\n",
       "      <td>Female</td>\n",
       "      <td>0</td>\n",
       "      <td>0</td>\n",
       "      <td>40</td>\n",
       "      <td>Cuba</td>\n",
       "      <td>0</td>\n",
       "    </tr>\n",
       "  </tbody>\n",
       "</table>\n",
       "</div>"
      ],
      "text/plain": [
       "   age         workclass  fnlwgt  education  education-num  \\\n",
       "0   39         State-gov   77516  Bachelors             13   \n",
       "1   50  Self-emp-not-inc   83311  Bachelors             13   \n",
       "2   38           Private  215646    HS-grad              9   \n",
       "3   53           Private  234721       11th              7   \n",
       "4   28           Private  338409  Bachelors             13   \n",
       "\n",
       "       marital-status         occupation   relationship   race     sex  \\\n",
       "0       Never-married       Adm-clerical  Not-in-family  White    Male   \n",
       "1  Married-civ-spouse    Exec-managerial        Husband  White    Male   \n",
       "2            Divorced  Handlers-cleaners  Not-in-family  White    Male   \n",
       "3  Married-civ-spouse  Handlers-cleaners        Husband  Black    Male   \n",
       "4  Married-civ-spouse     Prof-specialty           Wife  Black  Female   \n",
       "\n",
       "   capital-gain  capital-loss  hours-per-week native-country  salary  \n",
       "0          2174             0              40  United-States       0  \n",
       "1             0             0              13  United-States       0  \n",
       "2             0             0              40  United-States       0  \n",
       "3             0             0              40  United-States       0  \n",
       "4             0             0              40           Cuba       0  "
      ]
     },
     "execution_count": 35,
     "metadata": {},
     "output_type": "execute_result"
    }
   ],
   "source": [
    "df.head()"
   ]
  },
  {
   "cell_type": "code",
   "execution_count": 36,
   "id": "cb08f910",
   "metadata": {
    "execution": {
     "iopub.execute_input": "2023-04-11T21:41:23.650856Z",
     "iopub.status.busy": "2023-04-11T21:41:23.650048Z",
     "iopub.status.idle": "2023-04-11T21:41:23.663038Z",
     "shell.execute_reply": "2023-04-11T21:41:23.662089Z"
    },
    "papermill": {
     "duration": 0.031633,
     "end_time": "2023-04-11T21:41:23.665267",
     "exception": false,
     "start_time": "2023-04-11T21:41:23.633634",
     "status": "completed"
    },
    "tags": []
   },
   "outputs": [
    {
     "data": {
      "text/plain": [
       "['workclass',\n",
       " 'education',\n",
       " 'marital-status',\n",
       " 'occupation',\n",
       " 'relationship',\n",
       " 'race',\n",
       " 'sex',\n",
       " 'native-country']"
      ]
     },
     "execution_count": 36,
     "metadata": {},
     "output_type": "execute_result"
    }
   ],
   "source": [
    "cat = df.select_dtypes(include=['object']).columns.tolist()\n",
    "cat"
   ]
  },
  {
   "cell_type": "code",
   "execution_count": 37,
   "id": "9d9e7b91",
   "metadata": {
    "execution": {
     "iopub.execute_input": "2023-04-11T21:41:23.698502Z",
     "iopub.status.busy": "2023-04-11T21:41:23.697640Z",
     "iopub.status.idle": "2023-04-11T21:41:23.730924Z",
     "shell.execute_reply": "2023-04-11T21:41:23.729746Z"
    },
    "papermill": {
     "duration": 0.053001,
     "end_time": "2023-04-11T21:41:23.733569",
     "exception": false,
     "start_time": "2023-04-11T21:41:23.680568",
     "status": "completed"
    },
    "tags": []
   },
   "outputs": [
    {
     "data": {
      "text/plain": [
       "workclass          9\n",
       "education         16\n",
       "marital-status     7\n",
       "occupation        15\n",
       "relationship       6\n",
       "race               5\n",
       "sex                2\n",
       "native-country    42\n",
       "dtype: int64"
      ]
     },
     "execution_count": 37,
     "metadata": {},
     "output_type": "execute_result"
    }
   ],
   "source": [
    "df[cat].nunique()"
   ]
  },
  {
   "cell_type": "code",
   "execution_count": 38,
   "id": "8e73ca0a",
   "metadata": {
    "execution": {
     "iopub.execute_input": "2023-04-11T21:41:23.767639Z",
     "iopub.status.busy": "2023-04-11T21:41:23.766859Z",
     "iopub.status.idle": "2023-04-11T21:41:23.816325Z",
     "shell.execute_reply": "2023-04-11T21:41:23.815431Z"
    },
    "papermill": {
     "duration": 0.068823,
     "end_time": "2023-04-11T21:41:23.818808",
     "exception": false,
     "start_time": "2023-04-11T21:41:23.749985",
     "status": "completed"
    },
    "tags": []
   },
   "outputs": [
    {
     "data": {
      "text/plain": [
       "(32412, 109)"
      ]
     },
     "execution_count": 38,
     "metadata": {},
     "output_type": "execute_result"
    }
   ],
   "source": [
    "with_cat_df = pd.get_dummies(df, columns=cat)\n",
    "with_cat_df.shape"
   ]
  },
  {
   "cell_type": "code",
   "execution_count": 39,
   "id": "43e135b0",
   "metadata": {
    "execution": {
     "iopub.execute_input": "2023-04-11T21:41:23.852428Z",
     "iopub.status.busy": "2023-04-11T21:41:23.851648Z",
     "iopub.status.idle": "2023-04-11T21:41:29.661376Z",
     "shell.execute_reply": "2023-04-11T21:41:29.660043Z"
    },
    "papermill": {
     "duration": 5.829486,
     "end_time": "2023-04-11T21:41:29.664043",
     "exception": false,
     "start_time": "2023-04-11T21:41:23.834557",
     "status": "completed"
    },
    "tags": []
   },
   "outputs": [
    {
     "name": "stdout",
     "output_type": "stream",
     "text": [
      "              precision    recall  f1-score   support\n",
      "\n",
      "           0       0.90      0.93      0.91      5003\n",
      "           1       0.73      0.65      0.69      1480\n",
      "\n",
      "    accuracy                           0.87      6483\n",
      "   macro avg       0.82      0.79      0.80      6483\n",
      "weighted avg       0.86      0.87      0.86      6483\n",
      "\n",
      "0.8665741169211785\n"
     ]
    }
   ],
   "source": [
    "X,y = with_cat_df.drop('salary',axis=1),with_cat_df.salary\n",
    "X_train, X_test, y_train, y_test = train_test_split(X, \n",
    "                                                    y, test_size=0.20, \n",
    "                                                    random_state=100)\n",
    "\n",
    "xgb_clf = xgb.XGBClassifier(learning_rate=0.5, random_state=100, use_label_encoder=False)\n",
    "xgb_clf.fit(X_train, y_train)\n",
    "\n",
    "y_pred = xgb_clf.predict(X_test)\n",
    "\n",
    "print(classification_report(y_test, y_pred))\n",
    "print(accuracy_score(y_test, y_pred))"
   ]
  }
 ],
 "metadata": {
  "kernelspec": {
   "display_name": "Python 3",
   "language": "python",
   "name": "python3"
  },
  "language_info": {
   "codemirror_mode": {
    "name": "ipython",
    "version": 3
   },
   "file_extension": ".py",
   "mimetype": "text/x-python",
   "name": "python",
   "nbconvert_exporter": "python",
   "pygments_lexer": "ipython3",
   "version": "3.7.12"
  },
  "papermill": {
   "default_parameters": {},
   "duration": 245.098349,
   "end_time": "2023-04-11T21:41:30.505376",
   "environment_variables": {},
   "exception": null,
   "input_path": "__notebook__.ipynb",
   "output_path": "__notebook__.ipynb",
   "parameters": {},
   "start_time": "2023-04-11T21:37:25.407027",
   "version": "2.4.0"
  }
 },
 "nbformat": 4,
 "nbformat_minor": 5
}
