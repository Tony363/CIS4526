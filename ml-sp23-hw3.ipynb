{
 "cells": [
  {
   "cell_type": "markdown",
   "id": "2cec6174",
   "metadata": {
    "papermill": {
     "duration": 0.012595,
     "end_time": "2023-04-17T17:35:10.492113",
     "exception": false,
     "start_time": "2023-04-17T17:35:10.479518",
     "status": "completed"
    },
    "tags": []
   },
   "source": [
    "# CIS 4526 Sp23 HomeWork 3"
   ]
  },
  {
   "cell_type": "code",
   "execution_count": 1,
   "id": "980eaccd",
   "metadata": {
    "execution": {
     "iopub.execute_input": "2023-04-17T17:35:10.516885Z",
     "iopub.status.busy": "2023-04-17T17:35:10.516488Z",
     "iopub.status.idle": "2023-04-17T17:35:11.888933Z",
     "shell.execute_reply": "2023-04-17T17:35:11.887803Z"
    },
    "papermill": {
     "duration": 1.387996,
     "end_time": "2023-04-17T17:35:11.891626",
     "exception": false,
     "start_time": "2023-04-17T17:35:10.503630",
     "status": "completed"
    },
    "tags": []
   },
   "outputs": [],
   "source": [
    "import numpy as np\n",
    "import pandas as pd\n",
    "import matplotlib.pyplot as plt\n",
    "import seaborn as sns\n",
    "import warnings\n",
    "warnings.filterwarnings('ignore')\n",
    "from sklearn.model_selection import train_test_split"
   ]
  },
  {
   "cell_type": "code",
   "execution_count": 2,
   "id": "046c3891",
   "metadata": {
    "execution": {
     "iopub.execute_input": "2023-04-17T17:35:11.916918Z",
     "iopub.status.busy": "2023-04-17T17:35:11.916029Z",
     "iopub.status.idle": "2023-04-17T17:35:12.301962Z",
     "shell.execute_reply": "2023-04-17T17:35:12.300657Z"
    },
    "papermill": {
     "duration": 0.402265,
     "end_time": "2023-04-17T17:35:12.305415",
     "exception": false,
     "start_time": "2023-04-17T17:35:11.903150",
     "status": "completed"
    },
    "tags": []
   },
   "outputs": [],
   "source": [
    "from sklearn.model_selection import train_test_split\n",
    "from sklearn.linear_model import LogisticRegression\n",
    "from sklearn import svm\n",
    "from sklearn.ensemble import RandomForestClassifier\n",
    "from sklearn.tree import DecisionTreeClassifier"
   ]
  },
  {
   "cell_type": "code",
   "execution_count": 3,
   "id": "f3f4087a",
   "metadata": {
    "execution": {
     "iopub.execute_input": "2023-04-17T17:35:12.337804Z",
     "iopub.status.busy": "2023-04-17T17:35:12.337257Z",
     "iopub.status.idle": "2023-04-17T17:35:12.344857Z",
     "shell.execute_reply": "2023-04-17T17:35:12.343358Z"
    },
    "papermill": {
     "duration": 0.024405,
     "end_time": "2023-04-17T17:35:12.347290",
     "exception": false,
     "start_time": "2023-04-17T17:35:12.322885",
     "status": "completed"
    },
    "tags": []
   },
   "outputs": [],
   "source": [
    "from sklearn.metrics import classification_report,confusion_matrix,accuracy_score"
   ]
  },
  {
   "cell_type": "markdown",
   "id": "161422d4",
   "metadata": {
    "papermill": {
     "duration": 0.017165,
     "end_time": "2023-04-17T17:35:12.377816",
     "exception": false,
     "start_time": "2023-04-17T17:35:12.360651",
     "status": "completed"
    },
    "tags": []
   },
   "source": [
    "### Dataset is based on an census income data\n",
    "https://archive.ics.uci.edu/ml/datasets/census+income\n"
   ]
  },
  {
   "cell_type": "markdown",
   "id": "3b17bb99",
   "metadata": {
    "papermill": {
     "duration": 0.011815,
     "end_time": "2023-04-17T17:35:12.403876",
     "exception": false,
     "start_time": "2023-04-17T17:35:12.392061",
     "status": "completed"
    },
    "tags": []
   },
   "source": [
    "Data Set Information:\n",
    "\n",
    "Extraction was done by Barry Becker from the 1994 Census database. \n",
    "\n",
    "\n",
    "Attribute Information:\n",
    "\n",
    "Listing of attributes:\n",
    "\n",
    "* The last column >50K, <=50K is the target variable indicating whether the people earn less than or larger than 50K per year\n",
    "\n",
    "* age: continuous.\n",
    "* workclass: Private, Self-emp-not-inc, Self-emp-inc, Federal-gov, Local-gov, State-gov, Without-pay, Never-worked.\n",
    "* fnlwgt: continuous.\n",
    "* education: Bachelors, Some-college, 11th, HS-grad, Prof-school, Assoc-acdm, Assoc-voc, 9th, 7th-8th, 12th, Masters, 1st-4th, 10th, Doctorate, 5th-6th, Preschool.\n",
    "* education-num: continuous.\n",
    "* marital-status: Married-civ-spouse, Divorced, Never-married, Separated, Widowed, Married-spouse-absent, Married-AF-spouse.\n",
    "* occupation: Tech-support, Craft-repair, Other-service, Sales, Exec-managerial, Prof-specialty, Handlers-cleaners, Machine-op-inspct, Adm-clerical, Farming-fishing, Transport-moving, Priv-house-serv, Protective-serv, Armed-Forces.\n",
    "* relationship: Wife, Own-child, Husband, Not-in-family, Other-relative, Unmarried.\n",
    "* race: White, Asian-Pac-Islander, Amer-Indian-Eskimo, Other, Black.\n",
    "* sex: Female, Male.\n",
    "* capital-gain: continuous.\n",
    "* capital-loss: continuous.\n",
    "* hours-per-week: continuous.\n",
    "* native-country: United-States, Cambodia, England, Puerto-Rico, Canada, Germany, Outlying-US(Guam-USVI-etc), India, Japan, Greece, South, China, Cuba, Iran, Honduras, Philippines, Italy, Poland, Jamaica, Vietnam, Mexico, Portugal, Ireland, France, Dominican-Republic, Laos, Ecuador, Taiwan, Haiti, Columbia, Hungary, Guatemala, Nicaragua, Scotland, Thailand, Yugoslavia, El-Salvador, Trinadad&Tobago, Peru, Hong, Holand-Netherlands.\n",
    "\n"
   ]
  },
  {
   "cell_type": "markdown",
   "id": "a2dec6e0",
   "metadata": {
    "papermill": {
     "duration": 0.011124,
     "end_time": "2023-04-17T17:35:12.426559",
     "exception": false,
     "start_time": "2023-04-17T17:35:12.415435",
     "status": "completed"
    },
    "tags": []
   },
   "source": [
    "### However, I have modified the dataset and so you will need to load the dataset by reading a csv file I provided. In particular, I changed 50K to 80K just to reflect the inflation "
   ]
  },
  {
   "cell_type": "code",
   "execution_count": 4,
   "id": "b6c5dc3e",
   "metadata": {
    "execution": {
     "iopub.execute_input": "2023-04-17T17:35:12.452149Z",
     "iopub.status.busy": "2023-04-17T17:35:12.451261Z",
     "iopub.status.idle": "2023-04-17T17:35:12.624405Z",
     "shell.execute_reply": "2023-04-17T17:35:12.623560Z"
    },
    "papermill": {
     "duration": 0.190977,
     "end_time": "2023-04-17T17:35:12.629055",
     "exception": false,
     "start_time": "2023-04-17T17:35:12.438078",
     "status": "completed"
    },
    "tags": []
   },
   "outputs": [
    {
     "data": {
      "text/html": [
       "<div>\n",
       "<style scoped>\n",
       "    .dataframe tbody tr th:only-of-type {\n",
       "        vertical-align: middle;\n",
       "    }\n",
       "\n",
       "    .dataframe tbody tr th {\n",
       "        vertical-align: top;\n",
       "    }\n",
       "\n",
       "    .dataframe thead th {\n",
       "        text-align: right;\n",
       "    }\n",
       "</style>\n",
       "<table border=\"1\" class=\"dataframe\">\n",
       "  <thead>\n",
       "    <tr style=\"text-align: right;\">\n",
       "      <th></th>\n",
       "      <th>age</th>\n",
       "      <th>workclass</th>\n",
       "      <th>fnlwgt</th>\n",
       "      <th>education</th>\n",
       "      <th>education-num</th>\n",
       "      <th>marital-status</th>\n",
       "      <th>occupation</th>\n",
       "      <th>relationship</th>\n",
       "      <th>race</th>\n",
       "      <th>sex</th>\n",
       "      <th>capital-gain</th>\n",
       "      <th>capital-loss</th>\n",
       "      <th>hours-per-week</th>\n",
       "      <th>native-country</th>\n",
       "      <th>salary</th>\n",
       "    </tr>\n",
       "  </thead>\n",
       "  <tbody>\n",
       "    <tr>\n",
       "      <th>0</th>\n",
       "      <td>39</td>\n",
       "      <td>State-gov</td>\n",
       "      <td>77516</td>\n",
       "      <td>Bachelors</td>\n",
       "      <td>13</td>\n",
       "      <td>Never-married</td>\n",
       "      <td>Adm-clerical</td>\n",
       "      <td>Not-in-family</td>\n",
       "      <td>White</td>\n",
       "      <td>Male</td>\n",
       "      <td>2174</td>\n",
       "      <td>0</td>\n",
       "      <td>40</td>\n",
       "      <td>United-States</td>\n",
       "      <td>&lt;=80K</td>\n",
       "    </tr>\n",
       "    <tr>\n",
       "      <th>1</th>\n",
       "      <td>50</td>\n",
       "      <td>Self-emp-not-inc</td>\n",
       "      <td>83311</td>\n",
       "      <td>Bachelors</td>\n",
       "      <td>13</td>\n",
       "      <td>Married-civ-spouse</td>\n",
       "      <td>Exec-managerial</td>\n",
       "      <td>Husband</td>\n",
       "      <td>White</td>\n",
       "      <td>Male</td>\n",
       "      <td>0</td>\n",
       "      <td>0</td>\n",
       "      <td>13</td>\n",
       "      <td>United-States</td>\n",
       "      <td>&lt;=80K</td>\n",
       "    </tr>\n",
       "    <tr>\n",
       "      <th>2</th>\n",
       "      <td>38</td>\n",
       "      <td>Private</td>\n",
       "      <td>215646</td>\n",
       "      <td>HS-grad</td>\n",
       "      <td>9</td>\n",
       "      <td>Divorced</td>\n",
       "      <td>Handlers-cleaners</td>\n",
       "      <td>Not-in-family</td>\n",
       "      <td>White</td>\n",
       "      <td>Male</td>\n",
       "      <td>0</td>\n",
       "      <td>0</td>\n",
       "      <td>40</td>\n",
       "      <td>United-States</td>\n",
       "      <td>&lt;=80K</td>\n",
       "    </tr>\n",
       "    <tr>\n",
       "      <th>3</th>\n",
       "      <td>53</td>\n",
       "      <td>Private</td>\n",
       "      <td>234721</td>\n",
       "      <td>11th</td>\n",
       "      <td>7</td>\n",
       "      <td>Married-civ-spouse</td>\n",
       "      <td>Handlers-cleaners</td>\n",
       "      <td>Husband</td>\n",
       "      <td>Black</td>\n",
       "      <td>Male</td>\n",
       "      <td>0</td>\n",
       "      <td>0</td>\n",
       "      <td>40</td>\n",
       "      <td>United-States</td>\n",
       "      <td>&lt;=80K</td>\n",
       "    </tr>\n",
       "    <tr>\n",
       "      <th>4</th>\n",
       "      <td>28</td>\n",
       "      <td>Private</td>\n",
       "      <td>338409</td>\n",
       "      <td>Bachelors</td>\n",
       "      <td>13</td>\n",
       "      <td>Married-civ-spouse</td>\n",
       "      <td>Prof-specialty</td>\n",
       "      <td>Wife</td>\n",
       "      <td>Black</td>\n",
       "      <td>Female</td>\n",
       "      <td>0</td>\n",
       "      <td>0</td>\n",
       "      <td>40</td>\n",
       "      <td>Cuba</td>\n",
       "      <td>&lt;=80K</td>\n",
       "    </tr>\n",
       "  </tbody>\n",
       "</table>\n",
       "</div>"
      ],
      "text/plain": [
       "   age         workclass  fnlwgt  education  education-num  \\\n",
       "0   39         State-gov   77516  Bachelors             13   \n",
       "1   50  Self-emp-not-inc   83311  Bachelors             13   \n",
       "2   38           Private  215646    HS-grad              9   \n",
       "3   53           Private  234721       11th              7   \n",
       "4   28           Private  338409  Bachelors             13   \n",
       "\n",
       "       marital-status         occupation   relationship   race     sex  \\\n",
       "0       Never-married       Adm-clerical  Not-in-family  White    Male   \n",
       "1  Married-civ-spouse    Exec-managerial        Husband  White    Male   \n",
       "2            Divorced  Handlers-cleaners  Not-in-family  White    Male   \n",
       "3  Married-civ-spouse  Handlers-cleaners        Husband  Black    Male   \n",
       "4  Married-civ-spouse     Prof-specialty           Wife  Black  Female   \n",
       "\n",
       "   capital-gain  capital-loss  hours-per-week native-country salary  \n",
       "0          2174             0              40  United-States  <=80K  \n",
       "1             0             0              13  United-States  <=80K  \n",
       "2             0             0              40  United-States  <=80K  \n",
       "3             0             0              40  United-States  <=80K  \n",
       "4             0             0              40           Cuba  <=80K  "
      ]
     },
     "execution_count": 4,
     "metadata": {},
     "output_type": "execute_result"
    }
   ],
   "source": [
    "df = pd.read_csv(\"/kaggle/input/adult-income-modified/adult_income_modified.csv\")\n",
    "df.head()"
   ]
  },
  {
   "cell_type": "code",
   "execution_count": 5,
   "id": "fc952612",
   "metadata": {
    "execution": {
     "iopub.execute_input": "2023-04-17T17:35:12.662438Z",
     "iopub.status.busy": "2023-04-17T17:35:12.661989Z",
     "iopub.status.idle": "2023-04-17T17:35:12.676936Z",
     "shell.execute_reply": "2023-04-17T17:35:12.675966Z"
    },
    "papermill": {
     "duration": 0.032092,
     "end_time": "2023-04-17T17:35:12.679289",
     "exception": false,
     "start_time": "2023-04-17T17:35:12.647197",
     "status": "completed"
    },
    "tags": []
   },
   "outputs": [
    {
     "data": {
      "text/plain": [
       "array(['<=80K', '>80K'], dtype=object)"
      ]
     },
     "execution_count": 5,
     "metadata": {},
     "output_type": "execute_result"
    }
   ],
   "source": [
    "df.salary.unique()"
   ]
  },
  {
   "cell_type": "code",
   "execution_count": 6,
   "id": "c779cb39",
   "metadata": {
    "execution": {
     "iopub.execute_input": "2023-04-17T17:35:12.705532Z",
     "iopub.status.busy": "2023-04-17T17:35:12.705055Z",
     "iopub.status.idle": "2023-04-17T17:35:12.715720Z",
     "shell.execute_reply": "2023-04-17T17:35:12.714710Z"
    },
    "papermill": {
     "duration": 0.027159,
     "end_time": "2023-04-17T17:35:12.718300",
     "exception": false,
     "start_time": "2023-04-17T17:35:12.691141",
     "status": "completed"
    },
    "tags": []
   },
   "outputs": [
    {
     "data": {
      "text/plain": [
       "array(['State-gov', 'Self-emp-not-inc', 'Private', 'Federal-gov',\n",
       "       'Local-gov', '?', 'Self-emp-inc', 'Without-pay', 'Never-worked'],\n",
       "      dtype=object)"
      ]
     },
     "execution_count": 6,
     "metadata": {},
     "output_type": "execute_result"
    }
   ],
   "source": [
    "df.workclass.unique()"
   ]
  },
  {
   "cell_type": "code",
   "execution_count": 7,
   "id": "3072b0da",
   "metadata": {
    "execution": {
     "iopub.execute_input": "2023-04-17T17:35:12.745329Z",
     "iopub.status.busy": "2023-04-17T17:35:12.744447Z",
     "iopub.status.idle": "2023-04-17T17:35:12.755627Z",
     "shell.execute_reply": "2023-04-17T17:35:12.754479Z"
    },
    "papermill": {
     "duration": 0.027662,
     "end_time": "2023-04-17T17:35:12.758160",
     "exception": false,
     "start_time": "2023-04-17T17:35:12.730498",
     "status": "completed"
    },
    "tags": []
   },
   "outputs": [
    {
     "data": {
      "text/plain": [
       "array(['Bachelors', 'HS-grad', '11th', 'Masters', '9th', 'Some-college',\n",
       "       'Assoc-acdm', 'Assoc-voc', '7th-8th', 'Doctorate', 'Prof-school',\n",
       "       '5th-6th', '10th', '1st-4th', 'Preschool', '12th'], dtype=object)"
      ]
     },
     "execution_count": 7,
     "metadata": {},
     "output_type": "execute_result"
    }
   ],
   "source": [
    "df.education.unique()"
   ]
  },
  {
   "cell_type": "markdown",
   "id": "1ecf6e46",
   "metadata": {
    "papermill": {
     "duration": 0.01198,
     "end_time": "2023-04-17T17:35:12.783087",
     "exception": false,
     "start_time": "2023-04-17T17:35:12.771107",
     "status": "completed"
    },
    "tags": []
   },
   "source": [
    "### Need to replace ?"
   ]
  },
  {
   "cell_type": "code",
   "execution_count": 8,
   "id": "4a000b81",
   "metadata": {
    "execution": {
     "iopub.execute_input": "2023-04-17T17:35:12.810487Z",
     "iopub.status.busy": "2023-04-17T17:35:12.809587Z",
     "iopub.status.idle": "2023-04-17T17:35:12.820594Z",
     "shell.execute_reply": "2023-04-17T17:35:12.819538Z"
    },
    "papermill": {
     "duration": 0.027584,
     "end_time": "2023-04-17T17:35:12.823095",
     "exception": false,
     "start_time": "2023-04-17T17:35:12.795511",
     "status": "completed"
    },
    "tags": []
   },
   "outputs": [
    {
     "data": {
      "text/plain": [
       "array(['Never-married', 'Married-civ-spouse', 'Divorced',\n",
       "       'Married-spouse-absent', 'Separated', 'Married-AF-spouse',\n",
       "       'Widowed'], dtype=object)"
      ]
     },
     "execution_count": 8,
     "metadata": {},
     "output_type": "execute_result"
    }
   ],
   "source": [
    "df['marital-status'].unique()"
   ]
  },
  {
   "cell_type": "markdown",
   "id": "4674b160",
   "metadata": {
    "papermill": {
     "duration": 0.012574,
     "end_time": "2023-04-17T17:35:12.848176",
     "exception": false,
     "start_time": "2023-04-17T17:35:12.835602",
     "status": "completed"
    },
    "tags": []
   },
   "source": [
    "### Your task is to try different Ensemble Models to predict whether a people will earn <= 80K or > 80K"
   ]
  },
  {
   "cell_type": "markdown",
   "id": "b17d482e",
   "metadata": {
    "papermill": {
     "duration": 0.011982,
     "end_time": "2023-04-17T17:35:12.872568",
     "exception": false,
     "start_time": "2023-04-17T17:35:12.860586",
     "status": "completed"
    },
    "tags": []
   },
   "source": [
    "### Make sure your work include the following steps"
   ]
  },
  {
   "cell_type": "markdown",
   "id": "afc4e4f3",
   "metadata": {
    "papermill": {
     "duration": 0.011976,
     "end_time": "2023-04-17T17:35:12.896912",
     "exception": false,
     "start_time": "2023-04-17T17:35:12.884936",
     "status": "completed"
    },
    "tags": []
   },
   "source": [
    "* EDA (chekcing missing values, removing outliers)\n",
    "* separated data set into training and testing\n",
    "* performed cross-validations\n",
    "* Build a base model using LogisticRegression and only a smaller set of features (say only numerical features)\n",
    "* Try different ensemble methods, including VotingClassifier (soft and hard voting), BaggingClassifier, AdaBoostClassifier, GradientBoostClassifier and xgb with the same set of features\n",
    "* Comment on your experience in these various models, in particular compare this with the basic LogisticRegression\n",
    "* Out of all these ensemble model, pick the best model, add additional featrues (eg categorical features)\n",
    "* Comment on the final best model you find"
   ]
  },
  {
   "cell_type": "markdown",
   "id": "bd2a6c90",
   "metadata": {
    "papermill": {
     "duration": 0.01203,
     "end_time": "2023-04-17T17:35:12.924339",
     "exception": false,
     "start_time": "2023-04-17T17:35:12.912309",
     "status": "completed"
    },
    "tags": []
   },
   "source": [
    "### Good Luck !!!"
   ]
  },
  {
   "cell_type": "markdown",
   "id": "17fe962c",
   "metadata": {
    "papermill": {
     "duration": 0.011942,
     "end_time": "2023-04-17T17:35:12.948680",
     "exception": false,
     "start_time": "2023-04-17T17:35:12.936738",
     "status": "completed"
    },
    "tags": []
   },
   "source": [
    "Show all your work below"
   ]
  },
  {
   "cell_type": "markdown",
   "id": "0f8c963a",
   "metadata": {
    "papermill": {
     "duration": 0.012248,
     "end_time": "2023-04-17T17:35:12.973241",
     "exception": false,
     "start_time": "2023-04-17T17:35:12.960993",
     "status": "completed"
    },
    "tags": []
   },
   "source": [
    "### EDA"
   ]
  },
  {
   "cell_type": "code",
   "execution_count": 9,
   "id": "ac09e14d",
   "metadata": {
    "execution": {
     "iopub.execute_input": "2023-04-17T17:35:13.000142Z",
     "iopub.status.busy": "2023-04-17T17:35:12.999273Z",
     "iopub.status.idle": "2023-04-17T17:35:13.043601Z",
     "shell.execute_reply": "2023-04-17T17:35:13.042280Z"
    },
    "papermill": {
     "duration": 0.060584,
     "end_time": "2023-04-17T17:35:13.046103",
     "exception": false,
     "start_time": "2023-04-17T17:35:12.985519",
     "status": "completed"
    },
    "tags": []
   },
   "outputs": [
    {
     "data": {
      "text/html": [
       "<div>\n",
       "<style scoped>\n",
       "    .dataframe tbody tr th:only-of-type {\n",
       "        vertical-align: middle;\n",
       "    }\n",
       "\n",
       "    .dataframe tbody tr th {\n",
       "        vertical-align: top;\n",
       "    }\n",
       "\n",
       "    .dataframe thead th {\n",
       "        text-align: right;\n",
       "    }\n",
       "</style>\n",
       "<table border=\"1\" class=\"dataframe\">\n",
       "  <thead>\n",
       "    <tr style=\"text-align: right;\">\n",
       "      <th></th>\n",
       "      <th>age</th>\n",
       "      <th>fnlwgt</th>\n",
       "      <th>education-num</th>\n",
       "      <th>capital-gain</th>\n",
       "      <th>capital-loss</th>\n",
       "      <th>hours-per-week</th>\n",
       "    </tr>\n",
       "  </thead>\n",
       "  <tbody>\n",
       "    <tr>\n",
       "      <th>count</th>\n",
       "      <td>32571.000000</td>\n",
       "      <td>3.257100e+04</td>\n",
       "      <td>32571.000000</td>\n",
       "      <td>32571.000000</td>\n",
       "      <td>32571.000000</td>\n",
       "      <td>32571.000000</td>\n",
       "    </tr>\n",
       "    <tr>\n",
       "      <th>mean</th>\n",
       "      <td>38.599153</td>\n",
       "      <td>1.898091e+05</td>\n",
       "      <td>10.080747</td>\n",
       "      <td>1077.317982</td>\n",
       "      <td>87.435357</td>\n",
       "      <td>40.452151</td>\n",
       "    </tr>\n",
       "    <tr>\n",
       "      <th>std</th>\n",
       "      <td>13.744795</td>\n",
       "      <td>1.055927e+05</td>\n",
       "      <td>2.572484</td>\n",
       "      <td>7384.182377</td>\n",
       "      <td>403.204587</td>\n",
       "      <td>12.441330</td>\n",
       "    </tr>\n",
       "    <tr>\n",
       "      <th>min</th>\n",
       "      <td>0.000000</td>\n",
       "      <td>1.228500e+04</td>\n",
       "      <td>1.000000</td>\n",
       "      <td>0.000000</td>\n",
       "      <td>0.000000</td>\n",
       "      <td>1.000000</td>\n",
       "    </tr>\n",
       "    <tr>\n",
       "      <th>25%</th>\n",
       "      <td>28.000000</td>\n",
       "      <td>1.178215e+05</td>\n",
       "      <td>9.000000</td>\n",
       "      <td>0.000000</td>\n",
       "      <td>0.000000</td>\n",
       "      <td>40.000000</td>\n",
       "    </tr>\n",
       "    <tr>\n",
       "      <th>50%</th>\n",
       "      <td>37.000000</td>\n",
       "      <td>1.783830e+05</td>\n",
       "      <td>10.000000</td>\n",
       "      <td>0.000000</td>\n",
       "      <td>0.000000</td>\n",
       "      <td>40.000000</td>\n",
       "    </tr>\n",
       "    <tr>\n",
       "      <th>75%</th>\n",
       "      <td>48.000000</td>\n",
       "      <td>2.371095e+05</td>\n",
       "      <td>12.000000</td>\n",
       "      <td>0.000000</td>\n",
       "      <td>0.000000</td>\n",
       "      <td>45.000000</td>\n",
       "    </tr>\n",
       "    <tr>\n",
       "      <th>max</th>\n",
       "      <td>250.000000</td>\n",
       "      <td>1.484705e+06</td>\n",
       "      <td>16.000000</td>\n",
       "      <td>99999.000000</td>\n",
       "      <td>4356.000000</td>\n",
       "      <td>202.000000</td>\n",
       "    </tr>\n",
       "  </tbody>\n",
       "</table>\n",
       "</div>"
      ],
      "text/plain": [
       "                age        fnlwgt  education-num  capital-gain  capital-loss  \\\n",
       "count  32571.000000  3.257100e+04   32571.000000  32571.000000  32571.000000   \n",
       "mean      38.599153  1.898091e+05      10.080747   1077.317982     87.435357   \n",
       "std       13.744795  1.055927e+05       2.572484   7384.182377    403.204587   \n",
       "min        0.000000  1.228500e+04       1.000000      0.000000      0.000000   \n",
       "25%       28.000000  1.178215e+05       9.000000      0.000000      0.000000   \n",
       "50%       37.000000  1.783830e+05      10.000000      0.000000      0.000000   \n",
       "75%       48.000000  2.371095e+05      12.000000      0.000000      0.000000   \n",
       "max      250.000000  1.484705e+06      16.000000  99999.000000   4356.000000   \n",
       "\n",
       "       hours-per-week  \n",
       "count    32571.000000  \n",
       "mean        40.452151  \n",
       "std         12.441330  \n",
       "min          1.000000  \n",
       "25%         40.000000  \n",
       "50%         40.000000  \n",
       "75%         45.000000  \n",
       "max        202.000000  "
      ]
     },
     "execution_count": 9,
     "metadata": {},
     "output_type": "execute_result"
    }
   ],
   "source": [
    "df.describe()"
   ]
  },
  {
   "cell_type": "markdown",
   "id": "125bf2d1",
   "metadata": {
    "papermill": {
     "duration": 0.012153,
     "end_time": "2023-04-17T17:35:13.070892",
     "exception": false,
     "start_time": "2023-04-17T17:35:13.058739",
     "status": "completed"
    },
    "tags": []
   },
   "source": [
    "**Working 202 hours per week and having an age up to 250 seems improbable. Will replace those value with the median of the distribution**"
   ]
  },
  {
   "cell_type": "code",
   "execution_count": 10,
   "id": "e28a8a39",
   "metadata": {
    "execution": {
     "iopub.execute_input": "2023-04-17T17:35:13.098246Z",
     "iopub.status.busy": "2023-04-17T17:35:13.097147Z",
     "iopub.status.idle": "2023-04-17T17:35:13.121944Z",
     "shell.execute_reply": "2023-04-17T17:35:13.120787Z"
    },
    "papermill": {
     "duration": 0.041012,
     "end_time": "2023-04-17T17:35:13.124275",
     "exception": false,
     "start_time": "2023-04-17T17:35:13.083263",
     "status": "completed"
    },
    "tags": []
   },
   "outputs": [
    {
     "data": {
      "text/plain": [
       "age               False\n",
       "workclass         False\n",
       "fnlwgt            False\n",
       "education         False\n",
       "education-num     False\n",
       "marital-status    False\n",
       "occupation        False\n",
       "relationship      False\n",
       "race              False\n",
       "sex               False\n",
       "capital-gain      False\n",
       "capital-loss      False\n",
       "hours-per-week    False\n",
       "native-country    False\n",
       "salary            False\n",
       "dtype: bool"
      ]
     },
     "execution_count": 10,
     "metadata": {},
     "output_type": "execute_result"
    }
   ],
   "source": [
    "# remove data that are obviously wrong, no need to do it extensively, just use the above table as a hint\n",
    "df.isnull().any()"
   ]
  },
  {
   "cell_type": "markdown",
   "id": "a9297926",
   "metadata": {
    "papermill": {
     "duration": 0.012145,
     "end_time": "2023-04-17T17:35:13.148949",
     "exception": false,
     "start_time": "2023-04-17T17:35:13.136804",
     "status": "completed"
    },
    "tags": []
   },
   "source": [
    "**No missing values**"
   ]
  },
  {
   "cell_type": "code",
   "execution_count": 11,
   "id": "7b0f0ba5",
   "metadata": {
    "execution": {
     "iopub.execute_input": "2023-04-17T17:35:13.176090Z",
     "iopub.status.busy": "2023-04-17T17:35:13.175338Z",
     "iopub.status.idle": "2023-04-17T17:35:13.182559Z",
     "shell.execute_reply": "2023-04-17T17:35:13.181466Z"
    },
    "papermill": {
     "duration": 0.023637,
     "end_time": "2023-04-17T17:35:13.185120",
     "exception": false,
     "start_time": "2023-04-17T17:35:13.161483",
     "status": "completed"
    },
    "tags": []
   },
   "outputs": [
    {
     "data": {
      "text/plain": [
       "Index(['age', 'workclass', 'fnlwgt', 'education', 'education-num',\n",
       "       'marital-status', 'occupation', 'relationship', 'race', 'sex',\n",
       "       'capital-gain', 'capital-loss', 'hours-per-week', 'native-country',\n",
       "       'salary'],\n",
       "      dtype='object')"
      ]
     },
     "execution_count": 11,
     "metadata": {},
     "output_type": "execute_result"
    }
   ],
   "source": [
    "# .... TODO age, hours per week\n",
    "df.columns"
   ]
  },
  {
   "cell_type": "code",
   "execution_count": 12,
   "id": "7917f194",
   "metadata": {
    "execution": {
     "iopub.execute_input": "2023-04-17T17:35:13.212515Z",
     "iopub.status.busy": "2023-04-17T17:35:13.212028Z",
     "iopub.status.idle": "2023-04-17T17:35:14.152216Z",
     "shell.execute_reply": "2023-04-17T17:35:14.150922Z"
    },
    "papermill": {
     "duration": 0.957971,
     "end_time": "2023-04-17T17:35:14.155662",
     "exception": false,
     "start_time": "2023-04-17T17:35:13.197691",
     "status": "completed"
    },
    "tags": []
   },
   "outputs": [
    {
     "data": {
      "text/plain": [
       "26        0.0\n",
       "12608    17.0\n",
       "23667    17.0\n",
       "3240     17.0\n",
       "12293    17.0\n",
       "         ... \n",
       "17668    65.0\n",
       "12763    65.0\n",
       "12688    65.0\n",
       "1283     65.0\n",
       "13773    65.0\n",
       "Name: age, Length: 32571, dtype: float64"
      ]
     },
     "execution_count": 12,
     "metadata": {},
     "output_type": "execute_result"
    }
   ],
   "source": [
    "df.age = df.age.apply(lambda x: df.age.median() if x > 65 else x)\n",
    "df.age.sort_values()"
   ]
  },
  {
   "cell_type": "code",
   "execution_count": 13,
   "id": "c36e12c6",
   "metadata": {
    "execution": {
     "iopub.execute_input": "2023-04-17T17:35:14.184490Z",
     "iopub.status.busy": "2023-04-17T17:35:14.184040Z",
     "iopub.status.idle": "2023-04-17T17:35:14.214070Z",
     "shell.execute_reply": "2023-04-17T17:35:14.213148Z"
    },
    "papermill": {
     "duration": 0.047153,
     "end_time": "2023-04-17T17:35:14.216727",
     "exception": false,
     "start_time": "2023-04-17T17:35:14.169574",
     "status": "completed"
    },
    "tags": []
   },
   "outputs": [
    {
     "data": {
      "text/plain": [
       "25085     1.0\n",
       "9148      1.0\n",
       "1263      1.0\n",
       "5767      1.0\n",
       "1037      1.0\n",
       "         ... \n",
       "10144    99.0\n",
       "21063    99.0\n",
       "29758    99.0\n",
       "25838    99.0\n",
       "14594    99.0\n",
       "Name: hours-per-week, Length: 32571, dtype: float64"
      ]
     },
     "execution_count": 13,
     "metadata": {},
     "output_type": "execute_result"
    }
   ],
   "source": [
    "df['hours-per-week'] = df['hours-per-week'].apply(lambda x: df['hours-per-week'].median() if x > 168 else x)\n",
    "df['hours-per-week'].sort_values()"
   ]
  },
  {
   "cell_type": "code",
   "execution_count": 14,
   "id": "0abbee85",
   "metadata": {
    "execution": {
     "iopub.execute_input": "2023-04-17T17:35:14.245279Z",
     "iopub.status.busy": "2023-04-17T17:35:14.244051Z",
     "iopub.status.idle": "2023-04-17T17:35:14.283024Z",
     "shell.execute_reply": "2023-04-17T17:35:14.281959Z"
    },
    "papermill": {
     "duration": 0.055994,
     "end_time": "2023-04-17T17:35:14.285710",
     "exception": false,
     "start_time": "2023-04-17T17:35:14.229716",
     "status": "completed"
    },
    "tags": []
   },
   "outputs": [
    {
     "data": {
      "text/html": [
       "<div>\n",
       "<style scoped>\n",
       "    .dataframe tbody tr th:only-of-type {\n",
       "        vertical-align: middle;\n",
       "    }\n",
       "\n",
       "    .dataframe tbody tr th {\n",
       "        vertical-align: top;\n",
       "    }\n",
       "\n",
       "    .dataframe thead th {\n",
       "        text-align: right;\n",
       "    }\n",
       "</style>\n",
       "<table border=\"1\" class=\"dataframe\">\n",
       "  <thead>\n",
       "    <tr style=\"text-align: right;\">\n",
       "      <th></th>\n",
       "      <th>age</th>\n",
       "      <th>fnlwgt</th>\n",
       "      <th>education-num</th>\n",
       "      <th>capital-gain</th>\n",
       "      <th>capital-loss</th>\n",
       "      <th>hours-per-week</th>\n",
       "    </tr>\n",
       "  </thead>\n",
       "  <tbody>\n",
       "    <tr>\n",
       "      <th>count</th>\n",
       "      <td>32571.000000</td>\n",
       "      <td>3.257100e+04</td>\n",
       "      <td>32571.000000</td>\n",
       "      <td>32571.000000</td>\n",
       "      <td>32571.000000</td>\n",
       "      <td>32571.000000</td>\n",
       "    </tr>\n",
       "    <tr>\n",
       "      <th>mean</th>\n",
       "      <td>37.341408</td>\n",
       "      <td>1.898091e+05</td>\n",
       "      <td>10.080747</td>\n",
       "      <td>1077.317982</td>\n",
       "      <td>87.435357</td>\n",
       "      <td>40.437322</td>\n",
       "    </tr>\n",
       "    <tr>\n",
       "      <th>std</th>\n",
       "      <td>12.009230</td>\n",
       "      <td>1.055927e+05</td>\n",
       "      <td>2.572484</td>\n",
       "      <td>7384.182377</td>\n",
       "      <td>403.204587</td>\n",
       "      <td>12.345535</td>\n",
       "    </tr>\n",
       "    <tr>\n",
       "      <th>min</th>\n",
       "      <td>0.000000</td>\n",
       "      <td>1.228500e+04</td>\n",
       "      <td>1.000000</td>\n",
       "      <td>0.000000</td>\n",
       "      <td>0.000000</td>\n",
       "      <td>1.000000</td>\n",
       "    </tr>\n",
       "    <tr>\n",
       "      <th>25%</th>\n",
       "      <td>28.000000</td>\n",
       "      <td>1.178215e+05</td>\n",
       "      <td>9.000000</td>\n",
       "      <td>0.000000</td>\n",
       "      <td>0.000000</td>\n",
       "      <td>40.000000</td>\n",
       "    </tr>\n",
       "    <tr>\n",
       "      <th>50%</th>\n",
       "      <td>37.000000</td>\n",
       "      <td>1.783830e+05</td>\n",
       "      <td>10.000000</td>\n",
       "      <td>0.000000</td>\n",
       "      <td>0.000000</td>\n",
       "      <td>40.000000</td>\n",
       "    </tr>\n",
       "    <tr>\n",
       "      <th>75%</th>\n",
       "      <td>46.000000</td>\n",
       "      <td>2.371095e+05</td>\n",
       "      <td>12.000000</td>\n",
       "      <td>0.000000</td>\n",
       "      <td>0.000000</td>\n",
       "      <td>45.000000</td>\n",
       "    </tr>\n",
       "    <tr>\n",
       "      <th>max</th>\n",
       "      <td>65.000000</td>\n",
       "      <td>1.484705e+06</td>\n",
       "      <td>16.000000</td>\n",
       "      <td>99999.000000</td>\n",
       "      <td>4356.000000</td>\n",
       "      <td>99.000000</td>\n",
       "    </tr>\n",
       "  </tbody>\n",
       "</table>\n",
       "</div>"
      ],
      "text/plain": [
       "                age        fnlwgt  education-num  capital-gain  capital-loss  \\\n",
       "count  32571.000000  3.257100e+04   32571.000000  32571.000000  32571.000000   \n",
       "mean      37.341408  1.898091e+05      10.080747   1077.317982     87.435357   \n",
       "std       12.009230  1.055927e+05       2.572484   7384.182377    403.204587   \n",
       "min        0.000000  1.228500e+04       1.000000      0.000000      0.000000   \n",
       "25%       28.000000  1.178215e+05       9.000000      0.000000      0.000000   \n",
       "50%       37.000000  1.783830e+05      10.000000      0.000000      0.000000   \n",
       "75%       46.000000  2.371095e+05      12.000000      0.000000      0.000000   \n",
       "max       65.000000  1.484705e+06      16.000000  99999.000000   4356.000000   \n",
       "\n",
       "       hours-per-week  \n",
       "count    32571.000000  \n",
       "mean        40.437322  \n",
       "std         12.345535  \n",
       "min          1.000000  \n",
       "25%         40.000000  \n",
       "50%         40.000000  \n",
       "75%         45.000000  \n",
       "max         99.000000  "
      ]
     },
     "execution_count": 14,
     "metadata": {},
     "output_type": "execute_result"
    }
   ],
   "source": [
    "df.describe()"
   ]
  },
  {
   "cell_type": "markdown",
   "id": "6731131c",
   "metadata": {
    "papermill": {
     "duration": 0.012874,
     "end_time": "2023-04-17T17:35:14.311781",
     "exception": false,
     "start_time": "2023-04-17T17:35:14.298907",
     "status": "completed"
    },
    "tags": []
   },
   "source": [
    "**Median hours per week was 99 hours. Working 14 hours every day for 7 days a week is not impossible. Working till the age of 65 is nice.**"
   ]
  },
  {
   "cell_type": "code",
   "execution_count": 15,
   "id": "8fdc954a",
   "metadata": {
    "execution": {
     "iopub.execute_input": "2023-04-17T17:35:14.339997Z",
     "iopub.status.busy": "2023-04-17T17:35:14.339600Z",
     "iopub.status.idle": "2023-04-17T17:35:14.347888Z",
     "shell.execute_reply": "2023-04-17T17:35:14.346870Z"
    },
    "papermill": {
     "duration": 0.025522,
     "end_time": "2023-04-17T17:35:14.350467",
     "exception": false,
     "start_time": "2023-04-17T17:35:14.324945",
     "status": "completed"
    },
    "tags": []
   },
   "outputs": [
    {
     "data": {
      "text/plain": [
       "array(['<=80K', '>80K'], dtype=object)"
      ]
     },
     "execution_count": 15,
     "metadata": {},
     "output_type": "execute_result"
    }
   ],
   "source": [
    "df['salary'].unique()"
   ]
  },
  {
   "cell_type": "code",
   "execution_count": 16,
   "id": "4f10376e",
   "metadata": {
    "execution": {
     "iopub.execute_input": "2023-04-17T17:35:14.379115Z",
     "iopub.status.busy": "2023-04-17T17:35:14.378691Z",
     "iopub.status.idle": "2023-04-17T17:35:14.627027Z",
     "shell.execute_reply": "2023-04-17T17:35:14.625864Z"
    },
    "papermill": {
     "duration": 0.265907,
     "end_time": "2023-04-17T17:35:14.629847",
     "exception": false,
     "start_time": "2023-04-17T17:35:14.363940",
     "status": "completed"
    },
    "tags": []
   },
   "outputs": [
    {
     "data": {
      "text/plain": [
       "<AxesSubplot:xlabel='salary', ylabel='count'>"
      ]
     },
     "execution_count": 16,
     "metadata": {},
     "output_type": "execute_result"
    },
    {
     "data": {
      "image/png": "[encoded data removed]",
      "text/plain": [
       "<Figure size 640x480 with 1 Axes>"
      ]
     },
     "metadata": {},
     "output_type": "display_data"
    }
   ],
   "source": [
    "# df['salary'] = df['salary'].apply(lambda x: 0 if x == '<=80K' else 1)\n",
    "sns.countplot(x='salary',data=df)"
   ]
  },
  {
   "cell_type": "code",
   "execution_count": 17,
   "id": "f8ccf2dd",
   "metadata": {
    "execution": {
     "iopub.execute_input": "2023-04-17T17:35:14.659464Z",
     "iopub.status.busy": "2023-04-17T17:35:14.659013Z",
     "iopub.status.idle": "2023-04-17T17:35:14.665816Z",
     "shell.execute_reply": "2023-04-17T17:35:14.664469Z"
    },
    "papermill": {
     "duration": 0.024622,
     "end_time": "2023-04-17T17:35:14.668359",
     "exception": false,
     "start_time": "2023-04-17T17:35:14.643737",
     "status": "completed"
    },
    "tags": []
   },
   "outputs": [],
   "source": [
    "numerical_features = ['age','fnlwgt','capital-gain','capital-loss','hours-per-week']\n",
    "ndf = df[numerical_features]"
   ]
  },
  {
   "cell_type": "code",
   "execution_count": 18,
   "id": "ca06751d",
   "metadata": {
    "execution": {
     "iopub.execute_input": "2023-04-17T17:35:14.698822Z",
     "iopub.status.busy": "2023-04-17T17:35:14.697951Z",
     "iopub.status.idle": "2023-04-17T17:35:14.727071Z",
     "shell.execute_reply": "2023-04-17T17:35:14.726134Z"
    },
    "papermill": {
     "duration": 0.047495,
     "end_time": "2023-04-17T17:35:14.729579",
     "exception": false,
     "start_time": "2023-04-17T17:35:14.682084",
     "status": "completed"
    },
    "tags": []
   },
   "outputs": [],
   "source": [
    "df['salary'] = df['salary'].apply(lambda x: 0 if x == '<=80K' else 1)\n",
    "X_train, X_test, y_train, y_test = train_test_split(ndf, \n",
    "                                                    df['salary'], test_size=0.20, \n",
    "                                                    random_state=100)"
   ]
  },
  {
   "cell_type": "code",
   "execution_count": 19,
   "id": "7e444d82",
   "metadata": {
    "execution": {
     "iopub.execute_input": "2023-04-17T17:35:14.758534Z",
     "iopub.status.busy": "2023-04-17T17:35:14.758060Z",
     "iopub.status.idle": "2023-04-17T17:35:14.767142Z",
     "shell.execute_reply": "2023-04-17T17:35:14.765927Z"
    },
    "papermill": {
     "duration": 0.026389,
     "end_time": "2023-04-17T17:35:14.769597",
     "exception": false,
     "start_time": "2023-04-17T17:35:14.743208",
     "status": "completed"
    },
    "tags": []
   },
   "outputs": [
    {
     "data": {
      "text/plain": [
       "array([0, 1])"
      ]
     },
     "execution_count": 19,
     "metadata": {},
     "output_type": "execute_result"
    }
   ],
   "source": [
    "df.salary.unique()"
   ]
  },
  {
   "cell_type": "markdown",
   "id": "45827533",
   "metadata": {
    "papermill": {
     "duration": 0.013548,
     "end_time": "2023-04-17T17:35:14.797194",
     "exception": false,
     "start_time": "2023-04-17T17:35:14.783646",
     "status": "completed"
    },
    "tags": []
   },
   "source": [
    "### Before you try any more advance models, let's try a LogisticRegression model"
   ]
  },
  {
   "cell_type": "code",
   "execution_count": 20,
   "id": "4e173cec",
   "metadata": {
    "execution": {
     "iopub.execute_input": "2023-04-17T17:35:14.827742Z",
     "iopub.status.busy": "2023-04-17T17:35:14.826886Z",
     "iopub.status.idle": "2023-04-17T17:35:15.069729Z",
     "shell.execute_reply": "2023-04-17T17:35:15.068325Z"
    },
    "papermill": {
     "duration": 0.262767,
     "end_time": "2023-04-17T17:35:15.074132",
     "exception": false,
     "start_time": "2023-04-17T17:35:14.811365",
     "status": "completed"
    },
    "tags": []
   },
   "outputs": [
    {
     "data": {
      "text/plain": [
       "LogisticRegression(random_state=100)"
      ]
     },
     "execution_count": 20,
     "metadata": {},
     "output_type": "execute_result"
    }
   ],
   "source": [
    "model = LogisticRegression(random_state=100) # random_state=100\n",
    "model.fit(X_train,y_train)"
   ]
  },
  {
   "cell_type": "code",
   "execution_count": 21,
   "id": "9d0ae793",
   "metadata": {
    "execution": {
     "iopub.execute_input": "2023-04-17T17:35:15.150669Z",
     "iopub.status.busy": "2023-04-17T17:35:15.149930Z",
     "iopub.status.idle": "2023-04-17T17:35:15.165272Z",
     "shell.execute_reply": "2023-04-17T17:35:15.163866Z"
    },
    "papermill": {
     "duration": 0.057992,
     "end_time": "2023-04-17T17:35:15.169505",
     "exception": false,
     "start_time": "2023-04-17T17:35:15.111513",
     "status": "completed"
    },
    "tags": []
   },
   "outputs": [],
   "source": [
    "predictions = model.predict(X_test)"
   ]
  },
  {
   "cell_type": "code",
   "execution_count": 22,
   "id": "9b3b5473",
   "metadata": {
    "execution": {
     "iopub.execute_input": "2023-04-17T17:35:15.244941Z",
     "iopub.status.busy": "2023-04-17T17:35:15.244172Z",
     "iopub.status.idle": "2023-04-17T17:35:15.280176Z",
     "shell.execute_reply": "2023-04-17T17:35:15.278830Z"
    },
    "papermill": {
     "duration": 0.077361,
     "end_time": "2023-04-17T17:35:15.283241",
     "exception": false,
     "start_time": "2023-04-17T17:35:15.205880",
     "status": "completed"
    },
    "tags": []
   },
   "outputs": [
    {
     "name": "stdout",
     "output_type": "stream",
     "text": [
      "              precision    recall  f1-score   support\n",
      "\n",
      "           0       0.80      0.97      0.87      4876\n",
      "           1       0.73      0.27      0.39      1639\n",
      "\n",
      "    accuracy                           0.79      6515\n",
      "   macro avg       0.76      0.62      0.63      6515\n",
      "weighted avg       0.78      0.79      0.75      6515\n",
      "\n",
      "0.7907904834996162\n"
     ]
    }
   ],
   "source": [
    "print(classification_report(y_test,predictions))\n",
    "print(accuracy_score(y_test, predictions))"
   ]
  },
  {
   "cell_type": "code",
   "execution_count": 23,
   "id": "71c73b7b",
   "metadata": {
    "execution": {
     "iopub.execute_input": "2023-04-17T17:35:15.314458Z",
     "iopub.status.busy": "2023-04-17T17:35:15.313623Z",
     "iopub.status.idle": "2023-04-17T17:35:15.319138Z",
     "shell.execute_reply": "2023-04-17T17:35:15.318222Z"
    },
    "papermill": {
     "duration": 0.023546,
     "end_time": "2023-04-17T17:35:15.321463",
     "exception": false,
     "start_time": "2023-04-17T17:35:15.297917",
     "status": "completed"
    },
    "tags": []
   },
   "outputs": [],
   "source": [
    "from sklearn.ensemble import RandomForestClassifier, VotingClassifier, BaggingClassifier, AdaBoostClassifier\n",
    "from sklearn.tree import DecisionTreeClassifier"
   ]
  },
  {
   "cell_type": "code",
   "execution_count": 24,
   "id": "ab7beb6b",
   "metadata": {
    "execution": {
     "iopub.execute_input": "2023-04-17T17:35:15.352435Z",
     "iopub.status.busy": "2023-04-17T17:35:15.351725Z",
     "iopub.status.idle": "2023-04-17T17:35:17.474482Z",
     "shell.execute_reply": "2023-04-17T17:35:17.472938Z"
    },
    "papermill": {
     "duration": 2.141349,
     "end_time": "2023-04-17T17:35:17.476999",
     "exception": false,
     "start_time": "2023-04-17T17:35:15.335650",
     "status": "completed"
    },
    "tags": []
   },
   "outputs": [
    {
     "name": "stdout",
     "output_type": "stream",
     "text": [
      "              precision    recall  f1-score   support\n",
      "\n",
      "           0       0.80      0.98      0.88      4876\n",
      "           1       0.83      0.29      0.43      1639\n",
      "\n",
      "    accuracy                           0.81      6515\n",
      "   macro avg       0.82      0.63      0.66      6515\n",
      "weighted avg       0.81      0.81      0.77      6515\n",
      "\n",
      "0.8058326937835764\n"
     ]
    }
   ],
   "source": [
    "bag_clf = BaggingClassifier(\n",
    "    DecisionTreeClassifier(random_state=100), n_estimators=500,\n",
    "    max_samples=100, bootstrap=True, random_state=100)\n",
    "bag_clf.fit(X_train, y_train)\n",
    "y_pred = bag_clf.predict(X_test)\n",
    "\n",
    "print(classification_report(y_test, y_pred))\n",
    "print(accuracy_score(y_test, y_pred))"
   ]
  },
  {
   "cell_type": "code",
   "execution_count": 25,
   "id": "fcc8bee3",
   "metadata": {
    "execution": {
     "iopub.execute_input": "2023-04-17T17:35:17.507856Z",
     "iopub.status.busy": "2023-04-17T17:35:17.507104Z",
     "iopub.status.idle": "2023-04-17T17:35:24.755853Z",
     "shell.execute_reply": "2023-04-17T17:35:24.754664Z"
    },
    "papermill": {
     "duration": 7.267025,
     "end_time": "2023-04-17T17:35:24.758526",
     "exception": false,
     "start_time": "2023-04-17T17:35:17.491501",
     "status": "completed"
    },
    "tags": []
   },
   "outputs": [
    {
     "name": "stdout",
     "output_type": "stream",
     "text": [
      "              precision    recall  f1-score   support\n",
      "\n",
      "           0       0.83      0.94      0.88      4876\n",
      "           1       0.71      0.41      0.52      1639\n",
      "\n",
      "    accuracy                           0.81      6515\n",
      "   macro avg       0.77      0.68      0.70      6515\n",
      "weighted avg       0.80      0.81      0.79      6515\n",
      "\n",
      "0.8104374520337683\n"
     ]
    }
   ],
   "source": [
    "ada_clf = AdaBoostClassifier(DecisionTreeClassifier(max_depth=4), n_estimators=200, \n",
    "                             learning_rate=0.5, random_state=100)\n",
    "ada_clf.fit(X_train, y_train)\n",
    "\n",
    "y_pred = ada_clf.predict(X_test)\n",
    "\n",
    "print(classification_report(y_test, y_pred))\n",
    "print(accuracy_score(y_test, y_pred))"
   ]
  },
  {
   "cell_type": "code",
   "execution_count": 26,
   "id": "58669d97",
   "metadata": {
    "execution": {
     "iopub.execute_input": "2023-04-17T17:35:24.788721Z",
     "iopub.status.busy": "2023-04-17T17:35:24.788320Z",
     "iopub.status.idle": "2023-04-17T17:35:26.825488Z",
     "shell.execute_reply": "2023-04-17T17:35:26.823951Z"
    },
    "papermill": {
     "duration": 2.055558,
     "end_time": "2023-04-17T17:35:26.828179",
     "exception": false,
     "start_time": "2023-04-17T17:35:24.772621",
     "status": "completed"
    },
    "tags": []
   },
   "outputs": [
    {
     "name": "stdout",
     "output_type": "stream",
     "text": [
      "              precision    recall  f1-score   support\n",
      "\n",
      "           0       0.82      0.97      0.89      4876\n",
      "           1       0.83      0.36      0.51      1639\n",
      "\n",
      "    accuracy                           0.82      6515\n",
      "   macro avg       0.82      0.67      0.70      6515\n",
      "weighted avg       0.82      0.82      0.79      6515\n",
      "\n",
      "0.8207214121258634\n"
     ]
    }
   ],
   "source": [
    "from sklearn.ensemble import GradientBoostingClassifier\n",
    "\n",
    "gb_clf = GradientBoostingClassifier(learning_rate=0.5, random_state=100)\n",
    "gb_clf.fit(X_train, y_train)\n",
    "\n",
    "y_pred = gb_clf.predict(X_test)\n",
    "\n",
    "print(classification_report(y_test, y_pred))\n",
    "print(accuracy_score(y_test, y_pred))"
   ]
  },
  {
   "cell_type": "code",
   "execution_count": 27,
   "id": "9f545c32",
   "metadata": {
    "execution": {
     "iopub.execute_input": "2023-04-17T17:35:26.858891Z",
     "iopub.status.busy": "2023-04-17T17:35:26.857883Z",
     "iopub.status.idle": "2023-04-17T17:37:12.565815Z",
     "shell.execute_reply": "2023-04-17T17:37:12.564526Z"
    },
    "papermill": {
     "duration": 105.739941,
     "end_time": "2023-04-17T17:37:12.582356",
     "exception": false,
     "start_time": "2023-04-17T17:35:26.842415",
     "status": "completed"
    },
    "tags": []
   },
   "outputs": [
    {
     "name": "stdout",
     "output_type": "stream",
     "text": [
      "              precision    recall  f1-score   support\n",
      "\n",
      "           0       0.80      0.97      0.87      4876\n",
      "           1       0.73      0.27      0.39      1639\n",
      "\n",
      "    accuracy                           0.79      6515\n",
      "   macro avg       0.76      0.62      0.63      6515\n",
      "weighted avg       0.78      0.79      0.75      6515\n",
      "\n",
      "LogisticRegression 0.7907904834996162\n",
      "\n",
      "\n",
      "              precision    recall  f1-score   support\n",
      "\n",
      "           0       0.84      0.88      0.86      4876\n",
      "           1       0.57      0.49      0.53      1639\n",
      "\n",
      "    accuracy                           0.78      6515\n",
      "   macro avg       0.71      0.68      0.69      6515\n",
      "weighted avg       0.77      0.78      0.77      6515\n",
      "\n",
      "RandomForestClassifier 0.7805065234075211\n",
      "\n",
      "\n",
      "              precision    recall  f1-score   support\n",
      "\n",
      "           0       0.78      1.00      0.87      4876\n",
      "           1       0.97      0.15      0.27      1639\n",
      "\n",
      "    accuracy                           0.79      6515\n",
      "   macro avg       0.88      0.58      0.57      6515\n",
      "weighted avg       0.83      0.79      0.72      6515\n",
      "\n",
      "SVC 0.7863392171910975\n",
      "\n",
      "\n"
     ]
    }
   ],
   "source": [
    "from sklearn.svm import SVC\n",
    "from sklearn.ensemble import RandomForestClassifier\n",
    "\n",
    "# log_clf = LogisticRegression(random_state=100)\n",
    "rnd_clf = RandomForestClassifier(n_estimators=100, random_state=100)\n",
    "svm_clf = SVC(gamma=\"scale\", probability=True, random_state=100)\n",
    "\n",
    "for clf in (model, rnd_clf, svm_clf):\n",
    "    clf.fit(X_train, y_train)\n",
    "    y_pred = clf.predict(X_test)\n",
    "\n",
    "    print(classification_report(y_test, y_pred))\n",
    "    print(clf.__class__.__name__, accuracy_score(y_test, y_pred))\n",
    "    print('\\n')\n",
    "    \n"
   ]
  },
  {
   "cell_type": "code",
   "execution_count": 28,
   "id": "d9ca25ef",
   "metadata": {
    "execution": {
     "iopub.execute_input": "2023-04-17T17:37:12.613434Z",
     "iopub.status.busy": "2023-04-17T17:37:12.612486Z",
     "iopub.status.idle": "2023-04-17T17:38:58.753984Z",
     "shell.execute_reply": "2023-04-17T17:38:58.752699Z"
    },
    "papermill": {
     "duration": 106.175598,
     "end_time": "2023-04-17T17:38:58.771976",
     "exception": false,
     "start_time": "2023-04-17T17:37:12.596378",
     "status": "completed"
    },
    "tags": []
   },
   "outputs": [
    {
     "name": "stdout",
     "output_type": "stream",
     "text": [
      "              precision    recall  f1-score   support\n",
      "\n",
      "           0       0.80      1.00      0.89      4876\n",
      "           1       0.95      0.26      0.40      1639\n",
      "\n",
      "    accuracy                           0.81      6515\n",
      "   macro avg       0.87      0.63      0.64      6515\n",
      "weighted avg       0.84      0.81      0.76      6515\n",
      "\n",
      "VotingClassifier 0.8092095165003838\n"
     ]
    }
   ],
   "source": [
    "voting_clf = VotingClassifier(estimators=[('lr', model), ('rf', rnd_clf), ('svc', svm_clf)], voting='hard')\n",
    "voting_clf.fit(X_train, y_train)\n",
    "y_pred = voting_clf.predict(X_test)\n",
    "\n",
    "print(classification_report(y_test, y_pred))\n",
    "print(voting_clf.__class__.__name__, accuracy_score(y_test, y_pred))"
   ]
  },
  {
   "cell_type": "code",
   "execution_count": 29,
   "id": "181cfbdc",
   "metadata": {
    "execution": {
     "iopub.execute_input": "2023-04-17T17:38:58.803152Z",
     "iopub.status.busy": "2023-04-17T17:38:58.802758Z",
     "iopub.status.idle": "2023-04-17T17:40:44.857867Z",
     "shell.execute_reply": "2023-04-17T17:40:44.856607Z"
    },
    "papermill": {
     "duration": 106.089449,
     "end_time": "2023-04-17T17:40:44.875890",
     "exception": false,
     "start_time": "2023-04-17T17:38:58.786441",
     "status": "completed"
    },
    "tags": []
   },
   "outputs": [
    {
     "name": "stdout",
     "output_type": "stream",
     "text": [
      "              precision    recall  f1-score   support\n",
      "\n",
      "           0       0.80      0.99      0.89      4876\n",
      "           1       0.92      0.28      0.43      1639\n",
      "\n",
      "    accuracy                           0.81      6515\n",
      "   macro avg       0.86      0.64      0.66      6515\n",
      "weighted avg       0.83      0.81      0.77      6515\n",
      "\n",
      "VotingClassifier 0.8139677666922487\n"
     ]
    }
   ],
   "source": [
    "voting_clf = VotingClassifier(estimators=[('lr', model), ('rf', rnd_clf), ('svc', svm_clf)], voting='soft')\n",
    "voting_clf.fit(X_train, y_train)\n",
    "y_pred = voting_clf.predict(X_test)\n",
    "\n",
    "print(classification_report(y_test, y_pred))\n",
    "print(voting_clf.__class__.__name__, accuracy_score(y_test, y_pred))"
   ]
  },
  {
   "cell_type": "markdown",
   "id": "6621f8e1",
   "metadata": {
    "papermill": {
     "duration": 0.014084,
     "end_time": "2023-04-17T17:40:44.904171",
     "exception": false,
     "start_time": "2023-04-17T17:40:44.890087",
     "status": "completed"
    },
    "tags": []
   },
   "source": [
    "**Soft voting has better performance compared to hard voting. I think the average of probabilities in the case classification problems make more sense as well.**"
   ]
  },
  {
   "cell_type": "code",
   "execution_count": 30,
   "id": "491680b7",
   "metadata": {
    "execution": {
     "iopub.execute_input": "2023-04-17T17:40:44.934920Z",
     "iopub.status.busy": "2023-04-17T17:40:44.934518Z",
     "iopub.status.idle": "2023-04-17T17:40:45.035158Z",
     "shell.execute_reply": "2023-04-17T17:40:45.034138Z"
    },
    "papermill": {
     "duration": 0.119349,
     "end_time": "2023-04-17T17:40:45.037800",
     "exception": false,
     "start_time": "2023-04-17T17:40:44.918451",
     "status": "completed"
    },
    "tags": []
   },
   "outputs": [],
   "source": [
    "try:\n",
    "    import xgboost as xgb\n",
    "except:\n",
    "    import os\n",
    "    os.system(\"pip install xgboost\")"
   ]
  },
  {
   "cell_type": "code",
   "execution_count": 31,
   "id": "99f28b84",
   "metadata": {
    "execution": {
     "iopub.execute_input": "2023-04-17T17:40:45.069068Z",
     "iopub.status.busy": "2023-04-17T17:40:45.068679Z",
     "iopub.status.idle": "2023-04-17T17:40:46.463650Z",
     "shell.execute_reply": "2023-04-17T17:40:46.462732Z"
    },
    "papermill": {
     "duration": 1.413449,
     "end_time": "2023-04-17T17:40:46.465989",
     "exception": false,
     "start_time": "2023-04-17T17:40:45.052540",
     "status": "completed"
    },
    "tags": []
   },
   "outputs": [
    {
     "name": "stdout",
     "output_type": "stream",
     "text": [
      "              precision    recall  f1-score   support\n",
      "\n",
      "           0       0.81      0.99      0.89      4876\n",
      "           1       0.92      0.32      0.48      1639\n",
      "\n",
      "    accuracy                           0.82      6515\n",
      "   macro avg       0.87      0.66      0.69      6515\n",
      "weighted avg       0.84      0.82      0.79      6515\n",
      "\n",
      "0.8230237912509594\n"
     ]
    }
   ],
   "source": [
    "import xgboost as xgb\n",
    "xgb_clf = xgb.XGBClassifier(learning_rate=0.1, random_state=100, use_label_encoder=False)\n",
    "xgb_clf.fit(X_train, y_train)\n",
    "\n",
    "y_pred = xgb_clf.predict(X_test)\n",
    "\n",
    "print(classification_report(y_test, y_pred))\n",
    "print(accuracy_score(y_test, y_pred))"
   ]
  },
  {
   "cell_type": "markdown",
   "id": "0aed83df",
   "metadata": {
    "papermill": {
     "duration": 0.014006,
     "end_time": "2023-04-17T17:40:46.494619",
     "exception": false,
     "start_time": "2023-04-17T17:40:46.480613",
     "status": "completed"
    },
    "tags": []
   },
   "source": [
    "**Xgboost has the best performance so will use xgboost with additional caterical features, validate it and see how it performs. Model complexity doesn't matter as much as data statistical significance and sampling. This idea is reinforced by how each iteratively complex model tried, there isn't much better performance. More complex models work better when there are distinctive qualitative significance in the data**"
   ]
  },
  {
   "cell_type": "code",
   "execution_count": 32,
   "id": "c201aac1",
   "metadata": {
    "execution": {
     "iopub.execute_input": "2023-04-17T17:40:46.526063Z",
     "iopub.status.busy": "2023-04-17T17:40:46.524900Z",
     "iopub.status.idle": "2023-04-17T17:40:46.544342Z",
     "shell.execute_reply": "2023-04-17T17:40:46.543182Z"
    },
    "papermill": {
     "duration": 0.037793,
     "end_time": "2023-04-17T17:40:46.546820",
     "exception": false,
     "start_time": "2023-04-17T17:40:46.509027",
     "status": "completed"
    },
    "tags": []
   },
   "outputs": [
    {
     "data": {
      "text/html": [
       "<div>\n",
       "<style scoped>\n",
       "    .dataframe tbody tr th:only-of-type {\n",
       "        vertical-align: middle;\n",
       "    }\n",
       "\n",
       "    .dataframe tbody tr th {\n",
       "        vertical-align: top;\n",
       "    }\n",
       "\n",
       "    .dataframe thead th {\n",
       "        text-align: right;\n",
       "    }\n",
       "</style>\n",
       "<table border=\"1\" class=\"dataframe\">\n",
       "  <thead>\n",
       "    <tr style=\"text-align: right;\">\n",
       "      <th></th>\n",
       "      <th>age</th>\n",
       "      <th>workclass</th>\n",
       "      <th>fnlwgt</th>\n",
       "      <th>education</th>\n",
       "      <th>education-num</th>\n",
       "      <th>marital-status</th>\n",
       "      <th>occupation</th>\n",
       "      <th>relationship</th>\n",
       "      <th>race</th>\n",
       "      <th>sex</th>\n",
       "      <th>capital-gain</th>\n",
       "      <th>capital-loss</th>\n",
       "      <th>hours-per-week</th>\n",
       "      <th>native-country</th>\n",
       "      <th>salary</th>\n",
       "    </tr>\n",
       "  </thead>\n",
       "  <tbody>\n",
       "    <tr>\n",
       "      <th>0</th>\n",
       "      <td>39.0</td>\n",
       "      <td>State-gov</td>\n",
       "      <td>77516</td>\n",
       "      <td>Bachelors</td>\n",
       "      <td>13</td>\n",
       "      <td>Never-married</td>\n",
       "      <td>Adm-clerical</td>\n",
       "      <td>Not-in-family</td>\n",
       "      <td>White</td>\n",
       "      <td>Male</td>\n",
       "      <td>2174</td>\n",
       "      <td>0</td>\n",
       "      <td>40.0</td>\n",
       "      <td>United-States</td>\n",
       "      <td>0</td>\n",
       "    </tr>\n",
       "    <tr>\n",
       "      <th>1</th>\n",
       "      <td>50.0</td>\n",
       "      <td>Self-emp-not-inc</td>\n",
       "      <td>83311</td>\n",
       "      <td>Bachelors</td>\n",
       "      <td>13</td>\n",
       "      <td>Married-civ-spouse</td>\n",
       "      <td>Exec-managerial</td>\n",
       "      <td>Husband</td>\n",
       "      <td>White</td>\n",
       "      <td>Male</td>\n",
       "      <td>0</td>\n",
       "      <td>0</td>\n",
       "      <td>13.0</td>\n",
       "      <td>United-States</td>\n",
       "      <td>0</td>\n",
       "    </tr>\n",
       "    <tr>\n",
       "      <th>2</th>\n",
       "      <td>38.0</td>\n",
       "      <td>Private</td>\n",
       "      <td>215646</td>\n",
       "      <td>HS-grad</td>\n",
       "      <td>9</td>\n",
       "      <td>Divorced</td>\n",
       "      <td>Handlers-cleaners</td>\n",
       "      <td>Not-in-family</td>\n",
       "      <td>White</td>\n",
       "      <td>Male</td>\n",
       "      <td>0</td>\n",
       "      <td>0</td>\n",
       "      <td>40.0</td>\n",
       "      <td>United-States</td>\n",
       "      <td>0</td>\n",
       "    </tr>\n",
       "    <tr>\n",
       "      <th>3</th>\n",
       "      <td>53.0</td>\n",
       "      <td>Private</td>\n",
       "      <td>234721</td>\n",
       "      <td>11th</td>\n",
       "      <td>7</td>\n",
       "      <td>Married-civ-spouse</td>\n",
       "      <td>Handlers-cleaners</td>\n",
       "      <td>Husband</td>\n",
       "      <td>Black</td>\n",
       "      <td>Male</td>\n",
       "      <td>0</td>\n",
       "      <td>0</td>\n",
       "      <td>40.0</td>\n",
       "      <td>United-States</td>\n",
       "      <td>0</td>\n",
       "    </tr>\n",
       "    <tr>\n",
       "      <th>4</th>\n",
       "      <td>28.0</td>\n",
       "      <td>Private</td>\n",
       "      <td>338409</td>\n",
       "      <td>Bachelors</td>\n",
       "      <td>13</td>\n",
       "      <td>Married-civ-spouse</td>\n",
       "      <td>Prof-specialty</td>\n",
       "      <td>Wife</td>\n",
       "      <td>Black</td>\n",
       "      <td>Female</td>\n",
       "      <td>0</td>\n",
       "      <td>0</td>\n",
       "      <td>40.0</td>\n",
       "      <td>Cuba</td>\n",
       "      <td>0</td>\n",
       "    </tr>\n",
       "  </tbody>\n",
       "</table>\n",
       "</div>"
      ],
      "text/plain": [
       "    age         workclass  fnlwgt  education  education-num  \\\n",
       "0  39.0         State-gov   77516  Bachelors             13   \n",
       "1  50.0  Self-emp-not-inc   83311  Bachelors             13   \n",
       "2  38.0           Private  215646    HS-grad              9   \n",
       "3  53.0           Private  234721       11th              7   \n",
       "4  28.0           Private  338409  Bachelors             13   \n",
       "\n",
       "       marital-status         occupation   relationship   race     sex  \\\n",
       "0       Never-married       Adm-clerical  Not-in-family  White    Male   \n",
       "1  Married-civ-spouse    Exec-managerial        Husband  White    Male   \n",
       "2            Divorced  Handlers-cleaners  Not-in-family  White    Male   \n",
       "3  Married-civ-spouse  Handlers-cleaners        Husband  Black    Male   \n",
       "4  Married-civ-spouse     Prof-specialty           Wife  Black  Female   \n",
       "\n",
       "   capital-gain  capital-loss  hours-per-week native-country  salary  \n",
       "0          2174             0            40.0  United-States       0  \n",
       "1             0             0            13.0  United-States       0  \n",
       "2             0             0            40.0  United-States       0  \n",
       "3             0             0            40.0  United-States       0  \n",
       "4             0             0            40.0           Cuba       0  "
      ]
     },
     "execution_count": 32,
     "metadata": {},
     "output_type": "execute_result"
    }
   ],
   "source": [
    "df.head()"
   ]
  },
  {
   "cell_type": "code",
   "execution_count": 33,
   "id": "1eacfdf3",
   "metadata": {
    "execution": {
     "iopub.execute_input": "2023-04-17T17:40:46.578411Z",
     "iopub.status.busy": "2023-04-17T17:40:46.577958Z",
     "iopub.status.idle": "2023-04-17T17:40:46.590278Z",
     "shell.execute_reply": "2023-04-17T17:40:46.588974Z"
    },
    "papermill": {
     "duration": 0.030976,
     "end_time": "2023-04-17T17:40:46.592564",
     "exception": false,
     "start_time": "2023-04-17T17:40:46.561588",
     "status": "completed"
    },
    "tags": []
   },
   "outputs": [
    {
     "data": {
      "text/plain": [
       "['workclass',\n",
       " 'education',\n",
       " 'marital-status',\n",
       " 'occupation',\n",
       " 'relationship',\n",
       " 'race',\n",
       " 'sex',\n",
       " 'native-country']"
      ]
     },
     "execution_count": 33,
     "metadata": {},
     "output_type": "execute_result"
    }
   ],
   "source": [
    "cat = df.select_dtypes(include=['object']).columns.tolist()\n",
    "cat"
   ]
  },
  {
   "cell_type": "code",
   "execution_count": 34,
   "id": "61080c18",
   "metadata": {
    "execution": {
     "iopub.execute_input": "2023-04-17T17:40:46.624715Z",
     "iopub.status.busy": "2023-04-17T17:40:46.623738Z",
     "iopub.status.idle": "2023-04-17T17:40:46.657289Z",
     "shell.execute_reply": "2023-04-17T17:40:46.656413Z"
    },
    "papermill": {
     "duration": 0.052019,
     "end_time": "2023-04-17T17:40:46.659559",
     "exception": false,
     "start_time": "2023-04-17T17:40:46.607540",
     "status": "completed"
    },
    "tags": []
   },
   "outputs": [
    {
     "data": {
      "text/plain": [
       "workclass          9\n",
       "education         16\n",
       "marital-status     7\n",
       "occupation        15\n",
       "relationship       6\n",
       "race               5\n",
       "sex                2\n",
       "native-country    42\n",
       "dtype: int64"
      ]
     },
     "execution_count": 34,
     "metadata": {},
     "output_type": "execute_result"
    }
   ],
   "source": [
    "df[cat].nunique()"
   ]
  },
  {
   "cell_type": "code",
   "execution_count": 35,
   "id": "4b459b7c",
   "metadata": {
    "execution": {
     "iopub.execute_input": "2023-04-17T17:40:46.692499Z",
     "iopub.status.busy": "2023-04-17T17:40:46.691798Z",
     "iopub.status.idle": "2023-04-17T17:40:46.740665Z",
     "shell.execute_reply": "2023-04-17T17:40:46.739593Z"
    },
    "papermill": {
     "duration": 0.068393,
     "end_time": "2023-04-17T17:40:46.743160",
     "exception": false,
     "start_time": "2023-04-17T17:40:46.674767",
     "status": "completed"
    },
    "tags": []
   },
   "outputs": [
    {
     "data": {
      "text/plain": [
       "(32571, 109)"
      ]
     },
     "execution_count": 35,
     "metadata": {},
     "output_type": "execute_result"
    }
   ],
   "source": [
    "with_cat_df = pd.get_dummies(df, columns=cat)\n",
    "with_cat_df.shape"
   ]
  },
  {
   "cell_type": "code",
   "execution_count": 36,
   "id": "e2e15cb4",
   "metadata": {
    "execution": {
     "iopub.execute_input": "2023-04-17T17:40:46.775886Z",
     "iopub.status.busy": "2023-04-17T17:40:46.775479Z",
     "iopub.status.idle": "2023-04-17T17:40:52.757043Z",
     "shell.execute_reply": "2023-04-17T17:40:52.756076Z"
    },
    "papermill": {
     "duration": 6.000793,
     "end_time": "2023-04-17T17:40:52.759540",
     "exception": false,
     "start_time": "2023-04-17T17:40:46.758747",
     "status": "completed"
    },
    "tags": []
   },
   "outputs": [
    {
     "name": "stdout",
     "output_type": "stream",
     "text": [
      "              precision    recall  f1-score   support\n",
      "\n",
      "           0       0.87      0.95      0.91      4876\n",
      "           1       0.81      0.57      0.67      1639\n",
      "\n",
      "    accuracy                           0.86      6515\n",
      "   macro avg       0.84      0.76      0.79      6515\n",
      "weighted avg       0.85      0.86      0.85      6515\n",
      "\n",
      "0.8570990023023791\n"
     ]
    }
   ],
   "source": [
    "X,y = with_cat_df.drop('salary',axis=1),with_cat_df.salary\n",
    "X_train, X_test, y_train, y_test = train_test_split(X, \n",
    "                                                    y, test_size=0.20, \n",
    "                                                    random_state=100)\n",
    "\n",
    "xgb_clf = xgb.XGBClassifier(learning_rate=0.01, random_state=100, use_label_encoder=False)\n",
    "xgb_clf.fit(X_train, y_train)\n",
    "\n",
    "y_pred = xgb_clf.predict(X_test)\n",
    "\n",
    "print(classification_report(y_test, y_pred))\n",
    "print(accuracy_score(y_test, y_pred))"
   ]
  },
  {
   "cell_type": "markdown",
   "id": "00d403ce",
   "metadata": {
    "papermill": {
     "duration": 0.014864,
     "end_time": "2023-04-17T17:40:52.789731",
     "exception": false,
     "start_time": "2023-04-17T17:40:52.774867",
     "status": "completed"
    },
    "tags": []
   },
   "source": [
    "**Classification performance of xgboost increased by 3% with added categorical features**"
   ]
  },
  {
   "cell_type": "code",
   "execution_count": 37,
   "id": "442c7b1e",
   "metadata": {
    "execution": {
     "iopub.execute_input": "2023-04-17T17:40:52.822028Z",
     "iopub.status.busy": "2023-04-17T17:40:52.821585Z",
     "iopub.status.idle": "2023-04-17T17:41:53.844081Z",
     "shell.execute_reply": "2023-04-17T17:41:53.843157Z"
    },
    "papermill": {
     "duration": 61.057687,
     "end_time": "2023-04-17T17:41:53.862680",
     "exception": false,
     "start_time": "2023-04-17T17:40:52.804993",
     "status": "completed"
    },
    "tags": []
   },
   "outputs": [
    {
     "name": "stdout",
     "output_type": "stream",
     "text": [
      "              precision    recall  f1-score   support\n",
      "\n",
      "           0       0.87      0.95      0.91      4923\n",
      "           1       0.78      0.57      0.66      1592\n",
      "\n",
      "    accuracy                           0.86      6515\n",
      "   macro avg       0.83      0.76      0.78      6515\n",
      "weighted avg       0.85      0.86      0.85      6515\n",
      "\n",
      "0.8560245587106677\n",
      "              precision    recall  f1-score   support\n",
      "\n",
      "           0       0.88      0.95      0.92      5008\n",
      "           1       0.79      0.57      0.66      1507\n",
      "\n",
      "    accuracy                           0.86      6515\n",
      "   macro avg       0.83      0.76      0.79      6515\n",
      "weighted avg       0.86      0.86      0.86      6515\n",
      "\n",
      "0.8649270913277053\n",
      "              precision    recall  f1-score   support\n",
      "\n",
      "           0       0.87      0.95      0.91      4938\n",
      "           1       0.78      0.54      0.64      1577\n",
      "\n",
      "    accuracy                           0.85      6515\n",
      "   macro avg       0.82      0.75      0.77      6515\n",
      "weighted avg       0.85      0.85      0.84      6515\n",
      "\n",
      "0.851726784343822\n",
      "              precision    recall  f1-score   support\n",
      "\n",
      "           0       0.87      0.96      0.91      4988\n",
      "           1       0.79      0.53      0.63      1527\n",
      "\n",
      "    accuracy                           0.86      6515\n",
      "   macro avg       0.83      0.74      0.77      6515\n",
      "weighted avg       0.85      0.86      0.85      6515\n",
      "\n",
      "0.8558710667689946\n",
      "              precision    recall  f1-score   support\n",
      "\n",
      "           0       0.88      0.94      0.91      4999\n",
      "           1       0.76      0.57      0.65      1516\n",
      "\n",
      "    accuracy                           0.86      6515\n",
      "   macro avg       0.82      0.76      0.78      6515\n",
      "weighted avg       0.85      0.86      0.85      6515\n",
      "\n",
      "0.8580199539524175\n",
      "              precision    recall  f1-score   support\n",
      "\n",
      "           0       0.87      0.95      0.91      4977\n",
      "           1       0.79      0.55      0.65      1538\n",
      "\n",
      "    accuracy                           0.86      6515\n",
      "   macro avg       0.83      0.75      0.78      6515\n",
      "weighted avg       0.85      0.86      0.85      6515\n",
      "\n",
      "0.859094397544129\n",
      "              precision    recall  f1-score   support\n",
      "\n",
      "           0       0.88      0.95      0.91      4945\n",
      "           1       0.79      0.57      0.66      1570\n",
      "\n",
      "    accuracy                           0.86      6515\n",
      "   macro avg       0.83      0.76      0.79      6515\n",
      "weighted avg       0.85      0.86      0.85      6515\n",
      "\n",
      "0.8600153491941673\n",
      "              precision    recall  f1-score   support\n",
      "\n",
      "           0       0.87      0.95      0.91      4972\n",
      "           1       0.77      0.55      0.64      1543\n",
      "\n",
      "    accuracy                           0.86      6515\n",
      "   macro avg       0.82      0.75      0.78      6515\n",
      "weighted avg       0.85      0.86      0.85      6515\n",
      "\n",
      "0.8557175748273216\n",
      "              precision    recall  f1-score   support\n",
      "\n",
      "           0       0.86      0.96      0.91      4925\n",
      "           1       0.79      0.53      0.63      1590\n",
      "\n",
      "    accuracy                           0.85      6515\n",
      "   macro avg       0.83      0.74      0.77      6515\n",
      "weighted avg       0.85      0.85      0.84      6515\n",
      "\n",
      "0.8508058326937836\n",
      "              precision    recall  f1-score   support\n",
      "\n",
      "           0       0.87      0.95      0.91      4918\n",
      "           1       0.79      0.55      0.65      1597\n",
      "\n",
      "    accuracy                           0.85      6515\n",
      "   macro avg       0.83      0.75      0.78      6515\n",
      "weighted avg       0.85      0.85      0.84      6515\n",
      "\n",
      "0.854336147352264\n"
     ]
    }
   ],
   "source": [
    "# Type in your code and answers\n",
    "# perform a 10-fold cross validation\n",
    "for i in range(10):\n",
    "    X_t, X_test, Y_t, y_test = train_test_split(X, y, test_size=0.2, random_state = i*42)\n",
    "    xgb_clf.fit(X_t, Y_t)\n",
    "    y_pred = xgb_clf.predict(X_test)\n",
    "    print(classification_report(y_test,y_pred))\n",
    "    print(accuracy_score(y_test, y_pred))"
   ]
  },
  {
   "cell_type": "markdown",
   "id": "da3b03e9",
   "metadata": {
    "papermill": {
     "duration": 0.015691,
     "end_time": "2023-04-17T17:41:53.894230",
     "exception": false,
     "start_time": "2023-04-17T17:41:53.878539",
     "status": "completed"
    },
    "tags": []
   },
   "source": [
    "**Random sampling 10 different times using the same model gets similar performance at 85% with additional categorical features. This may imply that the performance xgboost with categorical features at 85% is not due to sampling luck**"
   ]
  },
  {
   "cell_type": "markdown",
   "id": "1b24e52c",
   "metadata": {
    "papermill": {
     "duration": 0.015925,
     "end_time": "2023-04-17T17:41:53.926738",
     "exception": false,
     "start_time": "2023-04-17T17:41:53.910813",
     "status": "completed"
    },
    "tags": []
   },
   "source": [
    "##  TODO comment entire process and findings here, mention something about soft and hard voting, cross validation only for best model"
   ]
  }
 ],
 "metadata": {
  "kernelspec": {
   "display_name": "Python 3",
   "language": "python",
   "name": "python3"
  },
  "language_info": {
   "codemirror_mode": {
    "name": "ipython",
    "version": 3
   },
   "file_extension": ".py",
   "mimetype": "text/x-python",
   "name": "python",
   "nbconvert_exporter": "python",
   "pygments_lexer": "ipython3",
   "version": "3.7.12"
  },
  "papermill": {
   "default_parameters": {},
   "duration": 414.440571,
   "end_time": "2023-04-17T17:41:54.766988",
   "environment_variables": {},
   "exception": null,
   "input_path": "__notebook__.ipynb",
   "output_path": "__notebook__.ipynb",
   "parameters": {},
   "start_time": "2023-04-17T17:35:00.326417",
   "version": "2.4.0"
  }
 },
 "nbformat": 4,
 "nbformat_minor": 5
}
