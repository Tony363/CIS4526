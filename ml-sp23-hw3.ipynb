{
 "cells": [
  {
   "cell_type": "markdown",
   "id": "d5aaae36",
   "metadata": {
    "papermill": {
     "duration": 0.011888,
     "end_time": "2023-04-13T20:14:29.341096",
     "exception": false,
     "start_time": "2023-04-13T20:14:29.329208",
     "status": "completed"
    },
    "tags": []
   },
   "source": [
    "# CIS 4526 Sp23 HomeWork 3"
   ]
  },
  {
   "cell_type": "code",
   "execution_count": 1,
   "id": "d0c68e58",
   "metadata": {
    "execution": {
     "iopub.execute_input": "2023-04-13T20:14:29.364560Z",
     "iopub.status.busy": "2023-04-13T20:14:29.364075Z",
     "iopub.status.idle": "2023-04-13T20:14:30.824423Z",
     "shell.execute_reply": "2023-04-13T20:14:30.822978Z"
    },
    "papermill": {
     "duration": 1.475715,
     "end_time": "2023-04-13T20:14:30.827642",
     "exception": false,
     "start_time": "2023-04-13T20:14:29.351927",
     "status": "completed"
    },
    "tags": []
   },
   "outputs": [],
   "source": [
    "import numpy as np\n",
    "import pandas as pd\n",
    "import matplotlib.pyplot as plt\n",
    "import seaborn as sns\n",
    "import warnings\n",
    "warnings.filterwarnings('ignore')\n",
    "from sklearn.model_selection import train_test_split"
   ]
  },
  {
   "cell_type": "code",
   "execution_count": 2,
   "id": "c1f65b6d",
   "metadata": {
    "execution": {
     "iopub.execute_input": "2023-04-13T20:14:30.851114Z",
     "iopub.status.busy": "2023-04-13T20:14:30.850679Z",
     "iopub.status.idle": "2023-04-13T20:14:31.233024Z",
     "shell.execute_reply": "2023-04-13T20:14:31.231986Z"
    },
    "papermill": {
     "duration": 0.39737,
     "end_time": "2023-04-13T20:14:31.235785",
     "exception": false,
     "start_time": "2023-04-13T20:14:30.838415",
     "status": "completed"
    },
    "tags": []
   },
   "outputs": [],
   "source": [
    "from sklearn.model_selection import train_test_split\n",
    "from sklearn.linear_model import LogisticRegression\n",
    "from sklearn import svm\n",
    "from sklearn.ensemble import RandomForestClassifier\n",
    "from sklearn.tree import DecisionTreeClassifier"
   ]
  },
  {
   "cell_type": "code",
   "execution_count": 3,
   "id": "07b8e086",
   "metadata": {
    "execution": {
     "iopub.execute_input": "2023-04-13T20:14:31.261441Z",
     "iopub.status.busy": "2023-04-13T20:14:31.260309Z",
     "iopub.status.idle": "2023-04-13T20:14:31.265437Z",
     "shell.execute_reply": "2023-04-13T20:14:31.264484Z"
    },
    "papermill": {
     "duration": 0.02129,
     "end_time": "2023-04-13T20:14:31.267877",
     "exception": false,
     "start_time": "2023-04-13T20:14:31.246587",
     "status": "completed"
    },
    "tags": []
   },
   "outputs": [],
   "source": [
    "from sklearn.metrics import classification_report,confusion_matrix,accuracy_score"
   ]
  },
  {
   "cell_type": "markdown",
   "id": "734d0dad",
   "metadata": {
    "papermill": {
     "duration": 0.010704,
     "end_time": "2023-04-13T20:14:31.289609",
     "exception": false,
     "start_time": "2023-04-13T20:14:31.278905",
     "status": "completed"
    },
    "tags": []
   },
   "source": [
    "### Dataset is based on an census income data\n",
    "https://archive.ics.uci.edu/ml/datasets/census+income\n"
   ]
  },
  {
   "cell_type": "markdown",
   "id": "67d7ae4d",
   "metadata": {
    "papermill": {
     "duration": 0.010426,
     "end_time": "2023-04-13T20:14:31.310936",
     "exception": false,
     "start_time": "2023-04-13T20:14:31.300510",
     "status": "completed"
    },
    "tags": []
   },
   "source": [
    "Data Set Information:\n",
    "\n",
    "Extraction was done by Barry Becker from the 1994 Census database. \n",
    "\n",
    "\n",
    "Attribute Information:\n",
    "\n",
    "Listing of attributes:\n",
    "\n",
    "* The last column >50K, <=50K is the target variable indicating whether the people earn less than or larger than 50K per year\n",
    "\n",
    "* age: continuous.\n",
    "* workclass: Private, Self-emp-not-inc, Self-emp-inc, Federal-gov, Local-gov, State-gov, Without-pay, Never-worked.\n",
    "* fnlwgt: continuous.\n",
    "* education: Bachelors, Some-college, 11th, HS-grad, Prof-school, Assoc-acdm, Assoc-voc, 9th, 7th-8th, 12th, Masters, 1st-4th, 10th, Doctorate, 5th-6th, Preschool.\n",
    "* education-num: continuous.\n",
    "* marital-status: Married-civ-spouse, Divorced, Never-married, Separated, Widowed, Married-spouse-absent, Married-AF-spouse.\n",
    "* occupation: Tech-support, Craft-repair, Other-service, Sales, Exec-managerial, Prof-specialty, Handlers-cleaners, Machine-op-inspct, Adm-clerical, Farming-fishing, Transport-moving, Priv-house-serv, Protective-serv, Armed-Forces.\n",
    "* relationship: Wife, Own-child, Husband, Not-in-family, Other-relative, Unmarried.\n",
    "* race: White, Asian-Pac-Islander, Amer-Indian-Eskimo, Other, Black.\n",
    "* sex: Female, Male.\n",
    "* capital-gain: continuous.\n",
    "* capital-loss: continuous.\n",
    "* hours-per-week: continuous.\n",
    "* native-country: United-States, Cambodia, England, Puerto-Rico, Canada, Germany, Outlying-US(Guam-USVI-etc), India, Japan, Greece, South, China, Cuba, Iran, Honduras, Philippines, Italy, Poland, Jamaica, Vietnam, Mexico, Portugal, Ireland, France, Dominican-Republic, Laos, Ecuador, Taiwan, Haiti, Columbia, Hungary, Guatemala, Nicaragua, Scotland, Thailand, Yugoslavia, El-Salvador, Trinadad&Tobago, Peru, Hong, Holand-Netherlands.\n",
    "\n"
   ]
  },
  {
   "cell_type": "markdown",
   "id": "22e16663",
   "metadata": {
    "papermill": {
     "duration": 0.010635,
     "end_time": "2023-04-13T20:14:31.332586",
     "exception": false,
     "start_time": "2023-04-13T20:14:31.321951",
     "status": "completed"
    },
    "tags": []
   },
   "source": [
    "### However, I have modified the dataset and so you will need to load the dataset by reading a csv file I provided. In particular, I changed 50K to 80K just to reflect the inflation "
   ]
  },
  {
   "cell_type": "code",
   "execution_count": 4,
   "id": "8f02a097",
   "metadata": {
    "execution": {
     "iopub.execute_input": "2023-04-13T20:14:31.356174Z",
     "iopub.status.busy": "2023-04-13T20:14:31.355357Z",
     "iopub.status.idle": "2023-04-13T20:14:31.548322Z",
     "shell.execute_reply": "2023-04-13T20:14:31.546930Z"
    },
    "papermill": {
     "duration": 0.208446,
     "end_time": "2023-04-13T20:14:31.551850",
     "exception": false,
     "start_time": "2023-04-13T20:14:31.343404",
     "status": "completed"
    },
    "tags": []
   },
   "outputs": [
    {
     "data": {
      "text/html": [
       "<div>\n",
       "<style scoped>\n",
       "    .dataframe tbody tr th:only-of-type {\n",
       "        vertical-align: middle;\n",
       "    }\n",
       "\n",
       "    .dataframe tbody tr th {\n",
       "        vertical-align: top;\n",
       "    }\n",
       "\n",
       "    .dataframe thead th {\n",
       "        text-align: right;\n",
       "    }\n",
       "</style>\n",
       "<table border=\"1\" class=\"dataframe\">\n",
       "  <thead>\n",
       "    <tr style=\"text-align: right;\">\n",
       "      <th></th>\n",
       "      <th>age</th>\n",
       "      <th>workclass</th>\n",
       "      <th>fnlwgt</th>\n",
       "      <th>education</th>\n",
       "      <th>education-num</th>\n",
       "      <th>marital-status</th>\n",
       "      <th>occupation</th>\n",
       "      <th>relationship</th>\n",
       "      <th>race</th>\n",
       "      <th>sex</th>\n",
       "      <th>capital-gain</th>\n",
       "      <th>capital-loss</th>\n",
       "      <th>hours-per-week</th>\n",
       "      <th>native-country</th>\n",
       "      <th>salary</th>\n",
       "    </tr>\n",
       "  </thead>\n",
       "  <tbody>\n",
       "    <tr>\n",
       "      <th>0</th>\n",
       "      <td>39</td>\n",
       "      <td>State-gov</td>\n",
       "      <td>77516</td>\n",
       "      <td>Bachelors</td>\n",
       "      <td>13</td>\n",
       "      <td>Never-married</td>\n",
       "      <td>Adm-clerical</td>\n",
       "      <td>Not-in-family</td>\n",
       "      <td>White</td>\n",
       "      <td>Male</td>\n",
       "      <td>2174</td>\n",
       "      <td>0</td>\n",
       "      <td>40</td>\n",
       "      <td>United-States</td>\n",
       "      <td>&lt;=80K</td>\n",
       "    </tr>\n",
       "    <tr>\n",
       "      <th>1</th>\n",
       "      <td>50</td>\n",
       "      <td>Self-emp-not-inc</td>\n",
       "      <td>83311</td>\n",
       "      <td>Bachelors</td>\n",
       "      <td>13</td>\n",
       "      <td>Married-civ-spouse</td>\n",
       "      <td>Exec-managerial</td>\n",
       "      <td>Husband</td>\n",
       "      <td>White</td>\n",
       "      <td>Male</td>\n",
       "      <td>0</td>\n",
       "      <td>0</td>\n",
       "      <td>13</td>\n",
       "      <td>United-States</td>\n",
       "      <td>&lt;=80K</td>\n",
       "    </tr>\n",
       "    <tr>\n",
       "      <th>2</th>\n",
       "      <td>38</td>\n",
       "      <td>Private</td>\n",
       "      <td>215646</td>\n",
       "      <td>HS-grad</td>\n",
       "      <td>9</td>\n",
       "      <td>Divorced</td>\n",
       "      <td>Handlers-cleaners</td>\n",
       "      <td>Not-in-family</td>\n",
       "      <td>White</td>\n",
       "      <td>Male</td>\n",
       "      <td>0</td>\n",
       "      <td>0</td>\n",
       "      <td>40</td>\n",
       "      <td>United-States</td>\n",
       "      <td>&lt;=80K</td>\n",
       "    </tr>\n",
       "    <tr>\n",
       "      <th>3</th>\n",
       "      <td>53</td>\n",
       "      <td>Private</td>\n",
       "      <td>234721</td>\n",
       "      <td>11th</td>\n",
       "      <td>7</td>\n",
       "      <td>Married-civ-spouse</td>\n",
       "      <td>Handlers-cleaners</td>\n",
       "      <td>Husband</td>\n",
       "      <td>Black</td>\n",
       "      <td>Male</td>\n",
       "      <td>0</td>\n",
       "      <td>0</td>\n",
       "      <td>40</td>\n",
       "      <td>United-States</td>\n",
       "      <td>&lt;=80K</td>\n",
       "    </tr>\n",
       "    <tr>\n",
       "      <th>4</th>\n",
       "      <td>28</td>\n",
       "      <td>Private</td>\n",
       "      <td>338409</td>\n",
       "      <td>Bachelors</td>\n",
       "      <td>13</td>\n",
       "      <td>Married-civ-spouse</td>\n",
       "      <td>Prof-specialty</td>\n",
       "      <td>Wife</td>\n",
       "      <td>Black</td>\n",
       "      <td>Female</td>\n",
       "      <td>0</td>\n",
       "      <td>0</td>\n",
       "      <td>40</td>\n",
       "      <td>Cuba</td>\n",
       "      <td>&lt;=80K</td>\n",
       "    </tr>\n",
       "  </tbody>\n",
       "</table>\n",
       "</div>"
      ],
      "text/plain": [
       "   age         workclass  fnlwgt  education  education-num  \\\n",
       "0   39         State-gov   77516  Bachelors             13   \n",
       "1   50  Self-emp-not-inc   83311  Bachelors             13   \n",
       "2   38           Private  215646    HS-grad              9   \n",
       "3   53           Private  234721       11th              7   \n",
       "4   28           Private  338409  Bachelors             13   \n",
       "\n",
       "       marital-status         occupation   relationship   race     sex  \\\n",
       "0       Never-married       Adm-clerical  Not-in-family  White    Male   \n",
       "1  Married-civ-spouse    Exec-managerial        Husband  White    Male   \n",
       "2            Divorced  Handlers-cleaners  Not-in-family  White    Male   \n",
       "3  Married-civ-spouse  Handlers-cleaners        Husband  Black    Male   \n",
       "4  Married-civ-spouse     Prof-specialty           Wife  Black  Female   \n",
       "\n",
       "   capital-gain  capital-loss  hours-per-week native-country salary  \n",
       "0          2174             0              40  United-States  <=80K  \n",
       "1             0             0              13  United-States  <=80K  \n",
       "2             0             0              40  United-States  <=80K  \n",
       "3             0             0              40  United-States  <=80K  \n",
       "4             0             0              40           Cuba  <=80K  "
      ]
     },
     "execution_count": 4,
     "metadata": {},
     "output_type": "execute_result"
    }
   ],
   "source": [
    "df = pd.read_csv(\"/kaggle/input/adult-income-modified/adult_income_modified.csv\")\n",
    "df.head()"
   ]
  },
  {
   "cell_type": "code",
   "execution_count": 5,
   "id": "159eb228",
   "metadata": {
    "execution": {
     "iopub.execute_input": "2023-04-13T20:14:31.576759Z",
     "iopub.status.busy": "2023-04-13T20:14:31.575392Z",
     "iopub.status.idle": "2023-04-13T20:14:31.592258Z",
     "shell.execute_reply": "2023-04-13T20:14:31.590987Z"
    },
    "papermill": {
     "duration": 0.031849,
     "end_time": "2023-04-13T20:14:31.594825",
     "exception": false,
     "start_time": "2023-04-13T20:14:31.562976",
     "status": "completed"
    },
    "tags": []
   },
   "outputs": [
    {
     "data": {
      "text/plain": [
       "array(['<=80K', '>80K'], dtype=object)"
      ]
     },
     "execution_count": 5,
     "metadata": {},
     "output_type": "execute_result"
    }
   ],
   "source": [
    "df.salary.unique()"
   ]
  },
  {
   "cell_type": "code",
   "execution_count": 6,
   "id": "51b65ce6",
   "metadata": {
    "execution": {
     "iopub.execute_input": "2023-04-13T20:14:31.619657Z",
     "iopub.status.busy": "2023-04-13T20:14:31.618790Z",
     "iopub.status.idle": "2023-04-13T20:14:31.629448Z",
     "shell.execute_reply": "2023-04-13T20:14:31.628309Z"
    },
    "papermill": {
     "duration": 0.026123,
     "end_time": "2023-04-13T20:14:31.631870",
     "exception": false,
     "start_time": "2023-04-13T20:14:31.605747",
     "status": "completed"
    },
    "tags": []
   },
   "outputs": [
    {
     "data": {
      "text/plain": [
       "array(['State-gov', 'Self-emp-not-inc', 'Private', 'Federal-gov',\n",
       "       'Local-gov', '?', 'Self-emp-inc', 'Without-pay', 'Never-worked'],\n",
       "      dtype=object)"
      ]
     },
     "execution_count": 6,
     "metadata": {},
     "output_type": "execute_result"
    }
   ],
   "source": [
    "df.workclass.unique()"
   ]
  },
  {
   "cell_type": "code",
   "execution_count": 7,
   "id": "5c759392",
   "metadata": {
    "execution": {
     "iopub.execute_input": "2023-04-13T20:14:31.656287Z",
     "iopub.status.busy": "2023-04-13T20:14:31.655863Z",
     "iopub.status.idle": "2023-04-13T20:14:31.665690Z",
     "shell.execute_reply": "2023-04-13T20:14:31.664724Z"
    },
    "papermill": {
     "duration": 0.024868,
     "end_time": "2023-04-13T20:14:31.667901",
     "exception": false,
     "start_time": "2023-04-13T20:14:31.643033",
     "status": "completed"
    },
    "tags": []
   },
   "outputs": [
    {
     "data": {
      "text/plain": [
       "array(['Bachelors', 'HS-grad', '11th', 'Masters', '9th', 'Some-college',\n",
       "       'Assoc-acdm', 'Assoc-voc', '7th-8th', 'Doctorate', 'Prof-school',\n",
       "       '5th-6th', '10th', '1st-4th', 'Preschool', '12th'], dtype=object)"
      ]
     },
     "execution_count": 7,
     "metadata": {},
     "output_type": "execute_result"
    }
   ],
   "source": [
    "df.education.unique()"
   ]
  },
  {
   "cell_type": "markdown",
   "id": "c4c2c33f",
   "metadata": {
    "papermill": {
     "duration": 0.010923,
     "end_time": "2023-04-13T20:14:31.690096",
     "exception": false,
     "start_time": "2023-04-13T20:14:31.679173",
     "status": "completed"
    },
    "tags": []
   },
   "source": [
    "### Need to replace ?"
   ]
  },
  {
   "cell_type": "code",
   "execution_count": 8,
   "id": "b9c3853e",
   "metadata": {
    "execution": {
     "iopub.execute_input": "2023-04-13T20:14:31.714504Z",
     "iopub.status.busy": "2023-04-13T20:14:31.714048Z",
     "iopub.status.idle": "2023-04-13T20:14:31.725709Z",
     "shell.execute_reply": "2023-04-13T20:14:31.724704Z"
    },
    "papermill": {
     "duration": 0.026846,
     "end_time": "2023-04-13T20:14:31.728114",
     "exception": false,
     "start_time": "2023-04-13T20:14:31.701268",
     "status": "completed"
    },
    "tags": []
   },
   "outputs": [
    {
     "data": {
      "text/plain": [
       "array(['Never-married', 'Married-civ-spouse', 'Divorced',\n",
       "       'Married-spouse-absent', 'Separated', 'Married-AF-spouse',\n",
       "       'Widowed'], dtype=object)"
      ]
     },
     "execution_count": 8,
     "metadata": {},
     "output_type": "execute_result"
    }
   ],
   "source": [
    "df['marital-status'].unique()"
   ]
  },
  {
   "cell_type": "markdown",
   "id": "23bf341e",
   "metadata": {
    "papermill": {
     "duration": 0.011264,
     "end_time": "2023-04-13T20:14:31.751322",
     "exception": false,
     "start_time": "2023-04-13T20:14:31.740058",
     "status": "completed"
    },
    "tags": []
   },
   "source": [
    "### Your task is to try different Ensemble Models to predict whether a people will earn <= 80K or > 80K"
   ]
  },
  {
   "cell_type": "markdown",
   "id": "47c3c842",
   "metadata": {
    "papermill": {
     "duration": 0.01111,
     "end_time": "2023-04-13T20:14:31.773935",
     "exception": false,
     "start_time": "2023-04-13T20:14:31.762825",
     "status": "completed"
    },
    "tags": []
   },
   "source": [
    "### Make sure your work include the following steps"
   ]
  },
  {
   "cell_type": "markdown",
   "id": "43751843",
   "metadata": {
    "papermill": {
     "duration": 0.011085,
     "end_time": "2023-04-13T20:14:31.796432",
     "exception": false,
     "start_time": "2023-04-13T20:14:31.785347",
     "status": "completed"
    },
    "tags": []
   },
   "source": [
    "* EDA (chekcing missing values, removing outliers)\n",
    "* separated data set into training and testing\n",
    "* performed cross-validations\n",
    "* Build a base model using LogisticRegression and only a smaller set of features (say only numerical features)\n",
    "* Try different ensemble methods, including VotingClassifier (soft and hard voting), BaggingClassifier, AdaBoostClassifier, GradientBoostClassifier and xgb with the same set of features\n",
    "* Comment on your experience in these various models, in particular compare this with the basic LogisticRegression\n",
    "* Out of all these ensemble model, pick the best model, add additional featrues (eg categorical features)\n",
    "* Comment on the final best model you find"
   ]
  },
  {
   "cell_type": "markdown",
   "id": "81d0b7a7",
   "metadata": {
    "papermill": {
     "duration": 0.011033,
     "end_time": "2023-04-13T20:14:31.819099",
     "exception": false,
     "start_time": "2023-04-13T20:14:31.808066",
     "status": "completed"
    },
    "tags": []
   },
   "source": [
    "### Good Luck !!!"
   ]
  },
  {
   "cell_type": "markdown",
   "id": "f7006010",
   "metadata": {
    "papermill": {
     "duration": 0.011141,
     "end_time": "2023-04-13T20:14:31.841768",
     "exception": false,
     "start_time": "2023-04-13T20:14:31.830627",
     "status": "completed"
    },
    "tags": []
   },
   "source": [
    "Show all your work below"
   ]
  },
  {
   "cell_type": "markdown",
   "id": "25b964f5",
   "metadata": {
    "papermill": {
     "duration": 0.012118,
     "end_time": "2023-04-13T20:14:31.865382",
     "exception": false,
     "start_time": "2023-04-13T20:14:31.853264",
     "status": "completed"
    },
    "tags": []
   },
   "source": [
    "### EDA"
   ]
  },
  {
   "cell_type": "code",
   "execution_count": 9,
   "id": "95997c38",
   "metadata": {
    "execution": {
     "iopub.execute_input": "2023-04-13T20:14:31.891283Z",
     "iopub.status.busy": "2023-04-13T20:14:31.889870Z",
     "iopub.status.idle": "2023-04-13T20:14:31.933407Z",
     "shell.execute_reply": "2023-04-13T20:14:31.932143Z"
    },
    "papermill": {
     "duration": 0.059048,
     "end_time": "2023-04-13T20:14:31.935898",
     "exception": false,
     "start_time": "2023-04-13T20:14:31.876850",
     "status": "completed"
    },
    "tags": []
   },
   "outputs": [
    {
     "data": {
      "text/html": [
       "<div>\n",
       "<style scoped>\n",
       "    .dataframe tbody tr th:only-of-type {\n",
       "        vertical-align: middle;\n",
       "    }\n",
       "\n",
       "    .dataframe tbody tr th {\n",
       "        vertical-align: top;\n",
       "    }\n",
       "\n",
       "    .dataframe thead th {\n",
       "        text-align: right;\n",
       "    }\n",
       "</style>\n",
       "<table border=\"1\" class=\"dataframe\">\n",
       "  <thead>\n",
       "    <tr style=\"text-align: right;\">\n",
       "      <th></th>\n",
       "      <th>age</th>\n",
       "      <th>fnlwgt</th>\n",
       "      <th>education-num</th>\n",
       "      <th>capital-gain</th>\n",
       "      <th>capital-loss</th>\n",
       "      <th>hours-per-week</th>\n",
       "    </tr>\n",
       "  </thead>\n",
       "  <tbody>\n",
       "    <tr>\n",
       "      <th>count</th>\n",
       "      <td>32571.000000</td>\n",
       "      <td>3.257100e+04</td>\n",
       "      <td>32571.000000</td>\n",
       "      <td>32571.000000</td>\n",
       "      <td>32571.000000</td>\n",
       "      <td>32571.000000</td>\n",
       "    </tr>\n",
       "    <tr>\n",
       "      <th>mean</th>\n",
       "      <td>38.599153</td>\n",
       "      <td>1.898091e+05</td>\n",
       "      <td>10.080747</td>\n",
       "      <td>1077.317982</td>\n",
       "      <td>87.435357</td>\n",
       "      <td>40.452151</td>\n",
       "    </tr>\n",
       "    <tr>\n",
       "      <th>std</th>\n",
       "      <td>13.744795</td>\n",
       "      <td>1.055927e+05</td>\n",
       "      <td>2.572484</td>\n",
       "      <td>7384.182377</td>\n",
       "      <td>403.204587</td>\n",
       "      <td>12.441330</td>\n",
       "    </tr>\n",
       "    <tr>\n",
       "      <th>min</th>\n",
       "      <td>0.000000</td>\n",
       "      <td>1.228500e+04</td>\n",
       "      <td>1.000000</td>\n",
       "      <td>0.000000</td>\n",
       "      <td>0.000000</td>\n",
       "      <td>1.000000</td>\n",
       "    </tr>\n",
       "    <tr>\n",
       "      <th>25%</th>\n",
       "      <td>28.000000</td>\n",
       "      <td>1.178215e+05</td>\n",
       "      <td>9.000000</td>\n",
       "      <td>0.000000</td>\n",
       "      <td>0.000000</td>\n",
       "      <td>40.000000</td>\n",
       "    </tr>\n",
       "    <tr>\n",
       "      <th>50%</th>\n",
       "      <td>37.000000</td>\n",
       "      <td>1.783830e+05</td>\n",
       "      <td>10.000000</td>\n",
       "      <td>0.000000</td>\n",
       "      <td>0.000000</td>\n",
       "      <td>40.000000</td>\n",
       "    </tr>\n",
       "    <tr>\n",
       "      <th>75%</th>\n",
       "      <td>48.000000</td>\n",
       "      <td>2.371095e+05</td>\n",
       "      <td>12.000000</td>\n",
       "      <td>0.000000</td>\n",
       "      <td>0.000000</td>\n",
       "      <td>45.000000</td>\n",
       "    </tr>\n",
       "    <tr>\n",
       "      <th>max</th>\n",
       "      <td>250.000000</td>\n",
       "      <td>1.484705e+06</td>\n",
       "      <td>16.000000</td>\n",
       "      <td>99999.000000</td>\n",
       "      <td>4356.000000</td>\n",
       "      <td>202.000000</td>\n",
       "    </tr>\n",
       "  </tbody>\n",
       "</table>\n",
       "</div>"
      ],
      "text/plain": [
       "                age        fnlwgt  education-num  capital-gain  capital-loss  \\\n",
       "count  32571.000000  3.257100e+04   32571.000000  32571.000000  32571.000000   \n",
       "mean      38.599153  1.898091e+05      10.080747   1077.317982     87.435357   \n",
       "std       13.744795  1.055927e+05       2.572484   7384.182377    403.204587   \n",
       "min        0.000000  1.228500e+04       1.000000      0.000000      0.000000   \n",
       "25%       28.000000  1.178215e+05       9.000000      0.000000      0.000000   \n",
       "50%       37.000000  1.783830e+05      10.000000      0.000000      0.000000   \n",
       "75%       48.000000  2.371095e+05      12.000000      0.000000      0.000000   \n",
       "max      250.000000  1.484705e+06      16.000000  99999.000000   4356.000000   \n",
       "\n",
       "       hours-per-week  \n",
       "count    32571.000000  \n",
       "mean        40.452151  \n",
       "std         12.441330  \n",
       "min          1.000000  \n",
       "25%         40.000000  \n",
       "50%         40.000000  \n",
       "75%         45.000000  \n",
       "max        202.000000  "
      ]
     },
     "execution_count": 9,
     "metadata": {},
     "output_type": "execute_result"
    }
   ],
   "source": [
    "df.describe()"
   ]
  },
  {
   "cell_type": "code",
   "execution_count": 10,
   "id": "a044847c",
   "metadata": {
    "execution": {
     "iopub.execute_input": "2023-04-13T20:14:31.961954Z",
     "iopub.status.busy": "2023-04-13T20:14:31.961086Z",
     "iopub.status.idle": "2023-04-13T20:14:31.984320Z",
     "shell.execute_reply": "2023-04-13T20:14:31.982957Z"
    },
    "papermill": {
     "duration": 0.039459,
     "end_time": "2023-04-13T20:14:31.987067",
     "exception": false,
     "start_time": "2023-04-13T20:14:31.947608",
     "status": "completed"
    },
    "tags": []
   },
   "outputs": [
    {
     "data": {
      "text/plain": [
       "age               False\n",
       "workclass         False\n",
       "fnlwgt            False\n",
       "education         False\n",
       "education-num     False\n",
       "marital-status    False\n",
       "occupation        False\n",
       "relationship      False\n",
       "race              False\n",
       "sex               False\n",
       "capital-gain      False\n",
       "capital-loss      False\n",
       "hours-per-week    False\n",
       "native-country    False\n",
       "salary            False\n",
       "dtype: bool"
      ]
     },
     "execution_count": 10,
     "metadata": {},
     "output_type": "execute_result"
    }
   ],
   "source": [
    "# remove data that are obviously wrong, no need to do it extensively, just use the above table as a hint\n",
    "df.isnull().any()"
   ]
  },
  {
   "cell_type": "code",
   "execution_count": 11,
   "id": "8f937f0b",
   "metadata": {
    "execution": {
     "iopub.execute_input": "2023-04-13T20:14:32.012777Z",
     "iopub.status.busy": "2023-04-13T20:14:32.012285Z",
     "iopub.status.idle": "2023-04-13T20:14:32.019760Z",
     "shell.execute_reply": "2023-04-13T20:14:32.018560Z"
    },
    "papermill": {
     "duration": 0.02335,
     "end_time": "2023-04-13T20:14:32.022191",
     "exception": false,
     "start_time": "2023-04-13T20:14:31.998841",
     "status": "completed"
    },
    "tags": []
   },
   "outputs": [
    {
     "data": {
      "text/plain": [
       "Index(['age', 'workclass', 'fnlwgt', 'education', 'education-num',\n",
       "       'marital-status', 'occupation', 'relationship', 'race', 'sex',\n",
       "       'capital-gain', 'capital-loss', 'hours-per-week', 'native-country',\n",
       "       'salary'],\n",
       "      dtype='object')"
      ]
     },
     "execution_count": 11,
     "metadata": {},
     "output_type": "execute_result"
    }
   ],
   "source": [
    "# .... TODO age, hours per week\n",
    "df.columns"
   ]
  },
  {
   "cell_type": "code",
   "execution_count": 12,
   "id": "69f0b3ae",
   "metadata": {
    "execution": {
     "iopub.execute_input": "2023-04-13T20:14:32.048153Z",
     "iopub.status.busy": "2023-04-13T20:14:32.047708Z",
     "iopub.status.idle": "2023-04-13T20:14:32.994577Z",
     "shell.execute_reply": "2023-04-13T20:14:32.993318Z"
    },
    "papermill": {
     "duration": 0.962951,
     "end_time": "2023-04-13T20:14:32.997278",
     "exception": false,
     "start_time": "2023-04-13T20:14:32.034327",
     "status": "completed"
    },
    "tags": []
   },
   "outputs": [
    {
     "data": {
      "text/plain": [
       "26        0.0\n",
       "12608    17.0\n",
       "23667    17.0\n",
       "3240     17.0\n",
       "12293    17.0\n",
       "         ... \n",
       "17668    65.0\n",
       "12763    65.0\n",
       "12688    65.0\n",
       "1283     65.0\n",
       "13773    65.0\n",
       "Name: age, Length: 32571, dtype: float64"
      ]
     },
     "execution_count": 12,
     "metadata": {},
     "output_type": "execute_result"
    }
   ],
   "source": [
    "df.age = df.age.apply(lambda x: df.age.median() if x > 65 else x)\n",
    "df.age.sort_values()"
   ]
  },
  {
   "cell_type": "code",
   "execution_count": 13,
   "id": "33f3becb",
   "metadata": {
    "execution": {
     "iopub.execute_input": "2023-04-13T20:14:33.023959Z",
     "iopub.status.busy": "2023-04-13T20:14:33.022836Z",
     "iopub.status.idle": "2023-04-13T20:14:33.052713Z",
     "shell.execute_reply": "2023-04-13T20:14:33.051330Z"
    },
    "papermill": {
     "duration": 0.046052,
     "end_time": "2023-04-13T20:14:33.055450",
     "exception": false,
     "start_time": "2023-04-13T20:14:33.009398",
     "status": "completed"
    },
    "tags": []
   },
   "outputs": [
    {
     "data": {
      "text/plain": [
       "25085     1.0\n",
       "9148      1.0\n",
       "1263      1.0\n",
       "5767      1.0\n",
       "1037      1.0\n",
       "         ... \n",
       "10144    99.0\n",
       "21063    99.0\n",
       "29758    99.0\n",
       "25838    99.0\n",
       "14594    99.0\n",
       "Name: hours-per-week, Length: 32571, dtype: float64"
      ]
     },
     "execution_count": 13,
     "metadata": {},
     "output_type": "execute_result"
    }
   ],
   "source": [
    "df['hours-per-week'] = df['hours-per-week'].apply(lambda x: df['hours-per-week'].median() if x > 168 else x)\n",
    "df['hours-per-week'].sort_values()"
   ]
  },
  {
   "cell_type": "code",
   "execution_count": 14,
   "id": "9632f5b6",
   "metadata": {
    "execution": {
     "iopub.execute_input": "2023-04-13T20:14:33.081529Z",
     "iopub.status.busy": "2023-04-13T20:14:33.081079Z",
     "iopub.status.idle": "2023-04-13T20:14:33.119120Z",
     "shell.execute_reply": "2023-04-13T20:14:33.117867Z"
    },
    "papermill": {
     "duration": 0.054609,
     "end_time": "2023-04-13T20:14:33.122107",
     "exception": false,
     "start_time": "2023-04-13T20:14:33.067498",
     "status": "completed"
    },
    "tags": []
   },
   "outputs": [
    {
     "data": {
      "text/html": [
       "<div>\n",
       "<style scoped>\n",
       "    .dataframe tbody tr th:only-of-type {\n",
       "        vertical-align: middle;\n",
       "    }\n",
       "\n",
       "    .dataframe tbody tr th {\n",
       "        vertical-align: top;\n",
       "    }\n",
       "\n",
       "    .dataframe thead th {\n",
       "        text-align: right;\n",
       "    }\n",
       "</style>\n",
       "<table border=\"1\" class=\"dataframe\">\n",
       "  <thead>\n",
       "    <tr style=\"text-align: right;\">\n",
       "      <th></th>\n",
       "      <th>age</th>\n",
       "      <th>fnlwgt</th>\n",
       "      <th>education-num</th>\n",
       "      <th>capital-gain</th>\n",
       "      <th>capital-loss</th>\n",
       "      <th>hours-per-week</th>\n",
       "    </tr>\n",
       "  </thead>\n",
       "  <tbody>\n",
       "    <tr>\n",
       "      <th>count</th>\n",
       "      <td>32571.000000</td>\n",
       "      <td>3.257100e+04</td>\n",
       "      <td>32571.000000</td>\n",
       "      <td>32571.000000</td>\n",
       "      <td>32571.000000</td>\n",
       "      <td>32571.000000</td>\n",
       "    </tr>\n",
       "    <tr>\n",
       "      <th>mean</th>\n",
       "      <td>37.341408</td>\n",
       "      <td>1.898091e+05</td>\n",
       "      <td>10.080747</td>\n",
       "      <td>1077.317982</td>\n",
       "      <td>87.435357</td>\n",
       "      <td>40.437322</td>\n",
       "    </tr>\n",
       "    <tr>\n",
       "      <th>std</th>\n",
       "      <td>12.009230</td>\n",
       "      <td>1.055927e+05</td>\n",
       "      <td>2.572484</td>\n",
       "      <td>7384.182377</td>\n",
       "      <td>403.204587</td>\n",
       "      <td>12.345535</td>\n",
       "    </tr>\n",
       "    <tr>\n",
       "      <th>min</th>\n",
       "      <td>0.000000</td>\n",
       "      <td>1.228500e+04</td>\n",
       "      <td>1.000000</td>\n",
       "      <td>0.000000</td>\n",
       "      <td>0.000000</td>\n",
       "      <td>1.000000</td>\n",
       "    </tr>\n",
       "    <tr>\n",
       "      <th>25%</th>\n",
       "      <td>28.000000</td>\n",
       "      <td>1.178215e+05</td>\n",
       "      <td>9.000000</td>\n",
       "      <td>0.000000</td>\n",
       "      <td>0.000000</td>\n",
       "      <td>40.000000</td>\n",
       "    </tr>\n",
       "    <tr>\n",
       "      <th>50%</th>\n",
       "      <td>37.000000</td>\n",
       "      <td>1.783830e+05</td>\n",
       "      <td>10.000000</td>\n",
       "      <td>0.000000</td>\n",
       "      <td>0.000000</td>\n",
       "      <td>40.000000</td>\n",
       "    </tr>\n",
       "    <tr>\n",
       "      <th>75%</th>\n",
       "      <td>46.000000</td>\n",
       "      <td>2.371095e+05</td>\n",
       "      <td>12.000000</td>\n",
       "      <td>0.000000</td>\n",
       "      <td>0.000000</td>\n",
       "      <td>45.000000</td>\n",
       "    </tr>\n",
       "    <tr>\n",
       "      <th>max</th>\n",
       "      <td>65.000000</td>\n",
       "      <td>1.484705e+06</td>\n",
       "      <td>16.000000</td>\n",
       "      <td>99999.000000</td>\n",
       "      <td>4356.000000</td>\n",
       "      <td>99.000000</td>\n",
       "    </tr>\n",
       "  </tbody>\n",
       "</table>\n",
       "</div>"
      ],
      "text/plain": [
       "                age        fnlwgt  education-num  capital-gain  capital-loss  \\\n",
       "count  32571.000000  3.257100e+04   32571.000000  32571.000000  32571.000000   \n",
       "mean      37.341408  1.898091e+05      10.080747   1077.317982     87.435357   \n",
       "std       12.009230  1.055927e+05       2.572484   7384.182377    403.204587   \n",
       "min        0.000000  1.228500e+04       1.000000      0.000000      0.000000   \n",
       "25%       28.000000  1.178215e+05       9.000000      0.000000      0.000000   \n",
       "50%       37.000000  1.783830e+05      10.000000      0.000000      0.000000   \n",
       "75%       46.000000  2.371095e+05      12.000000      0.000000      0.000000   \n",
       "max       65.000000  1.484705e+06      16.000000  99999.000000   4356.000000   \n",
       "\n",
       "       hours-per-week  \n",
       "count    32571.000000  \n",
       "mean        40.437322  \n",
       "std         12.345535  \n",
       "min          1.000000  \n",
       "25%         40.000000  \n",
       "50%         40.000000  \n",
       "75%         45.000000  \n",
       "max         99.000000  "
      ]
     },
     "execution_count": 14,
     "metadata": {},
     "output_type": "execute_result"
    }
   ],
   "source": [
    "df.describe()"
   ]
  },
  {
   "cell_type": "code",
   "execution_count": 15,
   "id": "3f97f2e2",
   "metadata": {
    "execution": {
     "iopub.execute_input": "2023-04-13T20:14:33.149330Z",
     "iopub.status.busy": "2023-04-13T20:14:33.148613Z",
     "iopub.status.idle": "2023-04-13T20:14:33.158438Z",
     "shell.execute_reply": "2023-04-13T20:14:33.157058Z"
    },
    "papermill": {
     "duration": 0.026163,
     "end_time": "2023-04-13T20:14:33.160949",
     "exception": false,
     "start_time": "2023-04-13T20:14:33.134786",
     "status": "completed"
    },
    "tags": []
   },
   "outputs": [
    {
     "data": {
      "text/plain": [
       "array(['<=80K', '>80K'], dtype=object)"
      ]
     },
     "execution_count": 15,
     "metadata": {},
     "output_type": "execute_result"
    }
   ],
   "source": [
    "df['salary'].unique()"
   ]
  },
  {
   "cell_type": "code",
   "execution_count": 16,
   "id": "9540363b",
   "metadata": {
    "execution": {
     "iopub.execute_input": "2023-04-13T20:14:33.188239Z",
     "iopub.status.busy": "2023-04-13T20:14:33.187461Z",
     "iopub.status.idle": "2023-04-13T20:14:33.437707Z",
     "shell.execute_reply": "2023-04-13T20:14:33.436565Z"
    },
    "papermill": {
     "duration": 0.266778,
     "end_time": "2023-04-13T20:14:33.440165",
     "exception": false,
     "start_time": "2023-04-13T20:14:33.173387",
     "status": "completed"
    },
    "tags": []
   },
   "outputs": [
    {
     "data": {
      "text/plain": [
       "<AxesSubplot:xlabel='salary', ylabel='count'>"
      ]
     },
     "execution_count": 16,
     "metadata": {},
     "output_type": "execute_result"
    },
    {
     "data": {
      "image/png": "[encoded data removed]",
      "text/plain": [
       "<Figure size 640x480 with 1 Axes>"
      ]
     },
     "metadata": {},
     "output_type": "display_data"
    }
   ],
   "source": [
    "# df['salary'] = df['salary'].apply(lambda x: 0 if x == '<=80K' else 1)\n",
    "sns.countplot(x='salary',data=df)"
   ]
  },
  {
   "cell_type": "code",
   "execution_count": 17,
   "id": "9a383e6b",
   "metadata": {
    "execution": {
     "iopub.execute_input": "2023-04-13T20:14:33.468236Z",
     "iopub.status.busy": "2023-04-13T20:14:33.467744Z",
     "iopub.status.idle": "2023-04-13T20:14:33.474995Z",
     "shell.execute_reply": "2023-04-13T20:14:33.473530Z"
    },
    "papermill": {
     "duration": 0.02423,
     "end_time": "2023-04-13T20:14:33.477503",
     "exception": false,
     "start_time": "2023-04-13T20:14:33.453273",
     "status": "completed"
    },
    "tags": []
   },
   "outputs": [],
   "source": [
    "numerical_features = ['age','fnlwgt','capital-gain','capital-loss','hours-per-week']\n",
    "ndf = df[numerical_features]"
   ]
  },
  {
   "cell_type": "code",
   "execution_count": 18,
   "id": "e0d428f1",
   "metadata": {
    "execution": {
     "iopub.execute_input": "2023-04-13T20:14:33.506272Z",
     "iopub.status.busy": "2023-04-13T20:14:33.505426Z",
     "iopub.status.idle": "2023-04-13T20:14:33.534302Z",
     "shell.execute_reply": "2023-04-13T20:14:33.533167Z"
    },
    "papermill": {
     "duration": 0.0461,
     "end_time": "2023-04-13T20:14:33.536932",
     "exception": false,
     "start_time": "2023-04-13T20:14:33.490832",
     "status": "completed"
    },
    "tags": []
   },
   "outputs": [],
   "source": [
    "df['salary'] = df['salary'].apply(lambda x: 0 if x == '<=80K' else 1)\n",
    "X_train, X_test, y_train, y_test = train_test_split(ndf, \n",
    "                                                    df['salary'], test_size=0.20, \n",
    "                                                    random_state=100)"
   ]
  },
  {
   "cell_type": "code",
   "execution_count": 19,
   "id": "651dc785",
   "metadata": {
    "execution": {
     "iopub.execute_input": "2023-04-13T20:14:33.567056Z",
     "iopub.status.busy": "2023-04-13T20:14:33.565944Z",
     "iopub.status.idle": "2023-04-13T20:14:33.575513Z",
     "shell.execute_reply": "2023-04-13T20:14:33.574315Z"
    },
    "papermill": {
     "duration": 0.027244,
     "end_time": "2023-04-13T20:14:33.577997",
     "exception": false,
     "start_time": "2023-04-13T20:14:33.550753",
     "status": "completed"
    },
    "tags": []
   },
   "outputs": [
    {
     "data": {
      "text/plain": [
       "array([0, 1])"
      ]
     },
     "execution_count": 19,
     "metadata": {},
     "output_type": "execute_result"
    }
   ],
   "source": [
    "df.salary.unique()"
   ]
  },
  {
   "cell_type": "markdown",
   "id": "e324d8d9",
   "metadata": {
    "papermill": {
     "duration": 0.012478,
     "end_time": "2023-04-13T20:14:33.603424",
     "exception": false,
     "start_time": "2023-04-13T20:14:33.590946",
     "status": "completed"
    },
    "tags": []
   },
   "source": [
    "### Before you try any more advance models, let's try a LogisticRegression model"
   ]
  },
  {
   "cell_type": "code",
   "execution_count": 20,
   "id": "79a0aea9",
   "metadata": {
    "execution": {
     "iopub.execute_input": "2023-04-13T20:14:33.631111Z",
     "iopub.status.busy": "2023-04-13T20:14:33.630679Z",
     "iopub.status.idle": "2023-04-13T20:14:33.877731Z",
     "shell.execute_reply": "2023-04-13T20:14:33.875978Z"
    },
    "papermill": {
     "duration": 0.266234,
     "end_time": "2023-04-13T20:14:33.882642",
     "exception": false,
     "start_time": "2023-04-13T20:14:33.616408",
     "status": "completed"
    },
    "tags": []
   },
   "outputs": [
    {
     "data": {
      "text/plain": [
       "LogisticRegression(random_state=100)"
      ]
     },
     "execution_count": 20,
     "metadata": {},
     "output_type": "execute_result"
    }
   ],
   "source": [
    "model = LogisticRegression(random_state=100) # random_state=100\n",
    "model.fit(X_train,y_train)"
   ]
  },
  {
   "cell_type": "code",
   "execution_count": 21,
   "id": "2751c473",
   "metadata": {
    "execution": {
     "iopub.execute_input": "2023-04-13T20:14:33.954914Z",
     "iopub.status.busy": "2023-04-13T20:14:33.954165Z",
     "iopub.status.idle": "2023-04-13T20:14:33.970201Z",
     "shell.execute_reply": "2023-04-13T20:14:33.968471Z"
    },
    "papermill": {
     "duration": 0.0579,
     "end_time": "2023-04-13T20:14:33.975666",
     "exception": false,
     "start_time": "2023-04-13T20:14:33.917766",
     "status": "completed"
    },
    "tags": []
   },
   "outputs": [],
   "source": [
    "predictions = model.predict(X_test)"
   ]
  },
  {
   "cell_type": "code",
   "execution_count": 22,
   "id": "85f5aa62",
   "metadata": {
    "execution": {
     "iopub.execute_input": "2023-04-13T20:14:34.048824Z",
     "iopub.status.busy": "2023-04-13T20:14:34.048054Z",
     "iopub.status.idle": "2023-04-13T20:14:34.091116Z",
     "shell.execute_reply": "2023-04-13T20:14:34.089819Z"
    },
    "papermill": {
     "duration": 0.083219,
     "end_time": "2023-04-13T20:14:34.093881",
     "exception": false,
     "start_time": "2023-04-13T20:14:34.010662",
     "status": "completed"
    },
    "tags": []
   },
   "outputs": [
    {
     "name": "stdout",
     "output_type": "stream",
     "text": [
      "              precision    recall  f1-score   support\n",
      "\n",
      "           0       0.80      0.97      0.87      4876\n",
      "           1       0.73      0.27      0.39      1639\n",
      "\n",
      "    accuracy                           0.79      6515\n",
      "   macro avg       0.76      0.62      0.63      6515\n",
      "weighted avg       0.78      0.79      0.75      6515\n",
      "\n",
      "0.7907904834996162\n"
     ]
    }
   ],
   "source": [
    "print(classification_report(y_test,predictions))\n",
    "print(accuracy_score(y_test, predictions))"
   ]
  },
  {
   "cell_type": "code",
   "execution_count": 23,
   "id": "5d34fac9",
   "metadata": {
    "execution": {
     "iopub.execute_input": "2023-04-13T20:14:34.123512Z",
     "iopub.status.busy": "2023-04-13T20:14:34.122353Z",
     "iopub.status.idle": "2023-04-13T20:14:34.128781Z",
     "shell.execute_reply": "2023-04-13T20:14:34.127260Z"
    },
    "papermill": {
     "duration": 0.024098,
     "end_time": "2023-04-13T20:14:34.131409",
     "exception": false,
     "start_time": "2023-04-13T20:14:34.107311",
     "status": "completed"
    },
    "tags": []
   },
   "outputs": [],
   "source": [
    "from sklearn.ensemble import RandomForestClassifier, VotingClassifier, BaggingClassifier, AdaBoostClassifier\n",
    "from sklearn.tree import DecisionTreeClassifier"
   ]
  },
  {
   "cell_type": "code",
   "execution_count": 24,
   "id": "0d75aeeb",
   "metadata": {
    "execution": {
     "iopub.execute_input": "2023-04-13T20:14:34.161498Z",
     "iopub.status.busy": "2023-04-13T20:14:34.160777Z",
     "iopub.status.idle": "2023-04-13T20:14:36.462486Z",
     "shell.execute_reply": "2023-04-13T20:14:36.460923Z"
    },
    "papermill": {
     "duration": 2.31966,
     "end_time": "2023-04-13T20:14:36.465824",
     "exception": false,
     "start_time": "2023-04-13T20:14:34.146164",
     "status": "completed"
    },
    "tags": []
   },
   "outputs": [
    {
     "name": "stdout",
     "output_type": "stream",
     "text": [
      "              precision    recall  f1-score   support\n",
      "\n",
      "           0       0.80      0.98      0.88      4876\n",
      "           1       0.83      0.29      0.43      1639\n",
      "\n",
      "    accuracy                           0.81      6515\n",
      "   macro avg       0.82      0.63      0.66      6515\n",
      "weighted avg       0.81      0.81      0.77      6515\n",
      "\n",
      "0.8058326937835764\n"
     ]
    }
   ],
   "source": [
    "bag_clf = BaggingClassifier(\n",
    "    DecisionTreeClassifier(random_state=100), n_estimators=500,\n",
    "    max_samples=100, bootstrap=True, random_state=100)\n",
    "bag_clf.fit(X_train, y_train)\n",
    "y_pred = bag_clf.predict(X_test)\n",
    "\n",
    "print(classification_report(y_test, y_pred))\n",
    "print(accuracy_score(y_test, y_pred))"
   ]
  },
  {
   "cell_type": "code",
   "execution_count": 25,
   "id": "608e2fef",
   "metadata": {
    "execution": {
     "iopub.execute_input": "2023-04-13T20:14:36.501538Z",
     "iopub.status.busy": "2023-04-13T20:14:36.500910Z",
     "iopub.status.idle": "2023-04-13T20:14:43.873132Z",
     "shell.execute_reply": "2023-04-13T20:14:43.872112Z"
    },
    "papermill": {
     "duration": 7.395188,
     "end_time": "2023-04-13T20:14:43.875668",
     "exception": false,
     "start_time": "2023-04-13T20:14:36.480480",
     "status": "completed"
    },
    "tags": []
   },
   "outputs": [
    {
     "name": "stdout",
     "output_type": "stream",
     "text": [
      "              precision    recall  f1-score   support\n",
      "\n",
      "           0       0.83      0.94      0.88      4876\n",
      "           1       0.71      0.41      0.52      1639\n",
      "\n",
      "    accuracy                           0.81      6515\n",
      "   macro avg       0.77      0.68      0.70      6515\n",
      "weighted avg       0.80      0.81      0.79      6515\n",
      "\n",
      "0.8104374520337683\n"
     ]
    }
   ],
   "source": [
    "ada_clf = AdaBoostClassifier(DecisionTreeClassifier(max_depth=4), n_estimators=200, \n",
    "                             learning_rate=0.5, random_state=100)\n",
    "ada_clf.fit(X_train, y_train)\n",
    "\n",
    "y_pred = ada_clf.predict(X_test)\n",
    "\n",
    "print(classification_report(y_test, y_pred))\n",
    "print(accuracy_score(y_test, y_pred))"
   ]
  },
  {
   "cell_type": "code",
   "execution_count": 26,
   "id": "d2cf6196",
   "metadata": {
    "execution": {
     "iopub.execute_input": "2023-04-13T20:14:43.905013Z",
     "iopub.status.busy": "2023-04-13T20:14:43.903852Z",
     "iopub.status.idle": "2023-04-13T20:14:45.966944Z",
     "shell.execute_reply": "2023-04-13T20:14:45.965408Z"
    },
    "papermill": {
     "duration": 2.080719,
     "end_time": "2023-04-13T20:14:45.969824",
     "exception": false,
     "start_time": "2023-04-13T20:14:43.889105",
     "status": "completed"
    },
    "tags": []
   },
   "outputs": [
    {
     "name": "stdout",
     "output_type": "stream",
     "text": [
      "              precision    recall  f1-score   support\n",
      "\n",
      "           0       0.82      0.97      0.89      4876\n",
      "           1       0.83      0.36      0.51      1639\n",
      "\n",
      "    accuracy                           0.82      6515\n",
      "   macro avg       0.82      0.67      0.70      6515\n",
      "weighted avg       0.82      0.82      0.79      6515\n",
      "\n",
      "0.8207214121258634\n"
     ]
    }
   ],
   "source": [
    "from sklearn.ensemble import GradientBoostingClassifier\n",
    "\n",
    "gb_clf = GradientBoostingClassifier(learning_rate=0.5, random_state=100)\n",
    "gb_clf.fit(X_train, y_train)\n",
    "\n",
    "y_pred = gb_clf.predict(X_test)\n",
    "\n",
    "print(classification_report(y_test, y_pred))\n",
    "print(accuracy_score(y_test, y_pred))"
   ]
  },
  {
   "cell_type": "code",
   "execution_count": 27,
   "id": "3194074d",
   "metadata": {
    "execution": {
     "iopub.execute_input": "2023-04-13T20:14:45.998236Z",
     "iopub.status.busy": "2023-04-13T20:14:45.997800Z",
     "iopub.status.idle": "2023-04-13T20:16:36.817497Z",
     "shell.execute_reply": "2023-04-13T20:16:36.815869Z"
    },
    "papermill": {
     "duration": 110.850363,
     "end_time": "2023-04-13T20:16:36.833550",
     "exception": false,
     "start_time": "2023-04-13T20:14:45.983187",
     "status": "completed"
    },
    "tags": []
   },
   "outputs": [
    {
     "name": "stdout",
     "output_type": "stream",
     "text": [
      "              precision    recall  f1-score   support\n",
      "\n",
      "           0       0.80      0.97      0.87      4876\n",
      "           1       0.73      0.27      0.39      1639\n",
      "\n",
      "    accuracy                           0.79      6515\n",
      "   macro avg       0.76      0.62      0.63      6515\n",
      "weighted avg       0.78      0.79      0.75      6515\n",
      "\n",
      "LogisticRegression 0.7907904834996162\n",
      "\n",
      "\n",
      "              precision    recall  f1-score   support\n",
      "\n",
      "           0       0.84      0.88      0.86      4876\n",
      "           1       0.57      0.49      0.53      1639\n",
      "\n",
      "    accuracy                           0.78      6515\n",
      "   macro avg       0.71      0.68      0.69      6515\n",
      "weighted avg       0.77      0.78      0.77      6515\n",
      "\n",
      "RandomForestClassifier 0.7805065234075211\n",
      "\n",
      "\n",
      "              precision    recall  f1-score   support\n",
      "\n",
      "           0       0.78      1.00      0.87      4876\n",
      "           1       0.97      0.15      0.27      1639\n",
      "\n",
      "    accuracy                           0.79      6515\n",
      "   macro avg       0.88      0.58      0.57      6515\n",
      "weighted avg       0.83      0.79      0.72      6515\n",
      "\n",
      "SVC 0.7863392171910975\n",
      "\n",
      "\n"
     ]
    }
   ],
   "source": [
    "from sklearn.svm import SVC\n",
    "from sklearn.ensemble import RandomForestClassifier\n",
    "\n",
    "# log_clf = LogisticRegression(random_state=100)\n",
    "rnd_clf = RandomForestClassifier(n_estimators=100, random_state=100)\n",
    "svm_clf = SVC(gamma=\"scale\", probability=True, random_state=100)\n",
    "\n",
    "for clf in (model, rnd_clf, svm_clf):\n",
    "    clf.fit(X_train, y_train)\n",
    "    y_pred = clf.predict(X_test)\n",
    "\n",
    "    print(classification_report(y_test, y_pred))\n",
    "    print(clf.__class__.__name__, accuracy_score(y_test, y_pred))\n",
    "    print('\\n')\n",
    "    \n"
   ]
  },
  {
   "cell_type": "code",
   "execution_count": 28,
   "id": "f884f753",
   "metadata": {
    "execution": {
     "iopub.execute_input": "2023-04-13T20:16:36.863162Z",
     "iopub.status.busy": "2023-04-13T20:16:36.862757Z",
     "iopub.status.idle": "2023-04-13T20:18:24.912423Z",
     "shell.execute_reply": "2023-04-13T20:18:24.911014Z"
    },
    "papermill": {
     "duration": 108.082098,
     "end_time": "2023-04-13T20:18:24.929101",
     "exception": false,
     "start_time": "2023-04-13T20:16:36.847003",
     "status": "completed"
    },
    "tags": []
   },
   "outputs": [
    {
     "name": "stdout",
     "output_type": "stream",
     "text": [
      "              precision    recall  f1-score   support\n",
      "\n",
      "           0       0.80      1.00      0.89      4876\n",
      "           1       0.95      0.26      0.40      1639\n",
      "\n",
      "    accuracy                           0.81      6515\n",
      "   macro avg       0.87      0.63      0.64      6515\n",
      "weighted avg       0.84      0.81      0.76      6515\n",
      "\n",
      "VotingClassifier 0.8092095165003838\n"
     ]
    }
   ],
   "source": [
    "voting_clf = VotingClassifier(estimators=[('lr', model), ('rf', rnd_clf), ('svc', svm_clf)], voting='hard')\n",
    "voting_clf.fit(X_train, y_train)\n",
    "y_pred = voting_clf.predict(X_test)\n",
    "\n",
    "print(classification_report(y_test, y_pred))\n",
    "print(voting_clf.__class__.__name__, accuracy_score(y_test, y_pred))"
   ]
  },
  {
   "cell_type": "code",
   "execution_count": 29,
   "id": "6ff07841",
   "metadata": {
    "execution": {
     "iopub.execute_input": "2023-04-13T20:18:24.958597Z",
     "iopub.status.busy": "2023-04-13T20:18:24.957867Z",
     "iopub.status.idle": "2023-04-13T20:20:12.888992Z",
     "shell.execute_reply": "2023-04-13T20:20:12.887563Z"
    },
    "papermill": {
     "duration": 107.962309,
     "end_time": "2023-04-13T20:20:12.905022",
     "exception": false,
     "start_time": "2023-04-13T20:18:24.942713",
     "status": "completed"
    },
    "tags": []
   },
   "outputs": [
    {
     "name": "stdout",
     "output_type": "stream",
     "text": [
      "              precision    recall  f1-score   support\n",
      "\n",
      "           0       0.80      0.99      0.89      4876\n",
      "           1       0.92      0.28      0.43      1639\n",
      "\n",
      "    accuracy                           0.81      6515\n",
      "   macro avg       0.86      0.64      0.66      6515\n",
      "weighted avg       0.83      0.81      0.77      6515\n",
      "\n",
      "VotingClassifier 0.8139677666922487\n"
     ]
    }
   ],
   "source": [
    "voting_clf = VotingClassifier(estimators=[('lr', model), ('rf', rnd_clf), ('svc', svm_clf)], voting='soft')\n",
    "voting_clf.fit(X_train, y_train)\n",
    "y_pred = voting_clf.predict(X_test)\n",
    "\n",
    "print(classification_report(y_test, y_pred))\n",
    "print(voting_clf.__class__.__name__, accuracy_score(y_test, y_pred))"
   ]
  },
  {
   "cell_type": "code",
   "execution_count": 30,
   "id": "ef0cc10b",
   "metadata": {
    "execution": {
     "iopub.execute_input": "2023-04-13T20:20:12.934862Z",
     "iopub.status.busy": "2023-04-13T20:20:12.934416Z",
     "iopub.status.idle": "2023-04-13T20:20:13.053157Z",
     "shell.execute_reply": "2023-04-13T20:20:13.052014Z"
    },
    "papermill": {
     "duration": 0.137086,
     "end_time": "2023-04-13T20:20:13.056150",
     "exception": false,
     "start_time": "2023-04-13T20:20:12.919064",
     "status": "completed"
    },
    "tags": []
   },
   "outputs": [],
   "source": [
    "try:\n",
    "    import xgboost as xgb\n",
    "except:\n",
    "    import os\n",
    "    os.system(\"pip install xgboost\")"
   ]
  },
  {
   "cell_type": "code",
   "execution_count": 31,
   "id": "8bcb1319",
   "metadata": {
    "execution": {
     "iopub.execute_input": "2023-04-13T20:20:13.086330Z",
     "iopub.status.busy": "2023-04-13T20:20:13.085816Z",
     "iopub.status.idle": "2023-04-13T20:20:14.535722Z",
     "shell.execute_reply": "2023-04-13T20:20:14.534680Z"
    },
    "papermill": {
     "duration": 1.468196,
     "end_time": "2023-04-13T20:20:14.538473",
     "exception": false,
     "start_time": "2023-04-13T20:20:13.070277",
     "status": "completed"
    },
    "tags": []
   },
   "outputs": [
    {
     "name": "stdout",
     "output_type": "stream",
     "text": [
      "              precision    recall  f1-score   support\n",
      "\n",
      "           0       0.81      0.99      0.89      4876\n",
      "           1       0.92      0.32      0.48      1639\n",
      "\n",
      "    accuracy                           0.82      6515\n",
      "   macro avg       0.87      0.66      0.69      6515\n",
      "weighted avg       0.84      0.82      0.79      6515\n",
      "\n",
      "0.8230237912509594\n"
     ]
    }
   ],
   "source": [
    "import xgboost as xgb\n",
    "xgb_clf = xgb.XGBClassifier(learning_rate=0.1, random_state=100, use_label_encoder=False)\n",
    "xgb_clf.fit(X_train, y_train)\n",
    "\n",
    "y_pred = xgb_clf.predict(X_test)\n",
    "\n",
    "print(classification_report(y_test, y_pred))\n",
    "print(accuracy_score(y_test, y_pred))"
   ]
  },
  {
   "cell_type": "code",
   "execution_count": 32,
   "id": "bb56c283",
   "metadata": {
    "execution": {
     "iopub.execute_input": "2023-04-13T20:20:14.569652Z",
     "iopub.status.busy": "2023-04-13T20:20:14.568446Z",
     "iopub.status.idle": "2023-04-13T20:20:14.588293Z",
     "shell.execute_reply": "2023-04-13T20:20:14.586963Z"
    },
    "papermill": {
     "duration": 0.038059,
     "end_time": "2023-04-13T20:20:14.591035",
     "exception": false,
     "start_time": "2023-04-13T20:20:14.552976",
     "status": "completed"
    },
    "tags": []
   },
   "outputs": [
    {
     "data": {
      "text/html": [
       "<div>\n",
       "<style scoped>\n",
       "    .dataframe tbody tr th:only-of-type {\n",
       "        vertical-align: middle;\n",
       "    }\n",
       "\n",
       "    .dataframe tbody tr th {\n",
       "        vertical-align: top;\n",
       "    }\n",
       "\n",
       "    .dataframe thead th {\n",
       "        text-align: right;\n",
       "    }\n",
       "</style>\n",
       "<table border=\"1\" class=\"dataframe\">\n",
       "  <thead>\n",
       "    <tr style=\"text-align: right;\">\n",
       "      <th></th>\n",
       "      <th>age</th>\n",
       "      <th>workclass</th>\n",
       "      <th>fnlwgt</th>\n",
       "      <th>education</th>\n",
       "      <th>education-num</th>\n",
       "      <th>marital-status</th>\n",
       "      <th>occupation</th>\n",
       "      <th>relationship</th>\n",
       "      <th>race</th>\n",
       "      <th>sex</th>\n",
       "      <th>capital-gain</th>\n",
       "      <th>capital-loss</th>\n",
       "      <th>hours-per-week</th>\n",
       "      <th>native-country</th>\n",
       "      <th>salary</th>\n",
       "    </tr>\n",
       "  </thead>\n",
       "  <tbody>\n",
       "    <tr>\n",
       "      <th>0</th>\n",
       "      <td>39.0</td>\n",
       "      <td>State-gov</td>\n",
       "      <td>77516</td>\n",
       "      <td>Bachelors</td>\n",
       "      <td>13</td>\n",
       "      <td>Never-married</td>\n",
       "      <td>Adm-clerical</td>\n",
       "      <td>Not-in-family</td>\n",
       "      <td>White</td>\n",
       "      <td>Male</td>\n",
       "      <td>2174</td>\n",
       "      <td>0</td>\n",
       "      <td>40.0</td>\n",
       "      <td>United-States</td>\n",
       "      <td>0</td>\n",
       "    </tr>\n",
       "    <tr>\n",
       "      <th>1</th>\n",
       "      <td>50.0</td>\n",
       "      <td>Self-emp-not-inc</td>\n",
       "      <td>83311</td>\n",
       "      <td>Bachelors</td>\n",
       "      <td>13</td>\n",
       "      <td>Married-civ-spouse</td>\n",
       "      <td>Exec-managerial</td>\n",
       "      <td>Husband</td>\n",
       "      <td>White</td>\n",
       "      <td>Male</td>\n",
       "      <td>0</td>\n",
       "      <td>0</td>\n",
       "      <td>13.0</td>\n",
       "      <td>United-States</td>\n",
       "      <td>0</td>\n",
       "    </tr>\n",
       "    <tr>\n",
       "      <th>2</th>\n",
       "      <td>38.0</td>\n",
       "      <td>Private</td>\n",
       "      <td>215646</td>\n",
       "      <td>HS-grad</td>\n",
       "      <td>9</td>\n",
       "      <td>Divorced</td>\n",
       "      <td>Handlers-cleaners</td>\n",
       "      <td>Not-in-family</td>\n",
       "      <td>White</td>\n",
       "      <td>Male</td>\n",
       "      <td>0</td>\n",
       "      <td>0</td>\n",
       "      <td>40.0</td>\n",
       "      <td>United-States</td>\n",
       "      <td>0</td>\n",
       "    </tr>\n",
       "    <tr>\n",
       "      <th>3</th>\n",
       "      <td>53.0</td>\n",
       "      <td>Private</td>\n",
       "      <td>234721</td>\n",
       "      <td>11th</td>\n",
       "      <td>7</td>\n",
       "      <td>Married-civ-spouse</td>\n",
       "      <td>Handlers-cleaners</td>\n",
       "      <td>Husband</td>\n",
       "      <td>Black</td>\n",
       "      <td>Male</td>\n",
       "      <td>0</td>\n",
       "      <td>0</td>\n",
       "      <td>40.0</td>\n",
       "      <td>United-States</td>\n",
       "      <td>0</td>\n",
       "    </tr>\n",
       "    <tr>\n",
       "      <th>4</th>\n",
       "      <td>28.0</td>\n",
       "      <td>Private</td>\n",
       "      <td>338409</td>\n",
       "      <td>Bachelors</td>\n",
       "      <td>13</td>\n",
       "      <td>Married-civ-spouse</td>\n",
       "      <td>Prof-specialty</td>\n",
       "      <td>Wife</td>\n",
       "      <td>Black</td>\n",
       "      <td>Female</td>\n",
       "      <td>0</td>\n",
       "      <td>0</td>\n",
       "      <td>40.0</td>\n",
       "      <td>Cuba</td>\n",
       "      <td>0</td>\n",
       "    </tr>\n",
       "  </tbody>\n",
       "</table>\n",
       "</div>"
      ],
      "text/plain": [
       "    age         workclass  fnlwgt  education  education-num  \\\n",
       "0  39.0         State-gov   77516  Bachelors             13   \n",
       "1  50.0  Self-emp-not-inc   83311  Bachelors             13   \n",
       "2  38.0           Private  215646    HS-grad              9   \n",
       "3  53.0           Private  234721       11th              7   \n",
       "4  28.0           Private  338409  Bachelors             13   \n",
       "\n",
       "       marital-status         occupation   relationship   race     sex  \\\n",
       "0       Never-married       Adm-clerical  Not-in-family  White    Male   \n",
       "1  Married-civ-spouse    Exec-managerial        Husband  White    Male   \n",
       "2            Divorced  Handlers-cleaners  Not-in-family  White    Male   \n",
       "3  Married-civ-spouse  Handlers-cleaners        Husband  Black    Male   \n",
       "4  Married-civ-spouse     Prof-specialty           Wife  Black  Female   \n",
       "\n",
       "   capital-gain  capital-loss  hours-per-week native-country  salary  \n",
       "0          2174             0            40.0  United-States       0  \n",
       "1             0             0            13.0  United-States       0  \n",
       "2             0             0            40.0  United-States       0  \n",
       "3             0             0            40.0  United-States       0  \n",
       "4             0             0            40.0           Cuba       0  "
      ]
     },
     "execution_count": 32,
     "metadata": {},
     "output_type": "execute_result"
    }
   ],
   "source": [
    "df.head()"
   ]
  },
  {
   "cell_type": "code",
   "execution_count": 33,
   "id": "246fb348",
   "metadata": {
    "execution": {
     "iopub.execute_input": "2023-04-13T20:20:14.622319Z",
     "iopub.status.busy": "2023-04-13T20:20:14.621058Z",
     "iopub.status.idle": "2023-04-13T20:20:14.634914Z",
     "shell.execute_reply": "2023-04-13T20:20:14.633976Z"
    },
    "papermill": {
     "duration": 0.031836,
     "end_time": "2023-04-13T20:20:14.637382",
     "exception": false,
     "start_time": "2023-04-13T20:20:14.605546",
     "status": "completed"
    },
    "tags": []
   },
   "outputs": [
    {
     "data": {
      "text/plain": [
       "['workclass',\n",
       " 'education',\n",
       " 'marital-status',\n",
       " 'occupation',\n",
       " 'relationship',\n",
       " 'race',\n",
       " 'sex',\n",
       " 'native-country']"
      ]
     },
     "execution_count": 33,
     "metadata": {},
     "output_type": "execute_result"
    }
   ],
   "source": [
    "cat = df.select_dtypes(include=['object']).columns.tolist()\n",
    "cat"
   ]
  },
  {
   "cell_type": "code",
   "execution_count": 34,
   "id": "86c4146f",
   "metadata": {
    "execution": {
     "iopub.execute_input": "2023-04-13T20:20:14.669343Z",
     "iopub.status.busy": "2023-04-13T20:20:14.668872Z",
     "iopub.status.idle": "2023-04-13T20:20:14.702664Z",
     "shell.execute_reply": "2023-04-13T20:20:14.701469Z"
    },
    "papermill": {
     "duration": 0.053928,
     "end_time": "2023-04-13T20:20:14.705849",
     "exception": false,
     "start_time": "2023-04-13T20:20:14.651921",
     "status": "completed"
    },
    "tags": []
   },
   "outputs": [
    {
     "data": {
      "text/plain": [
       "workclass          9\n",
       "education         16\n",
       "marital-status     7\n",
       "occupation        15\n",
       "relationship       6\n",
       "race               5\n",
       "sex                2\n",
       "native-country    42\n",
       "dtype: int64"
      ]
     },
     "execution_count": 34,
     "metadata": {},
     "output_type": "execute_result"
    }
   ],
   "source": [
    "df[cat].nunique()"
   ]
  },
  {
   "cell_type": "code",
   "execution_count": 35,
   "id": "e4d6abdd",
   "metadata": {
    "execution": {
     "iopub.execute_input": "2023-04-13T20:20:14.736290Z",
     "iopub.status.busy": "2023-04-13T20:20:14.735840Z",
     "iopub.status.idle": "2023-04-13T20:20:14.791495Z",
     "shell.execute_reply": "2023-04-13T20:20:14.790031Z"
    },
    "papermill": {
     "duration": 0.07445,
     "end_time": "2023-04-13T20:20:14.794407",
     "exception": false,
     "start_time": "2023-04-13T20:20:14.719957",
     "status": "completed"
    },
    "tags": []
   },
   "outputs": [
    {
     "data": {
      "text/plain": [
       "(32571, 109)"
      ]
     },
     "execution_count": 35,
     "metadata": {},
     "output_type": "execute_result"
    }
   ],
   "source": [
    "with_cat_df = pd.get_dummies(df, columns=cat)\n",
    "with_cat_df.shape"
   ]
  },
  {
   "cell_type": "code",
   "execution_count": 36,
   "id": "a6ef0b5b",
   "metadata": {
    "execution": {
     "iopub.execute_input": "2023-04-13T20:20:14.826241Z",
     "iopub.status.busy": "2023-04-13T20:20:14.825352Z",
     "iopub.status.idle": "2023-04-13T20:20:21.291527Z",
     "shell.execute_reply": "2023-04-13T20:20:21.290024Z"
    },
    "papermill": {
     "duration": 6.484835,
     "end_time": "2023-04-13T20:20:21.294179",
     "exception": false,
     "start_time": "2023-04-13T20:20:14.809344",
     "status": "completed"
    },
    "tags": []
   },
   "outputs": [
    {
     "name": "stdout",
     "output_type": "stream",
     "text": [
      "              precision    recall  f1-score   support\n",
      "\n",
      "           0       0.87      0.95      0.91      4876\n",
      "           1       0.81      0.57      0.67      1639\n",
      "\n",
      "    accuracy                           0.86      6515\n",
      "   macro avg       0.84      0.76      0.79      6515\n",
      "weighted avg       0.85      0.86      0.85      6515\n",
      "\n",
      "0.8570990023023791\n"
     ]
    }
   ],
   "source": [
    "X,y = with_cat_df.drop('salary',axis=1),with_cat_df.salary\n",
    "X_train, X_test, y_train, y_test = train_test_split(X, \n",
    "                                                    y, test_size=0.20, \n",
    "                                                    random_state=100)\n",
    "\n",
    "xgb_clf = xgb.XGBClassifier(learning_rate=0.01, random_state=100, use_label_encoder=False)\n",
    "xgb_clf.fit(X_train, y_train)\n",
    "\n",
    "y_pred = xgb_clf.predict(X_test)\n",
    "\n",
    "print(classification_report(y_test, y_pred))\n",
    "print(accuracy_score(y_test, y_pred))"
   ]
  },
  {
   "cell_type": "code",
   "execution_count": 37,
   "id": "f9df8688",
   "metadata": {
    "execution": {
     "iopub.execute_input": "2023-04-13T20:20:21.326072Z",
     "iopub.status.busy": "2023-04-13T20:20:21.325323Z",
     "iopub.status.idle": "2023-04-13T20:21:23.224391Z",
     "shell.execute_reply": "2023-04-13T20:21:23.223012Z"
    },
    "papermill": {
     "duration": 61.932146,
     "end_time": "2023-04-13T20:21:23.241441",
     "exception": false,
     "start_time": "2023-04-13T20:20:21.309295",
     "status": "completed"
    },
    "tags": []
   },
   "outputs": [
    {
     "name": "stdout",
     "output_type": "stream",
     "text": [
      "              precision    recall  f1-score   support\n",
      "\n",
      "           0       0.87      0.95      0.91      4923\n",
      "           1       0.78      0.57      0.66      1592\n",
      "\n",
      "    accuracy                           0.86      6515\n",
      "   macro avg       0.83      0.76      0.78      6515\n",
      "weighted avg       0.85      0.86      0.85      6515\n",
      "\n",
      "0.8560245587106677\n",
      "              precision    recall  f1-score   support\n",
      "\n",
      "           0       0.88      0.95      0.92      5008\n",
      "           1       0.79      0.57      0.66      1507\n",
      "\n",
      "    accuracy                           0.86      6515\n",
      "   macro avg       0.83      0.76      0.79      6515\n",
      "weighted avg       0.86      0.86      0.86      6515\n",
      "\n",
      "0.8649270913277053\n",
      "              precision    recall  f1-score   support\n",
      "\n",
      "           0       0.87      0.95      0.91      4938\n",
      "           1       0.78      0.54      0.64      1577\n",
      "\n",
      "    accuracy                           0.85      6515\n",
      "   macro avg       0.82      0.75      0.77      6515\n",
      "weighted avg       0.85      0.85      0.84      6515\n",
      "\n",
      "0.851726784343822\n",
      "              precision    recall  f1-score   support\n",
      "\n",
      "           0       0.87      0.96      0.91      4988\n",
      "           1       0.79      0.53      0.63      1527\n",
      "\n",
      "    accuracy                           0.86      6515\n",
      "   macro avg       0.83      0.74      0.77      6515\n",
      "weighted avg       0.85      0.86      0.85      6515\n",
      "\n",
      "0.8558710667689946\n",
      "              precision    recall  f1-score   support\n",
      "\n",
      "           0       0.88      0.94      0.91      4999\n",
      "           1       0.76      0.57      0.65      1516\n",
      "\n",
      "    accuracy                           0.86      6515\n",
      "   macro avg       0.82      0.76      0.78      6515\n",
      "weighted avg       0.85      0.86      0.85      6515\n",
      "\n",
      "0.8580199539524175\n",
      "              precision    recall  f1-score   support\n",
      "\n",
      "           0       0.87      0.95      0.91      4977\n",
      "           1       0.79      0.55      0.65      1538\n",
      "\n",
      "    accuracy                           0.86      6515\n",
      "   macro avg       0.83      0.75      0.78      6515\n",
      "weighted avg       0.85      0.86      0.85      6515\n",
      "\n",
      "0.859094397544129\n",
      "              precision    recall  f1-score   support\n",
      "\n",
      "           0       0.88      0.95      0.91      4945\n",
      "           1       0.79      0.57      0.66      1570\n",
      "\n",
      "    accuracy                           0.86      6515\n",
      "   macro avg       0.83      0.76      0.79      6515\n",
      "weighted avg       0.85      0.86      0.85      6515\n",
      "\n",
      "0.8600153491941673\n",
      "              precision    recall  f1-score   support\n",
      "\n",
      "           0       0.87      0.95      0.91      4972\n",
      "           1       0.77      0.55      0.64      1543\n",
      "\n",
      "    accuracy                           0.86      6515\n",
      "   macro avg       0.82      0.75      0.78      6515\n",
      "weighted avg       0.85      0.86      0.85      6515\n",
      "\n",
      "0.8557175748273216\n",
      "              precision    recall  f1-score   support\n",
      "\n",
      "           0       0.86      0.96      0.91      4925\n",
      "           1       0.79      0.53      0.63      1590\n",
      "\n",
      "    accuracy                           0.85      6515\n",
      "   macro avg       0.83      0.74      0.77      6515\n",
      "weighted avg       0.85      0.85      0.84      6515\n",
      "\n",
      "0.8508058326937836\n",
      "              precision    recall  f1-score   support\n",
      "\n",
      "           0       0.87      0.95      0.91      4918\n",
      "           1       0.79      0.55      0.65      1597\n",
      "\n",
      "    accuracy                           0.85      6515\n",
      "   macro avg       0.83      0.75      0.78      6515\n",
      "weighted avg       0.85      0.85      0.84      6515\n",
      "\n",
      "0.854336147352264\n"
     ]
    }
   ],
   "source": [
    "# Type in your code and answers\n",
    "# perform a 10-fold cross validation\n",
    "for i in range(10):\n",
    "    X_t, X_test, Y_t, y_test = train_test_split(X, y, test_size=0.2, random_state = i*42)\n",
    "    xgb_clf.fit(X_t, Y_t)\n",
    "    y_pred = xgb_clf.predict(X_test)\n",
    "    print(classification_report(y_test,y_pred))\n",
    "    print(accuracy_score(y_test, y_pred))"
   ]
  },
  {
   "cell_type": "markdown",
   "id": "a755b91c",
   "metadata": {
    "papermill": {
     "duration": 0.015096,
     "end_time": "2023-04-13T20:21:23.271788",
     "exception": false,
     "start_time": "2023-04-13T20:21:23.256692",
     "status": "completed"
    },
    "tags": []
   },
   "source": [
    "##  TODO comment entire process and findings here, mention something about soft and hard voting, cross validation only for best model"
   ]
  }
 ],
 "metadata": {
  "kernelspec": {
   "display_name": "Python 3",
   "language": "python",
   "name": "python3"
  },
  "language_info": {
   "codemirror_mode": {
    "name": "ipython",
    "version": 3
   },
   "file_extension": ".py",
   "mimetype": "text/x-python",
   "name": "python",
   "nbconvert_exporter": "python",
   "pygments_lexer": "ipython3",
   "version": "3.7.12"
  },
  "papermill": {
   "default_parameters": {},
   "duration": 425.365378,
   "end_time": "2023-04-13T20:21:24.111618",
   "environment_variables": {},
   "exception": null,
   "input_path": "__notebook__.ipynb",
   "output_path": "__notebook__.ipynb",
   "parameters": {},
   "start_time": "2023-04-13T20:14:18.746240",
   "version": "2.4.0"
  }
 },
 "nbformat": 4,
 "nbformat_minor": 5
}
