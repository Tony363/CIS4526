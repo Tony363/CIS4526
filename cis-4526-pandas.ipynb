{
 "cells": [
  {
   "cell_type": "markdown",
   "id": "632ef3f5",
   "metadata": {
    "papermill": {
     "duration": 0.012833,
     "end_time": "2023-02-06T03:25:51.233265",
     "exception": false,
     "start_time": "2023-02-06T03:25:51.220432",
     "status": "completed"
    },
    "tags": []
   },
   "source": [
    "## CIS 4526 Sp23 EDA Review Exercise"
   ]
  },
  {
   "cell_type": "code",
   "execution_count": 1,
   "id": "4c1c88ea",
   "metadata": {
    "execution": {
     "iopub.execute_input": "2023-02-06T03:25:51.258663Z",
     "iopub.status.busy": "2023-02-06T03:25:51.257951Z",
     "iopub.status.idle": "2023-02-06T03:25:51.277489Z",
     "shell.execute_reply": "2023-02-06T03:25:51.276459Z"
    },
    "papermill": {
     "duration": 0.035101,
     "end_time": "2023-02-06T03:25:51.280026",
     "exception": false,
     "start_time": "2023-02-06T03:25:51.244925",
     "status": "completed"
    },
    "tags": []
   },
   "outputs": [],
   "source": [
    "car_crash = \"/kaggle/input/sp23-eda/car_crashes2.csv\"\n",
    "mpg3 = '/kaggle/input/sp23-eda/mpg3.csv'"
   ]
  },
  {
   "cell_type": "markdown",
   "id": "0365afc6",
   "metadata": {
    "papermill": {
     "duration": 0.011527,
     "end_time": "2023-02-06T03:25:51.302837",
     "exception": false,
     "start_time": "2023-02-06T03:25:51.291310",
     "status": "completed"
    },
    "tags": []
   },
   "source": [
    "### This Review Exercise will cover the following skills set\n",
    "* Using sql \n",
    "* Checking for null values and outliers\n",
    "* Calculate simple statistics using both SQL and Pandas \n",
    "* Calculate skew and correlation\n",
    "* Basic Data Visualization\n",
    "* How to fix missing values"
   ]
  },
  {
   "cell_type": "markdown",
   "id": "4c5815e8",
   "metadata": {
    "papermill": {
     "duration": 0.010813,
     "end_time": "2023-02-06T03:25:51.326564",
     "exception": false,
     "start_time": "2023-02-06T03:25:51.315751",
     "status": "completed"
    },
    "tags": []
   },
   "source": [
    "**Make sure you have pandasql installed. If not, make sure you run the code in the following cell**"
   ]
  },
  {
   "cell_type": "code",
   "execution_count": 2,
   "id": "280bedc7",
   "metadata": {
    "execution": {
     "iopub.execute_input": "2023-02-06T03:25:51.351346Z",
     "iopub.status.busy": "2023-02-06T03:25:51.350593Z",
     "iopub.status.idle": "2023-02-06T03:25:51.360127Z",
     "shell.execute_reply": "2023-02-06T03:25:51.359046Z"
    },
    "papermill": {
     "duration": 0.025187,
     "end_time": "2023-02-06T03:25:51.362942",
     "exception": false,
     "start_time": "2023-02-06T03:25:51.337755",
     "status": "completed"
    },
    "tags": []
   },
   "outputs": [],
   "source": [
    "import os\n",
    "try:\n",
    "    import pandasql as ps\n",
    "except:\n",
    "    print(\"Failed in import pandasql\")\n",
    "    os.system(\"pip install pandasql\")"
   ]
  },
  {
   "cell_type": "markdown",
   "id": "8c73896e",
   "metadata": {
    "papermill": {
     "duration": 0.010864,
     "end_time": "2023-02-06T03:25:51.385201",
     "exception": false,
     "start_time": "2023-02-06T03:25:51.374337",
     "status": "completed"
    },
    "tags": []
   },
   "source": [
    "**Import all standard libaries**"
   ]
  },
  {
   "cell_type": "code",
   "execution_count": 3,
   "id": "671825ba",
   "metadata": {
    "execution": {
     "iopub.execute_input": "2023-02-06T03:25:51.409835Z",
     "iopub.status.busy": "2023-02-06T03:25:51.409333Z",
     "iopub.status.idle": "2023-02-06T03:25:52.631878Z",
     "shell.execute_reply": "2023-02-06T03:25:52.630484Z"
    },
    "papermill": {
     "duration": 1.23866,
     "end_time": "2023-02-06T03:25:52.635305",
     "exception": false,
     "start_time": "2023-02-06T03:25:51.396645",
     "status": "completed"
    },
    "tags": []
   },
   "outputs": [],
   "source": [
    "import pandas as pd\n",
    "import pandasql as ps\n",
    "import numpy as np\n",
    "import matplotlib.pyplot as plt\n",
    "import seaborn as sns"
   ]
  },
  {
   "cell_type": "markdown",
   "id": "ce40ea71",
   "metadata": {
    "papermill": {
     "duration": 0.011086,
     "end_time": "2023-02-06T03:25:52.657883",
     "exception": false,
     "start_time": "2023-02-06T03:25:52.646797",
     "status": "completed"
    },
    "tags": []
   },
   "source": [
    "## Loading Car Crashes dataset ##"
   ]
  },
  {
   "cell_type": "code",
   "execution_count": 4,
   "id": "9a0e4c51",
   "metadata": {
    "execution": {
     "iopub.execute_input": "2023-02-06T03:25:52.682833Z",
     "iopub.status.busy": "2023-02-06T03:25:52.682089Z",
     "iopub.status.idle": "2023-02-06T03:25:52.730228Z",
     "shell.execute_reply": "2023-02-06T03:25:52.728958Z"
    },
    "papermill": {
     "duration": 0.065093,
     "end_time": "2023-02-06T03:25:52.734160",
     "exception": false,
     "start_time": "2023-02-06T03:25:52.669067",
     "status": "completed"
    },
    "tags": []
   },
   "outputs": [
    {
     "name": "stdout",
     "output_type": "stream",
     "text": [
      "(52, 10)\n"
     ]
    },
    {
     "data": {
      "text/html": [
       "<div>\n",
       "<style scoped>\n",
       "    .dataframe tbody tr th:only-of-type {\n",
       "        vertical-align: middle;\n",
       "    }\n",
       "\n",
       "    .dataframe tbody tr th {\n",
       "        vertical-align: top;\n",
       "    }\n",
       "\n",
       "    .dataframe thead th {\n",
       "        text-align: right;\n",
       "    }\n",
       "</style>\n",
       "<table border=\"1\" class=\"dataframe\">\n",
       "  <thead>\n",
       "    <tr style=\"text-align: right;\">\n",
       "      <th></th>\n",
       "      <th>accidents</th>\n",
       "      <th>speeding</th>\n",
       "      <th>alcohol</th>\n",
       "      <th>not_distracted</th>\n",
       "      <th>no_previous</th>\n",
       "      <th>ins_premium</th>\n",
       "      <th>ins_losses</th>\n",
       "      <th>state</th>\n",
       "      <th>region</th>\n",
       "      <th>division</th>\n",
       "    </tr>\n",
       "  </thead>\n",
       "  <tbody>\n",
       "    <tr>\n",
       "      <th>0</th>\n",
       "      <td>18.8</td>\n",
       "      <td>7.332</td>\n",
       "      <td>5.640</td>\n",
       "      <td>18.048</td>\n",
       "      <td>15.040</td>\n",
       "      <td>784.55</td>\n",
       "      <td>145.08</td>\n",
       "      <td>AL</td>\n",
       "      <td>South</td>\n",
       "      <td>East South Central</td>\n",
       "    </tr>\n",
       "    <tr>\n",
       "      <th>1</th>\n",
       "      <td>18.1</td>\n",
       "      <td>7.421</td>\n",
       "      <td>4.525</td>\n",
       "      <td>16.290</td>\n",
       "      <td>17.014</td>\n",
       "      <td>1053.48</td>\n",
       "      <td>133.93</td>\n",
       "      <td>AK</td>\n",
       "      <td>West</td>\n",
       "      <td>Pacific</td>\n",
       "    </tr>\n",
       "    <tr>\n",
       "      <th>2</th>\n",
       "      <td>18.6</td>\n",
       "      <td>6.510</td>\n",
       "      <td>5.208</td>\n",
       "      <td>15.624</td>\n",
       "      <td>17.856</td>\n",
       "      <td>899.47</td>\n",
       "      <td>110.35</td>\n",
       "      <td>AZ</td>\n",
       "      <td>West</td>\n",
       "      <td>Mountain</td>\n",
       "    </tr>\n",
       "    <tr>\n",
       "      <th>3</th>\n",
       "      <td>22.4</td>\n",
       "      <td>4.032</td>\n",
       "      <td>5.824</td>\n",
       "      <td>21.056</td>\n",
       "      <td>21.280</td>\n",
       "      <td>827.34</td>\n",
       "      <td>142.39</td>\n",
       "      <td>AR</td>\n",
       "      <td>South</td>\n",
       "      <td>West South Central</td>\n",
       "    </tr>\n",
       "    <tr>\n",
       "      <th>4</th>\n",
       "      <td>12.0</td>\n",
       "      <td>4.200</td>\n",
       "      <td>3.360</td>\n",
       "      <td>10.920</td>\n",
       "      <td>10.680</td>\n",
       "      <td>878.41</td>\n",
       "      <td>165.63</td>\n",
       "      <td>CA</td>\n",
       "      <td>West</td>\n",
       "      <td>Pacific</td>\n",
       "    </tr>\n",
       "  </tbody>\n",
       "</table>\n",
       "</div>"
      ],
      "text/plain": [
       "   accidents  speeding  alcohol  not_distracted  no_previous  ins_premium  \\\n",
       "0       18.8     7.332    5.640          18.048       15.040       784.55   \n",
       "1       18.1     7.421    4.525          16.290       17.014      1053.48   \n",
       "2       18.6     6.510    5.208          15.624       17.856       899.47   \n",
       "3       22.4     4.032    5.824          21.056       21.280       827.34   \n",
       "4       12.0     4.200    3.360          10.920       10.680       878.41   \n",
       "\n",
       "   ins_losses state region            division  \n",
       "0      145.08    AL  South  East South Central  \n",
       "1      133.93    AK   West             Pacific  \n",
       "2      110.35    AZ   West            Mountain  \n",
       "3      142.39    AR  South  West South Central  \n",
       "4      165.63    CA   West             Pacific  "
      ]
     },
     "execution_count": 4,
     "metadata": {},
     "output_type": "execute_result"
    }
   ],
   "source": [
    "crash = pd.read_csv(car_crash)\n",
    "print(crash.shape)\n",
    "crash.head()"
   ]
  },
  {
   "cell_type": "markdown",
   "id": "6ba61e05",
   "metadata": {
    "papermill": {
     "duration": 0.011311,
     "end_time": "2023-02-06T03:25:52.757417",
     "exception": false,
     "start_time": "2023-02-06T03:25:52.746106",
     "status": "completed"
    },
    "tags": []
   },
   "source": [
    "* accidents is the total number of crashes for each state\n",
    "* speeding is the average speeding in each state"
   ]
  },
  {
   "cell_type": "code",
   "execution_count": 5,
   "id": "3e6ec7d3",
   "metadata": {
    "execution": {
     "iopub.execute_input": "2023-02-06T03:25:52.783061Z",
     "iopub.status.busy": "2023-02-06T03:25:52.782318Z",
     "iopub.status.idle": "2023-02-06T03:25:52.830945Z",
     "shell.execute_reply": "2023-02-06T03:25:52.829289Z"
    },
    "papermill": {
     "duration": 0.065087,
     "end_time": "2023-02-06T03:25:52.834199",
     "exception": false,
     "start_time": "2023-02-06T03:25:52.769112",
     "status": "completed"
    },
    "tags": []
   },
   "outputs": [
    {
     "data": {
      "text/html": [
       "<div>\n",
       "<style scoped>\n",
       "    .dataframe tbody tr th:only-of-type {\n",
       "        vertical-align: middle;\n",
       "    }\n",
       "\n",
       "    .dataframe tbody tr th {\n",
       "        vertical-align: top;\n",
       "    }\n",
       "\n",
       "    .dataframe thead th {\n",
       "        text-align: right;\n",
       "    }\n",
       "</style>\n",
       "<table border=\"1\" class=\"dataframe\">\n",
       "  <thead>\n",
       "    <tr style=\"text-align: right;\">\n",
       "      <th></th>\n",
       "      <th>accidents</th>\n",
       "      <th>speeding</th>\n",
       "      <th>alcohol</th>\n",
       "      <th>not_distracted</th>\n",
       "      <th>no_previous</th>\n",
       "      <th>ins_premium</th>\n",
       "      <th>ins_losses</th>\n",
       "    </tr>\n",
       "  </thead>\n",
       "  <tbody>\n",
       "    <tr>\n",
       "      <th>count</th>\n",
       "      <td>52.000000</td>\n",
       "      <td>51.000000</td>\n",
       "      <td>52.000000</td>\n",
       "      <td>52.000000</td>\n",
       "      <td>52.000000</td>\n",
       "      <td>52.000000</td>\n",
       "      <td>52.000000</td>\n",
       "    </tr>\n",
       "    <tr>\n",
       "      <th>mean</th>\n",
       "      <td>15.817308</td>\n",
       "      <td>5.060235</td>\n",
       "      <td>5.574385</td>\n",
       "      <td>13.648154</td>\n",
       "      <td>14.043558</td>\n",
       "      <td>887.323654</td>\n",
       "      <td>134.865577</td>\n",
       "    </tr>\n",
       "    <tr>\n",
       "      <th>std</th>\n",
       "      <td>4.086070</td>\n",
       "      <td>2.033018</td>\n",
       "      <td>5.245624</td>\n",
       "      <td>4.497172</td>\n",
       "      <td>3.737999</td>\n",
       "      <td>176.559356</td>\n",
       "      <td>24.737451</td>\n",
       "    </tr>\n",
       "    <tr>\n",
       "      <th>min</th>\n",
       "      <td>5.900000</td>\n",
       "      <td>1.792000</td>\n",
       "      <td>1.593000</td>\n",
       "      <td>1.760000</td>\n",
       "      <td>5.900000</td>\n",
       "      <td>641.960000</td>\n",
       "      <td>82.750000</td>\n",
       "    </tr>\n",
       "    <tr>\n",
       "      <th>25%</th>\n",
       "      <td>12.775000</td>\n",
       "      <td>3.766500</td>\n",
       "      <td>3.897000</td>\n",
       "      <td>10.611000</td>\n",
       "      <td>11.434000</td>\n",
       "      <td>768.690000</td>\n",
       "      <td>114.732500</td>\n",
       "    </tr>\n",
       "    <tr>\n",
       "      <th>50%</th>\n",
       "      <td>15.650000</td>\n",
       "      <td>4.806000</td>\n",
       "      <td>4.629000</td>\n",
       "      <td>13.908000</td>\n",
       "      <td>14.141500</td>\n",
       "      <td>860.075000</td>\n",
       "      <td>136.590000</td>\n",
       "    </tr>\n",
       "    <tr>\n",
       "      <th>75%</th>\n",
       "      <td>18.450000</td>\n",
       "      <td>6.531000</td>\n",
       "      <td>5.640500</td>\n",
       "      <td>16.334500</td>\n",
       "      <td>16.719500</td>\n",
       "      <td>1006.347500</td>\n",
       "      <td>152.335000</td>\n",
       "    </tr>\n",
       "    <tr>\n",
       "      <th>max</th>\n",
       "      <td>23.900000</td>\n",
       "      <td>9.450000</td>\n",
       "      <td>40.642000</td>\n",
       "      <td>23.661000</td>\n",
       "      <td>21.280000</td>\n",
       "      <td>1301.520000</td>\n",
       "      <td>194.780000</td>\n",
       "    </tr>\n",
       "  </tbody>\n",
       "</table>\n",
       "</div>"
      ],
      "text/plain": [
       "       accidents   speeding    alcohol  not_distracted  no_previous  \\\n",
       "count  52.000000  51.000000  52.000000       52.000000    52.000000   \n",
       "mean   15.817308   5.060235   5.574385       13.648154    14.043558   \n",
       "std     4.086070   2.033018   5.245624        4.497172     3.737999   \n",
       "min     5.900000   1.792000   1.593000        1.760000     5.900000   \n",
       "25%    12.775000   3.766500   3.897000       10.611000    11.434000   \n",
       "50%    15.650000   4.806000   4.629000       13.908000    14.141500   \n",
       "75%    18.450000   6.531000   5.640500       16.334500    16.719500   \n",
       "max    23.900000   9.450000  40.642000       23.661000    21.280000   \n",
       "\n",
       "       ins_premium  ins_losses  \n",
       "count    52.000000   52.000000  \n",
       "mean    887.323654  134.865577  \n",
       "std     176.559356   24.737451  \n",
       "min     641.960000   82.750000  \n",
       "25%     768.690000  114.732500  \n",
       "50%     860.075000  136.590000  \n",
       "75%    1006.347500  152.335000  \n",
       "max    1301.520000  194.780000  "
      ]
     },
     "execution_count": 5,
     "metadata": {},
     "output_type": "execute_result"
    }
   ],
   "source": [
    "crash.describe()"
   ]
  },
  {
   "cell_type": "markdown",
   "id": "ec6ca5a1",
   "metadata": {
    "papermill": {
     "duration": 0.011544,
     "end_time": "2023-02-06T03:25:52.857867",
     "exception": false,
     "start_time": "2023-02-06T03:25:52.846323",
     "status": "completed"
    },
    "tags": []
   },
   "source": [
    "## Question 1. Check if there are any null or NA"
   ]
  },
  {
   "cell_type": "markdown",
   "id": "165054fb",
   "metadata": {
    "papermill": {
     "duration": 0.011406,
     "end_time": "2023-02-06T03:25:52.881237",
     "exception": false,
     "start_time": "2023-02-06T03:25:52.869831",
     "status": "completed"
    },
    "tags": []
   },
   "source": [
    "**Type in your code here**"
   ]
  },
  {
   "cell_type": "code",
   "execution_count": 6,
   "id": "d8d026a8",
   "metadata": {
    "execution": {
     "iopub.execute_input": "2023-02-06T03:25:52.907330Z",
     "iopub.status.busy": "2023-02-06T03:25:52.906851Z",
     "iopub.status.idle": "2023-02-06T03:25:52.917323Z",
     "shell.execute_reply": "2023-02-06T03:25:52.915977Z"
    },
    "papermill": {
     "duration": 0.026677,
     "end_time": "2023-02-06T03:25:52.919777",
     "exception": false,
     "start_time": "2023-02-06T03:25:52.893100",
     "status": "completed"
    },
    "tags": []
   },
   "outputs": [
    {
     "data": {
      "text/plain": [
       "accidents         False\n",
       "speeding           True\n",
       "alcohol           False\n",
       "not_distracted    False\n",
       "no_previous       False\n",
       "ins_premium       False\n",
       "ins_losses        False\n",
       "state             False\n",
       "region            False\n",
       "division          False\n",
       "dtype: bool"
      ]
     },
     "execution_count": 6,
     "metadata": {},
     "output_type": "execute_result"
    }
   ],
   "source": [
    "crash.isnull().any()"
   ]
  },
  {
   "cell_type": "markdown",
   "id": "b17afb48",
   "metadata": {
    "papermill": {
     "duration": 0.01182,
     "end_time": "2023-02-06T03:25:52.943637",
     "exception": false,
     "start_time": "2023-02-06T03:25:52.931817",
     "status": "completed"
    },
    "tags": []
   },
   "source": [
    "## Question 2. Remove any rows that has null or NA"
   ]
  },
  {
   "cell_type": "markdown",
   "id": "ecfcf268",
   "metadata": {
    "papermill": {
     "duration": 0.011572,
     "end_time": "2023-02-06T03:25:52.967335",
     "exception": false,
     "start_time": "2023-02-06T03:25:52.955763",
     "status": "completed"
    },
    "tags": []
   },
   "source": [
    "**Type in your code here**"
   ]
  },
  {
   "cell_type": "code",
   "execution_count": 7,
   "id": "91b91ec3",
   "metadata": {
    "execution": {
     "iopub.execute_input": "2023-02-06T03:25:52.993465Z",
     "iopub.status.busy": "2023-02-06T03:25:52.993038Z",
     "iopub.status.idle": "2023-02-06T03:25:53.010417Z",
     "shell.execute_reply": "2023-02-06T03:25:53.009355Z"
    },
    "papermill": {
     "duration": 0.033772,
     "end_time": "2023-02-06T03:25:53.013497",
     "exception": false,
     "start_time": "2023-02-06T03:25:52.979725",
     "status": "completed"
    },
    "tags": []
   },
   "outputs": [
    {
     "data": {
      "text/plain": [
       "accidents         False\n",
       "speeding          False\n",
       "alcohol           False\n",
       "not_distracted    False\n",
       "no_previous       False\n",
       "ins_premium       False\n",
       "ins_losses        False\n",
       "state             False\n",
       "region            False\n",
       "division          False\n",
       "dtype: bool"
      ]
     },
     "execution_count": 7,
     "metadata": {},
     "output_type": "execute_result"
    }
   ],
   "source": [
    "crash.fillna(method='bfill',inplace=True)\n",
    "crash.isna().any()"
   ]
  },
  {
   "cell_type": "markdown",
   "id": "66c74a2b",
   "metadata": {
    "papermill": {
     "duration": 0.012664,
     "end_time": "2023-02-06T03:25:53.040561",
     "exception": false,
     "start_time": "2023-02-06T03:25:53.027897",
     "status": "completed"
    },
    "tags": []
   },
   "source": [
    "## Question 3. Check if there is any outliers in all numerical fields using both scatter and boxplot"
   ]
  },
  {
   "cell_type": "markdown",
   "id": "6eff8135",
   "metadata": {
    "papermill": {
     "duration": 0.011685,
     "end_time": "2023-02-06T03:25:53.064268",
     "exception": false,
     "start_time": "2023-02-06T03:25:53.052583",
     "status": "completed"
    },
    "tags": []
   },
   "source": [
    "**Type in your code here**"
   ]
  },
  {
   "cell_type": "code",
   "execution_count": 8,
   "id": "6a0a990e",
   "metadata": {
    "execution": {
     "iopub.execute_input": "2023-02-06T03:25:53.090907Z",
     "iopub.status.busy": "2023-02-06T03:25:53.090476Z",
     "iopub.status.idle": "2023-02-06T03:25:55.846547Z",
     "shell.execute_reply": "2023-02-06T03:25:55.845479Z"
    },
    "papermill": {
     "duration": 2.773151,
     "end_time": "2023-02-06T03:25:55.849582",
     "exception": false,
     "start_time": "2023-02-06T03:25:53.076431",
     "status": "completed"
    },
    "tags": []
   },
   "outputs": [
    {
     "data": {
      "text/plain": [
       "array([[<AxesSubplot:xlabel='accidents', ylabel='accidents'>,\n",
       "        <AxesSubplot:xlabel='speeding', ylabel='accidents'>,\n",
       "        <AxesSubplot:xlabel='alcohol', ylabel='accidents'>,\n",
       "        <AxesSubplot:xlabel='not_distracted', ylabel='accidents'>,\n",
       "        <AxesSubplot:xlabel='no_previous', ylabel='accidents'>,\n",
       "        <AxesSubplot:xlabel='ins_premium', ylabel='accidents'>,\n",
       "        <AxesSubplot:xlabel='ins_losses', ylabel='accidents'>],\n",
       "       [<AxesSubplot:xlabel='accidents', ylabel='speeding'>,\n",
       "        <AxesSubplot:xlabel='speeding', ylabel='speeding'>,\n",
       "        <AxesSubplot:xlabel='alcohol', ylabel='speeding'>,\n",
       "        <AxesSubplot:xlabel='not_distracted', ylabel='speeding'>,\n",
       "        <AxesSubplot:xlabel='no_previous', ylabel='speeding'>,\n",
       "        <AxesSubplot:xlabel='ins_premium', ylabel='speeding'>,\n",
       "        <AxesSubplot:xlabel='ins_losses', ylabel='speeding'>],\n",
       "       [<AxesSubplot:xlabel='accidents', ylabel='alcohol'>,\n",
       "        <AxesSubplot:xlabel='speeding', ylabel='alcohol'>,\n",
       "        <AxesSubplot:xlabel='alcohol', ylabel='alcohol'>,\n",
       "        <AxesSubplot:xlabel='not_distracted', ylabel='alcohol'>,\n",
       "        <AxesSubplot:xlabel='no_previous', ylabel='alcohol'>,\n",
       "        <AxesSubplot:xlabel='ins_premium', ylabel='alcohol'>,\n",
       "        <AxesSubplot:xlabel='ins_losses', ylabel='alcohol'>],\n",
       "       [<AxesSubplot:xlabel='accidents', ylabel='not_distracted'>,\n",
       "        <AxesSubplot:xlabel='speeding', ylabel='not_distracted'>,\n",
       "        <AxesSubplot:xlabel='alcohol', ylabel='not_distracted'>,\n",
       "        <AxesSubplot:xlabel='not_distracted', ylabel='not_distracted'>,\n",
       "        <AxesSubplot:xlabel='no_previous', ylabel='not_distracted'>,\n",
       "        <AxesSubplot:xlabel='ins_premium', ylabel='not_distracted'>,\n",
       "        <AxesSubplot:xlabel='ins_losses', ylabel='not_distracted'>],\n",
       "       [<AxesSubplot:xlabel='accidents', ylabel='no_previous'>,\n",
       "        <AxesSubplot:xlabel='speeding', ylabel='no_previous'>,\n",
       "        <AxesSubplot:xlabel='alcohol', ylabel='no_previous'>,\n",
       "        <AxesSubplot:xlabel='not_distracted', ylabel='no_previous'>,\n",
       "        <AxesSubplot:xlabel='no_previous', ylabel='no_previous'>,\n",
       "        <AxesSubplot:xlabel='ins_premium', ylabel='no_previous'>,\n",
       "        <AxesSubplot:xlabel='ins_losses', ylabel='no_previous'>],\n",
       "       [<AxesSubplot:xlabel='accidents', ylabel='ins_premium'>,\n",
       "        <AxesSubplot:xlabel='speeding', ylabel='ins_premium'>,\n",
       "        <AxesSubplot:xlabel='alcohol', ylabel='ins_premium'>,\n",
       "        <AxesSubplot:xlabel='not_distracted', ylabel='ins_premium'>,\n",
       "        <AxesSubplot:xlabel='no_previous', ylabel='ins_premium'>,\n",
       "        <AxesSubplot:xlabel='ins_premium', ylabel='ins_premium'>,\n",
       "        <AxesSubplot:xlabel='ins_losses', ylabel='ins_premium'>],\n",
       "       [<AxesSubplot:xlabel='accidents', ylabel='ins_losses'>,\n",
       "        <AxesSubplot:xlabel='speeding', ylabel='ins_losses'>,\n",
       "        <AxesSubplot:xlabel='alcohol', ylabel='ins_losses'>,\n",
       "        <AxesSubplot:xlabel='not_distracted', ylabel='ins_losses'>,\n",
       "        <AxesSubplot:xlabel='no_previous', ylabel='ins_losses'>,\n",
       "        <AxesSubplot:xlabel='ins_premium', ylabel='ins_losses'>,\n",
       "        <AxesSubplot:xlabel='ins_losses', ylabel='ins_losses'>]],\n",
       "      dtype=object)"
      ]
     },
     "execution_count": 8,
     "metadata": {},
     "output_type": "execute_result"
    },
    {
     "data": {
      "image/png": "[encoded data removed]",
      "text/plain": [
       "<Figure size 1152x576 with 49 Axes>"
      ]
     },
     "metadata": {
      "needs_background": "light"
     },
     "output_type": "display_data"
    }
   ],
   "source": [
    "pd.plotting.scatter_matrix(crash,figsize=(16,8))"
   ]
  },
  {
   "cell_type": "code",
   "execution_count": 9,
   "id": "5cb76d91",
   "metadata": {
    "execution": {
     "iopub.execute_input": "2023-02-06T03:25:55.880873Z",
     "iopub.status.busy": "2023-02-06T03:25:55.880408Z",
     "iopub.status.idle": "2023-02-06T03:25:56.167211Z",
     "shell.execute_reply": "2023-02-06T03:25:56.165796Z"
    },
    "papermill": {
     "duration": 0.305767,
     "end_time": "2023-02-06T03:25:56.170018",
     "exception": false,
     "start_time": "2023-02-06T03:25:55.864251",
     "status": "completed"
    },
    "tags": []
   },
   "outputs": [
    {
     "data": {
      "image/png": "[encoded data removed]",
      "text/plain": [
       "<Figure size 1152x576 with 1 Axes>"
      ]
     },
     "metadata": {
      "needs_background": "light"
     },
     "output_type": "display_data"
    }
   ],
   "source": [
    "numerics = ['int16', 'int32', 'int64', 'float16', 'float32', 'float64']\n",
    "num_col = crash.select_dtypes(include=numerics).columns.tolist()\n",
    "ax = crash[num_col[:-2]].plot(kind='box', title='boxplot',figsize=(16,8))\n",
    "plt.show()"
   ]
  },
  {
   "cell_type": "code",
   "execution_count": 10,
   "id": "3fb84fbd",
   "metadata": {
    "execution": {
     "iopub.execute_input": "2023-02-06T03:25:56.203652Z",
     "iopub.status.busy": "2023-02-06T03:25:56.202786Z",
     "iopub.status.idle": "2023-02-06T03:25:56.427361Z",
     "shell.execute_reply": "2023-02-06T03:25:56.425949Z"
    },
    "papermill": {
     "duration": 0.244246,
     "end_time": "2023-02-06T03:25:56.430326",
     "exception": false,
     "start_time": "2023-02-06T03:25:56.186080",
     "status": "completed"
    },
    "tags": []
   },
   "outputs": [
    {
     "data": {
      "image/png": "[encoded data removed]",
      "text/plain": [
       "<Figure size 1152x576 with 1 Axes>"
      ]
     },
     "metadata": {
      "needs_background": "light"
     },
     "output_type": "display_data"
    }
   ],
   "source": [
    "ax = crash[num_col[-2:]].plot(kind='box', title='boxplot',figsize=(16,8))\n",
    "plt.show()"
   ]
  },
  {
   "cell_type": "markdown",
   "id": "1eb24006",
   "metadata": {
    "papermill": {
     "duration": 0.014899,
     "end_time": "2023-02-06T03:25:56.461200",
     "exception": false,
     "start_time": "2023-02-06T03:25:56.446301",
     "status": "completed"
    },
    "tags": []
   },
   "source": [
    "Alot of outliers in 'alcohol' and 'not distracted' column"
   ]
  },
  {
   "cell_type": "markdown",
   "id": "f9c4da6a",
   "metadata": {
    "papermill": {
     "duration": 0.014982,
     "end_time": "2023-02-06T03:25:56.491678",
     "exception": false,
     "start_time": "2023-02-06T03:25:56.476696",
     "status": "completed"
    },
    "tags": []
   },
   "source": [
    "## Question 4. Display and Remove (the real) outliers"
   ]
  },
  {
   "cell_type": "markdown",
   "id": "74ea2dde",
   "metadata": {
    "papermill": {
     "duration": 0.014624,
     "end_time": "2023-02-06T03:25:56.521501",
     "exception": false,
     "start_time": "2023-02-06T03:25:56.506877",
     "status": "completed"
    },
    "tags": []
   },
   "source": [
    "**Type in your code here**"
   ]
  },
  {
   "cell_type": "code",
   "execution_count": 11,
   "id": "290395cd",
   "metadata": {
    "execution": {
     "iopub.execute_input": "2023-02-06T03:25:56.553394Z",
     "iopub.status.busy": "2023-02-06T03:25:56.552883Z",
     "iopub.status.idle": "2023-02-06T03:25:56.564615Z",
     "shell.execute_reply": "2023-02-06T03:25:56.563462Z"
    },
    "papermill": {
     "duration": 0.030732,
     "end_time": "2023-02-06T03:25:56.567096",
     "exception": false,
     "start_time": "2023-02-06T03:25:56.536364",
     "status": "completed"
    },
    "tags": []
   },
   "outputs": [
    {
     "data": {
      "text/plain": [
       "count    52.000000\n",
       "mean      5.574385\n",
       "std       5.245624\n",
       "min       1.593000\n",
       "25%       3.897000\n",
       "50%       4.629000\n",
       "75%       5.640500\n",
       "max      40.642000\n",
       "Name: alcohol, dtype: float64"
      ]
     },
     "execution_count": 11,
     "metadata": {},
     "output_type": "execute_result"
    }
   ],
   "source": [
    "crash.alcohol.describe()"
   ]
  },
  {
   "cell_type": "code",
   "execution_count": 12,
   "id": "79a190d5",
   "metadata": {
    "execution": {
     "iopub.execute_input": "2023-02-06T03:25:56.599711Z",
     "iopub.status.busy": "2023-02-06T03:25:56.598781Z",
     "iopub.status.idle": "2023-02-06T03:25:56.605835Z",
     "shell.execute_reply": "2023-02-06T03:25:56.605026Z"
    },
    "papermill": {
     "duration": 0.025924,
     "end_time": "2023-02-06T03:25:56.608053",
     "exception": false,
     "start_time": "2023-02-06T03:25:56.582129",
     "status": "completed"
    },
    "tags": []
   },
   "outputs": [
    {
     "data": {
      "text/plain": [
       "4.629"
      ]
     },
     "execution_count": 12,
     "metadata": {},
     "output_type": "execute_result"
    }
   ],
   "source": [
    "crash.alcohol.median()"
   ]
  },
  {
   "cell_type": "code",
   "execution_count": 13,
   "id": "6839669b",
   "metadata": {
    "execution": {
     "iopub.execute_input": "2023-02-06T03:25:56.641227Z",
     "iopub.status.busy": "2023-02-06T03:25:56.640467Z",
     "iopub.status.idle": "2023-02-06T03:25:56.912291Z",
     "shell.execute_reply": "2023-02-06T03:25:56.910875Z"
    },
    "papermill": {
     "duration": 0.29156,
     "end_time": "2023-02-06T03:25:56.915191",
     "exception": false,
     "start_time": "2023-02-06T03:25:56.623631",
     "status": "completed"
    },
    "tags": []
   },
   "outputs": [
    {
     "data": {
      "text/plain": [
       "<AxesSubplot:>"
      ]
     },
     "execution_count": 13,
     "metadata": {},
     "output_type": "execute_result"
    },
    {
     "data": {
      "image/png": "[encoded data removed]",
      "text/plain": [
       "<Figure size 432x288 with 1 Axes>"
      ]
     },
     "metadata": {
      "needs_background": "light"
     },
     "output_type": "display_data"
    }
   ],
   "source": [
    "crash.alcohol.hist(bins=30)"
   ]
  },
  {
   "cell_type": "code",
   "execution_count": 14,
   "id": "8e57d622",
   "metadata": {
    "execution": {
     "iopub.execute_input": "2023-02-06T03:25:56.950266Z",
     "iopub.status.busy": "2023-02-06T03:25:56.948475Z",
     "iopub.status.idle": "2023-02-06T03:25:56.962054Z",
     "shell.execute_reply": "2023-02-06T03:25:56.960583Z"
    },
    "papermill": {
     "duration": 0.03391,
     "end_time": "2023-02-06T03:25:56.964970",
     "exception": false,
     "start_time": "2023-02-06T03:25:56.931060",
     "status": "completed"
    },
    "tags": []
   },
   "outputs": [
    {
     "data": {
      "text/plain": [
       "count    52.000000\n",
       "mean     13.648154\n",
       "std       4.497172\n",
       "min       1.760000\n",
       "25%      10.611000\n",
       "50%      13.908000\n",
       "75%      16.334500\n",
       "max      23.661000\n",
       "Name: not_distracted, dtype: float64"
      ]
     },
     "execution_count": 14,
     "metadata": {},
     "output_type": "execute_result"
    }
   ],
   "source": [
    "crash.not_distracted.describe()"
   ]
  },
  {
   "cell_type": "code",
   "execution_count": 15,
   "id": "95262d58",
   "metadata": {
    "execution": {
     "iopub.execute_input": "2023-02-06T03:25:56.998656Z",
     "iopub.status.busy": "2023-02-06T03:25:56.997854Z",
     "iopub.status.idle": "2023-02-06T03:25:57.254108Z",
     "shell.execute_reply": "2023-02-06T03:25:57.252214Z"
    },
    "papermill": {
     "duration": 0.279058,
     "end_time": "2023-02-06T03:25:57.259880",
     "exception": false,
     "start_time": "2023-02-06T03:25:56.980822",
     "status": "completed"
    },
    "tags": []
   },
   "outputs": [
    {
     "data": {
      "text/plain": [
       "<AxesSubplot:>"
      ]
     },
     "execution_count": 15,
     "metadata": {},
     "output_type": "execute_result"
    },
    {
     "data": {
      "image/png": "[encoded data removed]",
      "text/plain": [
       "<Figure size 432x288 with 1 Axes>"
      ]
     },
     "metadata": {
      "needs_background": "light"
     },
     "output_type": "display_data"
    }
   ],
   "source": [
    "crash.not_distracted.hist(bins=30)"
   ]
  },
  {
   "cell_type": "code",
   "execution_count": 16,
   "id": "9a65c5e0",
   "metadata": {
    "execution": {
     "iopub.execute_input": "2023-02-06T03:25:57.304465Z",
     "iopub.status.busy": "2023-02-06T03:25:57.303995Z",
     "iopub.status.idle": "2023-02-06T03:25:57.312915Z",
     "shell.execute_reply": "2023-02-06T03:25:57.311419Z"
    },
    "papermill": {
     "duration": 0.034964,
     "end_time": "2023-02-06T03:25:57.316014",
     "exception": false,
     "start_time": "2023-02-06T03:25:57.281050",
     "status": "completed"
    },
    "tags": []
   },
   "outputs": [],
   "source": [
    "crash.loc[crash.alcohol > 15,'alcohol'] = crash.alcohol.median()\n"
   ]
  },
  {
   "cell_type": "code",
   "execution_count": 17,
   "id": "798ebfb7",
   "metadata": {
    "execution": {
     "iopub.execute_input": "2023-02-06T03:25:57.352054Z",
     "iopub.status.busy": "2023-02-06T03:25:57.350864Z",
     "iopub.status.idle": "2023-02-06T03:25:57.619309Z",
     "shell.execute_reply": "2023-02-06T03:25:57.617943Z"
    },
    "papermill": {
     "duration": 0.289543,
     "end_time": "2023-02-06T03:25:57.622133",
     "exception": false,
     "start_time": "2023-02-06T03:25:57.332590",
     "status": "completed"
    },
    "tags": []
   },
   "outputs": [
    {
     "data": {
      "image/png": "[encoded data removed]",
      "text/plain": [
       "<Figure size 1152x576 with 1 Axes>"
      ]
     },
     "metadata": {
      "needs_background": "light"
     },
     "output_type": "display_data"
    }
   ],
   "source": [
    "num_col = crash.select_dtypes(include=numerics).columns.tolist()\n",
    "ax = crash[num_col[:-2]].plot(kind='box', title='boxplot',figsize=(16,8))\n",
    "plt.show()"
   ]
  },
  {
   "cell_type": "markdown",
   "id": "1b980e85",
   "metadata": {
    "papermill": {
     "duration": 0.015732,
     "end_time": "2023-02-06T03:25:57.654853",
     "exception": false,
     "start_time": "2023-02-06T03:25:57.639121",
     "status": "completed"
    },
    "tags": []
   },
   "source": [
    "Maybe should keep alcohol outliers because of its distribution structure"
   ]
  },
  {
   "cell_type": "markdown",
   "id": "7aa1d612",
   "metadata": {
    "papermill": {
     "duration": 0.015973,
     "end_time": "2023-02-06T03:25:57.687503",
     "exception": false,
     "start_time": "2023-02-06T03:25:57.671530",
     "status": "completed"
    },
    "tags": []
   },
   "source": [
    "## Question 5. Calculate the average speeding in usa and Northeast region using SQL"
   ]
  },
  {
   "cell_type": "markdown",
   "id": "824256dc",
   "metadata": {
    "papermill": {
     "duration": 0.015694,
     "end_time": "2023-02-06T03:25:57.719212",
     "exception": false,
     "start_time": "2023-02-06T03:25:57.703518",
     "status": "completed"
    },
    "tags": []
   },
   "source": [
    "**Type in your code here**"
   ]
  },
  {
   "cell_type": "code",
   "execution_count": 18,
   "id": "84ca0f2a",
   "metadata": {
    "execution": {
     "iopub.execute_input": "2023-02-06T03:25:57.754436Z",
     "iopub.status.busy": "2023-02-06T03:25:57.753970Z",
     "iopub.status.idle": "2023-02-06T03:25:57.920448Z",
     "shell.execute_reply": "2023-02-06T03:25:57.919166Z"
    },
    "papermill": {
     "duration": 0.187275,
     "end_time": "2023-02-06T03:25:57.923211",
     "exception": false,
     "start_time": "2023-02-06T03:25:57.735936",
     "status": "completed"
    },
    "tags": []
   },
   "outputs": [
    {
     "data": {
      "text/html": [
       "<div>\n",
       "<style scoped>\n",
       "    .dataframe tbody tr th:only-of-type {\n",
       "        vertical-align: middle;\n",
       "    }\n",
       "\n",
       "    .dataframe tbody tr th {\n",
       "        vertical-align: top;\n",
       "    }\n",
       "\n",
       "    .dataframe thead th {\n",
       "        text-align: right;\n",
       "    }\n",
       "</style>\n",
       "<table border=\"1\" class=\"dataframe\">\n",
       "  <thead>\n",
       "    <tr style=\"text-align: right;\">\n",
       "      <th></th>\n",
       "      <th>\"Northeast\"</th>\n",
       "      <th>avg</th>\n",
       "    </tr>\n",
       "  </thead>\n",
       "  <tbody>\n",
       "    <tr>\n",
       "      <th>0</th>\n",
       "      <td>Northeast</td>\n",
       "      <td>4.661111</td>\n",
       "    </tr>\n",
       "  </tbody>\n",
       "</table>\n",
       "</div>"
      ],
      "text/plain": [
       "  \"Northeast\"       avg\n",
       "0   Northeast  4.661111"
      ]
     },
     "execution_count": 18,
     "metadata": {},
     "output_type": "execute_result"
    }
   ],
   "source": [
    "avg_speeding = 'select \"Northeast\",avg(speeding) as avg from crash where region = \"Northeast\"'\n",
    "ps.sqldf(avg_speeding)"
   ]
  },
  {
   "cell_type": "markdown",
   "id": "63da03e6",
   "metadata": {
    "papermill": {
     "duration": 0.016116,
     "end_time": "2023-02-06T03:25:57.955713",
     "exception": false,
     "start_time": "2023-02-06T03:25:57.939597",
     "status": "completed"
    },
    "tags": []
   },
   "source": [
    "## Question 6. Calculate the average alcohol for each region using SQL"
   ]
  },
  {
   "cell_type": "markdown",
   "id": "2527be17",
   "metadata": {
    "papermill": {
     "duration": 0.015907,
     "end_time": "2023-02-06T03:25:57.988539",
     "exception": false,
     "start_time": "2023-02-06T03:25:57.972632",
     "status": "completed"
    },
    "tags": []
   },
   "source": [
    "**Type in your code here**"
   ]
  },
  {
   "cell_type": "code",
   "execution_count": 19,
   "id": "8066efc2",
   "metadata": {
    "execution": {
     "iopub.execute_input": "2023-02-06T03:25:58.023182Z",
     "iopub.status.busy": "2023-02-06T03:25:58.022706Z",
     "iopub.status.idle": "2023-02-06T03:25:58.068302Z",
     "shell.execute_reply": "2023-02-06T03:25:58.066945Z"
    },
    "papermill": {
     "duration": 0.066722,
     "end_time": "2023-02-06T03:25:58.071336",
     "exception": false,
     "start_time": "2023-02-06T03:25:58.004614",
     "status": "completed"
    },
    "tags": []
   },
   "outputs": [
    {
     "data": {
      "text/html": [
       "<div>\n",
       "<style scoped>\n",
       "    .dataframe tbody tr th:only-of-type {\n",
       "        vertical-align: middle;\n",
       "    }\n",
       "\n",
       "    .dataframe tbody tr th {\n",
       "        vertical-align: top;\n",
       "    }\n",
       "\n",
       "    .dataframe thead th {\n",
       "        text-align: right;\n",
       "    }\n",
       "</style>\n",
       "<table border=\"1\" class=\"dataframe\">\n",
       "  <thead>\n",
       "    <tr style=\"text-align: right;\">\n",
       "      <th></th>\n",
       "      <th>region</th>\n",
       "      <th>avg</th>\n",
       "    </tr>\n",
       "  </thead>\n",
       "  <tbody>\n",
       "    <tr>\n",
       "      <th>0</th>\n",
       "      <td>Midwest</td>\n",
       "      <td>4.996917</td>\n",
       "    </tr>\n",
       "    <tr>\n",
       "      <th>1</th>\n",
       "      <td>Northeast</td>\n",
       "      <td>3.934556</td>\n",
       "    </tr>\n",
       "    <tr>\n",
       "      <th>2</th>\n",
       "      <td>South</td>\n",
       "      <td>5.414647</td>\n",
       "    </tr>\n",
       "    <tr>\n",
       "      <th>3</th>\n",
       "      <td>Territory</td>\n",
       "      <td>4.629000</td>\n",
       "    </tr>\n",
       "    <tr>\n",
       "      <th>4</th>\n",
       "      <td>West</td>\n",
       "      <td>4.754077</td>\n",
       "    </tr>\n",
       "  </tbody>\n",
       "</table>\n",
       "</div>"
      ],
      "text/plain": [
       "      region       avg\n",
       "0    Midwest  4.996917\n",
       "1  Northeast  3.934556\n",
       "2      South  5.414647\n",
       "3  Territory  4.629000\n",
       "4       West  4.754077"
      ]
     },
     "execution_count": 19,
     "metadata": {},
     "output_type": "execute_result"
    }
   ],
   "source": [
    "avg_alcohol = 'select region,avg(alcohol) as avg from crash group by \"region\"'\n",
    "ps.sqldf(avg_alcohol)"
   ]
  },
  {
   "cell_type": "markdown",
   "id": "ac0708dc",
   "metadata": {
    "papermill": {
     "duration": 0.016049,
     "end_time": "2023-02-06T03:25:58.104819",
     "exception": false,
     "start_time": "2023-02-06T03:25:58.088770",
     "status": "completed"
    },
    "tags": []
   },
   "source": [
    "## Question 7. Calculate the number of occurrences, mean, min, max of the speeding for each divison using SQL"
   ]
  },
  {
   "cell_type": "markdown",
   "id": "dad15e12",
   "metadata": {
    "papermill": {
     "duration": 0.016488,
     "end_time": "2023-02-06T03:25:58.137751",
     "exception": false,
     "start_time": "2023-02-06T03:25:58.121263",
     "status": "completed"
    },
    "tags": []
   },
   "source": [
    "**Type in your code here**"
   ]
  },
  {
   "cell_type": "code",
   "execution_count": 20,
   "id": "3edd7db0",
   "metadata": {
    "execution": {
     "iopub.execute_input": "2023-02-06T03:25:58.172729Z",
     "iopub.status.busy": "2023-02-06T03:25:58.172281Z",
     "iopub.status.idle": "2023-02-06T03:25:58.222681Z",
     "shell.execute_reply": "2023-02-06T03:25:58.221350Z"
    },
    "papermill": {
     "duration": 0.070994,
     "end_time": "2023-02-06T03:25:58.225579",
     "exception": false,
     "start_time": "2023-02-06T03:25:58.154585",
     "status": "completed"
    },
    "tags": []
   },
   "outputs": [
    {
     "data": {
      "text/html": [
       "<div>\n",
       "<style scoped>\n",
       "    .dataframe tbody tr th:only-of-type {\n",
       "        vertical-align: middle;\n",
       "    }\n",
       "\n",
       "    .dataframe tbody tr th {\n",
       "        vertical-align: top;\n",
       "    }\n",
       "\n",
       "    .dataframe thead th {\n",
       "        text-align: right;\n",
       "    }\n",
       "</style>\n",
       "<table border=\"1\" class=\"dataframe\">\n",
       "  <thead>\n",
       "    <tr style=\"text-align: right;\">\n",
       "      <th></th>\n",
       "      <th>division</th>\n",
       "      <th>avg</th>\n",
       "      <th>min</th>\n",
       "      <th>max</th>\n",
       "      <th>occ</th>\n",
       "    </tr>\n",
       "  </thead>\n",
       "  <tbody>\n",
       "    <tr>\n",
       "      <th>0</th>\n",
       "      <td>East North Central</td>\n",
       "      <td>4.106600</td>\n",
       "      <td>3.384</td>\n",
       "      <td>4.968</td>\n",
       "      <td>5</td>\n",
       "    </tr>\n",
       "    <tr>\n",
       "      <th>1</th>\n",
       "      <td>East South Central</td>\n",
       "      <td>4.533250</td>\n",
       "      <td>2.640</td>\n",
       "      <td>7.332</td>\n",
       "      <td>4</td>\n",
       "    </tr>\n",
       "    <tr>\n",
       "      <th>2</th>\n",
       "      <td>Middle Atlantic</td>\n",
       "      <td>5.814667</td>\n",
       "      <td>1.792</td>\n",
       "      <td>9.100</td>\n",
       "      <td>3</td>\n",
       "    </tr>\n",
       "    <tr>\n",
       "      <th>3</th>\n",
       "      <td>Mountain</td>\n",
       "      <td>5.812250</td>\n",
       "      <td>3.496</td>\n",
       "      <td>8.346</td>\n",
       "      <td>8</td>\n",
       "    </tr>\n",
       "    <tr>\n",
       "      <th>4</th>\n",
       "      <td>New England</td>\n",
       "      <td>4.084333</td>\n",
       "      <td>1.886</td>\n",
       "      <td>5.738</td>\n",
       "      <td>6</td>\n",
       "    </tr>\n",
       "    <tr>\n",
       "      <th>5</th>\n",
       "      <td>Pacific</td>\n",
       "      <td>5.949400</td>\n",
       "      <td>4.200</td>\n",
       "      <td>9.450</td>\n",
       "      <td>5</td>\n",
       "    </tr>\n",
       "    <tr>\n",
       "      <th>6</th>\n",
       "      <td>South Atlantic</td>\n",
       "      <td>5.030444</td>\n",
       "      <td>2.006</td>\n",
       "      <td>9.082</td>\n",
       "      <td>9</td>\n",
       "    </tr>\n",
       "    <tr>\n",
       "      <th>7</th>\n",
       "      <td>Territory</td>\n",
       "      <td>7.100000</td>\n",
       "      <td>7.100</td>\n",
       "      <td>7.100</td>\n",
       "      <td>1</td>\n",
       "    </tr>\n",
       "    <tr>\n",
       "      <th>8</th>\n",
       "      <td>West North Central</td>\n",
       "      <td>4.293429</td>\n",
       "      <td>1.937</td>\n",
       "      <td>6.923</td>\n",
       "      <td>7</td>\n",
       "    </tr>\n",
       "    <tr>\n",
       "      <th>9</th>\n",
       "      <td>West South Central</td>\n",
       "      <td>6.333750</td>\n",
       "      <td>4.032</td>\n",
       "      <td>7.760</td>\n",
       "      <td>4</td>\n",
       "    </tr>\n",
       "  </tbody>\n",
       "</table>\n",
       "</div>"
      ],
      "text/plain": [
       "             division       avg    min    max  occ\n",
       "0  East North Central  4.106600  3.384  4.968    5\n",
       "1  East South Central  4.533250  2.640  7.332    4\n",
       "2     Middle Atlantic  5.814667  1.792  9.100    3\n",
       "3            Mountain  5.812250  3.496  8.346    8\n",
       "4         New England  4.084333  1.886  5.738    6\n",
       "5             Pacific  5.949400  4.200  9.450    5\n",
       "6      South Atlantic  5.030444  2.006  9.082    9\n",
       "7           Territory  7.100000  7.100  7.100    1\n",
       "8  West North Central  4.293429  1.937  6.923    7\n",
       "9  West South Central  6.333750  4.032  7.760    4"
      ]
     },
     "execution_count": 20,
     "metadata": {},
     "output_type": "execute_result"
    }
   ],
   "source": [
    "desc = 'select division,avg(speeding) as avg,min(speeding) as min,max(speeding) as max,count(speeding) as occ from crash group by \"division\"'\n",
    "ps.sqldf(desc)"
   ]
  },
  {
   "cell_type": "markdown",
   "id": "459e667a",
   "metadata": {
    "papermill": {
     "duration": 0.01645,
     "end_time": "2023-02-06T03:25:58.258644",
     "exception": false,
     "start_time": "2023-02-06T03:25:58.242194",
     "status": "completed"
    },
    "tags": []
   },
   "source": [
    "## Question 8. Answer Question 7 but use Pandas functions"
   ]
  },
  {
   "cell_type": "markdown",
   "id": "306803e3",
   "metadata": {
    "papermill": {
     "duration": 0.017259,
     "end_time": "2023-02-06T03:25:58.292621",
     "exception": false,
     "start_time": "2023-02-06T03:25:58.275362",
     "status": "completed"
    },
    "tags": []
   },
   "source": [
    "**Type in your code here**"
   ]
  },
  {
   "cell_type": "code",
   "execution_count": 21,
   "id": "e5141307",
   "metadata": {
    "execution": {
     "iopub.execute_input": "2023-02-06T03:25:58.327922Z",
     "iopub.status.busy": "2023-02-06T03:25:58.327481Z",
     "iopub.status.idle": "2023-02-06T03:25:58.356322Z",
     "shell.execute_reply": "2023-02-06T03:25:58.355011Z"
    },
    "papermill": {
     "duration": 0.049586,
     "end_time": "2023-02-06T03:25:58.358806",
     "exception": false,
     "start_time": "2023-02-06T03:25:58.309220",
     "status": "completed"
    },
    "tags": []
   },
   "outputs": [
    {
     "data": {
      "text/html": [
       "<div>\n",
       "<style scoped>\n",
       "    .dataframe tbody tr th:only-of-type {\n",
       "        vertical-align: middle;\n",
       "    }\n",
       "\n",
       "    .dataframe tbody tr th {\n",
       "        vertical-align: top;\n",
       "    }\n",
       "\n",
       "    .dataframe thead tr th {\n",
       "        text-align: left;\n",
       "    }\n",
       "\n",
       "    .dataframe thead tr:last-of-type th {\n",
       "        text-align: right;\n",
       "    }\n",
       "</style>\n",
       "<table border=\"1\" class=\"dataframe\">\n",
       "  <thead>\n",
       "    <tr>\n",
       "      <th></th>\n",
       "      <th colspan=\"4\" halign=\"left\">speeding</th>\n",
       "    </tr>\n",
       "    <tr>\n",
       "      <th></th>\n",
       "      <th>count</th>\n",
       "      <th>min</th>\n",
       "      <th>max</th>\n",
       "      <th>mean</th>\n",
       "    </tr>\n",
       "    <tr>\n",
       "      <th>division</th>\n",
       "      <th></th>\n",
       "      <th></th>\n",
       "      <th></th>\n",
       "      <th></th>\n",
       "    </tr>\n",
       "  </thead>\n",
       "  <tbody>\n",
       "    <tr>\n",
       "      <th>East North Central</th>\n",
       "      <td>5</td>\n",
       "      <td>3.384</td>\n",
       "      <td>4.968</td>\n",
       "      <td>4.106600</td>\n",
       "    </tr>\n",
       "    <tr>\n",
       "      <th>East South Central</th>\n",
       "      <td>4</td>\n",
       "      <td>2.640</td>\n",
       "      <td>7.332</td>\n",
       "      <td>4.533250</td>\n",
       "    </tr>\n",
       "    <tr>\n",
       "      <th>Middle Atlantic</th>\n",
       "      <td>3</td>\n",
       "      <td>1.792</td>\n",
       "      <td>9.100</td>\n",
       "      <td>5.814667</td>\n",
       "    </tr>\n",
       "    <tr>\n",
       "      <th>Mountain</th>\n",
       "      <td>8</td>\n",
       "      <td>3.496</td>\n",
       "      <td>8.346</td>\n",
       "      <td>5.812250</td>\n",
       "    </tr>\n",
       "    <tr>\n",
       "      <th>New England</th>\n",
       "      <td>6</td>\n",
       "      <td>1.886</td>\n",
       "      <td>5.738</td>\n",
       "      <td>4.084333</td>\n",
       "    </tr>\n",
       "    <tr>\n",
       "      <th>Pacific</th>\n",
       "      <td>5</td>\n",
       "      <td>4.200</td>\n",
       "      <td>9.450</td>\n",
       "      <td>5.949400</td>\n",
       "    </tr>\n",
       "    <tr>\n",
       "      <th>South Atlantic</th>\n",
       "      <td>9</td>\n",
       "      <td>2.006</td>\n",
       "      <td>9.082</td>\n",
       "      <td>5.030444</td>\n",
       "    </tr>\n",
       "    <tr>\n",
       "      <th>Territory</th>\n",
       "      <td>1</td>\n",
       "      <td>7.100</td>\n",
       "      <td>7.100</td>\n",
       "      <td>7.100000</td>\n",
       "    </tr>\n",
       "    <tr>\n",
       "      <th>West North Central</th>\n",
       "      <td>7</td>\n",
       "      <td>1.937</td>\n",
       "      <td>6.923</td>\n",
       "      <td>4.293429</td>\n",
       "    </tr>\n",
       "    <tr>\n",
       "      <th>West South Central</th>\n",
       "      <td>4</td>\n",
       "      <td>4.032</td>\n",
       "      <td>7.760</td>\n",
       "      <td>6.333750</td>\n",
       "    </tr>\n",
       "  </tbody>\n",
       "</table>\n",
       "</div>"
      ],
      "text/plain": [
       "                   speeding                        \n",
       "                      count    min    max      mean\n",
       "division                                           \n",
       "East North Central        5  3.384  4.968  4.106600\n",
       "East South Central        4  2.640  7.332  4.533250\n",
       "Middle Atlantic           3  1.792  9.100  5.814667\n",
       "Mountain                  8  3.496  8.346  5.812250\n",
       "New England               6  1.886  5.738  4.084333\n",
       "Pacific                   5  4.200  9.450  5.949400\n",
       "South Atlantic            9  2.006  9.082  5.030444\n",
       "Territory                 1  7.100  7.100  7.100000\n",
       "West North Central        7  1.937  6.923  4.293429\n",
       "West South Central        4  4.032  7.760  6.333750"
      ]
     },
     "execution_count": 21,
     "metadata": {},
     "output_type": "execute_result"
    }
   ],
   "source": [
    "crash.groupby('division').agg({'speeding':['count','min','max','mean']})"
   ]
  },
  {
   "cell_type": "markdown",
   "id": "3341aff8",
   "metadata": {
    "papermill": {
     "duration": 0.016856,
     "end_time": "2023-02-06T03:25:58.392757",
     "exception": false,
     "start_time": "2023-02-06T03:25:58.375901",
     "status": "completed"
    },
    "tags": []
   },
   "source": [
    "## Question 9. Calculate the Standard deviation, Skew and Kurtosis for the accidents, speeding, alcohol for each region"
   ]
  },
  {
   "cell_type": "markdown",
   "id": "dd2dda5d",
   "metadata": {
    "papermill": {
     "duration": 0.017519,
     "end_time": "2023-02-06T03:25:58.427784",
     "exception": false,
     "start_time": "2023-02-06T03:25:58.410265",
     "status": "completed"
    },
    "tags": []
   },
   "source": [
    "**Type in your code here**"
   ]
  },
  {
   "cell_type": "code",
   "execution_count": 22,
   "id": "161123dc",
   "metadata": {
    "execution": {
     "iopub.execute_input": "2023-02-06T03:25:58.465946Z",
     "iopub.status.busy": "2023-02-06T03:25:58.465232Z",
     "iopub.status.idle": "2023-02-06T03:25:58.482657Z",
     "shell.execute_reply": "2023-02-06T03:25:58.481343Z"
    },
    "papermill": {
     "duration": 0.040083,
     "end_time": "2023-02-06T03:25:58.485164",
     "exception": false,
     "start_time": "2023-02-06T03:25:58.445081",
     "status": "completed"
    },
    "tags": []
   },
   "outputs": [
    {
     "data": {
      "text/html": [
       "<div>\n",
       "<style scoped>\n",
       "    .dataframe tbody tr th:only-of-type {\n",
       "        vertical-align: middle;\n",
       "    }\n",
       "\n",
       "    .dataframe tbody tr th {\n",
       "        vertical-align: top;\n",
       "    }\n",
       "\n",
       "    .dataframe thead th {\n",
       "        text-align: right;\n",
       "    }\n",
       "</style>\n",
       "<table border=\"1\" class=\"dataframe\">\n",
       "  <thead>\n",
       "    <tr style=\"text-align: right;\">\n",
       "      <th></th>\n",
       "      <th>accidents</th>\n",
       "      <th>speeding</th>\n",
       "      <th>alcohol</th>\n",
       "      <th>not_distracted</th>\n",
       "      <th>no_previous</th>\n",
       "      <th>ins_premium</th>\n",
       "      <th>ins_losses</th>\n",
       "      <th>state</th>\n",
       "      <th>region</th>\n",
       "      <th>division</th>\n",
       "    </tr>\n",
       "  </thead>\n",
       "  <tbody>\n",
       "    <tr>\n",
       "      <th>39</th>\n",
       "      <td>17.2</td>\n",
       "      <td>7.1</td>\n",
       "      <td>4.629</td>\n",
       "      <td>17.472</td>\n",
       "      <td>16.016</td>\n",
       "      <td>905.99</td>\n",
       "      <td>153.86</td>\n",
       "      <td>PR</td>\n",
       "      <td>Territory</td>\n",
       "      <td>Territory</td>\n",
       "    </tr>\n",
       "  </tbody>\n",
       "</table>\n",
       "</div>"
      ],
      "text/plain": [
       "    accidents  speeding  alcohol  not_distracted  no_previous  ins_premium  \\\n",
       "39       17.2       7.1    4.629          17.472       16.016       905.99   \n",
       "\n",
       "    ins_losses state     region   division  \n",
       "39      153.86    PR  Territory  Territory  "
      ]
     },
     "execution_count": 22,
     "metadata": {},
     "output_type": "execute_result"
    }
   ],
   "source": [
    "crash.loc[crash.region == 'Territory']"
   ]
  },
  {
   "cell_type": "code",
   "execution_count": 23,
   "id": "45597b57",
   "metadata": {
    "execution": {
     "iopub.execute_input": "2023-02-06T03:25:58.523234Z",
     "iopub.status.busy": "2023-02-06T03:25:58.522541Z",
     "iopub.status.idle": "2023-02-06T03:25:58.559758Z",
     "shell.execute_reply": "2023-02-06T03:25:58.558357Z"
    },
    "papermill": {
     "duration": 0.059642,
     "end_time": "2023-02-06T03:25:58.562745",
     "exception": false,
     "start_time": "2023-02-06T03:25:58.503103",
     "status": "completed"
    },
    "tags": []
   },
   "outputs": [
    {
     "data": {
      "text/html": [
       "<div>\n",
       "<style scoped>\n",
       "    .dataframe tbody tr th:only-of-type {\n",
       "        vertical-align: middle;\n",
       "    }\n",
       "\n",
       "    .dataframe tbody tr th {\n",
       "        vertical-align: top;\n",
       "    }\n",
       "\n",
       "    .dataframe thead tr th {\n",
       "        text-align: left;\n",
       "    }\n",
       "\n",
       "    .dataframe thead tr:last-of-type th {\n",
       "        text-align: right;\n",
       "    }\n",
       "</style>\n",
       "<table border=\"1\" class=\"dataframe\">\n",
       "  <thead>\n",
       "    <tr>\n",
       "      <th></th>\n",
       "      <th colspan=\"3\" halign=\"left\">speeding</th>\n",
       "      <th colspan=\"3\" halign=\"left\">alcohol</th>\n",
       "      <th colspan=\"3\" halign=\"left\">accidents</th>\n",
       "    </tr>\n",
       "    <tr>\n",
       "      <th></th>\n",
       "      <th>skew</th>\n",
       "      <th>kurtosis</th>\n",
       "      <th>std</th>\n",
       "      <th>skew</th>\n",
       "      <th>kurtosis</th>\n",
       "      <th>std</th>\n",
       "      <th>skew</th>\n",
       "      <th>kurtosis</th>\n",
       "      <th>std</th>\n",
       "    </tr>\n",
       "    <tr>\n",
       "      <th>region</th>\n",
       "      <th></th>\n",
       "      <th></th>\n",
       "      <th></th>\n",
       "      <th></th>\n",
       "      <th></th>\n",
       "      <th></th>\n",
       "      <th></th>\n",
       "      <th></th>\n",
       "      <th></th>\n",
       "    </tr>\n",
       "  </thead>\n",
       "  <tbody>\n",
       "    <tr>\n",
       "      <th>Midwest</th>\n",
       "      <td>0.105489</td>\n",
       "      <td>-0.925423</td>\n",
       "      <td>1.537451</td>\n",
       "      <td>1.822129</td>\n",
       "      <td>3.061283</td>\n",
       "      <td>1.824432</td>\n",
       "      <td>0.827604</td>\n",
       "      <td>0.839429</td>\n",
       "      <td>3.588988</td>\n",
       "    </tr>\n",
       "    <tr>\n",
       "      <th>Northeast</th>\n",
       "      <td>0.545403</td>\n",
       "      <td>-0.288152</td>\n",
       "      <td>2.289981</td>\n",
       "      <td>0.783350</td>\n",
       "      <td>0.104904</td>\n",
       "      <td>0.828121</td>\n",
       "      <td>0.682327</td>\n",
       "      <td>0.031080</td>\n",
       "      <td>2.879284</td>\n",
       "    </tr>\n",
       "    <tr>\n",
       "      <th>South</th>\n",
       "      <td>0.156468</td>\n",
       "      <td>-1.301447</td>\n",
       "      <td>2.220711</td>\n",
       "      <td>0.301037</td>\n",
       "      <td>1.216560</td>\n",
       "      <td>1.773576</td>\n",
       "      <td>-1.023960</td>\n",
       "      <td>1.022963</td>\n",
       "      <td>4.537037</td>\n",
       "    </tr>\n",
       "    <tr>\n",
       "      <th>Territory</th>\n",
       "      <td>0.000000</td>\n",
       "      <td>-3.000000</td>\n",
       "      <td>NaN</td>\n",
       "      <td>0.000000</td>\n",
       "      <td>-3.000000</td>\n",
       "      <td>NaN</td>\n",
       "      <td>0.000000</td>\n",
       "      <td>-3.000000</td>\n",
       "      <td>NaN</td>\n",
       "    </tr>\n",
       "    <tr>\n",
       "      <th>West</th>\n",
       "      <td>0.614240</td>\n",
       "      <td>-0.733334</td>\n",
       "      <td>1.803138</td>\n",
       "      <td>1.021399</td>\n",
       "      <td>1.024489</td>\n",
       "      <td>1.910356</td>\n",
       "      <td>0.057086</td>\n",
       "      <td>-1.115215</td>\n",
       "      <td>3.325118</td>\n",
       "    </tr>\n",
       "  </tbody>\n",
       "</table>\n",
       "</div>"
      ],
      "text/plain": [
       "           speeding                       alcohol                      \\\n",
       "               skew  kurtosis       std      skew  kurtosis       std   \n",
       "region                                                                  \n",
       "Midwest    0.105489 -0.925423  1.537451  1.822129  3.061283  1.824432   \n",
       "Northeast  0.545403 -0.288152  2.289981  0.783350  0.104904  0.828121   \n",
       "South      0.156468 -1.301447  2.220711  0.301037  1.216560  1.773576   \n",
       "Territory  0.000000 -3.000000       NaN  0.000000 -3.000000       NaN   \n",
       "West       0.614240 -0.733334  1.803138  1.021399  1.024489  1.910356   \n",
       "\n",
       "          accidents                      \n",
       "               skew  kurtosis       std  \n",
       "region                                   \n",
       "Midwest    0.827604  0.839429  3.588988  \n",
       "Northeast  0.682327  0.031080  2.879284  \n",
       "South     -1.023960  1.022963  4.537037  \n",
       "Territory  0.000000 -3.000000       NaN  \n",
       "West       0.057086 -1.115215  3.325118  "
      ]
     },
     "execution_count": 23,
     "metadata": {},
     "output_type": "execute_result"
    }
   ],
   "source": [
    "from scipy.stats import kurtosis,skew\n",
    "stats = [skew,kurtosis,np.std]\n",
    "crash.groupby('region').agg({\n",
    "    'speeding':stats,\n",
    "    'alcohol':stats,\n",
    "    'accidents':stats\n",
    "})"
   ]
  },
  {
   "cell_type": "markdown",
   "id": "6c9c446c",
   "metadata": {
    "papermill": {
     "duration": 0.017934,
     "end_time": "2023-02-06T03:25:58.598667",
     "exception": false,
     "start_time": "2023-02-06T03:25:58.580733",
     "status": "completed"
    },
    "tags": []
   },
   "source": [
    "## Question 10. Plot the histogram of accidents distribution for different region using 5 bins"
   ]
  },
  {
   "cell_type": "markdown",
   "id": "eaca79c1",
   "metadata": {
    "papermill": {
     "duration": 0.017464,
     "end_time": "2023-02-06T03:25:58.633733",
     "exception": false,
     "start_time": "2023-02-06T03:25:58.616269",
     "status": "completed"
    },
    "tags": []
   },
   "source": [
    "**Type in your answer here**"
   ]
  },
  {
   "cell_type": "code",
   "execution_count": 24,
   "id": "6ff1ca9b",
   "metadata": {
    "execution": {
     "iopub.execute_input": "2023-02-06T03:25:58.671266Z",
     "iopub.status.busy": "2023-02-06T03:25:58.670831Z",
     "iopub.status.idle": "2023-02-06T03:25:59.652593Z",
     "shell.execute_reply": "2023-02-06T03:25:59.651110Z"
    },
    "papermill": {
     "duration": 1.003874,
     "end_time": "2023-02-06T03:25:59.655539",
     "exception": false,
     "start_time": "2023-02-06T03:25:58.651665",
     "status": "completed"
    },
    "tags": []
   },
   "outputs": [
    {
     "data": {
      "image/png": "[encoded data removed]",
      "text/plain": [
       "<Figure size 1080x216 with 5 Axes>"
      ]
     },
     "metadata": {
      "needs_background": "light"
     },
     "output_type": "display_data"
    }
   ],
   "source": [
    "g = sns.FacetGrid(crash,col='region')\n",
    "g = g.map(plt.hist,'accidents',bins=5)"
   ]
  },
  {
   "cell_type": "markdown",
   "id": "caf6e7f2",
   "metadata": {
    "papermill": {
     "duration": 0.017231,
     "end_time": "2023-02-06T03:25:59.691300",
     "exception": false,
     "start_time": "2023-02-06T03:25:59.674069",
     "status": "completed"
    },
    "tags": []
   },
   "source": [
    "### Now Load a different dataset (MPG dataset number 3)"
   ]
  },
  {
   "cell_type": "code",
   "execution_count": 25,
   "id": "f560eb27",
   "metadata": {
    "execution": {
     "iopub.execute_input": "2023-02-06T03:25:59.729064Z",
     "iopub.status.busy": "2023-02-06T03:25:59.728636Z",
     "iopub.status.idle": "2023-02-06T03:25:59.763094Z",
     "shell.execute_reply": "2023-02-06T03:25:59.761303Z"
    },
    "papermill": {
     "duration": 0.056747,
     "end_time": "2023-02-06T03:25:59.766157",
     "exception": false,
     "start_time": "2023-02-06T03:25:59.709410",
     "status": "completed"
    },
    "tags": []
   },
   "outputs": [
    {
     "name": "stdout",
     "output_type": "stream",
     "text": [
      "(405, 9)\n"
     ]
    },
    {
     "data": {
      "text/html": [
       "<div>\n",
       "<style scoped>\n",
       "    .dataframe tbody tr th:only-of-type {\n",
       "        vertical-align: middle;\n",
       "    }\n",
       "\n",
       "    .dataframe tbody tr th {\n",
       "        vertical-align: top;\n",
       "    }\n",
       "\n",
       "    .dataframe thead th {\n",
       "        text-align: right;\n",
       "    }\n",
       "</style>\n",
       "<table border=\"1\" class=\"dataframe\">\n",
       "  <thead>\n",
       "    <tr style=\"text-align: right;\">\n",
       "      <th></th>\n",
       "      <th>mpg</th>\n",
       "      <th>cylinders</th>\n",
       "      <th>displacement</th>\n",
       "      <th>horsepower</th>\n",
       "      <th>weight</th>\n",
       "      <th>acceleration</th>\n",
       "      <th>model_year</th>\n",
       "      <th>origin</th>\n",
       "      <th>name</th>\n",
       "    </tr>\n",
       "  </thead>\n",
       "  <tbody>\n",
       "    <tr>\n",
       "      <th>0</th>\n",
       "      <td>18.0</td>\n",
       "      <td>8</td>\n",
       "      <td>307.0</td>\n",
       "      <td>130.0</td>\n",
       "      <td>3504.0</td>\n",
       "      <td>12.0</td>\n",
       "      <td>70</td>\n",
       "      <td>usa</td>\n",
       "      <td>chevrolet chevelle malibu</td>\n",
       "    </tr>\n",
       "    <tr>\n",
       "      <th>1</th>\n",
       "      <td>15.0</td>\n",
       "      <td>8</td>\n",
       "      <td>350.0</td>\n",
       "      <td>165.0</td>\n",
       "      <td>3693.0</td>\n",
       "      <td>11.5</td>\n",
       "      <td>70</td>\n",
       "      <td>usa</td>\n",
       "      <td>buick skylark 320</td>\n",
       "    </tr>\n",
       "    <tr>\n",
       "      <th>2</th>\n",
       "      <td>18.0</td>\n",
       "      <td>8</td>\n",
       "      <td>318.0</td>\n",
       "      <td>150.0</td>\n",
       "      <td>3436.0</td>\n",
       "      <td>11.0</td>\n",
       "      <td>70</td>\n",
       "      <td>usa</td>\n",
       "      <td>plymouth satellite</td>\n",
       "    </tr>\n",
       "    <tr>\n",
       "      <th>3</th>\n",
       "      <td>16.0</td>\n",
       "      <td>8</td>\n",
       "      <td>304.0</td>\n",
       "      <td>150.0</td>\n",
       "      <td>3433.0</td>\n",
       "      <td>12.0</td>\n",
       "      <td>70</td>\n",
       "      <td>usa</td>\n",
       "      <td>amc rebel sst</td>\n",
       "    </tr>\n",
       "    <tr>\n",
       "      <th>4</th>\n",
       "      <td>17.0</td>\n",
       "      <td>8</td>\n",
       "      <td>302.0</td>\n",
       "      <td>140.0</td>\n",
       "      <td>3449.0</td>\n",
       "      <td>10.5</td>\n",
       "      <td>70</td>\n",
       "      <td>usa</td>\n",
       "      <td>ford torino</td>\n",
       "    </tr>\n",
       "  </tbody>\n",
       "</table>\n",
       "</div>"
      ],
      "text/plain": [
       "    mpg  cylinders  displacement  horsepower  weight  acceleration  \\\n",
       "0  18.0          8         307.0       130.0  3504.0          12.0   \n",
       "1  15.0          8         350.0       165.0  3693.0          11.5   \n",
       "2  18.0          8         318.0       150.0  3436.0          11.0   \n",
       "3  16.0          8         304.0       150.0  3433.0          12.0   \n",
       "4  17.0          8         302.0       140.0  3449.0          10.5   \n",
       "\n",
       "   model_year origin                       name  \n",
       "0          70    usa  chevrolet chevelle malibu  \n",
       "1          70    usa          buick skylark 320  \n",
       "2          70    usa         plymouth satellite  \n",
       "3          70    usa              amc rebel sst  \n",
       "4          70    usa                ford torino  "
      ]
     },
     "execution_count": 25,
     "metadata": {},
     "output_type": "execute_result"
    }
   ],
   "source": [
    "mpg = pd.read_csv(mpg3)\n",
    "print(mpg.shape)\n",
    "mpg.head()"
   ]
  },
  {
   "cell_type": "markdown",
   "id": "9cb69820",
   "metadata": {
    "papermill": {
     "duration": 0.017485,
     "end_time": "2023-02-06T03:25:59.802152",
     "exception": false,
     "start_time": "2023-02-06T03:25:59.784667",
     "status": "completed"
    },
    "tags": []
   },
   "source": [
    "# Question 11: Check to see if there are any missing values. Fix the missing values by imputing value from the mean."
   ]
  },
  {
   "cell_type": "markdown",
   "id": "6c8c3613",
   "metadata": {
    "papermill": {
     "duration": 0.017549,
     "end_time": "2023-02-06T03:25:59.837543",
     "exception": false,
     "start_time": "2023-02-06T03:25:59.819994",
     "status": "completed"
    },
    "tags": []
   },
   "source": [
    "### Type your code here to fix the missing values by imputing value from the mean"
   ]
  },
  {
   "cell_type": "code",
   "execution_count": 26,
   "id": "59b3ae84",
   "metadata": {
    "execution": {
     "iopub.execute_input": "2023-02-06T03:25:59.876728Z",
     "iopub.status.busy": "2023-02-06T03:25:59.876260Z",
     "iopub.status.idle": "2023-02-06T03:25:59.887909Z",
     "shell.execute_reply": "2023-02-06T03:25:59.886492Z"
    },
    "papermill": {
     "duration": 0.035213,
     "end_time": "2023-02-06T03:25:59.890822",
     "exception": false,
     "start_time": "2023-02-06T03:25:59.855609",
     "status": "completed"
    },
    "tags": []
   },
   "outputs": [
    {
     "data": {
      "text/plain": [
       "mpg              True\n",
       "cylinders       False\n",
       "displacement    False\n",
       "horsepower       True\n",
       "weight           True\n",
       "acceleration    False\n",
       "model_year      False\n",
       "origin          False\n",
       "name            False\n",
       "dtype: bool"
      ]
     },
     "execution_count": 26,
     "metadata": {},
     "output_type": "execute_result"
    }
   ],
   "source": [
    "mpg.isna().any()"
   ]
  },
  {
   "cell_type": "code",
   "execution_count": 27,
   "id": "36a2fa1e",
   "metadata": {
    "execution": {
     "iopub.execute_input": "2023-02-06T03:25:59.928739Z",
     "iopub.status.busy": "2023-02-06T03:25:59.928275Z",
     "iopub.status.idle": "2023-02-06T03:25:59.937340Z",
     "shell.execute_reply": "2023-02-06T03:25:59.935858Z"
    },
    "papermill": {
     "duration": 0.030897,
     "end_time": "2023-02-06T03:25:59.939732",
     "exception": false,
     "start_time": "2023-02-06T03:25:59.908835",
     "status": "completed"
    },
    "tags": []
   },
   "outputs": [],
   "source": [
    "mpg.mpg.fillna(mpg.mpg.mean(), inplace=True)\n",
    "mpg.horsepower.fillna(mpg.horsepower.mean(), inplace=True)\n",
    "mpg.weight.fillna(mpg.weight.mean(), inplace=True)"
   ]
  },
  {
   "cell_type": "code",
   "execution_count": 28,
   "id": "4b38faa8",
   "metadata": {
    "execution": {
     "iopub.execute_input": "2023-02-06T03:25:59.978677Z",
     "iopub.status.busy": "2023-02-06T03:25:59.977440Z",
     "iopub.status.idle": "2023-02-06T03:25:59.988938Z",
     "shell.execute_reply": "2023-02-06T03:25:59.987810Z"
    },
    "papermill": {
     "duration": 0.033554,
     "end_time": "2023-02-06T03:25:59.991489",
     "exception": false,
     "start_time": "2023-02-06T03:25:59.957935",
     "status": "completed"
    },
    "tags": []
   },
   "outputs": [
    {
     "data": {
      "text/plain": [
       "mpg             False\n",
       "cylinders       False\n",
       "displacement    False\n",
       "horsepower      False\n",
       "weight          False\n",
       "acceleration    False\n",
       "model_year      False\n",
       "origin          False\n",
       "name            False\n",
       "dtype: bool"
      ]
     },
     "execution_count": 28,
     "metadata": {},
     "output_type": "execute_result"
    }
   ],
   "source": [
    "mpg.isna().any()"
   ]
  }
 ],
 "metadata": {
  "kernelspec": {
   "display_name": "Python 3",
   "language": "python",
   "name": "python3"
  },
  "language_info": {
   "codemirror_mode": {
    "name": "ipython",
    "version": 3
   },
   "file_extension": ".py",
   "mimetype": "text/x-python",
   "name": "python",
   "nbconvert_exporter": "python",
   "pygments_lexer": "ipython3",
   "version": "3.7.12"
  },
  "papermill": {
   "default_parameters": {},
   "duration": 20.667667,
   "end_time": "2023-02-06T03:26:01.034541",
   "environment_variables": {},
   "exception": null,
   "input_path": "__notebook__.ipynb",
   "output_path": "__notebook__.ipynb",
   "parameters": {},
   "start_time": "2023-02-06T03:25:40.366874",
   "version": "2.3.4"
  }
 },
 "nbformat": 4,
 "nbformat_minor": 5
}
